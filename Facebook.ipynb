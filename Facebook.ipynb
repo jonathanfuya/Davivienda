{
 "cells": [
  {
   "cell_type": "code",
   "execution_count": 1,
   "metadata": {},
   "outputs": [],
   "source": [
    "import facebook as fb\n",
    "import requests\n",
    "import argparse\n",
    "import textblob as tb"
   ]
  },
  {
   "cell_type": "code",
   "execution_count": 2,
   "metadata": {},
   "outputs": [],
   "source": [
    "from facebook_scraper import get_posts"
   ]
  },
  {
   "cell_type": "code",
   "execution_count": 3,
   "metadata": {},
   "outputs": [
    {
     "name": "stdout",
     "output_type": "stream",
     "text": [
      "{'post_id': '4100398173351860', 'text': 'Conozca más sobre Registro de Marca. Construimos una alianza con la firma Muñoz Abogados, expertos en el cuidado de su activo más valioso, su marca, y acompañarlo en su registro ante la Superintendencia de Industria y Comercio de Colombia. Conozca los beneficios de esta alianza en http://bit.ly/Pymas', 'post_text': 'Conozca más sobre Registro de Marca. Construimos una alianza con la firma Muñoz Abogados, expertos en el cuidado de su activo más valioso, su marca, y acompañarlo en su registro ante la Superintendencia de Industria y Comercio de Colombia. Conozca los beneficios de esta alianza en http://bit.ly/Pymas', 'shared_text': '', 'time': datetime.datetime(2021, 5, 19, 11, 8), 'image': None, 'image_lowquality': None, 'images': [], 'images_description': [], 'images_lowquality': [], 'images_lowquality_description': [None], 'video': 'https://video.fbog2-5.fna.fbcdn.net/v/t42.1790-2/184399254_1091871981307429_6018013407538138558_n.mp4?_nc_cat=110&ccb=1-3&_nc_sid=985c63&efg=eyJ2ZW5jb2RlX3RhZyI6InN2ZV9zZCJ9&_nc_ohc=a6Aeb8uGjTYAX9XQRK4&_nc_rml=0&_nc_ht=video.fbog2-5.fna&oh=03c0811d76d4ab9a41053aebe4f1a950&oe=60A58E00', 'video_duration_seconds': 23, 'video_height': 1080, 'video_id': '3210820762468402', 'video_quality': '1080p', 'video_size_MB': 11.985346, 'video_thumbnail': 'https://scontent.fbog2-5.fna.fbcdn.net/v/t15.13418-10/cp0/e15/q65/s320x320/173664710_152278666865900_145892264559605930_n.jpg?_nc_cat=103&ccb=1-3&_nc_sid=ccf8b3&_nc_ohc=Jpc28DPXkv8AX8RZ_hQ&_nc_ht=scontent.fbog2-5.fna&tp=9&oh=d6f0569873c340c3600725d39770219c&oe=60CCD2B2', 'video_watches': 235, 'video_width': 1920, 'likes': 2, 'comments': 0, 'shares': 0, 'post_url': 'https://facebook.com/BancoDavivienda/posts/4100398173351860', 'link': 'https://bit.ly/Pymas', 'user_id': '500223733369340', 'username': 'Davivienda', 'user_url': 'https://facebook.com/BancoDavivienda/?__tn__=C-R', 'is_live': False, 'factcheck': None, 'shared_post_id': None, 'shared_time': None, 'shared_user_id': None, 'shared_username': None, 'shared_post_url': None, 'available': True, 'comments_full': None, 'reactors': None, 'w3_fb_url': None}\n",
      "{'post_id': '4112583602133317', 'text': 'Conozca más sobre Registro de Marca. Construimos una alianza con la firma Muñoz Abogados, expertos en el cuidado de su activo más valioso, su marca, y acompañarlo en su registro ante la Superintendencia de Industria y Comercio de Colombia. Conozca los beneficios de esta alianza en http://bit.ly/Pymas', 'post_text': 'Conozca más sobre Registro de Marca. Construimos una alianza con la firma Muñoz Abogados, expertos en el cuidado de su activo más valioso, su marca, y acompañarlo en su registro ante la Superintendencia de Industria y Comercio de Colombia. Conozca los beneficios de esta alianza en http://bit.ly/Pymas', 'shared_text': '', 'time': datetime.datetime(2021, 5, 19, 11, 0, 1), 'image': None, 'image_lowquality': None, 'images': [], 'images_description': [], 'images_lowquality': [], 'images_lowquality_description': [None], 'video': 'https://video.fbog2-5.fna.fbcdn.net/v/t42.1790-2/185834389_1379898779070490_6076587179871462929_n.mp4?_nc_cat=110&ccb=1-3&_nc_sid=985c63&efg=eyJ2ZW5jb2RlX3RhZyI6InN2ZV9zZCJ9&_nc_ohc=XHR6V7MAuvQAX-yad5H&_nc_rml=0&_nc_ht=video.fbog2-5.fna&oh=4b2db5803688fa4563165465d7675492&oe=60A59100', 'video_duration_seconds': None, 'video_height': None, 'video_id': '775640286451388', 'video_quality': None, 'video_size_MB': None, 'video_thumbnail': 'https://scontent.fbog2-4.fna.fbcdn.net/v/t15.5256-10/cp0/e15/q65/s320x320/184433352_775641453117938_978115533526552111_n.jpg?_nc_cat=101&ccb=1-3&_nc_sid=ccf8b3&_nc_ohc=t1hADT5XJr4AX8Tr7eO&_nc_ht=scontent.fbog2-4.fna&tp=9&oh=1a4051eff851207526bd1141cb507972&oe=60C9E94B', 'video_watches': None, 'video_width': None, 'likes': 4, 'comments': 2, 'shares': 0, 'post_url': 'https://facebook.com/BancoDavivienda/posts/4112583602133317', 'link': 'https://bit.ly/Pymas', 'user_id': '500223733369340', 'username': 'Davivienda', 'user_url': 'https://facebook.com/BancoDavivienda/?__tn__=C-R', 'is_live': False, 'factcheck': None, 'shared_post_id': None, 'shared_time': None, 'shared_user_id': None, 'shared_username': None, 'shared_post_url': None, 'available': True, 'comments_full': None, 'reactors': None, 'w3_fb_url': None}\n",
      "{'post_id': '4112293615495649', 'text': 'En esta experiencia el filósofo Fernando Galindo G nos contará sobre Oscar Wilde y su historia llena de éxitos e infortunios. Conozca más en www.experienciasdavivienda.com', 'post_text': 'En esta experiencia el filósofo Fernando Galindo G nos contará sobre Oscar Wilde y su historia llena de éxitos e infortunios. Conozca más en www.experienciasdavivienda.com', 'shared_text': '', 'time': datetime.datetime(2021, 5, 19, 9, 7), 'image': 'https://scontent.fbog2-4.fna.fbcdn.net/v/t1.6435-9/fr/cp0/e15/q65/186481270_4112291098829234_7020155572459738024_n.jpg?_nc_cat=107&ccb=1-3&_nc_sid=8024bb&_nc_ohc=vtgmbC6czK0AX96vKQR&_nc_ht=scontent.fbog2-4.fna&tp=14&oh=46845a671be2c924c5577b706c4fb275&oe=60C91685', 'image_lowquality': 'https://scontent.fbog2-4.fna.fbcdn.net/v/t1.6435-0/cp0/e15/q65/p320x320/186481270_4112291098829234_7020155572459738024_n.jpg?_nc_cat=107&ccb=1-3&_nc_sid=8024bb&_nc_ohc=vtgmbC6czK0AX96vKQR&_nc_ht=scontent.fbog2-4.fna&tp=3&oh=e800b0cfdb91d27bf66bb73c2a98887e&oe=60CC7FC1', 'images': ['https://scontent.fbog2-4.fna.fbcdn.net/v/t1.6435-9/fr/cp0/e15/q65/186481270_4112291098829234_7020155572459738024_n.jpg?_nc_cat=107&ccb=1-3&_nc_sid=8024bb&_nc_ohc=vtgmbC6czK0AX96vKQR&_nc_ht=scontent.fbog2-4.fna&tp=14&oh=46845a671be2c924c5577b706c4fb275&oe=60C91685'], 'images_description': [\"May be an image of 1 person and text that says 'EXPERIENCIAS DAVIV DAVIVIENDA ENDA S PRESENTA Pasaporte a la cultura: Oscar Wilde La tragedia de ser diferente Fernando Galindo Filósofo Viernes 21 de mayo 6:00 7:30 p.m. TRANSMISIÓNEVPR DAVIVIENDA Tuhe fLIVE'\"], 'images_lowquality': ['https://scontent.fbog2-4.fna.fbcdn.net/v/t1.6435-0/cp0/e15/q65/p320x320/186481270_4112291098829234_7020155572459738024_n.jpg?_nc_cat=107&ccb=1-3&_nc_sid=8024bb&_nc_ohc=vtgmbC6czK0AX96vKQR&_nc_ht=scontent.fbog2-4.fna&tp=3&oh=e800b0cfdb91d27bf66bb73c2a98887e&oe=60CC7FC1'], 'images_lowquality_description': [\"May be an image of 1 person and text that says 'EXPERIENCIAS DAVIV DAVIVIENDA ENDA S PRESENTA Pasaporte a la cultura: Oscar Wilde La tragedia de ser diferente Fernando Galindo Filósofo Viernes 21 de mayo 6:00 7:30 p.m. TRANSMISIÓNEVPR DAVIVIENDA Tuhe fLIVE'\"], 'video': None, 'video_duration_seconds': None, 'video_height': None, 'video_id': None, 'video_quality': None, 'video_size_MB': None, 'video_thumbnail': None, 'video_watches': None, 'video_width': None, 'likes': 22, 'comments': 0, 'shares': 0, 'post_url': 'https://facebook.com/BancoDavivienda/posts/4112293615495649', 'link': 'http://www.experienciasdavivienda.com/', 'user_id': '500223733369340', 'username': 'Davivienda', 'user_url': 'https://facebook.com/BancoDavivienda/?__tn__=C-R', 'is_live': False, 'factcheck': None, 'shared_post_id': None, 'shared_time': None, 'shared_user_id': None, 'shared_username': None, 'shared_post_url': None, 'available': True, 'comments_full': None, 'reactors': None, 'w3_fb_url': None}\n",
      "{'post_id': '4113302915394719', 'text': 'Creemos firmemente que lo bueno se multiplica, creemos en la adopción de hábitos sostenibles que aportan al medio ambiente, la vida y la salud de las personas; por eso los promovemos en nuestros funcionarios, clientes y proveedores.', 'post_text': 'Creemos firmemente que lo bueno se multiplica, creemos en la adopción de hábitos sostenibles que aportan al medio ambiente, la vida y la salud de las personas; por eso los promovemos en nuestros funcionarios, clientes y proveedores.', 'shared_text': '', 'time': datetime.datetime(2021, 5, 18, 16, 2, 8), 'image': 'https://scontent.fbog2-5.fna.fbcdn.net/v/t1.6435-9/fr/cp0/e15/q65/187733717_4113302435394767_4393826019800132739_n.jpg?_nc_cat=106&ccb=1-3&_nc_sid=8024bb&_nc_ohc=Zdp2r6tSZnQAX8B45vP&_nc_ht=scontent.fbog2-5.fna&tp=14&oh=415343f9d3b19edc9a414662dd015037&oe=60CBB381', 'image_lowquality': 'https://scontent.fbog2-5.fna.fbcdn.net/v/t1.6435-0/cp0/e15/q65/p320x320/187733717_4113302435394767_4393826019800132739_n.jpg?_nc_cat=106&ccb=1-3&_nc_sid=8024bb&_nc_ohc=Zdp2r6tSZnQAX8B45vP&_nc_ht=scontent.fbog2-5.fna&tp=3&oh=64cb17d00ea01bbf8544ea0f2609b4ea&oe=60CC0245', 'images': ['https://scontent.fbog2-5.fna.fbcdn.net/v/t1.6435-9/fr/cp0/e15/q65/187733717_4113302435394767_4393826019800132739_n.jpg?_nc_cat=106&ccb=1-3&_nc_sid=8024bb&_nc_ohc=Zdp2r6tSZnQAX8B45vP&_nc_ht=scontent.fbog2-5.fna&tp=14&oh=415343f9d3b19edc9a414662dd015037&oe=60CBB381'], 'images_description': [\"May be an image of standing, outdoors and text that says 'IMPACTO VERDE Impactar positivamente panu en el medio ambiente es impactar en las personas. CREEMOS EN LAS PERSONAS'\"], 'images_lowquality': ['https://scontent.fbog2-5.fna.fbcdn.net/v/t1.6435-0/cp0/e15/q65/p320x320/187733717_4113302435394767_4393826019800132739_n.jpg?_nc_cat=106&ccb=1-3&_nc_sid=8024bb&_nc_ohc=Zdp2r6tSZnQAX8B45vP&_nc_ht=scontent.fbog2-5.fna&tp=3&oh=64cb17d00ea01bbf8544ea0f2609b4ea&oe=60CC0245'], 'images_lowquality_description': [\"May be an image of standing, outdoors and text that says 'IMPACTO VERDE Impactar positivamente panu en el medio ambiente es impactar en las personas. CREEMOS EN LAS PERSONAS'\"], 'video': None, 'video_duration_seconds': None, 'video_height': None, 'video_id': None, 'video_quality': None, 'video_size_MB': None, 'video_thumbnail': None, 'video_watches': None, 'video_width': None, 'likes': 33, 'comments': 0, 'shares': 0, 'post_url': 'https://facebook.com/BancoDavivienda/posts/4113302915394719', 'link': None, 'user_id': '500223733369340', 'username': 'Davivienda', 'user_url': 'https://facebook.com/BancoDavivienda/?__tn__=C-R', 'is_live': False, 'factcheck': None, 'shared_post_id': None, 'shared_time': None, 'shared_user_id': None, 'shared_username': None, 'shared_post_url': None, 'available': True, 'comments_full': None, 'reactors': None, 'w3_fb_url': None}\n"
     ]
    },
    {
     "name": "stdout",
     "output_type": "stream",
     "text": [
      "{'post_id': '4112643082127369', 'text': 'Lo invitamos a conocer a Harold y Paula, vendedores por catálogo que nos cuentan cómo DaviPlata les ha hecho la vida más fácil.\\nConozca su historia del Nuevo Mundo aquí: http://bit.ly/3jz9TTO', 'post_text': 'Lo invitamos a conocer a Harold y Paula, vendedores por catálogo que nos cuentan cómo DaviPlata les ha hecho la vida más fácil.\\nConozca su historia del Nuevo Mundo aquí: http://bit.ly/3jz9TTO', 'shared_text': '', 'time': datetime.datetime(2021, 5, 18, 11, 4, 58), 'image': None, 'image_lowquality': None, 'images': [], 'images_description': [], 'images_lowquality': [], 'images_lowquality_description': [None], 'video': 'https://video.fbog2-4.fna.fbcdn.net/v/t42.1790-2/185959349_500146611119542_498133384054778844_n.mp4?_nc_cat=100&ccb=1-3&_nc_sid=985c63&efg=eyJ2ZW5jb2RlX3RhZyI6InN2ZV9zZCJ9&_nc_ohc=T2SD8ePbCusAX_EkdVj&_nc_rml=0&_nc_ht=video.fbog2-4.fna&oh=82ecd832240a4ca7f97f3c16a8b23ed4&oe=60A585BC', 'video_duration_seconds': 40, 'video_height': 1080, 'video_id': '2901642133423526', 'video_quality': '1080p', 'video_size_MB': 128.160852, 'video_thumbnail': 'https://scontent.fbog2-4.fna.fbcdn.net/v/t15.5256-10/cp0/e15/q65/p320x320/182468427_2901642890090117_4772773275172673960_n.jpg?_nc_cat=100&ccb=1-3&_nc_sid=ccf8b3&_nc_ohc=CZSGGCy7DLcAX-tzeFM&_nc_ht=scontent.fbog2-4.fna&tp=3&oh=325046af78339c72246f0ea24ab74974&oe=60CBC85D', 'video_watches': 1333, 'video_width': 1080, 'likes': 17, 'comments': 0, 'shares': 0, 'post_url': 'https://facebook.com/BancoDavivienda/posts/4112643082127369', 'link': 'https://bit.ly/3jz9TTO', 'user_id': '500223733369340', 'username': 'Davivienda', 'user_url': 'https://facebook.com/BancoDavivienda/?__tn__=C-R', 'is_live': False, 'factcheck': None, 'shared_post_id': None, 'shared_time': None, 'shared_user_id': None, 'shared_username': None, 'shared_post_url': None, 'available': True, 'comments_full': None, 'reactors': None, 'w3_fb_url': None}\n",
      "{'post_id': '4112290132162664', 'text': 'En esta experiencia junto a Liliana Garavito de Organiza Todo descubriremos cómo mantener nuestro clóset organizado y tener nuestra ropa siempre a la vista. Conozca más en www.experienciasdavivienda.com', 'post_text': 'En esta experiencia junto a Liliana Garavito de Organiza Todo descubriremos cómo mantener nuestro clóset organizado y tener nuestra ropa siempre a la vista. Conozca más en www.experienciasdavivienda.com', 'shared_text': '', 'time': datetime.datetime(2021, 5, 18, 8, 44, 57), 'image': 'https://scontent.fbog2-5.fna.fbcdn.net/v/t1.6435-9/fr/cp0/e15/q65/187561783_4112288558829488_6733753550236231325_n.jpg?_nc_cat=106&ccb=1-3&_nc_sid=8024bb&_nc_ohc=6tMh-MD3uwIAX_TlaXI&_nc_ht=scontent.fbog2-5.fna&tp=14&oh=b07d85fe796dea779b4edf124e254bc5&oe=60CB16CF', 'image_lowquality': 'https://scontent.fbog2-5.fna.fbcdn.net/v/t1.6435-0/cp0/e15/q65/p320x320/187561783_4112288558829488_6733753550236231325_n.jpg?_nc_cat=106&ccb=1-3&_nc_sid=8024bb&_nc_ohc=6tMh-MD3uwIAX_TlaXI&_nc_ht=scontent.fbog2-5.fna&tp=3&oh=e058a3179e9ba0d8fb4833cdae76b08b&oe=60CB5B8B', 'images': ['https://scontent.fbog2-5.fna.fbcdn.net/v/t1.6435-9/fr/cp0/e15/q65/187561783_4112288558829488_6733753550236231325_n.jpg?_nc_cat=106&ccb=1-3&_nc_sid=8024bb&_nc_ohc=6tMh-MD3uwIAX_TlaXI&_nc_ht=scontent.fbog2-5.fna&tp=14&oh=b07d85fe796dea779b4edf124e254bc5&oe=60CB16CF'], 'images_description': [\"May be an image of text that says 'EXPERIENCIAS DAVIVI ENDA PRESENTA Organice sus espacios, ordene su vida: Cinco trucos para mantener su closet organizado ம SI“ Liliana Garavito Organizadora profesional de espacioscertificad Jueves 13 de mayo 6:00 7:00 p.m. DAVÍVIENDA YouTube- fLIVE'\"], 'images_lowquality': ['https://scontent.fbog2-5.fna.fbcdn.net/v/t1.6435-0/cp0/e15/q65/p320x320/187561783_4112288558829488_6733753550236231325_n.jpg?_nc_cat=106&ccb=1-3&_nc_sid=8024bb&_nc_ohc=6tMh-MD3uwIAX_TlaXI&_nc_ht=scontent.fbog2-5.fna&tp=3&oh=e058a3179e9ba0d8fb4833cdae76b08b&oe=60CB5B8B'], 'images_lowquality_description': [\"May be an image of text that says 'EXPERIENCIAS DAVIVI ENDA PRESENTA Organice sus espacios, ordene su vida: Cinco trucos para mantener su closet organizado ம SI“ Liliana Garavito Organizadora profesional de espacioscertificad Jueves 13 de mayo 6:00 7:00 p.m. DAVÍVIENDA YouTube- fLIVE'\"], 'video': None, 'video_duration_seconds': None, 'video_height': None, 'video_id': None, 'video_quality': None, 'video_size_MB': None, 'video_thumbnail': None, 'video_watches': None, 'video_width': None, 'likes': 18, 'comments': 0, 'shares': 0, 'post_url': 'https://facebook.com/BancoDavivienda/posts/4112290132162664', 'link': 'http://www.experienciasdavivienda.com/', 'user_id': '500223733369340', 'username': 'Davivienda', 'user_url': 'https://facebook.com/BancoDavivienda/?__tn__=C-R', 'is_live': False, 'factcheck': None, 'shared_post_id': None, 'shared_time': None, 'shared_user_id': None, 'shared_username': None, 'shared_post_url': None, 'available': True, 'comments_full': None, 'reactors': None, 'w3_fb_url': None}\n",
      "{'post_id': '786405308910469', 'text': 'WED, MAY 19 - MAY 21\\nEXPERIENCIAS DAVIVIENDA 19- 21 MAYO', 'post_text': '', 'shared_text': 'WED, MAY 19 - MAY 21\\nEXPERIENCIAS DAVIVIENDA 19- 21 MAYO', 'time': datetime.datetime(2021, 5, 14, 19, 19, 56), 'image': None, 'image_lowquality': 'https://external.fbog2-5.fna.fbcdn.net/safe_image.php?d=AQFt1dsTi9f9Szbo&w=476&h=249&url=https%3A%2F%2Fscontent.fbog2-5.fna.fbcdn.net%2Fv%2Ft1.6435-0%2Fcp0%2Fe15%2Fq65%2Fs480x480%2F186547962_4100868279971516_3028527586260811657_n.jpg%3Fccb%3D1-3%26_nc_ohc%3DHMNnNpfIqL4AX8crRkL%26_nc_ht%3Dscontent.fbog2-5.fna%26tp%3D9%26oh%3D3d88f07691e6e3a5cbca99d911401339%26oe%3D60CB103D&cfs=1&ccb=3-5&_nc_hash=AQGKabctuNJDmz6i', 'images': [], 'images_description': [], 'images_lowquality': ['https://external.fbog2-5.fna.fbcdn.net/safe_image.php?d=AQFt1dsTi9f9Szbo&w=476&h=249&url=https%3A%2F%2Fscontent.fbog2-5.fna.fbcdn.net%2Fv%2Ft1.6435-0%2Fcp0%2Fe15%2Fq65%2Fs480x480%2F186547962_4100868279971516_3028527586260811657_n.jpg%3Fccb%3D1-3%26_nc_ohc%3DHMNnNpfIqL4AX8crRkL%26_nc_ht%3Dscontent.fbog2-5.fna%26tp%3D9%26oh%3D3d88f07691e6e3a5cbca99d911401339%26oe%3D60CB103D&cfs=1&ccb=3-5&_nc_hash=AQGKabctuNJDmz6i', 'https://static.xx.fbcdn.net/rsrc.php/v3/y6/r/jAFf2Wb_FxZ.png'], 'images_lowquality_description': [None, None], 'video': None, 'video_duration_seconds': None, 'video_height': None, 'video_id': None, 'video_quality': None, 'video_size_MB': None, 'video_thumbnail': None, 'video_watches': None, 'video_width': None, 'likes': 23, 'comments': 20, 'shares': 0, 'post_url': 'https://facebook.com/BancoDavivienda/posts/786405308910469', 'link': None, 'user_id': '500223733369340', 'username': 'Davivienda', 'user_url': 'https://facebook.com/BancoDavivienda/?__tn__=C-R', 'is_live': False, 'factcheck': None, 'shared_post_id': None, 'shared_time': None, 'shared_user_id': None, 'shared_username': None, 'shared_post_url': None, 'available': True, 'comments_full': None, 'reactors': None, 'w3_fb_url': None}\n",
      "{'post_id': '234291591791344', 'text': 'Con Poe se descubre delante nuestro la riqueza de una historia contada en pocas páginas, ya sea el retrato del primer detective de la literatura o el ambiente macabro y terrorífico de algunas de sus narraciones. En Experiencias Davivienda descubra junto al filósofo Fernando Galindo por qué este autor estadounidense es una pieza clave en la literatura contemporánea.', 'post_text': 'Con Poe se descubre delante nuestro la riqueza de una historia contada en pocas páginas, ya sea el retrato del primer detective de la literatura o el ambiente macabro y terrorífico de algunas de sus narraciones. En Experiencias Davivienda descubra junto al filósofo Fernando Galindo por qué este autor estadounidense es una pieza clave en la literatura contemporánea.', 'shared_text': '', 'time': datetime.datetime(2021, 5, 14, 18, 0, 39), 'image': None, 'image_lowquality': None, 'images': [], 'images_description': [], 'images_lowquality': [], 'images_lowquality_description': [None], 'video': 'https://scontent.fbog2-5.fna.fbcdn.net/v/t66.36281-6/10000000_119528183608984_969284774024287781_n.mp4?_nc_cat=110&ccb=1-3&_nc_sid=985c63&efg=eyJ2ZW5jb2RlX3RhZyI6Im9lcF9zZCJ9&_nc_ohc=FQHINvsdzpIAX9oj6Lh&_nc_ht=scontent.fbog2-5.fna&oh=275f93119121fb144717db30502bff10&oe=60CBDFEF', 'video_duration_seconds': None, 'video_height': None, 'video_id': '234291591791344', 'video_quality': None, 'video_size_MB': None, 'video_thumbnail': 'https://scontent.fbog2-5.fna.fbcdn.net/v/t15.13418-10/cp0/e15/q65/p173x172/182807100_126202939483524_4658122017167495207_n.jpg?_nc_cat=103&ccb=1-3&_nc_sid=ccf8b3&_nc_ohc=P2os6nFbsHkAX9NN3Lg&_nc_ht=scontent.fbog2-5.fna&tp=3&oh=577840dcb4c3ee74d7b10a3e9e578133&oe=60CA2AD2', 'video_watches': None, 'video_width': None, 'likes': 207, 'comments': 120, 'shares': 66, 'post_url': 'https://facebook.com/BancoDavivienda/posts/234291591791344', 'link': None, 'user_id': '500223733369340', 'username': 'Davivienda', 'user_url': 'https://facebook.com/BancoDavivienda/?__tn__=C-R', 'is_live': False, 'factcheck': None, 'shared_post_id': None, 'shared_time': None, 'shared_user_id': None, 'shared_username': None, 'shared_post_url': None, 'available': True, 'comments_full': None, 'reactors': None, 'w3_fb_url': None}\n"
     ]
    },
    {
     "name": "stdout",
     "output_type": "stream",
     "text": [
      "{'post_id': '4100694786655532', 'text': 'Con Poe se descubre delante nuestro la riqueza de una historia contada en pocas páginas, ya sea el retrato del primer detective de la literatura o el ambiente macabro y terrorífico de algunas de sus narraciones. En Experiencias Davivienda descubra junto al filósofo Fernando Galindo por qué este autor estadounidense es una pieza clave en la literatura contemporánea.\\n\\nLos cuentos de Edgar Allan Poe | Experiencias Davivienda', 'post_text': 'Con Poe se descubre delante nuestro la riqueza de una historia contada en pocas páginas, ya sea el retrato del primer detective de la literatura o el ambiente macabro y terrorífico de algunas de sus narraciones. En Experiencias Davivienda descubra junto al filósofo Fernando Galindo por qué este autor estadounidense es una pieza clave en la literatura contemporánea.', 'shared_text': 'Los cuentos de Edgar Allan Poe | Experiencias Davivienda', 'time': datetime.datetime(2021, 5, 14, 17, 45, 38), 'image': None, 'image_lowquality': None, 'images': [], 'images_description': [], 'images_lowquality': [], 'images_lowquality_description': [], 'video': None, 'video_duration_seconds': None, 'video_height': None, 'video_id': None, 'video_quality': None, 'video_size_MB': None, 'video_thumbnail': None, 'video_watches': None, 'video_width': None, 'likes': 9, 'comments': 5, 'shares': 0, 'post_url': 'https://facebook.com/BancoDavivienda/posts/4100694786655532', 'link': None, 'user_id': '500223733369340', 'username': 'Davivienda', 'user_url': 'https://facebook.com/BancoDavivienda/?__tn__=C-R', 'is_live': False, 'factcheck': None, 'shared_post_id': None, 'shared_time': None, 'shared_user_id': None, 'shared_username': None, 'shared_post_url': None, 'available': True, 'comments_full': None, 'reactors': None, 'w3_fb_url': None}\n",
      "{'post_id': '4100494606675550', 'text': 'Estamos orgullosos por los dos grandes reconocimientos que hace Fintech Americas Awards a DaviPlata y a su CEO Margarita Henao, como mejor Innovación Disruptiva en Servicios Financieros.', 'post_text': 'Estamos orgullosos por los dos grandes reconocimientos que hace Fintech Americas Awards a DaviPlata y a su CEO Margarita Henao, como mejor Innovación Disruptiva en Servicios Financieros.', 'shared_text': '', 'time': datetime.datetime(2021, 5, 14, 15, 59, 9), 'image': 'https://scontent.fbog2-5.fna.fbcdn.net/v/t1.6435-9/fr/cp0/e15/q65/184475891_4100492143342463_7558333288110961819_n.jpg?_nc_cat=103&ccb=1-3&_nc_sid=8024bb&_nc_ohc=tia9ZJ7drloAX-nkZmt&_nc_ht=scontent.fbog2-5.fna&tp=14&oh=0a70e50530248e8cc2bb9f9725309f01&oe=60CA73EE', 'image_lowquality': 'https://scontent.fbog2-5.fna.fbcdn.net/v/t1.6435-0/cp0/e15/q65/s320x320/184475891_4100492143342463_7558333288110961819_n.jpg?_nc_cat=103&ccb=1-3&_nc_sid=8024bb&_nc_ohc=tia9ZJ7drloAX-nkZmt&_nc_ht=scontent.fbog2-5.fna&tp=9&oh=639e8dc099c6772be8d6a17fa6368ed4&oe=60CBEAE9', 'images': ['https://scontent.fbog2-5.fna.fbcdn.net/v/t1.6435-9/fr/cp0/e15/q65/184475891_4100492143342463_7558333288110961819_n.jpg?_nc_cat=103&ccb=1-3&_nc_sid=8024bb&_nc_ohc=tia9ZJ7drloAX-nkZmt&_nc_ht=scontent.fbog2-5.fna&tp=14&oh=0a70e50530248e8cc2bb9f9725309f01&oe=60CA73EE', 'https://scontent.fbog2-4.fna.fbcdn.net/v/t1.6435-9/fr/cp0/e15/q65/185768036_4100492150009129_4205658122832273793_n.jpg?_nc_cat=101&ccb=1-3&_nc_sid=8024bb&_nc_ohc=1cBTcx1fRP8AX-y6pNd&_nc_ht=scontent.fbog2-4.fna&tp=14&oh=a288b6cd5d755631f6b608d0490acded&oe=60C95F15'], 'images_description': [\"May be an image of 1 person and text that says 'Dnviplata FA.TV FINTECH AMERICAS Orgullosos por el reconocimiento a DaviPlata y su CEO Margarita Henao que fueron premiados con calificación ORO Categoría: DISRUPT LATINOAMÉRICA 6th PREMIOS PREMIOSINNOVADORES FINANCIEROS FINTECH AMERICAS'\", \"May be an image of 1 person and text that says 'DAviplata FA.TV FINTECHAMERICASTV UATN FINTECH AMERICASTV Orgullosos por el reconocimiento a DaviPlata y su CEO Margarita Henao que fueron premiados con calificación PLATINO PAÍS únicos en Colombia Categoría: INNOVACIÓN DISRUPTIVA EN SERVICIOS FINANCIEROS 6th PREMIOS INNOVADORES FINANCIEROS FINTECH AMERICAS'\"], 'images_lowquality': ['https://scontent.fbog2-5.fna.fbcdn.net/v/t1.6435-0/cp0/e15/q65/s320x320/184475891_4100492143342463_7558333288110961819_n.jpg?_nc_cat=103&ccb=1-3&_nc_sid=8024bb&_nc_ohc=tia9ZJ7drloAX-nkZmt&_nc_ht=scontent.fbog2-5.fna&tp=9&oh=639e8dc099c6772be8d6a17fa6368ed4&oe=60CBEAE9', 'https://scontent.fbog2-4.fna.fbcdn.net/v/t1.6435-0/cp0/e15/q65/s320x320/185768036_4100492150009129_4205658122832273793_n.jpg?_nc_cat=101&ccb=1-3&_nc_sid=8024bb&_nc_ohc=1cBTcx1fRP8AX-y6pNd&_nc_ht=scontent.fbog2-4.fna&tp=9&oh=160e5771a79a2f8df6cfaa7a6a667436&oe=60CBFD12'], 'images_lowquality_description': [\"May be an image of 1 person and text that says 'Dnviplata FA.TV FINTECH AMERICAS Orgullosos por el reconocimiento a DaviPlata y su CEO Margarita Henao que fueron premiados con calificación ORO Categoría: DISRUPT LATINOAMÉRICA 6th PREMIOS PREMIOSINNOVADORES FINANCIEROS FINTECH AMERICAS'\", \"May be an image of 1 person and text that says 'DAviplata FA.TV FINTECHAMERICASTV UATN FINTECH AMERICASTV Orgullosos por el reconocimiento a DaviPlata y su CEO Margarita Henao que fueron premiados con calificación PLATINO PAÍS únicos en Colombia Categoría: INNOVACIÓN DISRUPTIVA EN SERVICIOS FINANCIEROS 6th PREMIOS INNOVADORES FINANCIEROS FINTECH AMERICAS'\"], 'video': None, 'video_duration_seconds': None, 'video_height': None, 'video_id': None, 'video_quality': None, 'video_size_MB': None, 'video_thumbnail': None, 'video_watches': None, 'video_width': None, 'likes': 183, 'comments': 28, 'shares': 0, 'post_url': 'https://facebook.com/BancoDavivienda/posts/4100494606675550', 'link': None, 'user_id': '500223733369340', 'username': 'Davivienda', 'user_url': 'https://facebook.com/BancoDavivienda/?__tn__=C-R', 'is_live': False, 'factcheck': None, 'shared_post_id': None, 'shared_time': None, 'shared_user_id': None, 'shared_username': None, 'shared_post_url': None, 'available': True, 'comments_full': None, 'reactors': None, 'w3_fb_url': None}\n",
      "{'post_id': '4100350460023298', 'text': 'Conozca más sobre Registro de Marca. Construimos una alianza con la firma Muñoz Abogados, expertos en el cuidado de su activo más valioso, su marca, y acompañarlo en su registro ante la Superintendencia de Industria y Comercio de Colombia. Conozca los beneficios de esta alianza en http://bit.ly/Pymas', 'post_text': 'Conozca más sobre Registro de Marca. Construimos una alianza con la firma Muñoz Abogados, expertos en el cuidado de su activo más valioso, su marca, y acompañarlo en su registro ante la Superintendencia de Industria y Comercio de Colombia. Conozca los beneficios de esta alianza en http://bit.ly/Pymas', 'shared_text': '', 'time': datetime.datetime(2021, 5, 14, 14, 46, 8), 'image': None, 'image_lowquality': None, 'images': [], 'images_description': [], 'images_lowquality': [], 'images_lowquality_description': [None], 'video': 'https://video.fbog2-4.fna.fbcdn.net/v/t42.1790-2/184361533_1185608911875168_6136461954278905324_n.mp4?_nc_cat=111&ccb=1-3&_nc_sid=985c63&efg=eyJ2ZW5jb2RlX3RhZyI6InN2ZV9zZCJ9&_nc_ohc=GXLT2WvwA84AX8EfE10&_nc_rml=0&_nc_ht=video.fbog2-4.fna&oh=2002388777636aa498b2497ece2cad1e&oe=60A58474', 'video_duration_seconds': 14, 'video_height': 1080, 'video_id': '379317663393092', 'video_quality': '1080p', 'video_size_MB': 7.516331, 'video_thumbnail': 'https://scontent.fbog2-3.fna.fbcdn.net/v/t15.13418-10/cp0/e15/q65/s320x320/167293623_1766461226895724_1562579304484381305_n.jpg?_nc_cat=102&ccb=1-3&_nc_sid=ccf8b3&_nc_ohc=nzd83uUkj10AX8-i1lq&_nc_ht=scontent.fbog2-3.fna&tp=9&oh=83a25041775c13105cade5396c3a25d4&oe=60C923A0', 'video_watches': 1608, 'video_width': 1920, 'likes': 16, 'comments': 3, 'shares': 0, 'post_url': 'https://facebook.com/BancoDavivienda/posts/4100350460023298', 'link': 'https://bit.ly/Pymas', 'user_id': '500223733369340', 'username': 'Davivienda', 'user_url': 'https://facebook.com/BancoDavivienda/?__tn__=C-R', 'is_live': False, 'factcheck': None, 'shared_post_id': None, 'shared_time': None, 'shared_user_id': None, 'shared_username': None, 'shared_post_url': None, 'available': True, 'comments_full': None, 'reactors': None, 'w3_fb_url': None}\n"
     ]
    },
    {
     "name": "stdout",
     "output_type": "stream",
     "text": [
      "{'post_id': '498014921390276', 'text': 'El desorden, la mayoría de las veces, es exceso de cosas, de cosas que no usamos. ¿Qué nos lleva a acumular tanto? En Experiencias Davivienda, junto a la organizadora profesional de espacios Liliana Garavito, aprenda las razones por las cuales nos aferramos a las cosas materiales y cómo aprender a decirle adiós a lo que no nos sirve o no usamos y nos está estorbando y generando desorden.', 'post_text': 'El desorden, la mayoría de las veces, es exceso de cosas, de cosas que no usamos. ¿Qué nos lleva a acumular tanto? En Experiencias Davivienda, junto a la organizadora profesional de espacios Liliana Garavito, aprenda las razones por las cuales nos aferramos a las cosas materiales y cómo aprender a decirle adiós a lo que no nos sirve o no usamos y nos está estorbando y generando desorden.', 'shared_text': '', 'time': datetime.datetime(2021, 5, 13, 18, 1, 3), 'image': None, 'image_lowquality': None, 'images': [], 'images_description': [], 'images_lowquality': [], 'images_lowquality_description': [None], 'video': 'https://scontent.fbog2-4.fna.fbcdn.net/v/t66.36281-6/10000000_179542420613762_1421962989596386381_n.mp4?_nc_cat=107&ccb=1-3&_nc_sid=985c63&efg=eyJ2ZW5jb2RlX3RhZyI6Im9lcF9zZCJ9&_nc_ohc=GO5WhLO1DykAX_IXwOV&_nc_ht=scontent.fbog2-4.fna&oh=d94a5ddea65a1a7fdd43b6b7987f178b&oe=60CCA148', 'video_duration_seconds': None, 'video_height': None, 'video_id': '498014921390276', 'video_quality': None, 'video_size_MB': None, 'video_thumbnail': 'https://scontent.fbog2-5.fna.fbcdn.net/v/t15.13418-10/cp0/e15/q65/p173x172/184120867_284864123275781_1702664413442182341_n.jpg?_nc_cat=110&ccb=1-3&_nc_sid=ccf8b3&_nc_ohc=573c5GylrpEAX_gCuKa&_nc_ht=scontent.fbog2-5.fna&tp=3&oh=77e4cd8fa7e652e568627c1a2bd9444f&oe=60C92D66', 'video_watches': None, 'video_width': None, 'likes': 231, 'comments': 71, 'shares': 46, 'post_url': 'https://facebook.com/BancoDavivienda/posts/498014921390276', 'link': None, 'user_id': '500223733369340', 'username': 'Davivienda', 'user_url': 'https://facebook.com/BancoDavivienda/?__tn__=C-R', 'is_live': False, 'factcheck': None, 'shared_post_id': None, 'shared_time': None, 'shared_user_id': None, 'shared_username': None, 'shared_post_url': None, 'available': True, 'comments_full': None, 'reactors': None, 'w3_fb_url': None}\n",
      "{'post_id': '4097705626954448', 'text': 'El desorden, la mayoría de las veces, es exceso de cosas, de cosas que no usamos. ¿Qué nos lleva a acumular tanto? En Experiencias Davivienda, junto a la organizadora profesional de espacios Liliana Garavito, aprenda las razones por las cuales nos aferramos a las cosas materiales y cómo aprender a decirle adiós a lo que no nos sirve o no usamos y nos está estorbando y generando desorden.\\n\\nAprender a soltar organizando sus espacios | Experiencias Davivienda', 'post_text': 'El desorden, la mayoría de las veces, es exceso de cosas, de cosas que no usamos. ¿Qué nos lleva a acumular tanto? En Experiencias Davivienda, junto a la organizadora profesional de espacios Liliana Garavito, aprenda las razones por las cuales nos aferramos a las cosas materiales y cómo aprender a decirle adiós a lo que no nos sirve o no usamos y nos está estorbando y generando desorden.', 'shared_text': 'Aprender a soltar organizando sus espacios | Experiencias Davivienda', 'time': datetime.datetime(2021, 5, 13, 17, 46, 9), 'image': None, 'image_lowquality': None, 'images': [], 'images_description': [], 'images_lowquality': [], 'images_lowquality_description': [], 'video': None, 'video_duration_seconds': None, 'video_height': None, 'video_id': None, 'video_quality': None, 'video_size_MB': None, 'video_thumbnail': None, 'video_watches': None, 'video_width': None, 'likes': 19, 'comments': 0, 'shares': 0, 'post_url': 'https://facebook.com/BancoDavivienda/posts/4097705626954448', 'link': None, 'user_id': '500223733369340', 'username': 'Davivienda', 'user_url': 'https://facebook.com/BancoDavivienda/?__tn__=C-R', 'is_live': False, 'factcheck': None, 'shared_post_id': None, 'shared_time': None, 'shared_user_id': None, 'shared_username': None, 'shared_post_url': None, 'available': True, 'comments_full': None, 'reactors': None, 'w3_fb_url': None}\n",
      "{'post_id': '4097384943653183', 'text': 'Conozca más sobre el impacto de la Movilidad Eléctrica y Sostenible en Colombia: http://bit.ly/MovSostenibleBlog\\nEstamos convencidos que cuando impulsamos la sostenibilidad en las ciudades, lo Bueno Se Multiplica.', 'post_text': 'Conozca más sobre el impacto de la Movilidad Eléctrica y Sostenible en Colombia: http://bit.ly/MovSostenibleBlog\\nEstamos convencidos que cuando impulsamos la sostenibilidad en las ciudades, lo Bueno Se Multiplica.', 'shared_text': '', 'time': datetime.datetime(2021, 5, 13, 15, 3, 23), 'image': 'https://scontent.fbog2-5.fna.fbcdn.net/v/t1.6435-9/fr/cp0/e15/q65/185562015_4097383026986708_5252606391090012587_n.jpg?_nc_cat=106&ccb=1-3&_nc_sid=8024bb&_nc_ohc=gEaMAAXrLdwAX-IalhI&_nc_ht=scontent.fbog2-5.fna&tp=14&oh=3c3818ead4677c7846aff8f0bf0c23b9&oe=60CB2B56', 'image_lowquality': 'https://scontent.fbog2-5.fna.fbcdn.net/v/t1.6435-0/cp0/e15/q65/s320x320/185562015_4097383026986708_5252606391090012587_n.jpg?_nc_cat=106&ccb=1-3&_nc_sid=8024bb&_nc_ohc=gEaMAAXrLdwAX-IalhI&_nc_ht=scontent.fbog2-5.fna&tp=9&oh=254c131f5bbeb9ee673e162ec66f6bbd&oe=60CA6251', 'images': ['https://scontent.fbog2-5.fna.fbcdn.net/v/t1.6435-9/fr/cp0/e15/q65/185562015_4097383026986708_5252606391090012587_n.jpg?_nc_cat=106&ccb=1-3&_nc_sid=8024bb&_nc_ohc=gEaMAAXrLdwAX-IalhI&_nc_ht=scontent.fbog2-5.fna&tp=14&oh=3c3818ead4677c7846aff8f0bf0c23b9&oe=60CB2B56'], 'images_description': [\"May be an image of car and text that says 'La apuesta de Davivienda por la Movilidad Sostenible BLOG'\"], 'images_lowquality': ['https://scontent.fbog2-5.fna.fbcdn.net/v/t1.6435-0/cp0/e15/q65/s320x320/185562015_4097383026986708_5252606391090012587_n.jpg?_nc_cat=106&ccb=1-3&_nc_sid=8024bb&_nc_ohc=gEaMAAXrLdwAX-IalhI&_nc_ht=scontent.fbog2-5.fna&tp=9&oh=254c131f5bbeb9ee673e162ec66f6bbd&oe=60CA6251'], 'images_lowquality_description': [\"May be an image of car and text that says 'La apuesta de Davivienda por la Movilidad Sostenible BLOG'\"], 'video': None, 'video_duration_seconds': None, 'video_height': None, 'video_id': None, 'video_quality': None, 'video_size_MB': None, 'video_thumbnail': None, 'video_watches': None, 'video_width': None, 'likes': 8, 'comments': 1, 'shares': 0, 'post_url': 'https://facebook.com/BancoDavivienda/posts/4097384943653183', 'link': 'https://bit.ly/MovSostenibleBlog', 'user_id': '500223733369340', 'username': 'Davivienda', 'user_url': 'https://facebook.com/BancoDavivienda/?__tn__=C-R', 'is_live': False, 'factcheck': None, 'shared_post_id': None, 'shared_time': None, 'shared_user_id': None, 'shared_username': None, 'shared_post_url': None, 'available': True, 'comments_full': None, 'reactors': None, 'w3_fb_url': None}\n",
      "{'post_id': '1370669629986971', 'text': 'En Experiencias Davivienda disfrute, junto a la panameña Gabriella Luchsinger, de una clase de vinyasa yoga donde la cadera es la protagonista. En esta sesión puede fortalecer los músculos estabilizadores de las caderas, practicar posturas de equilibrio sobre un pie y estirar y relajar las caderas progresivamente. Traiga su mat, una toalla grande o de playa y uno o dos bloques si los tiene a mano.', 'post_text': 'En Experiencias Davivienda disfrute, junto a la panameña Gabriella Luchsinger, de una clase de vinyasa yoga donde la cadera es la protagonista. En esta sesión puede fortalecer los músculos estabilizadores de las caderas, practicar posturas de equilibrio sobre un pie y estirar y relajar las caderas progresivamente. Traiga su mat, una toalla grande o de playa y uno o dos bloques si los tiene a mano.', 'shared_text': '', 'time': datetime.datetime(2021, 5, 12, 18, 0, 30), 'image': None, 'image_lowquality': None, 'images': [], 'images_description': [], 'images_lowquality': [], 'images_lowquality_description': [None], 'video': 'https://scontent.fbog2-4.fna.fbcdn.net/v/t66.36281-6/10000000_3969111919791027_810387690537026446_n.mp4?_nc_cat=101&ccb=1-3&_nc_sid=985c63&efg=eyJ2ZW5jb2RlX3RhZyI6Im9lcF9zZCJ9&_nc_ohc=4Gf4No8_fMcAX-aBu6v&_nc_ht=scontent.fbog2-4.fna&oh=4f88c061c25554721f805172d3c1c405&oe=60CAABAA', 'video_duration_seconds': None, 'video_height': None, 'video_id': '1370669629986971', 'video_quality': None, 'video_size_MB': None, 'video_thumbnail': 'https://scontent.fbog2-5.fna.fbcdn.net/v/t15.13418-10/cp0/e15/q65/p173x172/180460362_272900624540794_9126344825550131698_n.jpg?_nc_cat=110&ccb=1-3&_nc_sid=ccf8b3&_nc_ohc=KoIuKoCwQMgAX_ZIYco&_nc_ht=scontent.fbog2-5.fna&tp=3&oh=4b40279c778013e00640edd8de5844be&oe=60CC5E7B', 'video_watches': None, 'video_width': None, 'likes': 112, 'comments': 46, 'shares': 20, 'post_url': 'https://facebook.com/BancoDavivienda/posts/1370669629986971', 'link': None, 'user_id': '500223733369340', 'username': 'Davivienda', 'user_url': 'https://facebook.com/BancoDavivienda/?__tn__=C-R', 'is_live': False, 'factcheck': None, 'shared_post_id': None, 'shared_time': None, 'shared_user_id': None, 'shared_username': None, 'shared_post_url': None, 'available': True, 'comments_full': None, 'reactors': None, 'w3_fb_url': None}\n"
     ]
    },
    {
     "name": "stdout",
     "output_type": "stream",
     "text": [
      "{'post_id': '4094634127261598', 'text': 'En Experiencias Davivienda disfrute, junto a la panameña Gabriella Luchsinger, de una clase de vinyasa yoga donde la cadera es la protagonista. En esta sesión puede fortalecer los músculos estabilizadores de las caderas, practicar posturas de equilibrio sobre un pie y estirar y relajar las caderas progresivamente. Traiga su mat, una toalla grande o de playa y uno o dos bloques si los tiene a mano.\\n\\nMovilidad y estabilidad de caderas | Experiencias Davivienda', 'post_text': 'En Experiencias Davivienda disfrute, junto a la panameña Gabriella Luchsinger, de una clase de vinyasa yoga donde la cadera es la protagonista. En esta sesión puede fortalecer los músculos estabilizadores de las caderas, practicar posturas de equilibrio sobre un pie y estirar y relajar las caderas progresivamente. Traiga su mat, una toalla grande o de playa y uno o dos bloques si los tiene a mano.', 'shared_text': 'Movilidad y estabilidad de caderas | Experiencias Davivienda', 'time': datetime.datetime(2021, 5, 12, 17, 45, 49), 'image': None, 'image_lowquality': None, 'images': [], 'images_description': [], 'images_lowquality': [], 'images_lowquality_description': [], 'video': None, 'video_duration_seconds': None, 'video_height': None, 'video_id': None, 'video_quality': None, 'video_size_MB': None, 'video_thumbnail': None, 'video_watches': None, 'video_width': None, 'likes': 15, 'comments': 3, 'shares': 0, 'post_url': 'https://facebook.com/BancoDavivienda/posts/4094634127261598', 'link': None, 'user_id': '500223733369340', 'username': 'Davivienda', 'user_url': 'https://facebook.com/BancoDavivienda/?__tn__=C-R', 'is_live': False, 'factcheck': None, 'shared_post_id': None, 'shared_time': None, 'shared_user_id': None, 'shared_username': None, 'shared_post_url': None, 'available': True, 'comments_full': None, 'reactors': None, 'w3_fb_url': None}\n",
      "{'post_id': '4093981390660205', 'text': '⚠️ Mijo, las claves no se le dan a nadie! Conozca más consejos en: www.latiasegura.davivienda.com', 'post_text': '⚠️ Mijo, las claves no se le dan a nadie! Conozca más consejos en: www.latiasegura.davivienda.com', 'shared_text': '', 'time': datetime.datetime(2021, 5, 12, 12, 31, 9), 'image': 'https://scontent.fbog2-4.fna.fbcdn.net/v/t1.6435-9/fr/cp0/e15/q65/186153754_4093981233993554_7615512087810242879_n.jpg?_nc_cat=100&ccb=1-3&_nc_sid=8024bb&_nc_ohc=Yn3ixg-Jf88AX845Twu&_nc_ht=scontent.fbog2-4.fna&tp=14&oh=787609f671b2535456316afaf44d4a08&oe=60CC2EEC', 'image_lowquality': 'https://scontent.fbog2-4.fna.fbcdn.net/v/t1.6435-0/cp0/e15/q65/p160x160/186153754_4093981233993554_7615512087810242879_n.jpg?_nc_cat=100&ccb=1-3&_nc_sid=8024bb&_nc_ohc=Yn3ixg-Jf88AX845Twu&_nc_ht=scontent.fbog2-4.fna&tp=3&oh=6e84633a914863a20fff619de6c8cc9c&oe=60CA661C', 'images': ['https://scontent.fbog2-4.fna.fbcdn.net/v/t1.6435-9/fr/cp0/e15/q65/186153754_4093981233993554_7615512087810242879_n.jpg?_nc_cat=100&ccb=1-3&_nc_sid=8024bb&_nc_ohc=Yn3ixg-Jf88AX845Twu&_nc_ht=scontent.fbog2-4.fna&tp=14&oh=787609f671b2535456316afaf44d4a08&oe=60CC2EEC', 'https://scontent.fbog2-4.fna.fbcdn.net/v/t1.6435-9/fr/cp0/e15/q65/185124811_4093981243993553_5700942860101721208_n.jpg?_nc_cat=101&ccb=1-3&_nc_sid=8024bb&_nc_ohc=qu5tgWq0dyUAX8GdA84&_nc_ht=scontent.fbog2-4.fna&tp=14&oh=6922bd839b53ad36911fc723da796d60&oe=60C992C5', 'https://scontent.fbog2-4.fna.fbcdn.net/v/t1.6435-9/fr/cp0/e15/q65/186327200_4093981240660220_1924707932390905264_n.jpg?_nc_cat=100&ccb=1-3&_nc_sid=8024bb&_nc_ohc=JBdu4yT1D2kAX__3tmO&_nc_ht=scontent.fbog2-4.fna&tp=14&oh=c470e6d7def2d6e7b36b194e14c01b8b&oe=60CB7532', 'https://scontent.fbog2-5.fna.fbcdn.net/v/t1.6435-9/fr/cp0/e15/q65/186480913_4093981247326886_6154215638431494168_n.jpg?_nc_cat=110&ccb=1-3&_nc_sid=8024bb&_nc_ohc=-hGDdM9NW9IAX-68PMW&_nc_ht=scontent.fbog2-5.fna&tp=14&oh=da25b452224746678854558ce29885fb&oe=60CB4531', 'https://scontent.fbog2-4.fna.fbcdn.net/v/t1.6435-9/fr/cp0/e15/q65/186327200_4093981240660220_1924707932390905264_n.jpg?_nc_cat=100&ccb=1-3&_nc_sid=8024bb&_nc_ohc=JBdu4yT1D2kAX__3tmO&_nc_ht=scontent.fbog2-4.fna&tp=14&oh=c470e6d7def2d6e7b36b194e14c01b8b&oe=60CB7532', 'https://scontent.fbog2-4.fna.fbcdn.net/v/t1.6435-9/fr/cp0/e15/q65/185124811_4093981243993553_5700942860101721208_n.jpg?_nc_cat=101&ccb=1-3&_nc_sid=8024bb&_nc_ohc=qu5tgWq0dyUAX8GdA84&_nc_ht=scontent.fbog2-4.fna&tp=14&oh=6922bd839b53ad36911fc723da796d60&oe=60C992C5'], 'images_description': [\"May be an image of 1 person and text that says 'Ta DAVIVIENDA sagura Mijo que no lo embolaten, le pueden sacar su información... @app'\", 'May be an image of 1 person and text that says \\'Tigun DAVIVIENDA 1 MG Imagínese que dizque \"asesores\" del banco están Ilamando Son muy insistentes ysaben como ganarse su confianza\\'', \"May be an image of text that says 'Tgn 命 DAVIVIENDA Le piden que marque su clave virtual o códigos o que haga transacciones de prueba. 1 se le ocurra darle esos datos, porque es una modalidad de fraude VIGILADO'\", \"May be an image of 1 person and text that says 'Ta syy segura DAVIVIENDA Un verdadero asesor no le pide claves o códigos ymucho menos que haga transacciones de prueba. VIGILADO'\", \"May be an image of text that says 'Tgn 命 DAVIVIENDA Le piden que marque su clave virtual o códigos o que haga transacciones de prueba. 1 se le ocurra darle esos datos, porque es una modalidad de fraude VIGILADO'\", 'May be an image of 1 person and text that says \\'Tigun DAVIVIENDA 1 MG Imagínese que dizque \"asesores\" del banco están Ilamando Son muy insistentes ysaben como ganarse su confianza\\''], 'images_lowquality': ['https://scontent.fbog2-4.fna.fbcdn.net/v/t1.6435-0/cp0/e15/q65/p160x160/186153754_4093981233993554_7615512087810242879_n.jpg?_nc_cat=100&ccb=1-3&_nc_sid=8024bb&_nc_ohc=Yn3ixg-Jf88AX845Twu&_nc_ht=scontent.fbog2-4.fna&tp=3&oh=6e84633a914863a20fff619de6c8cc9c&oe=60CA661C', 'https://scontent.fbog2-4.fna.fbcdn.net/v/t1.6435-0/cp0/e15/q65/p160x160/185124811_4093981243993553_5700942860101721208_n.jpg?_nc_cat=101&ccb=1-3&_nc_sid=8024bb&_nc_ohc=qu5tgWq0dyUAX8GdA84&_nc_ht=scontent.fbog2-4.fna&tp=3&oh=80f63c14f6a04f5469578df9cac14786&oe=60CB3235', 'https://scontent.fbog2-4.fna.fbcdn.net/v/t1.6435-0/cp0/e15/q65/p160x160/186327200_4093981240660220_1924707932390905264_n.jpg?_nc_cat=100&ccb=1-3&_nc_sid=8024bb&_nc_ohc=JBdu4yT1D2kAX__3tmO&_nc_ht=scontent.fbog2-4.fna&tp=3&oh=efe61543e47dfce3658fbd319cbc0da5&oe=60CC27C2', 'https://scontent.fbog2-5.fna.fbcdn.net/v/t1.6435-0/cp0/e15/q65/p160x160/186480913_4093981247326886_6154215638431494168_n.jpg?_nc_cat=110&ccb=1-3&_nc_sid=8024bb&_nc_ohc=-hGDdM9NW9IAX-68PMW&_nc_ht=scontent.fbog2-5.fna&tp=3&oh=567d26c9d47139128e67cfae4f1a7cce&oe=60CAA6C1'], 'images_lowquality_description': [\"May be an image of 1 person and text that says 'Ta DAVIVIENDA sagura Mijo que no lo embolaten, le pueden sacar su información... @app'\", 'May be an image of 1 person and text that says \\'Tigun DAVIVIENDA 1 MG Imagínese que dizque \"asesores\" del banco están Ilamando Son muy insistentes ysaben como ganarse su confianza\\'', \"May be an image of text that says 'Tgn 命 DAVIVIENDA Le piden que marque su clave virtual o códigos o que haga transacciones de prueba. 1 se le ocurra darle esos datos, porque es una modalidad de fraude VIGILADO'\", \"May be an image of 1 person and text that says 'Ta syy segura DAVIVIENDA Un verdadero asesor no le pide claves o códigos ymucho menos que haga transacciones de prueba. VIGILADO'\"], 'video': None, 'video_duration_seconds': None, 'video_height': None, 'video_id': None, 'video_quality': None, 'video_size_MB': None, 'video_thumbnail': None, 'video_watches': None, 'video_width': None, 'likes': 57, 'comments': 16, 'shares': 0, 'post_url': 'https://facebook.com/BancoDavivienda/posts/4093981390660205', 'link': 'http://www.latiasegura.davivienda.com/', 'user_id': '500223733369340', 'username': 'Davivienda', 'user_url': 'https://facebook.com/BancoDavivienda/?__tn__=C-R', 'is_live': False, 'factcheck': None, 'shared_post_id': None, 'shared_time': None, 'shared_user_id': None, 'shared_username': None, 'shared_post_url': None, 'available': True, 'comments_full': None, 'reactors': None, 'w3_fb_url': None}\n",
      "{'post_id': '4087767731281571', 'text': 'En esta experiencia el filósofo Fernando Galindo G nos contará sobre los cuentos de Edgar Allan Poe y su estilo sombrío característico. Conozca más en www.experienciasdavivienda.com', 'post_text': 'En esta experiencia el filósofo Fernando Galindo G nos contará sobre los cuentos de Edgar Allan Poe y su estilo sombrío característico. Conozca más en www.experienciasdavivienda.com', 'shared_text': '', 'time': datetime.datetime(2021, 5, 12, 9, 0, 1), 'image': 'https://scontent.fbog2-4.fna.fbcdn.net/v/t1.6435-9/fr/cp0/e15/q65/184195598_4087767237948287_896840906590589940_n.jpg?_nc_cat=100&ccb=1-3&_nc_sid=8024bb&_nc_ohc=ZViblLC5KhsAX9mM3D-&_nc_ht=scontent.fbog2-4.fna&tp=14&oh=96c9a7514a38fc8835d7e1596f9d97db&oe=60CAC6F5', 'image_lowquality': 'https://scontent.fbog2-4.fna.fbcdn.net/v/t1.6435-0/cp0/e15/q65/p320x320/184195598_4087767237948287_896840906590589940_n.jpg?_nc_cat=100&ccb=1-3&_nc_sid=8024bb&_nc_ohc=ZViblLC5KhsAX9mM3D-&_nc_ht=scontent.fbog2-4.fna&tp=3&oh=3f5614ca7ad234ab406b7bbb9484d831&oe=60CBC4A2', 'images': ['https://scontent.fbog2-4.fna.fbcdn.net/v/t1.6435-9/fr/cp0/e15/q65/184195598_4087767237948287_896840906590589940_n.jpg?_nc_cat=100&ccb=1-3&_nc_sid=8024bb&_nc_ohc=ZViblLC5KhsAX9mM3D-&_nc_ht=scontent.fbog2-4.fna&tp=14&oh=96c9a7514a38fc8835d7e1596f9d97db&oe=60CAC6F5'], 'images_description': [\"May be an image of 1 person and text that says 'EXPERIENCIAS DAVIVIENDA DAVIVIENDA PRESENTA Pasap Pasaporte a la cultura: Los cuentos de Edgar Allan Poe Fernando Galindo Filósofo Viernes 14 de mayo 6:00 a 7:30 p.m. TRANSMISIÓNER: DAVIV IENDA YouTube fLIVE'\"], 'images_lowquality': ['https://scontent.fbog2-4.fna.fbcdn.net/v/t1.6435-0/cp0/e15/q65/p320x320/184195598_4087767237948287_896840906590589940_n.jpg?_nc_cat=100&ccb=1-3&_nc_sid=8024bb&_nc_ohc=ZViblLC5KhsAX9mM3D-&_nc_ht=scontent.fbog2-4.fna&tp=3&oh=3f5614ca7ad234ab406b7bbb9484d831&oe=60CBC4A2'], 'images_lowquality_description': [\"May be an image of 1 person and text that says 'EXPERIENCIAS DAVIVIENDA DAVIVIENDA PRESENTA Pasap Pasaporte a la cultura: Los cuentos de Edgar Allan Poe Fernando Galindo Filósofo Viernes 14 de mayo 6:00 a 7:30 p.m. TRANSMISIÓNER: DAVIV IENDA YouTube fLIVE'\"], 'video': None, 'video_duration_seconds': None, 'video_height': None, 'video_id': None, 'video_quality': None, 'video_size_MB': None, 'video_thumbnail': None, 'video_watches': None, 'video_width': None, 'likes': 35, 'comments': 0, 'shares': 0, 'post_url': 'https://facebook.com/BancoDavivienda/posts/4087767731281571', 'link': 'http://www.experienciasdavivienda.com/', 'user_id': '500223733369340', 'username': 'Davivienda', 'user_url': 'https://facebook.com/BancoDavivienda/?__tn__=C-R', 'is_live': False, 'factcheck': None, 'shared_post_id': None, 'shared_time': None, 'shared_user_id': None, 'shared_username': None, 'shared_post_url': None, 'available': True, 'comments_full': None, 'reactors': None, 'w3_fb_url': None}\n"
     ]
    },
    {
     "name": "stdout",
     "output_type": "stream",
     "text": [
      "{'post_id': '4090625410995803', 'text': 'La tiendas y restaurantes también hacen parte de las Historias del Nuevo Mundo gracias a DaviPlata. Conozca a Juan Supelano y su historia aquí http://bit.ly/NuevoMundoJuan', 'post_text': 'La tiendas y restaurantes también hacen parte de las Historias del Nuevo Mundo gracias a DaviPlata. Conozca a Juan Supelano y su historia aquí http://bit.ly/NuevoMundoJuan', 'shared_text': '', 'time': datetime.datetime(2021, 5, 11, 11, 3, 30), 'image': None, 'image_lowquality': None, 'images': [], 'images_description': [], 'images_lowquality': [], 'images_lowquality_description': [None], 'video': 'https://video.fbog2-4.fna.fbcdn.net/v/t42.1790-2/183179930_555590342096824_7476199648759801851_n.mp4?_nc_cat=111&ccb=1-3&_nc_sid=985c63&efg=eyJ2ZW5jb2RlX3RhZyI6InN2ZV9zZCJ9&_nc_ohc=hfafhmRAth0AX_ZRXgN&_nc_rml=0&_nc_ht=video.fbog2-4.fna&oh=bff648508ca2e42573ca4e7355102ccf&oe=60A5886D', 'video_duration_seconds': 38, 'video_height': 1080, 'video_id': '463851728016013', 'video_quality': '1080p', 'video_size_MB': 125.595249, 'video_thumbnail': 'https://scontent.fbog2-4.fna.fbcdn.net/v/t15.5256-10/cp0/e15/q65/p320x320/181194826_463852134682639_4860702979049003282_n.jpg?_nc_cat=108&ccb=1-3&_nc_sid=ccf8b3&_nc_ohc=kZA0MTxmPkwAX8AlsBt&_nc_ht=scontent.fbog2-4.fna&tp=3&oh=dbcc6ea8197aff8a9965404db497d28c&oe=60C93118', 'video_watches': 2200, 'video_width': 1080, 'likes': 27, 'comments': 3, 'shares': 0, 'post_url': 'https://facebook.com/BancoDavivienda/posts/4090625410995803', 'link': 'https://bit.ly/NuevoMundoJuan', 'user_id': '500223733369340', 'username': 'Davivienda', 'user_url': 'https://facebook.com/BancoDavivienda/?__tn__=C-R', 'is_live': False, 'factcheck': None, 'shared_post_id': None, 'shared_time': None, 'shared_user_id': None, 'shared_username': None, 'shared_post_url': None, 'available': True, 'comments_full': None, 'reactors': None, 'w3_fb_url': None}\n",
      "{'post_id': '4087765724615105', 'text': 'En esta experiencia junto a Liliana Garavito descubriremos cómo aprender a soltar y organizar mejor nuestros espacios. Conozca más en www.experienciasdavivienda.com', 'post_text': 'En esta experiencia junto a Liliana Garavito descubriremos cómo aprender a soltar y organizar mejor nuestros espacios. Conozca más en www.experienciasdavivienda.com', 'shared_text': '', 'time': datetime.datetime(2021, 5, 11, 9, 0, 2), 'image': 'https://scontent.fbog2-3.fna.fbcdn.net/v/t1.6435-9/fr/cp0/e15/q65/184411357_4087769341281410_8654039850808293423_n.jpg?_nc_cat=102&ccb=1-3&_nc_sid=8024bb&_nc_ohc=Iez20d7xWjUAX9X9pG5&_nc_ht=scontent.fbog2-3.fna&tp=14&oh=acc0664b00c9115acdf83d26504d430a&oe=60C90C83', 'image_lowquality': 'https://scontent.fbog2-3.fna.fbcdn.net/v/t1.6435-0/cp0/e15/q65/p320x320/184411357_4087769341281410_8654039850808293423_n.jpg?_nc_cat=102&ccb=1-3&_nc_sid=8024bb&_nc_ohc=Iez20d7xWjUAX9X9pG5&_nc_ht=scontent.fbog2-3.fna&tp=3&oh=22777dafd673a92cd2eb003d59fc6c01&oe=60C988C7', 'images': ['https://scontent.fbog2-3.fna.fbcdn.net/v/t1.6435-9/fr/cp0/e15/q65/184411357_4087769341281410_8654039850808293423_n.jpg?_nc_cat=102&ccb=1-3&_nc_sid=8024bb&_nc_ohc=Iez20d7xWjUAX9X9pG5&_nc_ht=scontent.fbog2-3.fna&tp=14&oh=acc0664b00c9115acdf83d26504d430a&oe=60C90C83'], 'images_description': [\"May be an image of text that says 'EXPERIENCIAS DAVIVIENDA DAVI ENDA Organice sus espacios, ordene su vida: Aprender a soltar organizando sus espacios Liliana Garavito Organizadora profesio cert ficada Jueves 13 de mayo 6:00 a 7:00 p.m. TRANSMISIÓN VIVR: DAVIVIENDA YouTube- LIVE'\"], 'images_lowquality': ['https://scontent.fbog2-3.fna.fbcdn.net/v/t1.6435-0/cp0/e15/q65/p320x320/184411357_4087769341281410_8654039850808293423_n.jpg?_nc_cat=102&ccb=1-3&_nc_sid=8024bb&_nc_ohc=Iez20d7xWjUAX9X9pG5&_nc_ht=scontent.fbog2-3.fna&tp=3&oh=22777dafd673a92cd2eb003d59fc6c01&oe=60C988C7'], 'images_lowquality_description': [\"May be an image of text that says 'EXPERIENCIAS DAVIVIENDA DAVI ENDA Organice sus espacios, ordene su vida: Aprender a soltar organizando sus espacios Liliana Garavito Organizadora profesio cert ficada Jueves 13 de mayo 6:00 a 7:00 p.m. TRANSMISIÓN VIVR: DAVIVIENDA YouTube- LIVE'\"], 'video': None, 'video_duration_seconds': None, 'video_height': None, 'video_id': None, 'video_quality': None, 'video_size_MB': None, 'video_thumbnail': None, 'video_watches': None, 'video_width': None, 'likes': 48, 'comments': 6, 'shares': 0, 'post_url': 'https://facebook.com/BancoDavivienda/posts/4087765724615105', 'link': 'http://www.experienciasdavivienda.com/', 'user_id': '500223733369340', 'username': 'Davivienda', 'user_url': 'https://facebook.com/BancoDavivienda/?__tn__=C-R', 'is_live': False, 'factcheck': None, 'shared_post_id': None, 'shared_time': None, 'shared_user_id': None, 'shared_username': None, 'shared_post_url': None, 'available': True, 'comments_full': None, 'reactors': None, 'w3_fb_url': None}\n",
      "{'post_id': '4088556041202740', 'text': 'En esta experiencia liderada por Gabriella Luchsinger colaboradora en Yoga International aprenderemos ejercicios para mejorar la estabilidad de las caderas y el equilibrio. Conozca más en www.experienciasdavivienda.com', 'post_text': 'En esta experiencia liderada por Gabriella Luchsinger colaboradora en Yoga International aprenderemos ejercicios para mejorar la estabilidad de las caderas y el equilibrio. Conozca más en www.experienciasdavivienda.com', 'shared_text': '', 'time': datetime.datetime(2021, 5, 10, 18, 12, 17), 'image': 'https://scontent.fbog2-4.fna.fbcdn.net/v/t1.6435-9/fr/cp0/e15/q65/184505766_4088554737869537_7294293930269761285_n.jpg?_nc_cat=111&ccb=1-3&_nc_sid=8024bb&_nc_ohc=T96E8Ay2HQMAX9etCY2&_nc_ht=scontent.fbog2-4.fna&tp=14&oh=cbfe376aebcce23b3ec1d0eccf1a8975&oe=60CAFBA0', 'image_lowquality': 'https://scontent.fbog2-4.fna.fbcdn.net/v/t1.6435-0/cp0/e15/q65/p320x320/184505766_4088554737869537_7294293930269761285_n.jpg?_nc_cat=111&ccb=1-3&_nc_sid=8024bb&_nc_ohc=T96E8Ay2HQMAX9etCY2&_nc_ht=scontent.fbog2-4.fna&tp=3&oh=58e5d950792a619846de9472d5104a30&oe=60CCB9DC', 'images': ['https://scontent.fbog2-4.fna.fbcdn.net/v/t1.6435-9/fr/cp0/e15/q65/184505766_4088554737869537_7294293930269761285_n.jpg?_nc_cat=111&ccb=1-3&_nc_sid=8024bb&_nc_ohc=T96E8Ay2HQMAX9etCY2&_nc_ht=scontent.fbog2-4.fna&tp=14&oh=cbfe376aebcce23b3ec1d0eccf1a8975&oe=60CAFBA0'], 'images_description': [\"May be an image of one or more people and text that says 'EXPERIENCIAS DAVIVIENDA napp PRESENTA Yoga para relajarse Movilidad y estabilidad de caderas TRANSMISIÓNEN DAVÍVIENDA YouTube LIVE Gabriella Luchsinger Miércoles Miércoles12demayo 12 de 6:00 a 7:00 p.m.'\"], 'images_lowquality': ['https://scontent.fbog2-4.fna.fbcdn.net/v/t1.6435-0/cp0/e15/q65/p320x320/184505766_4088554737869537_7294293930269761285_n.jpg?_nc_cat=111&ccb=1-3&_nc_sid=8024bb&_nc_ohc=T96E8Ay2HQMAX9etCY2&_nc_ht=scontent.fbog2-4.fna&tp=3&oh=58e5d950792a619846de9472d5104a30&oe=60CCB9DC'], 'images_lowquality_description': [\"May be an image of one or more people and text that says 'EXPERIENCIAS DAVIVIENDA napp PRESENTA Yoga para relajarse Movilidad y estabilidad de caderas TRANSMISIÓNEN DAVÍVIENDA YouTube LIVE Gabriella Luchsinger Miércoles Miércoles12demayo 12 de 6:00 a 7:00 p.m.'\"], 'video': None, 'video_duration_seconds': None, 'video_height': None, 'video_id': None, 'video_quality': None, 'video_size_MB': None, 'video_thumbnail': None, 'video_watches': None, 'video_width': None, 'likes': 13, 'comments': 3, 'shares': 0, 'post_url': 'https://facebook.com/BancoDavivienda/posts/4088556041202740', 'link': 'http://www.experienciasdavivienda.com/', 'user_id': '500223733369340', 'username': 'Davivienda', 'user_url': 'https://facebook.com/BancoDavivienda/?__tn__=C-R', 'is_live': False, 'factcheck': None, 'shared_post_id': None, 'shared_time': None, 'shared_user_id': None, 'shared_username': None, 'shared_post_url': None, 'available': True, 'comments_full': None, 'reactors': None, 'w3_fb_url': None}\n",
      "{'post_id': '291718195751926', 'text': 'WED, MAY 12\\nEXPERIENCIAS DAVIVIENDA 12 - 14 MAYO', 'post_text': '', 'shared_text': 'WED, MAY 12\\nEXPERIENCIAS DAVIVIENDA 12 - 14 MAYO', 'time': datetime.datetime(2021, 5, 10, 18, 8, 15), 'image': None, 'image_lowquality': 'https://external.fbog2-5.fna.fbcdn.net/safe_image.php?d=AQGQVE_G-IU3F1jw&w=476&h=249&url=https%3A%2F%2Fscontent.fbog2-4.fna.fbcdn.net%2Fv%2Ft1.6435-0%2Fcp0%2Fe15%2Fq65%2Fc0.0.506.280a%2Fp280x280%2F184753728_4088548721203472_2355351070366982325_n.jpg%3Fccb%3D1-3%26_nc_ohc%3DUN21OO0b0HoAX9UBZHj%26_nc_ht%3Dscontent.fbog2-4.fna%26tp%3D5%26oh%3Db60e560bc7327ab96571c67b55641220%26oe%3D60C9DBBE&cfs=1&ccb=3-5&_nc_hash=AQHN3cEMLvOXQh4d', 'images': [], 'images_description': [], 'images_lowquality': ['https://external.fbog2-5.fna.fbcdn.net/safe_image.php?d=AQGQVE_G-IU3F1jw&w=476&h=249&url=https%3A%2F%2Fscontent.fbog2-4.fna.fbcdn.net%2Fv%2Ft1.6435-0%2Fcp0%2Fe15%2Fq65%2Fc0.0.506.280a%2Fp280x280%2F184753728_4088548721203472_2355351070366982325_n.jpg%3Fccb%3D1-3%26_nc_ohc%3DUN21OO0b0HoAX9UBZHj%26_nc_ht%3Dscontent.fbog2-4.fna%26tp%3D5%26oh%3Db60e560bc7327ab96571c67b55641220%26oe%3D60C9DBBE&cfs=1&ccb=3-5&_nc_hash=AQHN3cEMLvOXQh4d', 'https://static.xx.fbcdn.net/rsrc.php/v3/y6/r/jAFf2Wb_FxZ.png'], 'images_lowquality_description': [None, None], 'video': None, 'video_duration_seconds': None, 'video_height': None, 'video_id': None, 'video_quality': None, 'video_size_MB': None, 'video_thumbnail': None, 'video_watches': None, 'video_width': None, 'likes': 23, 'comments': 0, 'shares': 0, 'post_url': 'https://facebook.com/BancoDavivienda/posts/291718195751926', 'link': None, 'user_id': '500223733369340', 'username': 'Davivienda', 'user_url': 'https://facebook.com/BancoDavivienda/?__tn__=C-R', 'is_live': False, 'factcheck': None, 'shared_post_id': None, 'shared_time': None, 'shared_user_id': None, 'shared_username': None, 'shared_post_url': None, 'available': True, 'comments_full': None, 'reactors': None, 'w3_fb_url': None}\n"
     ]
    },
    {
     "name": "stdout",
     "output_type": "stream",
     "text": [
      "{'post_id': '323552652703520', 'text': 'En Experiencias Davivienda, la coach de vida y autora María Villegas le muestra qué hacer para eliminar las creencias de escasez y cómo hacer para vibrar en una frecuencia energética más alta y así atraer la atracción a las distintas áreas de su vida.', 'post_text': 'En Experiencias Davivienda, la coach de vida y autora María Villegas le muestra qué hacer para eliminar las creencias de escasez y cómo hacer para vibrar en una frecuencia energética más alta y así atraer la atracción a las distintas áreas de su vida.', 'shared_text': '', 'time': datetime.datetime(2021, 5, 6, 18, 0, 44), 'image': None, 'image_lowquality': None, 'images': [], 'images_description': [], 'images_lowquality': [], 'images_lowquality_description': [None], 'video': 'https://scontent.fbog2-5.fna.fbcdn.net/v/t66.36281-6/10000000_2814537298796863_5541081034022809430_n.mp4?_nc_cat=103&ccb=1-3&_nc_sid=985c63&efg=eyJ2ZW5jb2RlX3RhZyI6Im9lcF9zZCJ9&_nc_ohc=uxMYLQ9BWhUAX_ZAKgi&_nc_ht=scontent.fbog2-5.fna&oh=166a1c5bc40f984e9a744a7a58a501ea&oe=60CBD11D', 'video_duration_seconds': None, 'video_height': None, 'video_id': '323552652703520', 'video_quality': None, 'video_size_MB': None, 'video_thumbnail': 'https://scontent.fbog2-4.fna.fbcdn.net/v/t15.13418-10/cp0/e15/q65/p173x172/170764688_323751602438349_7051632787377309879_n.jpg?_nc_cat=101&ccb=1-3&_nc_sid=ccf8b3&_nc_ohc=tqv3RL9MDMkAX82XyLI&_nc_ht=scontent.fbog2-4.fna&tp=3&oh=cf204702ba283bbbe91028d15fa14d40&oe=60C9B2A9', 'video_watches': None, 'video_width': None, 'likes': 130, 'comments': 482, 'shares': 26, 'post_url': 'https://facebook.com/BancoDavivienda/posts/323552652703520', 'link': None, 'user_id': '500223733369340', 'username': 'Davivienda', 'user_url': 'https://facebook.com/BancoDavivienda/?__tn__=C-R', 'is_live': False, 'factcheck': None, 'shared_post_id': None, 'shared_time': None, 'shared_user_id': None, 'shared_username': None, 'shared_post_url': None, 'available': True, 'comments_full': None, 'reactors': None, 'w3_fb_url': None}\n",
      "{'post_id': '4075894209135590', 'text': 'En Experiencias Davivienda, la coach de vida y autora María Villegas le muestra qué hacer para eliminar las creencias de escasez y cómo hacer para vibrar en una frecuencia energética más alta y así atraer la atracción a las distintas áreas de su vida.\\n\\nCómo cultivar una mentalidad de atracción | Experiencias Davivienda', 'post_text': 'En Experiencias Davivienda, la coach de vida y autora María Villegas le muestra qué hacer para eliminar las creencias de escasez y cómo hacer para vibrar en una frecuencia energética más alta y así atraer la atracción a las distintas áreas de su vida.', 'shared_text': 'Cómo cultivar una mentalidad de atracción | Experiencias Davivienda', 'time': datetime.datetime(2021, 5, 6, 17, 45, 58), 'image': None, 'image_lowquality': None, 'images': [], 'images_description': [], 'images_lowquality': [], 'images_lowquality_description': [], 'video': None, 'video_duration_seconds': None, 'video_height': None, 'video_id': None, 'video_quality': None, 'video_size_MB': None, 'video_thumbnail': None, 'video_watches': None, 'video_width': None, 'likes': 11, 'comments': 7, 'shares': 0, 'post_url': 'https://facebook.com/BancoDavivienda/posts/4075894209135590', 'link': None, 'user_id': '500223733369340', 'username': 'Davivienda', 'user_url': 'https://facebook.com/BancoDavivienda/?__tn__=C-R', 'is_live': False, 'factcheck': None, 'shared_post_id': None, 'shared_time': None, 'shared_user_id': None, 'shared_username': None, 'shared_post_url': None, 'available': True, 'comments_full': None, 'reactors': None, 'w3_fb_url': None}\n",
      "{'post_id': '947342242690510', 'text': '#JuevesConDaviviendaCorredores Blockchain y criptomonedas en Colombia con la participación de Jorge Castaño; Superintendente financiero, Bryan Benson; Managing Director Binance LatAm, Maritza Pérez; Vicepresidenta ejecutiva Banca Personal - Mercadeo en Banco Davivienda y Germán Cristancho; Gerente de Investigaciones Económicas en Davivienda Corredores , los principales temas del día: El papel de la tecnología Blockchain, el Rol de la Superintendencia Financiera y el Sandbox regulatorio en Colombia, las Iniciativas en la región en criptomonedas y el Binance a nivel nacional y regional.\\n\\nSíganos en nuestras redes sociales para conocer más sobre nuestras charlas y productos. Si desea más información sobre cómo comenzar a invertir con Davivienda Corredores comuníquese con nosotros en Bogotá al 3123300 Opción 3 o ingrese a www.daviviendacorredores.com.', 'post_text': '#JuevesConDaviviendaCorredores Blockchain y criptomonedas en Colombia con la participación de Jorge Castaño; Superintendente financiero, Bryan Benson; Managing Director Binance LatAm, Maritza Pérez; Vicepresidenta ejecutiva Banca Personal - Mercadeo en Banco Davivienda y Germán Cristancho; Gerente de Investigaciones Económicas en Davivienda Corredores , los principales temas del día: El papel de la tecnología Blockchain, el Rol de la Superintendencia Financiera y el Sandbox regulatorio en Colombia, las Iniciativas en la región en criptomonedas y el Binance a nivel nacional y regional.\\n\\nSíganos en nuestras redes sociales para conocer más sobre nuestras charlas y productos. Si desea más información sobre cómo comenzar a invertir con Davivienda Corredores comuníquese con nosotros en Bogotá al 3123300 Opción 3 o ingrese a www.daviviendacorredores.com.', 'shared_text': '', 'time': datetime.datetime(2021, 5, 6, 16, 0, 40), 'image': None, 'image_lowquality': None, 'images': [], 'images_description': [], 'images_lowquality': [], 'images_lowquality_description': [None], 'video': 'https://scontent.fbog2-5.fna.fbcdn.net/v/t66.36281-6/10000000_562826634687370_4151748211535603939_n.mp4?_nc_cat=110&ccb=1-3&_nc_sid=985c63&efg=eyJ2ZW5jb2RlX3RhZyI6Im9lcF9zZCJ9&_nc_ohc=mWSDF675luYAX_33aic&_nc_ht=scontent.fbog2-5.fna&oh=86be7f3f95bafd6f21bc5061fa6b40f0&oe=60C93C7F', 'video_duration_seconds': None, 'video_height': None, 'video_id': '947342242690510', 'video_quality': None, 'video_size_MB': None, 'video_thumbnail': 'https://scontent.fbog2-4.fna.fbcdn.net/v/t15.13418-10/cp0/e15/q65/p173x172/176554322_301085528149299_4390615099673344991_n.jpg?_nc_cat=100&ccb=1-3&_nc_sid=ccf8b3&_nc_ohc=LGoQ370frGEAX-z8VTp&_nc_ht=scontent.fbog2-4.fna&tp=3&oh=0719d79676cb5124e14455f7ba045973&oe=60CCC6C5', 'video_watches': None, 'video_width': None, 'likes': 81, 'comments': 142, 'shares': 28, 'post_url': 'https://facebook.com/BancoDavivienda/posts/947342242690510', 'link': 'http://www.daviviendacorredores.com/', 'user_id': '500223733369340', 'username': 'Davivienda', 'user_url': 'https://facebook.com/BancoDavivienda/?__tn__=C-R', 'is_live': False, 'factcheck': None, 'shared_post_id': None, 'shared_time': None, 'shared_user_id': None, 'shared_username': None, 'shared_post_url': None, 'available': True, 'comments_full': None, 'reactors': None, 'w3_fb_url': None}\n",
      "{'post_id': '4075567612501583', 'text': '#JuevesConDaviviendaCorredores Blockchain y criptomonedas en Colombia con la participación de Jorge Castaño; Superintendente financiero, Bryan Benson; Managing Director Binance LatAm, Maritza Pérez; Vicepresidenta ejecutiva Banca Personal - Mercadeo en Banco Davivienda y Germán Cristancho; Gerente de Investigaciones Económicas en Davivienda Corredores , los principales temas del día: El papel de la tecnología Blockchain, el Rol de la Superintendencia Financiera y el Sandbox regulatorio en Colombia, las Iniciativas en la región en criptomonedas y el Binance a nivel nacional y regional.\\n\\nSíganos en nuestras redes sociales para conocer más sobre nuestras charlas y productos. Si desea más información sobre cómo comenzar a invertir con Davivienda Corredores comuníquese con nosotros en Bogotá al 3123300 Opción 3 o ingrese a www.daviviendacorredores.com.\\n\\nBlockchain y Criptomonedas en Colombia', 'post_text': '#JuevesConDaviviendaCorredores Blockchain y criptomonedas en Colombia con la participación de Jorge Castaño; Superintendente financiero, Bryan Benson; Managing Director Binance LatAm, Maritza Pérez; Vicepresidenta ejecutiva Banca Personal - Mercadeo en Banco Davivienda y Germán Cristancho; Gerente de Investigaciones Económicas en Davivienda Corredores , los principales temas del día: El papel de la tecnología Blockchain, el Rol de la Superintendencia Financiera y el Sandbox regulatorio en Colombia, las Iniciativas en la región en criptomonedas y el Binance a nivel nacional y regional.\\n\\nSíganos en nuestras redes sociales para conocer más sobre nuestras charlas y productos. Si desea más información sobre cómo comenzar a invertir con Davivienda Corredores comuníquese con nosotros en Bogotá al 3123300 Opción 3 o ingrese a www.daviviendacorredores.com.', 'shared_text': 'Blockchain y Criptomonedas en Colombia', 'time': datetime.datetime(2021, 5, 6, 15, 12, 56), 'image': None, 'image_lowquality': None, 'images': [], 'images_description': [], 'images_lowquality': [], 'images_lowquality_description': [], 'video': None, 'video_duration_seconds': None, 'video_height': None, 'video_id': None, 'video_quality': None, 'video_size_MB': None, 'video_thumbnail': None, 'video_watches': None, 'video_width': None, 'likes': 16, 'comments': 3, 'shares': 0, 'post_url': 'https://facebook.com/BancoDavivienda/posts/4075567612501583', 'link': 'http://www.daviviendacorredores.com/', 'user_id': '500223733369340', 'username': 'Davivienda', 'user_url': 'https://facebook.com/BancoDavivienda/?__tn__=C-R', 'is_live': False, 'factcheck': None, 'shared_post_id': None, 'shared_time': None, 'shared_user_id': None, 'shared_username': None, 'shared_post_url': None, 'available': True, 'comments_full': None, 'reactors': None, 'w3_fb_url': None}\n"
     ]
    },
    {
     "name": "stdout",
     "output_type": "stream",
     "text": [
      "{'post_id': '522670172082499', 'text': 'En Experiencias Davivienda disfrute junto a Gabriella Luchsinger de una clase de vinyasa yoga, de paso moderado y multinivel. Durante la sesión, usted puede liberar tensión en el cuello, hombros y la espalda alta. Es una clase fluida donde se trabaja la movilidad, se fortalecen y se relajan los músculos y se practican ejercicios de respiración. Necesita: un mat, una toalla grande y un bloque (si lo tiene).', 'post_text': 'En Experiencias Davivienda disfrute junto a Gabriella Luchsinger de una clase de vinyasa yoga, de paso moderado y multinivel. Durante la sesión, usted puede liberar tensión en el cuello, hombros y la espalda alta. Es una clase fluida donde se trabaja la movilidad, se fortalecen y se relajan los músculos y se practican ejercicios de respiración. Necesita: un mat, una toalla grande y un bloque (si lo tiene).', 'shared_text': '', 'time': datetime.datetime(2021, 5, 5, 18, 1, 2), 'image': None, 'image_lowquality': None, 'images': [], 'images_description': [], 'images_lowquality': [], 'images_lowquality_description': [None], 'video': 'https://scontent.fbog2-5.fna.fbcdn.net/v/t66.36281-6/10000000_1088581391667891_7533880594096187869_n.mp4?_nc_cat=106&ccb=1-3&_nc_sid=985c63&efg=eyJ2ZW5jb2RlX3RhZyI6Im9lcF9zZCJ9&_nc_ohc=FQkjQidwRYAAX8S52Ew&_nc_ht=scontent.fbog2-5.fna&oh=fdf7c2420de2466cd5c46d0cd63ea0ae&oe=60C9444E', 'video_duration_seconds': None, 'video_height': None, 'video_id': '522670172082499', 'video_quality': None, 'video_size_MB': None, 'video_thumbnail': 'https://scontent.fbog2-3.fna.fbcdn.net/v/t15.13418-10/cp0/e15/q65/p173x172/170916845_1424974727839013_804709968596192939_n.jpg?_nc_cat=104&ccb=1-3&_nc_sid=ccf8b3&_nc_ohc=e0DLpChelgIAX-Efzyi&_nc_ht=scontent.fbog2-3.fna&tp=3&oh=f515a9539d4d30fd48b139c67a52ef03&oe=60C9115C', 'video_watches': None, 'video_width': None, 'likes': 159, 'comments': 250, 'shares': 25, 'post_url': 'https://facebook.com/BancoDavivienda/posts/522670172082499', 'link': None, 'user_id': '500223733369340', 'username': 'Davivienda', 'user_url': 'https://facebook.com/BancoDavivienda/?__tn__=C-R', 'is_live': False, 'factcheck': None, 'shared_post_id': None, 'shared_time': None, 'shared_user_id': None, 'shared_username': None, 'shared_post_url': None, 'available': True, 'comments_full': None, 'reactors': None, 'w3_fb_url': None}\n",
      "{'post_id': '4072932102765134', 'text': 'En Experiencias Davivienda disfrute junto a Gabriella Luchsinger de una clase de vinyasa yoga, de paso moderado y multinivel. Durante la sesión, usted puede liberar tensión en el cuello, hombros y la espalda alta. Es una clase fluida donde se trabaja la movilidad, se fortalecen y se relajan los músculos y se practican ejercicios de respiración. Necesita: un mat, una toalla grande y un bloque (si lo tiene).\\n\\nRelajar tensión en espalda alta, cuello y hombros | Experiencias Davivienda', 'post_text': 'En Experiencias Davivienda disfrute junto a Gabriella Luchsinger de una clase de vinyasa yoga, de paso moderado y multinivel. Durante la sesión, usted puede liberar tensión en el cuello, hombros y la espalda alta. Es una clase fluida donde se trabaja la movilidad, se fortalecen y se relajan los músculos y se practican ejercicios de respiración. Necesita: un mat, una toalla grande y un bloque (si lo tiene).', 'shared_text': 'Relajar tensión en espalda alta, cuello y hombros | Experiencias Davivienda', 'time': datetime.datetime(2021, 5, 5, 17, 45, 57), 'image': None, 'image_lowquality': None, 'images': [], 'images_description': [], 'images_lowquality': [], 'images_lowquality_description': [], 'video': None, 'video_duration_seconds': None, 'video_height': None, 'video_id': None, 'video_quality': None, 'video_size_MB': None, 'video_thumbnail': None, 'video_watches': None, 'video_width': None, 'likes': 15, 'comments': 1, 'shares': 0, 'post_url': 'https://facebook.com/BancoDavivienda/posts/4072932102765134', 'link': 'https://emprenderte.co/jovenes-en-accion-pagos', 'user_id': '500223733369340', 'username': 'Davivienda', 'user_url': 'https://facebook.com/BancoDavivienda/?__tn__=C-R', 'is_live': False, 'factcheck': None, 'shared_post_id': None, 'shared_time': None, 'shared_user_id': None, 'shared_username': None, 'shared_post_url': None, 'available': True, 'comments_full': None, 'reactors': None, 'w3_fb_url': None}\n",
      "{'post_id': '4069203929804618', 'text': 'Información de su interés:\\nLes compartimos horarios de atención en oficinas para el día de hoy.\\nLo invitamos a hacer uso de nuestros canales digitales:\\n📲 App Davivienda Móvil - 💻 http://davivienda.com\\nConozca aquí http://bit.ly/HorariosOficinasDavivienda todos nuestros horarios actualizados.', 'post_text': 'Información de su interés:\\nLes compartimos horarios de atención en oficinas para el día de hoy.\\nLo invitamos a hacer uso de nuestros canales digitales:\\n📲 App Davivienda Móvil - 💻 http://davivienda.com\\nConozca aquí http://bit.ly/HorariosOficinasDavivienda todos nuestros horarios actualizados.', 'shared_text': '', 'time': datetime.datetime(2021, 5, 4, 12, 12, 47), 'image': 'https://scontent.fbog2-4.fna.fbcdn.net/v/t1.6435-9/fr/cp0/e15/q65/180488450_4069203313138013_2192973932003670381_n.jpg?_nc_cat=100&ccb=1-3&_nc_sid=8024bb&_nc_ohc=Z0kIPipkc-4AX9csyEt&_nc_ht=scontent.fbog2-4.fna&tp=14&oh=adb46f15cbf9dc7dd2900bc64bc155ed&oe=60CBBA19', 'image_lowquality': 'https://scontent.fbog2-4.fna.fbcdn.net/v/t1.6435-0/cp0/e15/q65/p320x320/180488450_4069203313138013_2192973932003670381_n.jpg?_nc_cat=100&ccb=1-3&_nc_sid=8024bb&_nc_ohc=Z0kIPipkc-4AX9csyEt&_nc_ht=scontent.fbog2-4.fna&tp=3&oh=c02ef002e72857cf643bae6069f0bb91&oe=60CC8E5D', 'images': ['https://scontent.fbog2-4.fna.fbcdn.net/v/t1.6435-9/fr/cp0/e15/q65/180488450_4069203313138013_2192973932003670381_n.jpg?_nc_cat=100&ccb=1-3&_nc_sid=8024bb&_nc_ohc=Z0kIPipkc-4AX9csyEt&_nc_ht=scontent.fbog2-4.fna&tp=14&oh=adb46f15cbf9dc7dd2900bc64bc155ed&oe=60CBBA19'], 'images_description': [\"May be an image of text that says 'INFORMACIÓN IMPORTANTE Horarios Atención en Oficinas Físicas 4 MAYO 2021 •Atención al público hasta las 12:00 m. Cali Periferia Atención al público hasta la 1:00 p.m. Pereira y periferia, Periferia de Bucaramanga, Caicedonia, Sevilla, Ipiales, Acacias, Palermo, Pitalito, La Plata, Corredores de la autopista norte, Calle 13 13y Calle 80 de Bogotá Atención al público hasta las 2:00 2:00p.m. p.m. Regional Caribe, Santanderes, Centro Sur, Antioquia, Bogotá Ciudad, Manizales Armenia. Resto de la red operamos en horario habitual. *Informaciónsujetaacambios de acuerdo la evolución delajornada.'\"], 'images_lowquality': ['https://scontent.fbog2-4.fna.fbcdn.net/v/t1.6435-0/cp0/e15/q65/p320x320/180488450_4069203313138013_2192973932003670381_n.jpg?_nc_cat=100&ccb=1-3&_nc_sid=8024bb&_nc_ohc=Z0kIPipkc-4AX9csyEt&_nc_ht=scontent.fbog2-4.fna&tp=3&oh=c02ef002e72857cf643bae6069f0bb91&oe=60CC8E5D'], 'images_lowquality_description': [\"May be an image of text that says 'INFORMACIÓN IMPORTANTE Horarios Atención en Oficinas Físicas 4 MAYO 2021 •Atención al público hasta las 12:00 m. Cali Periferia Atención al público hasta la 1:00 p.m. Pereira y periferia, Periferia de Bucaramanga, Caicedonia, Sevilla, Ipiales, Acacias, Palermo, Pitalito, La Plata, Corredores de la autopista norte, Calle 13 13y Calle 80 de Bogotá Atención al público hasta las 2:00 2:00p.m. p.m. Regional Caribe, Santanderes, Centro Sur, Antioquia, Bogotá Ciudad, Manizales Armenia. Resto de la red operamos en horario habitual. *Informaciónsujetaacambios de acuerdo la evolución delajornada.'\"], 'video': None, 'video_duration_seconds': None, 'video_height': None, 'video_id': None, 'video_quality': None, 'video_size_MB': None, 'video_thumbnail': None, 'video_watches': None, 'video_width': None, 'likes': 122, 'comments': 83, 'shares': 0, 'post_url': 'https://facebook.com/BancoDavivienda/posts/4069203929804618', 'link': 'http://davivienda.com/', 'user_id': '500223733369340', 'username': 'Davivienda', 'user_url': 'https://facebook.com/BancoDavivienda/?__tn__=C-R', 'is_live': False, 'factcheck': None, 'shared_post_id': None, 'shared_time': None, 'shared_user_id': None, 'shared_username': None, 'shared_post_url': None, 'available': True, 'comments_full': None, 'reactors': None, 'w3_fb_url': None}\n"
     ]
    },
    {
     "name": "stdout",
     "output_type": "stream",
     "text": [
      "{'post_id': '4066747020050309', 'text': 'En esta experiencia junto a Maria Villegas descubriremos cómo cultivar una mentalidad de atracción. Conozca más en www.experienciasdavivienda.com', 'post_text': 'En esta experiencia junto a Maria Villegas descubriremos cómo cultivar una mentalidad de atracción. Conozca más en www.experienciasdavivienda.com', 'shared_text': '', 'time': datetime.datetime(2021, 5, 4, 9, 0, 1), 'image': 'https://scontent.fbog2-4.fna.fbcdn.net/v/t1.6435-9/fr/cp0/e15/q65/178746768_4066746800050331_3446673784676029092_n.jpg?_nc_cat=108&ccb=1-3&_nc_sid=8024bb&_nc_ohc=6C2Lah0ccT4AX_3_iYv&_nc_ht=scontent.fbog2-4.fna&tp=14&oh=9dd8fae411da1b7f20ca05d3cc7a6575&oe=60CC5677', 'image_lowquality': 'https://scontent.fbog2-4.fna.fbcdn.net/v/t1.6435-0/cp0/e15/q65/p320x320/178746768_4066746800050331_3446673784676029092_n.jpg?_nc_cat=108&ccb=1-3&_nc_sid=8024bb&_nc_ohc=6C2Lah0ccT4AX_3_iYv&_nc_ht=scontent.fbog2-4.fna&tp=3&oh=178226999cb03ae88edaa7faab283551&oe=60CB8633', 'images': ['https://scontent.fbog2-4.fna.fbcdn.net/v/t1.6435-9/fr/cp0/e15/q65/178746768_4066746800050331_3446673784676029092_n.jpg?_nc_cat=108&ccb=1-3&_nc_sid=8024bb&_nc_ohc=6C2Lah0ccT4AX_3_iYv&_nc_ht=scontent.fbog2-4.fna&tp=14&oh=9dd8fae411da1b7f20ca05d3cc7a6575&oe=60CC5677'], 'images_description': [\"May be an image of one or more people and text that says 'EXPERIENCIAS DAV DAVIVIENDA ENDA PRESENTA SaludableMente: Cómo cultivar una mente de atracción María Villegas Coach de vida, autora Jueves 6 de mayo 6:00 7:00 p.m. chef TRANSMISIÓNE DAVIVIENDA YouTube- fLIVE'\"], 'images_lowquality': ['https://scontent.fbog2-4.fna.fbcdn.net/v/t1.6435-0/cp0/e15/q65/p320x320/178746768_4066746800050331_3446673784676029092_n.jpg?_nc_cat=108&ccb=1-3&_nc_sid=8024bb&_nc_ohc=6C2Lah0ccT4AX_3_iYv&_nc_ht=scontent.fbog2-4.fna&tp=3&oh=178226999cb03ae88edaa7faab283551&oe=60CB8633'], 'images_lowquality_description': [\"May be an image of one or more people and text that says 'EXPERIENCIAS DAV DAVIVIENDA ENDA PRESENTA SaludableMente: Cómo cultivar una mente de atracción María Villegas Coach de vida, autora Jueves 6 de mayo 6:00 7:00 p.m. chef TRANSMISIÓNE DAVIVIENDA YouTube- fLIVE'\"], 'video': None, 'video_duration_seconds': None, 'video_height': None, 'video_id': None, 'video_quality': None, 'video_size_MB': None, 'video_thumbnail': None, 'video_watches': None, 'video_width': None, 'likes': 21, 'comments': 3, 'shares': 0, 'post_url': 'https://facebook.com/BancoDavivienda/posts/4066747020050309', 'link': 'http://www.experienciasdavivienda.com/', 'user_id': '500223733369340', 'username': 'Davivienda', 'user_url': 'https://facebook.com/BancoDavivienda/?__tn__=C-R', 'is_live': False, 'factcheck': None, 'shared_post_id': None, 'shared_time': None, 'shared_user_id': None, 'shared_username': None, 'shared_post_url': None, 'available': True, 'comments_full': None, 'reactors': None, 'w3_fb_url': None}\n",
      "{'post_id': '4066731440051867', 'text': 'En esta experiencia liderada por Gabriella Luchsinger de Yoga International aprenderemos los secretos del yoga para desconectarnos y relajarnos. Conozca más en www.experienciasdavivienda.com', 'post_text': 'En esta experiencia liderada por Gabriella Luchsinger de Yoga International aprenderemos los secretos del yoga para desconectarnos y relajarnos. Conozca más en www.experienciasdavivienda.com', 'shared_text': '', 'time': datetime.datetime(2021, 5, 3, 16, 15, 58), 'image': 'https://scontent.fbog2-5.fna.fbcdn.net/v/t1.6435-9/fr/cp0/e15/q65/179596540_4066730880051923_6225907144208166014_n.jpg?_nc_cat=106&ccb=1-3&_nc_sid=8024bb&_nc_ohc=vMPKIuQE8kwAX9eHoBM&_nc_ht=scontent.fbog2-5.fna&tp=14&oh=a149b7ac69aeabb529240a677b2bfdd1&oe=60CCE485', 'image_lowquality': 'https://scontent.fbog2-5.fna.fbcdn.net/v/t1.6435-0/cp0/e15/q65/p320x320/179596540_4066730880051923_6225907144208166014_n.jpg?_nc_cat=106&ccb=1-3&_nc_sid=8024bb&_nc_ohc=vMPKIuQE8kwAX9eHoBM&_nc_ht=scontent.fbog2-5.fna&tp=3&oh=d0030f555a598576fb9b821f9707e152&oe=60CCC7C1', 'images': ['https://scontent.fbog2-5.fna.fbcdn.net/v/t1.6435-9/fr/cp0/e15/q65/179596540_4066730880051923_6225907144208166014_n.jpg?_nc_cat=106&ccb=1-3&_nc_sid=8024bb&_nc_ohc=vMPKIuQE8kwAX9eHoBM&_nc_ht=scontent.fbog2-5.fna&tp=14&oh=a149b7ac69aeabb529240a677b2bfdd1&oe=60CCE485'], 'images_description': [\"May be an image of 1 person and text that says 'EXPERIENCIAS DAVIVIENDA PRESENTA Yoga para desconectarse Relajar tensión en espalda alta, cuello y hombros Gabriella Luchsinger Miércoles 5 de mayo 6:00 7:00 p.m. TRANSMISIÓNEVR DAVIVIENDA YouTube LIVE'\"], 'images_lowquality': ['https://scontent.fbog2-5.fna.fbcdn.net/v/t1.6435-0/cp0/e15/q65/p320x320/179596540_4066730880051923_6225907144208166014_n.jpg?_nc_cat=106&ccb=1-3&_nc_sid=8024bb&_nc_ohc=vMPKIuQE8kwAX9eHoBM&_nc_ht=scontent.fbog2-5.fna&tp=3&oh=d0030f555a598576fb9b821f9707e152&oe=60CCC7C1'], 'images_lowquality_description': [\"May be an image of 1 person and text that says 'EXPERIENCIAS DAVIVIENDA PRESENTA Yoga para desconectarse Relajar tensión en espalda alta, cuello y hombros Gabriella Luchsinger Miércoles 5 de mayo 6:00 7:00 p.m. TRANSMISIÓNEVR DAVIVIENDA YouTube LIVE'\"], 'video': None, 'video_duration_seconds': None, 'video_height': None, 'video_id': None, 'video_quality': None, 'video_size_MB': None, 'video_thumbnail': None, 'video_watches': None, 'video_width': None, 'likes': 33, 'comments': 9, 'shares': 0, 'post_url': 'https://facebook.com/BancoDavivienda/posts/4066731440051867', 'link': 'http://www.experienciasdavivienda.com/', 'user_id': '500223733369340', 'username': 'Davivienda', 'user_url': 'https://facebook.com/BancoDavivienda/?__tn__=C-R', 'is_live': False, 'factcheck': None, 'shared_post_id': None, 'shared_time': None, 'shared_user_id': None, 'shared_username': None, 'shared_post_url': None, 'available': True, 'comments_full': None, 'reactors': None, 'w3_fb_url': None}\n",
      "{'post_id': '1397157920664152', 'text': 'WED, MAY 5\\nEXPERIENCIAS DAVIVIENDA 5 - 6 MAYO', 'post_text': '', 'shared_text': 'WED, MAY 5\\nEXPERIENCIAS DAVIVIENDA 5 - 6 MAYO', 'time': datetime.datetime(2021, 5, 3, 16, 8, 47), 'image': None, 'image_lowquality': 'https://external.fbog2-5.fna.fbcdn.net/safe_image.php?d=AQGbSUZXnHx4RIDc&w=476&h=249&url=https%3A%2F%2Fscontent.fbog2-3.fna.fbcdn.net%2Fv%2Ft1.6435-0%2Fcp0%2Fe15%2Fq65%2Fc0.0.506.280a%2Fp280x280%2F181353708_4066717486719929_6604046669280578756_n.jpg%3Fccb%3D1-3%26_nc_ohc%3Dl15xjp6EwQsAX9bjuLt%26_nc_ht%3Dscontent.fbog2-3.fna%26tp%3D5%26oh%3Dce048c6d8f088ea5f0da2861e7d3de86%26oe%3D60C96608&cfs=1&ccb=3-5&_nc_hash=AQHCuSMHURBdqqEc', 'images': [], 'images_description': [], 'images_lowquality': ['https://external.fbog2-5.fna.fbcdn.net/safe_image.php?d=AQGbSUZXnHx4RIDc&w=476&h=249&url=https%3A%2F%2Fscontent.fbog2-3.fna.fbcdn.net%2Fv%2Ft1.6435-0%2Fcp0%2Fe15%2Fq65%2Fc0.0.506.280a%2Fp280x280%2F181353708_4066717486719929_6604046669280578756_n.jpg%3Fccb%3D1-3%26_nc_ohc%3Dl15xjp6EwQsAX9bjuLt%26_nc_ht%3Dscontent.fbog2-3.fna%26tp%3D5%26oh%3Dce048c6d8f088ea5f0da2861e7d3de86%26oe%3D60C96608&cfs=1&ccb=3-5&_nc_hash=AQHCuSMHURBdqqEc', 'https://static.xx.fbcdn.net/rsrc.php/v3/y6/r/jAFf2Wb_FxZ.png'], 'images_lowquality_description': [None, None], 'video': None, 'video_duration_seconds': None, 'video_height': None, 'video_id': None, 'video_quality': None, 'video_size_MB': None, 'video_thumbnail': None, 'video_watches': None, 'video_width': None, 'likes': 19, 'comments': 6, 'shares': 0, 'post_url': 'https://facebook.com/BancoDavivienda/posts/1397157920664152', 'link': None, 'user_id': '500223733369340', 'username': 'Davivienda', 'user_url': 'https://facebook.com/BancoDavivienda/?__tn__=C-R', 'is_live': False, 'factcheck': None, 'shared_post_id': None, 'shared_time': None, 'shared_user_id': None, 'shared_username': None, 'shared_post_url': None, 'available': True, 'comments_full': None, 'reactors': None, 'w3_fb_url': None}\n",
      "{'post_id': '4058206677571010', 'text': \"Conéctese con nosotros el próximo miércoles a las 4:00 p.m. a la charla en vivo 'Impacto Económico de la Reforma fiscal y la actualización de las proyecciones macroeconómicas', con la participación de Juan Pablo Zárate; Viceministro de hacienda y crédito público y Andrés Langebaek; Director de Estudios Económicos del Grupo Bolívar. Agéndese aquí: https://dav.ac/juancp\", 'post_text': \"Conéctese con nosotros el próximo miércoles a las 4:00 p.m. a la charla en vivo 'Impacto Económico de la Reforma fiscal y la actualización de las proyecciones macroeconómicas', con la participación de Juan Pablo Zárate; Viceministro de hacienda y crédito público y Andrés Langebaek; Director de Estudios Económicos del Grupo Bolívar. Agéndese aquí: https://dav.ac/juancp\", 'shared_text': '', 'time': datetime.datetime(2021, 4, 30, 11, 30, 29), 'image': 'https://scontent.fbog2-4.fna.fbcdn.net/v/t1.6435-9/fr/cp0/e15/q65/179191563_4058206687571009_2625738657870477945_n.jpg?_nc_cat=100&ccb=1-3&_nc_sid=2d5d41&_nc_ohc=zWbVYWE0ELcAX9l9hoS&_nc_ht=scontent.fbog2-4.fna&tp=14&oh=53601154ae5fd9864ca94941772a17dc&oe=60CC56AE', 'image_lowquality': 'https://scontent.fbog2-4.fna.fbcdn.net/v/t1.6435-0/cp0/e15/q65/p320x320/179191563_4058206687571009_2625738657870477945_n.jpg?_nc_cat=100&ccb=1-3&_nc_sid=2d5d41&_nc_ohc=zWbVYWE0ELcAX9l9hoS&_nc_ht=scontent.fbog2-4.fna&tp=3&oh=45db524892b4c60ad3c0bb1c045a8039&oe=60CC1AEA', 'images': ['https://scontent.fbog2-4.fna.fbcdn.net/v/t1.6435-9/fr/cp0/e15/q65/179191563_4058206687571009_2625738657870477945_n.jpg?_nc_cat=100&ccb=1-3&_nc_sid=2d5d41&_nc_ohc=zWbVYWE0ELcAX9l9hoS&_nc_ht=scontent.fbog2-4.fna&tp=14&oh=53601154ae5fd9864ca94941772a17dc&oe=60CC56AE'], 'images_description': [\"May be an image of 2 people and text that says 'ENVIVO 450 0p Bamo Pntarts Evento en vivo: Impacto macroeconómico de la reforma fiscal y la actualización de las proyecciones macroeconómicas para el 2021 Con la participación de: Juan Pablo Zárate Viceministro Técnico de Hacienda Andrés Langebaek Director Estudios Económicos coppp Lo esperamos este 5 de mayo a las 4:00 p.m.'\"], 'images_lowquality': ['https://scontent.fbog2-4.fna.fbcdn.net/v/t1.6435-0/cp0/e15/q65/p320x320/179191563_4058206687571009_2625738657870477945_n.jpg?_nc_cat=100&ccb=1-3&_nc_sid=2d5d41&_nc_ohc=zWbVYWE0ELcAX9l9hoS&_nc_ht=scontent.fbog2-4.fna&tp=3&oh=45db524892b4c60ad3c0bb1c045a8039&oe=60CC1AEA'], 'images_lowquality_description': [\"May be an image of 2 people and text that says 'ENVIVO 450 0p Bamo Pntarts Evento en vivo: Impacto macroeconómico de la reforma fiscal y la actualización de las proyecciones macroeconómicas para el 2021 Con la participación de: Juan Pablo Zárate Viceministro Técnico de Hacienda Andrés Langebaek Director Estudios Económicos coppp Lo esperamos este 5 de mayo a las 4:00 p.m.'\"], 'video': None, 'video_duration_seconds': None, 'video_height': None, 'video_id': None, 'video_quality': None, 'video_size_MB': None, 'video_thumbnail': None, 'video_watches': None, 'video_width': None, 'likes': 39, 'comments': 9, 'shares': 0, 'post_url': 'https://facebook.com/BancoDavivienda/posts/4058206677571010', 'link': 'https://dav.ac/juancp', 'user_id': '500223733369340', 'username': 'Davivienda', 'user_url': 'https://facebook.com/BancoDavivienda/?__tn__=C-R', 'is_live': False, 'factcheck': None, 'shared_post_id': None, 'shared_time': None, 'shared_user_id': None, 'shared_username': None, 'shared_post_url': None, 'available': True, 'comments_full': None, 'reactors': None, 'w3_fb_url': None}\n"
     ]
    },
    {
     "name": "stdout",
     "output_type": "stream",
     "text": [
      "{'post_id': '862326571026502', 'text': 'En Experiencias Davivienda, la coach de vida y autora María Villegas le dará las herramientas necesarias para aprender a administrar la ansiedad y el estrés del día a día, y así poder evitar el impacto negativo del mal manejo de estas emociones en su cuerpo y en su vida.', 'post_text': 'En Experiencias Davivienda, la coach de vida y autora María Villegas le dará las herramientas necesarias para aprender a administrar la ansiedad y el estrés del día a día, y así poder evitar el impacto negativo del mal manejo de estas emociones en su cuerpo y en su vida.', 'shared_text': '', 'time': datetime.datetime(2021, 4, 29, 18, 0, 33), 'image': None, 'image_lowquality': None, 'images': [], 'images_description': [], 'images_lowquality': [], 'images_lowquality_description': [None], 'video': 'https://scontent.fbog2-4.fna.fbcdn.net/v/t66.36281-6/10000000_151916443550116_8016479111654714696_n.mp4?_nc_cat=101&ccb=1-3&_nc_sid=985c63&efg=eyJ2ZW5jb2RlX3RhZyI6Im9lcF9zZCJ9&_nc_ohc=p699WyH3TLwAX8zIB74&_nc_ht=scontent.fbog2-4.fna&oh=234b6f97c204a58021f29d2bcc1c049c&oe=60CB7720', 'video_duration_seconds': None, 'video_height': None, 'video_id': '862326571026502', 'video_quality': None, 'video_size_MB': None, 'video_thumbnail': 'https://scontent.fbog2-3.fna.fbcdn.net/v/t15.13418-10/cp0/e15/q65/p173x172/169573702_213126530267112_9120163425797204879_n.jpg?_nc_cat=104&ccb=1-3&_nc_sid=ccf8b3&_nc_ohc=1a4AEUtqMjoAX9uhZX0&_nc_ht=scontent.fbog2-3.fna&tp=3&oh=1b97e86cd7eb0326024e7e13ba90d97d&oe=60CB446E', 'video_watches': None, 'video_width': None, 'likes': 270, 'comments': 155, 'shares': 75, 'post_url': 'https://facebook.com/BancoDavivienda/posts/862326571026502', 'link': None, 'user_id': '500223733369340', 'username': 'Davivienda', 'user_url': 'https://facebook.com/BancoDavivienda/?__tn__=C-R', 'is_live': False, 'factcheck': None, 'shared_post_id': None, 'shared_time': None, 'shared_user_id': None, 'shared_username': None, 'shared_post_url': None, 'available': True, 'comments_full': None, 'reactors': None, 'w3_fb_url': None}\n",
      "{'post_id': '4056057367785941', 'text': 'En Experiencias Davivienda, la coach de vida y autora María Villegas le dará las herramientas necesarias para aprender a administrar la ansiedad y el estrés del día a día, y así poder evitar el impacto negativo del mal manejo de estas emociones en su cuerpo y en su vida.\\n\\nManejo del estrés y la ansiedad | Experiencias Davivienda', 'post_text': 'En Experiencias Davivienda, la coach de vida y autora María Villegas le dará las herramientas necesarias para aprender a administrar la ansiedad y el estrés del día a día, y así poder evitar el impacto negativo del mal manejo de estas emociones en su cuerpo y en su vida.', 'shared_text': 'Manejo del estrés y la ansiedad | Experiencias Davivienda', 'time': datetime.datetime(2021, 4, 29, 17, 49, 43), 'image': None, 'image_lowquality': None, 'images': [], 'images_description': [], 'images_lowquality': [], 'images_lowquality_description': [], 'video': None, 'video_duration_seconds': None, 'video_height': None, 'video_id': None, 'video_quality': None, 'video_size_MB': None, 'video_thumbnail': None, 'video_watches': None, 'video_width': None, 'likes': 11, 'comments': 2, 'shares': 0, 'post_url': 'https://facebook.com/BancoDavivienda/posts/4056057367785941', 'link': None, 'user_id': '500223733369340', 'username': 'Davivienda', 'user_url': 'https://facebook.com/BancoDavivienda/?__tn__=C-R', 'is_live': False, 'factcheck': None, 'shared_post_id': None, 'shared_time': None, 'shared_user_id': None, 'shared_username': None, 'shared_post_url': None, 'available': True, 'comments_full': None, 'reactors': None, 'w3_fb_url': None}\n",
      "{'post_id': '4054946617897016', 'text': 'En esta experiencia el ilusionista @juanpabloneira nos hará una corta pero efectiva introducción a la magia. Conozca más en www.experienciasdavivienda.com', 'post_text': 'En esta experiencia el ilusionista @juanpabloneira nos hará una corta pero efectiva introducción a la magia. Conozca más en www.experienciasdavivienda.com', 'shared_text': '', 'time': datetime.datetime(2021, 4, 29, 9, 15, 28), 'image': 'https://scontent.fbog2-4.fna.fbcdn.net/v/t1.6435-9/fr/cp0/e15/q65/179596531_4054944824563862_4101209938679294937_n.jpg?_nc_cat=100&ccb=1-3&_nc_sid=8024bb&_nc_ohc=Jc-or0K2NPAAX9IpdJW&_nc_ht=scontent.fbog2-4.fna&tp=14&oh=dcfbc3f7e369a01cf7d57631a1c43beb&oe=60CBB0F0', 'image_lowquality': 'https://scontent.fbog2-4.fna.fbcdn.net/v/t1.6435-0/cp0/e15/q65/p320x320/179596531_4054944824563862_4101209938679294937_n.jpg?_nc_cat=100&ccb=1-3&_nc_sid=8024bb&_nc_ohc=Jc-or0K2NPAAX9IpdJW&_nc_ht=scontent.fbog2-4.fna&tp=3&oh=9d3fe8ddfdf1049c622cf43fc0454db5&oe=60C9692C', 'images': ['https://scontent.fbog2-4.fna.fbcdn.net/v/t1.6435-9/fr/cp0/e15/q65/179596531_4054944824563862_4101209938679294937_n.jpg?_nc_cat=100&ccb=1-3&_nc_sid=8024bb&_nc_ohc=Jc-or0K2NPAAX9IpdJW&_nc_ht=scontent.fbog2-4.fna&tp=14&oh=dcfbc3f7e369a01cf7d57631a1c43beb&oe=60CBB0F0'], 'images_description': [\"May be an image of text that says 'EXPERIENCIAS DAVIVIENDA pp JAN PABLO NEIRA PRESENT MAGIA CASA AUTOMÁTICA FACIL DIVERTIDA AGIA CASA VSVO PRESENTA VIDOE Magiai ਨ리 en casa ERTIDA FÁCIL AUTOMÁTICA TRANSMISIÓNE DAVÍVIENDA YouTube LIVE Juan Pablo Neira Creativo ilusionista Viernes 30 de abril 6:00 a 7:00 p.m.'\"], 'images_lowquality': ['https://scontent.fbog2-4.fna.fbcdn.net/v/t1.6435-0/cp0/e15/q65/p320x320/179596531_4054944824563862_4101209938679294937_n.jpg?_nc_cat=100&ccb=1-3&_nc_sid=8024bb&_nc_ohc=Jc-or0K2NPAAX9IpdJW&_nc_ht=scontent.fbog2-4.fna&tp=3&oh=9d3fe8ddfdf1049c622cf43fc0454db5&oe=60C9692C'], 'images_lowquality_description': [\"May be an image of text that says 'EXPERIENCIAS DAVIVIENDA pp JAN PABLO NEIRA PRESENT MAGIA CASA AUTOMÁTICA FACIL DIVERTIDA AGIA CASA VSVO PRESENTA VIDOE Magiai ਨ리 en casa ERTIDA FÁCIL AUTOMÁTICA TRANSMISIÓNE DAVÍVIENDA YouTube LIVE Juan Pablo Neira Creativo ilusionista Viernes 30 de abril 6:00 a 7:00 p.m.'\"], 'video': None, 'video_duration_seconds': None, 'video_height': None, 'video_id': None, 'video_quality': None, 'video_size_MB': None, 'video_thumbnail': None, 'video_watches': None, 'video_width': None, 'likes': 16, 'comments': 5, 'shares': 0, 'post_url': 'https://facebook.com/BancoDavivienda/posts/4054946617897016', 'link': 'http://www.experienciasdavivienda.com/', 'user_id': '500223733369340', 'username': 'Davivienda', 'user_url': 'https://facebook.com/BancoDavivienda/?__tn__=C-R', 'is_live': False, 'factcheck': None, 'shared_post_id': None, 'shared_time': None, 'shared_user_id': None, 'shared_username': None, 'shared_post_url': None, 'available': True, 'comments_full': None, 'reactors': None, 'w3_fb_url': None}\n",
      "{'post_id': '4053017314756613', 'text': 'Desde Davivienda sabemos que el desarrollo debe ir de la mano con cuidar nuestro entorno, el medio ambiente y las comunidades. En el 2020 continuamos nuestro compromiso con el mundo para crear modelos de negocio que resuelvan problemáticas sociales y ambientales. Como banca tenemos un papel de liderazgo fundamental en el financiamiento y fomento de proyectos que impactan el cambio climático y este año no iba a ser la diferencia.', 'post_text': 'Desde Davivienda sabemos que el desarrollo debe ir de la mano con cuidar nuestro entorno, el medio ambiente y las comunidades. En el 2020 continuamos nuestro compromiso con el mundo para crear modelos de negocio que resuelvan problemáticas sociales y ambientales. Como banca tenemos un papel de liderazgo fundamental en el financiamiento y fomento de proyectos que impactan el cambio climático y este año no iba a ser la diferencia.', 'shared_text': '', 'time': datetime.datetime(2021, 4, 28, 16, 53, 54), 'image': None, 'image_lowquality': None, 'images': [], 'images_description': [], 'images_lowquality': [], 'images_lowquality_description': [None], 'video': 'https://video.fbog2-4.fna.fbcdn.net/v/t42.1790-2/179986005_298960055107079_9165641358248086884_n.mp4?_nc_cat=108&ccb=1-3&_nc_sid=985c63&efg=eyJ2ZW5jb2RlX3RhZyI6InN2ZV9zZCJ9&_nc_ohc=6jWSXe4PXjsAX_nG8MS&_nc_rml=0&_nc_ht=video.fbog2-4.fna&oh=92990686636dd4ff0cc10b2756940fe0&oe=60A58B05', 'video_duration_seconds': 26, 'video_height': 1334, 'video_id': '464531091297047', 'video_quality': '1440p', 'video_size_MB': 14.674176, 'video_thumbnail': 'https://scontent.fbog2-4.fna.fbcdn.net/v/t15.5256-10/cp0/e15/q65/s320x320/173935962_464531647963658_315550901873296162_n.jpg?_nc_cat=101&ccb=1-3&_nc_sid=ccf8b3&_nc_ohc=WttXaqRzEtgAX_CE-72&_nc_ht=scontent.fbog2-4.fna&tp=9&oh=489b2f1359d1443fbe9a193277277a57&oe=60CCA80C', 'video_watches': 1540, 'video_width': 2166, 'likes': 19, 'comments': 3, 'shares': 0, 'post_url': 'https://facebook.com/BancoDavivienda/posts/4053017314756613', 'link': None, 'user_id': '500223733369340', 'username': 'Davivienda', 'user_url': 'https://facebook.com/BancoDavivienda/?__tn__=C-R', 'is_live': False, 'factcheck': None, 'shared_post_id': None, 'shared_time': None, 'shared_user_id': None, 'shared_username': None, 'shared_post_url': None, 'available': True, 'comments_full': None, 'reactors': None, 'w3_fb_url': None}\n"
     ]
    },
    {
     "name": "stdout",
     "output_type": "stream",
     "text": [
      "{'post_id': '4052920644766280', 'text': 'Conozca más sobre Registro de Marca.\\nConstruimos una alianza con la firma muñoz abogados, expertos en el cuidado de su activo más valioso, su marca, y acompañarlo en su registro ante la Superintendencia de Industria y Comercio de Colombia. Conozca los beneficios de esta alianza aquí: https://bit.ly/3t0RORF', 'post_text': 'Conozca más sobre Registro de Marca.\\nConstruimos una alianza con la firma muñoz abogados, expertos en el cuidado de su activo más valioso, su marca, y acompañarlo en su registro ante la Superintendencia de Industria y Comercio de Colombia. Conozca los beneficios de esta alianza aquí: https://bit.ly/3t0RORF', 'shared_text': '', 'time': datetime.datetime(2021, 4, 28, 16, 4, 25), 'image': None, 'image_lowquality': None, 'images': [], 'images_description': [], 'images_lowquality': [], 'images_lowquality_description': [None], 'video': 'https://video.fbog2-4.fna.fbcdn.net/v/t42.1790-2/177485718_473993827134304_3791118540675014880_n.mp4?_nc_cat=108&ccb=1-3&_nc_sid=985c63&efg=eyJ2ZW5jb2RlX3RhZyI6InN2ZV9zZCJ9&_nc_ohc=zJvyMOwGXVEAX-lF_Cd&_nc_rml=0&_nc_ht=video.fbog2-4.fna&oh=a8e841f47b2b0ff0919bd45799460478&oe=60A58A02', 'video_duration_seconds': 23, 'video_height': 1080, 'video_id': '611097500286353', 'video_quality': '1080p', 'video_size_MB': 14.652272, 'video_thumbnail': 'https://scontent.fbog2-5.fna.fbcdn.net/v/t15.5256-10/cp0/e15/q65/s320x320/121904027_611100140286089_8182528693247594619_n.jpg?_nc_cat=105&ccb=1-3&_nc_sid=ccf8b3&_nc_ohc=lL75QiwbxEgAX_vXz4L&_nc_ht=scontent.fbog2-5.fna&tp=9&oh=30c81460b3303c3ffc530078165f61a1&oe=60CC443E', 'video_watches': 1449, 'video_width': 1920, 'likes': 11, 'comments': 0, 'shares': 0, 'post_url': 'https://facebook.com/BancoDavivienda/posts/4052920644766280', 'link': 'https://bit.ly/3t0RORF', 'user_id': '500223733369340', 'username': 'Davivienda', 'user_url': 'https://facebook.com/BancoDavivienda/?__tn__=C-R', 'is_live': False, 'factcheck': None, 'shared_post_id': None, 'shared_time': None, 'shared_user_id': None, 'shared_username': None, 'shared_post_url': None, 'available': True, 'comments_full': None, 'reactors': None, 'w3_fb_url': None}\n",
      "{'post_id': '4052796608112017', 'text': 'Ingrese con sus hijos y descubran de forma divertida el mundo de las finanzas en www.monetarium.co', 'post_text': 'Ingrese con sus hijos y descubran de forma divertida el mundo de las finanzas en www.monetarium.co', 'shared_text': '', 'time': datetime.datetime(2021, 4, 28, 15, 3, 18), 'image': 'https://scontent.fbog2-4.fna.fbcdn.net/v/t1.6435-9/176403249_4052796508112027_432197754162407845_n.png?_nc_cat=107&ccb=1-3&_nc_sid=8024bb&_nc_ohc=yvJd_AeXx2wAX-J68nA&_nc_ht=scontent.fbog2-4.fna&oh=dacb65f29438333d1418f0a1ab82a160&oe=60C9EB68', 'image_lowquality': 'https://scontent.fbog2-4.fna.fbcdn.net/v/t1.6435-0/p320x320/176403249_4052796508112027_432197754162407845_n.png?_nc_cat=107&ccb=1-3&_nc_sid=8024bb&_nc_ohc=yvJd_AeXx2wAX-J68nA&_nc_ht=scontent.fbog2-4.fna&tp=30&oh=4cc487e52f11dfa9be0b5df84ce8e71b&oe=60CBD10B', 'images': ['https://scontent.fbog2-4.fna.fbcdn.net/v/t1.6435-9/176403249_4052796508112027_432197754162407845_n.png?_nc_cat=107&ccb=1-3&_nc_sid=8024bb&_nc_ohc=yvJd_AeXx2wAX-J68nA&_nc_ht=scontent.fbog2-4.fna&oh=dacb65f29438333d1418f0a1ab82a160&oe=60C9EB68'], 'images_description': ['May be an image of child and text that says \\'SÁ Monetarjum BиmHHa \"Abuelita, ¿si le doy tus Brro dientes al Ratón Pérez me deja más dinero? Pedro, 6 años. Aproveche su curiosidad para responderles con conocimiento y diviértanse juntos en monetarium.co. UOCRON Ver más\\''], 'images_lowquality': ['https://scontent.fbog2-4.fna.fbcdn.net/v/t1.6435-0/p320x320/176403249_4052796508112027_432197754162407845_n.png?_nc_cat=107&ccb=1-3&_nc_sid=8024bb&_nc_ohc=yvJd_AeXx2wAX-J68nA&_nc_ht=scontent.fbog2-4.fna&tp=30&oh=4cc487e52f11dfa9be0b5df84ce8e71b&oe=60CBD10B'], 'images_lowquality_description': ['May be an image of child and text that says \\'SÁ Monetarjum BиmHHa \"Abuelita, ¿si le doy tus Brro dientes al Ratón Pérez me deja más dinero? Pedro, 6 años. Aproveche su curiosidad para responderles con conocimiento y diviértanse juntos en monetarium.co. UOCRON Ver más\\''], 'video': None, 'video_duration_seconds': None, 'video_height': None, 'video_id': None, 'video_quality': None, 'video_size_MB': None, 'video_thumbnail': None, 'video_watches': None, 'video_width': None, 'likes': 15, 'comments': 2, 'shares': 0, 'post_url': 'https://facebook.com/BancoDavivienda/posts/4052796608112017', 'link': 'http://www.monetarium.co/', 'user_id': '500223733369340', 'username': 'Davivienda', 'user_url': 'https://facebook.com/BancoDavivienda/?__tn__=C-R', 'is_live': False, 'factcheck': None, 'shared_post_id': None, 'shared_time': None, 'shared_user_id': None, 'shared_username': None, 'shared_post_url': None, 'available': True, 'comments_full': None, 'reactors': None, 'w3_fb_url': None}\n",
      "{'post_id': '4052795841445427', 'text': 'Ingrese con sus hijos y descubran de forma divertida el mundo de las finanzas en www.monetarium.co', 'post_text': 'Ingrese con sus hijos y descubran de forma divertida el mundo de las finanzas en www.monetarium.co', 'shared_text': '', 'time': datetime.datetime(2021, 4, 28, 15, 3, 10), 'image': None, 'image_lowquality': None, 'images': [], 'images_description': [], 'images_lowquality': [], 'images_lowquality_description': [None], 'video': 'https://video.fbog2-3.fna.fbcdn.net/v/t42.1790-2/179680367_900687177382074_272977300581164290_n.mp4?_nc_cat=102&ccb=1-3&_nc_sid=985c63&efg=eyJ2ZW5jb2RlX3RhZyI6InN2ZV9zZCJ9&_nc_ohc=JMeDkpx61gEAX9Cx465&_nc_oc=AQmxOeLbLjejjtPiipy-3r-8pNeOs-WW_bDkmN5zf8DAMI-1D6sIY0qz3482d4b8lpY&_nc_rml=0&_nc_ht=video.fbog2-3.fna&oh=e359aa7408ceee1aa9f046bb0492b31e&oe=60A5861A', 'video_duration_seconds': 16, 'video_height': 1920, 'video_id': '235349788382804', 'video_quality': '1080p', 'video_size_MB': 13.948923, 'video_thumbnail': 'https://scontent.fbog2-4.fna.fbcdn.net/v/t15.13418-10/cp0/e15/q65/p320x320/160562047_2812065505712543_2205388642492719716_n.jpg?_nc_cat=108&ccb=1-3&_nc_sid=ccf8b3&_nc_ohc=NjlqcGy2wFkAX8ytqVj&_nc_ht=scontent.fbog2-4.fna&tp=3&oh=dcc9a2c78e0daa6ce88ec5d1fefa74bb&oe=60CB59E9', 'video_watches': 831, 'video_width': 1080, 'likes': 14, 'comments': 1, 'shares': 0, 'post_url': 'https://facebook.com/BancoDavivienda/posts/4052795841445427', 'link': 'http://www.monetarium.co/', 'user_id': '500223733369340', 'username': 'Davivienda', 'user_url': 'https://facebook.com/BancoDavivienda/?__tn__=C-R', 'is_live': False, 'factcheck': None, 'shared_post_id': None, 'shared_time': None, 'shared_user_id': None, 'shared_username': None, 'shared_post_url': None, 'available': True, 'comments_full': None, 'reactors': None, 'w3_fb_url': None}\n",
      "{'post_id': '4049144431810568', 'text': 'En esta experiencia junto a Maríap Villegas aprenderemos tips personales para el manejo del estrés y la ansiedad. Conozca más en www.experienciasdavivienda.com', 'post_text': 'En esta experiencia junto a Maríap Villegas aprenderemos tips personales para el manejo del estrés y la ansiedad. Conozca más en www.experienciasdavivienda.com', 'shared_text': '', 'time': datetime.datetime(2021, 4, 27, 9, 19, 27), 'image': 'https://scontent.fbog2-3.fna.fbcdn.net/v/t1.6435-9/fr/cp0/e15/q65/179240251_4049144288477249_3575204664901823811_n.jpg?_nc_cat=102&ccb=1-3&_nc_sid=8024bb&_nc_ohc=QEOCpkJ8A_QAX_8rhRz&_nc_ht=scontent.fbog2-3.fna&tp=14&oh=43965e4b70d745fae5a176ff2830ba21&oe=60CB53BF', 'image_lowquality': 'https://scontent.fbog2-3.fna.fbcdn.net/v/t1.6435-0/cp0/e15/q65/p320x320/179240251_4049144288477249_3575204664901823811_n.jpg?_nc_cat=102&ccb=1-3&_nc_sid=8024bb&_nc_ohc=QEOCpkJ8A_QAX_8rhRz&_nc_ht=scontent.fbog2-3.fna&tp=3&oh=aa35bb1adcba2a495f439f0f872f5b1b&oe=60C9497B', 'images': ['https://scontent.fbog2-3.fna.fbcdn.net/v/t1.6435-9/fr/cp0/e15/q65/179240251_4049144288477249_3575204664901823811_n.jpg?_nc_cat=102&ccb=1-3&_nc_sid=8024bb&_nc_ohc=QEOCpkJ8A_QAX_8rhRz&_nc_ht=scontent.fbog2-3.fna&tp=14&oh=43965e4b70d745fae5a176ff2830ba21&oe=60CB53BF'], 'images_description': [\"May be an image of one or more people and text that says 'EXPERIENCIAS DAVIVIENDA 0a SaludableMente: PRESENTA Manejo del estrés y la ansiedad María Villegas Coach de vida, autora chef Jueves 29 de abril 6:00 a 7:00 p.m. TRANSMISIÓNE DAVIVIENDA YouTube- fLIVE'\"], 'images_lowquality': ['https://scontent.fbog2-3.fna.fbcdn.net/v/t1.6435-0/cp0/e15/q65/p320x320/179240251_4049144288477249_3575204664901823811_n.jpg?_nc_cat=102&ccb=1-3&_nc_sid=8024bb&_nc_ohc=QEOCpkJ8A_QAX_8rhRz&_nc_ht=scontent.fbog2-3.fna&tp=3&oh=aa35bb1adcba2a495f439f0f872f5b1b&oe=60C9497B'], 'images_lowquality_description': [\"May be an image of one or more people and text that says 'EXPERIENCIAS DAVIVIENDA 0a SaludableMente: PRESENTA Manejo del estrés y la ansiedad María Villegas Coach de vida, autora chef Jueves 29 de abril 6:00 a 7:00 p.m. TRANSMISIÓNE DAVIVIENDA YouTube- fLIVE'\"], 'video': None, 'video_duration_seconds': None, 'video_height': None, 'video_id': None, 'video_quality': None, 'video_size_MB': None, 'video_thumbnail': None, 'video_watches': None, 'video_width': None, 'likes': 18, 'comments': 3, 'shares': 0, 'post_url': 'https://facebook.com/BancoDavivienda/posts/4049144431810568', 'link': 'http://www.experienciasdavivienda.com/', 'user_id': '500223733369340', 'username': 'Davivienda', 'user_url': 'https://facebook.com/BancoDavivienda/?__tn__=C-R', 'is_live': False, 'factcheck': None, 'shared_post_id': None, 'shared_time': None, 'shared_user_id': None, 'shared_username': None, 'shared_post_url': None, 'available': True, 'comments_full': None, 'reactors': None, 'w3_fb_url': None}\n"
     ]
    },
    {
     "name": "stdout",
     "output_type": "stream",
     "text": [
      "{'post_id': '4047453955312949', 'text': 'En esta experiencia junto a Juliana Gonzalez-Rivera de academiaitinerante profundizaremos en la vida y obra de Antoni Gaudí ¿el arquitecto de Dios?. Conozca más en www.experienciasdavivienda.com', 'post_text': 'En esta experiencia junto a Juliana Gonzalez-Rivera de academiaitinerante profundizaremos en la vida y obra de Antoni Gaudí ¿el arquitecto de Dios?. Conozca más en www.experienciasdavivienda.com', 'shared_text': '', 'time': datetime.datetime(2021, 4, 26, 18, 8, 13), 'image': 'https://scontent.fbog2-5.fna.fbcdn.net/v/t1.6435-9/fr/cp0/e15/q65/178936566_4047452928646385_4843804929142900301_n.jpg?_nc_cat=106&ccb=1-3&_nc_sid=8024bb&_nc_ohc=uwWZTAaXOPEAX9Cjurr&_nc_ht=scontent.fbog2-5.fna&tp=14&oh=14630a2ea6ce513d5407f1a60b4e3635&oe=60CA905A', 'image_lowquality': 'https://scontent.fbog2-5.fna.fbcdn.net/v/t1.6435-0/cp0/e15/q65/p320x320/178936566_4047452928646385_4843804929142900301_n.jpg?_nc_cat=106&ccb=1-3&_nc_sid=8024bb&_nc_ohc=uwWZTAaXOPEAX9Cjurr&_nc_ht=scontent.fbog2-5.fna&tp=3&oh=5de051cf7ad67f3c4bc6971045ba73c2&oe=60C9AE9E', 'images': ['https://scontent.fbog2-5.fna.fbcdn.net/v/t1.6435-9/fr/cp0/e15/q65/178936566_4047452928646385_4843804929142900301_n.jpg?_nc_cat=106&ccb=1-3&_nc_sid=8024bb&_nc_ohc=uwWZTAaXOPEAX9Cjurr&_nc_ht=scontent.fbog2-5.fna&tp=14&oh=14630a2ea6ce513d5407f1a60b4e3635&oe=60CA905A'], 'images_description': [\"May be an image of outdoors and text that says 'EXPERIENCIAS DAVIVIENDA nppp PRESENTA Grandes maestros del arte: ANTONI GAUDI: ¿EL ARQUITECTO DE DIOS? TRANSMISI“N DAVIVIENDA YouTube LIVE Juliana González-Rivera EncP D en Per odisn no Miércoles 28 de abril 5:00 a 7:00 p.m.'\"], 'images_lowquality': ['https://scontent.fbog2-5.fna.fbcdn.net/v/t1.6435-0/cp0/e15/q65/p320x320/178936566_4047452928646385_4843804929142900301_n.jpg?_nc_cat=106&ccb=1-3&_nc_sid=8024bb&_nc_ohc=uwWZTAaXOPEAX9Cjurr&_nc_ht=scontent.fbog2-5.fna&tp=3&oh=5de051cf7ad67f3c4bc6971045ba73c2&oe=60C9AE9E'], 'images_lowquality_description': [\"May be an image of outdoors and text that says 'EXPERIENCIAS DAVIVIENDA nppp PRESENTA Grandes maestros del arte: ANTONI GAUDI: ¿EL ARQUITECTO DE DIOS? TRANSMISI“N DAVIVIENDA YouTube LIVE Juliana González-Rivera EncP D en Per odisn no Miércoles 28 de abril 5:00 a 7:00 p.m.'\"], 'video': None, 'video_duration_seconds': None, 'video_height': None, 'video_id': None, 'video_quality': None, 'video_size_MB': None, 'video_thumbnail': None, 'video_watches': None, 'video_width': None, 'likes': 65, 'comments': 3, 'shares': 0, 'post_url': 'https://facebook.com/BancoDavivienda/posts/4047453955312949', 'link': 'http://www.experienciasdavivienda.com/', 'user_id': '500223733369340', 'username': 'Davivienda', 'user_url': 'https://facebook.com/BancoDavivienda/?__tn__=C-R', 'is_live': False, 'factcheck': None, 'shared_post_id': None, 'shared_time': None, 'shared_user_id': None, 'shared_username': None, 'shared_post_url': None, 'available': True, 'comments_full': None, 'reactors': None, 'w3_fb_url': None}\n",
      "{'post_id': '825326998344704', 'text': 'WED, APR 28\\nEXPERIENCIAS DAVIVIENDA 28-30 ABRIL', 'post_text': '', 'shared_text': 'WED, APR 28\\nEXPERIENCIAS DAVIVIENDA 28-30 ABRIL', 'time': datetime.datetime(2021, 4, 26, 18, 2, 53), 'image': None, 'image_lowquality': 'https://external.fbog2-5.fna.fbcdn.net/safe_image.php?d=AQH2y1PSL1wgLTUQ&w=476&h=249&url=https%3A%2F%2Fscontent.fbog2-5.fna.fbcdn.net%2Fv%2Ft1.6435-0%2Fcp0%2Fe15%2Fq65%2Fc0.0.506.280a%2Fp280x280%2F176476308_4047443308647347_4294671384411473234_n.jpg%3Fccb%3D1-3%26_nc_ohc%3DxTNXJ5G_gTEAX9PRIqW%26_nc_ht%3Dscontent.fbog2-5.fna%26tp%3D5%26oh%3Dd1be0e1d4aa5efbc2334357ebb0ab02d%26oe%3D60CC7773&cfs=1&ccb=3-5&_nc_hash=AQHWkza26sat6GID', 'images': [], 'images_description': [], 'images_lowquality': ['https://external.fbog2-5.fna.fbcdn.net/safe_image.php?d=AQH2y1PSL1wgLTUQ&w=476&h=249&url=https%3A%2F%2Fscontent.fbog2-5.fna.fbcdn.net%2Fv%2Ft1.6435-0%2Fcp0%2Fe15%2Fq65%2Fc0.0.506.280a%2Fp280x280%2F176476308_4047443308647347_4294671384411473234_n.jpg%3Fccb%3D1-3%26_nc_ohc%3DxTNXJ5G_gTEAX9PRIqW%26_nc_ht%3Dscontent.fbog2-5.fna%26tp%3D5%26oh%3Dd1be0e1d4aa5efbc2334357ebb0ab02d%26oe%3D60CC7773&cfs=1&ccb=3-5&_nc_hash=AQHWkza26sat6GID', 'https://static.xx.fbcdn.net/rsrc.php/v3/y6/r/jAFf2Wb_FxZ.png'], 'images_lowquality_description': [None, None], 'video': None, 'video_duration_seconds': None, 'video_height': None, 'video_id': None, 'video_quality': None, 'video_size_MB': None, 'video_thumbnail': None, 'video_watches': None, 'video_width': None, 'likes': 20, 'comments': 3, 'shares': 0, 'post_url': 'https://facebook.com/BancoDavivienda/posts/825326998344704', 'link': None, 'user_id': '500223733369340', 'username': 'Davivienda', 'user_url': 'https://facebook.com/BancoDavivienda/?__tn__=C-R', 'is_live': False, 'factcheck': None, 'shared_post_id': None, 'shared_time': None, 'shared_user_id': None, 'shared_username': None, 'shared_post_url': None, 'available': True, 'comments_full': None, 'reactors': None, 'w3_fb_url': None}\n",
      "{'post_id': '902724610578941', 'text': 'En Experiencias Davivienda acompañe al filósofo Roberto Palacio en un recorrido fascinante por el pensamiento filosófico en cuatro de sus momentos más importantes: la Antigua Grecia, la Ilustración, el siglo XIX y el pensamiento contemporáneo, donde, por ejemplo, pensadores como Byung Chul Han analizan por qué en nuestra vida sin rituales nos hallamos agotados o Slavoj Zizek, que señala que nuestro pensar es una fantasía que nos amenaza y nos alimenta.', 'post_text': 'En Experiencias Davivienda acompañe al filósofo Roberto Palacio en un recorrido fascinante por el pensamiento filosófico en cuatro de sus momentos más importantes: la Antigua Grecia, la Ilustración, el siglo XIX y el pensamiento contemporáneo, donde, por ejemplo, pensadores como Byung Chul Han analizan por qué en nuestra vida sin rituales nos hallamos agotados o Slavoj Zizek, que señala que nuestro pensar es una fantasía que nos amenaza y nos alimenta.', 'shared_text': '', 'time': datetime.datetime(2021, 4, 23, 18, 0, 50), 'image': None, 'image_lowquality': None, 'images': [], 'images_description': [], 'images_lowquality': [], 'images_lowquality_description': [None], 'video': 'https://scontent.fbog2-5.fna.fbcdn.net/v/t66.36281-6/10000000_980059765860250_1545988916736398496_n.mp4?_nc_cat=109&ccb=1-3&_nc_sid=985c63&efg=eyJ2ZW5jb2RlX3RhZyI6Im9lcF9zZCJ9&_nc_ohc=8eJRil-knEgAX8FV03V&_nc_ht=scontent.fbog2-5.fna&oh=c5e3e4a5d33bb4666ea125e312f94b51&oe=60CA6DC5', 'video_duration_seconds': None, 'video_height': None, 'video_id': '902724610578941', 'video_quality': None, 'video_size_MB': None, 'video_thumbnail': 'https://scontent.fbog2-4.fna.fbcdn.net/v/t15.13418-10/cp0/e15/q65/p173x172/174436170_1149063072188380_1879241484566798854_n.jpg?_nc_cat=100&ccb=1-3&_nc_sid=ccf8b3&_nc_ohc=osVPR1kqWLgAX9T_lF5&_nc_ht=scontent.fbog2-4.fna&tp=3&oh=790ccedd597984c0eecd6427f42d0999&oe=60CC2ADC', 'video_watches': None, 'video_width': None, 'likes': 273, 'comments': 122, 'shares': 67, 'post_url': 'https://facebook.com/BancoDavivienda/posts/902724610578941', 'link': None, 'user_id': '500223733369340', 'username': 'Davivienda', 'user_url': 'https://facebook.com/BancoDavivienda/?__tn__=C-R', 'is_live': False, 'factcheck': None, 'shared_post_id': None, 'shared_time': None, 'shared_user_id': None, 'shared_username': None, 'shared_post_url': None, 'available': True, 'comments_full': None, 'reactors': None, 'w3_fb_url': None}\n",
      "{'post_id': '4038709269520751', 'text': 'En Experiencias Davivienda acompañe al filósofo Roberto Palacio en un recorrido fascinante por el pensamiento filosófico en cuatro de sus momentos más importantes: la Antigua Grecia, la Ilustración, el siglo XIX y el pensamiento contemporáneo, donde, por ejemplo, pensadores como Byung Chul Han analizan por qué en nuestra vida sin rituales nos hallamos agotados o Slavoj Zizek, que señala que nuestro pensar es una fantasía que nos amenaza y nos alimenta.\\n\\nUn recorrido por cuatro momentos del pensamiento filosófico | Experiencias Davivienda', 'post_text': 'En Experiencias Davivienda acompañe al filósofo Roberto Palacio en un recorrido fascinante por el pensamiento filosófico en cuatro de sus momentos más importantes: la Antigua Grecia, la Ilustración, el siglo XIX y el pensamiento contemporáneo, donde, por ejemplo, pensadores como Byung Chul Han analizan por qué en nuestra vida sin rituales nos hallamos agotados o Slavoj Zizek, que señala que nuestro pensar es una fantasía que nos amenaza y nos alimenta.', 'shared_text': 'Un recorrido por cuatro momentos del pensamiento filosófico | Experiencias Davivienda', 'time': datetime.datetime(2021, 4, 23, 17, 46, 15), 'image': None, 'image_lowquality': None, 'images': [], 'images_description': [], 'images_lowquality': [], 'images_lowquality_description': [], 'video': None, 'video_duration_seconds': None, 'video_height': None, 'video_id': None, 'video_quality': None, 'video_size_MB': None, 'video_thumbnail': None, 'video_watches': None, 'video_width': None, 'likes': 13, 'comments': 1, 'shares': 0, 'post_url': 'https://facebook.com/BancoDavivienda/posts/4038709269520751', 'link': 'https://emprenderte.co/jovenes-en-accion-pagos', 'user_id': '500223733369340', 'username': 'Davivienda', 'user_url': 'https://facebook.com/BancoDavivienda/?__tn__=C-R', 'is_live': False, 'factcheck': None, 'shared_post_id': None, 'shared_time': None, 'shared_user_id': None, 'shared_username': None, 'shared_post_url': None, 'available': True, 'comments_full': None, 'reactors': None, 'w3_fb_url': None}\n"
     ]
    },
    {
     "name": "stdout",
     "output_type": "stream",
     "text": [
      "{'post_id': '4038646549527023', 'text': 'Creemos en el impacto positivo en el medio ambiente que tienen los proyectos de Construcción Sostenible.\\nAcompañamos a este proyecto en su camino a conseguir la certificación en Construcción Sostenible.\\nLo invitamos a conocer más de este proceso.', 'post_text': 'Creemos en el impacto positivo en el medio ambiente que tienen los proyectos de Construcción Sostenible.\\nAcompañamos a este proyecto en su camino a conseguir la certificación en Construcción Sostenible.\\nLo invitamos a conocer más de este proceso.', 'shared_text': '', 'time': datetime.datetime(2021, 4, 23, 17, 20, 34), 'image': None, 'image_lowquality': None, 'images': [], 'images_description': [], 'images_lowquality': [], 'images_lowquality_description': [None], 'video': 'https://video.fbog2-4.fna.fbcdn.net/v/t42.1790-2/175715377_1367519266948361_3268300936460839373_n.mp4?_nc_cat=111&ccb=1-3&_nc_sid=985c63&efg=eyJ2ZW5jb2RlX3RhZyI6InN2ZV9zZCJ9&_nc_ohc=xHggG_kmoAMAX8KiONO&_nc_rml=0&_nc_ht=video.fbog2-4.fna&oh=c419473b9584deab4c5dcb15f0e29305&oe=60A58F1C', 'video_duration_seconds': 69, 'video_height': 1080, 'video_id': '514198699609624', 'video_quality': '1080p', 'video_size_MB': 87.036824, 'video_thumbnail': 'https://scontent.fbog2-5.fna.fbcdn.net/v/t15.5256-10/cp0/e15/q65/s320x320/152905773_514998226196338_1805761234477173235_n.jpg?_nc_cat=103&ccb=1-3&_nc_sid=ccf8b3&_nc_ohc=4PFZaPjY6MwAX8oWDJU&_nc_ht=scontent.fbog2-5.fna&tp=9&oh=715c6599306f2cfc4beb2daf4b2a9ebd&oe=60CCA0AC', 'video_watches': 1429, 'video_width': 1920, 'likes': 20, 'comments': 4, 'shares': 0, 'post_url': 'https://facebook.com/BancoDavivienda/posts/4038646549527023', 'link': None, 'user_id': '500223733369340', 'username': 'Davivienda', 'user_url': 'https://facebook.com/BancoDavivienda/?__tn__=C-R', 'is_live': False, 'factcheck': None, 'shared_post_id': None, 'shared_time': None, 'shared_user_id': None, 'shared_username': None, 'shared_post_url': None, 'available': True, 'comments_full': None, 'reactors': None, 'w3_fb_url': None}\n",
      "{'post_id': '4035879789803699', 'text': 'Creemos en el impacto positivo en el medio ambiente que tienen los proyectos de Construcción Sostenible, por eso en Davivienda los apoyamos e impulsamos.\\nConozca más sobre uno de estos proyectos.', 'post_text': 'Creemos en el impacto positivo en el medio ambiente que tienen los proyectos de Construcción Sostenible, por eso en Davivienda los apoyamos e impulsamos.\\nConozca más sobre uno de estos proyectos.', 'shared_text': '', 'time': datetime.datetime(2021, 4, 22, 18, 38, 46), 'image': None, 'image_lowquality': None, 'images': [], 'images_description': [], 'images_lowquality': [], 'images_lowquality_description': [None], 'video': 'https://video.fbog2-4.fna.fbcdn.net/v/t42.1790-2/177016849_289095812830246_4653589275215679652_n.mp4?_nc_cat=100&ccb=1-3&_nc_sid=985c63&efg=eyJ2ZW5jb2RlX3RhZyI6InN2ZV9zZCJ9&_nc_ohc=9RluwXBLRXwAX-hTKde&_nc_rml=0&_nc_ht=video.fbog2-4.fna&oh=df997b905d7e4b44015b1200e58766d8&oe=60A5897A', 'video_duration_seconds': 78, 'video_height': 1080, 'video_id': '495816318275133', 'video_quality': '1080p', 'video_size_MB': 97.856237, 'video_thumbnail': 'https://scontent.fbog2-4.fna.fbcdn.net/v/t15.5256-10/cp0/e15/q65/s320x320/174763709_495819568274808_1783254125518979678_n.jpg?_nc_cat=107&ccb=1-3&_nc_sid=ccf8b3&_nc_ohc=8r5HJtabKKcAX_it9Mg&_nc_ht=scontent.fbog2-4.fna&tp=9&oh=8c13cabbeb645f06d9088c4a48f07138&oe=60CAAFD9', 'video_watches': 1805, 'video_width': 1920, 'likes': 36, 'comments': 1, 'shares': 0, 'post_url': 'https://facebook.com/BancoDavivienda/posts/4035879789803699', 'link': 'https://emprenderte.co/jovenes-en-accion-pagos', 'user_id': '500223733369340', 'username': 'Davivienda', 'user_url': 'https://facebook.com/BancoDavivienda/?__tn__=C-R', 'is_live': False, 'factcheck': None, 'shared_post_id': None, 'shared_time': None, 'shared_user_id': None, 'shared_username': None, 'shared_post_url': None, 'available': True, 'comments_full': None, 'reactors': None, 'w3_fb_url': None}\n",
      "{'post_id': '509997890034523', 'text': 'En Experiencias Davivienda lo invitamos a explorar, junto a la coach de vida y autora María Villegas, las técnicas de la auto-hipnosis y la programación neurolingüística en esta charla con información práctica y útil que lo empoderará y lo apoyará en su camino a la transformación.', 'post_text': 'En Experiencias Davivienda lo invitamos a explorar, junto a la coach de vida y autora María Villegas, las técnicas de la auto-hipnosis y la programación neurolingüística en esta charla con información práctica y útil que lo empoderará y lo apoyará en su camino a la transformación.', 'shared_text': '', 'time': datetime.datetime(2021, 4, 22, 18, 0, 38), 'image': None, 'image_lowquality': None, 'images': [], 'images_description': [], 'images_lowquality': [], 'images_lowquality_description': [None], 'video': 'https://scontent.fbog2-5.fna.fbcdn.net/v/t66.36281-6/10000000_1233732907082270_6901613655481698473_n.mp4?_nc_cat=110&ccb=1-3&_nc_sid=985c63&efg=eyJ2ZW5jb2RlX3RhZyI6Im9lcF9zZCJ9&_nc_ohc=Jdqj8cEN0TwAX9RTeJY&_nc_ht=scontent.fbog2-5.fna&oh=4c8b1d8859d4b26ebd030d1f68d8b8b5&oe=60CC21B8', 'video_duration_seconds': None, 'video_height': None, 'video_id': '509997890034523', 'video_quality': None, 'video_size_MB': None, 'video_thumbnail': 'https://scontent.fbog2-4.fna.fbcdn.net/v/t15.13418-10/cp0/e15/q65/p173x172/173140201_480732409745379_6705313053302096621_n.jpg?_nc_cat=108&ccb=1-3&_nc_sid=ccf8b3&_nc_ohc=fHaSUl1Ar-cAX-yHU8O&_nc_ht=scontent.fbog2-4.fna&tp=3&oh=d7612768255be589bf5434b7376cee64&oe=60CAA1E0', 'video_watches': None, 'video_width': None, 'likes': 269, 'comments': 100, 'shares': 51, 'post_url': 'https://facebook.com/BancoDavivienda/posts/509997890034523', 'link': None, 'user_id': '500223733369340', 'username': 'Davivienda', 'user_url': 'https://facebook.com/BancoDavivienda/?__tn__=C-R', 'is_live': False, 'factcheck': None, 'shared_post_id': None, 'shared_time': None, 'shared_user_id': None, 'shared_username': None, 'shared_post_url': None, 'available': True, 'comments_full': None, 'reactors': None, 'w3_fb_url': None}\n",
      "{'post_id': '4035764279815250', 'text': 'En Experiencias Davivienda lo invitamos a explorar, junto a la coach de vida y autora María Villegas, las técnicas de la auto-hipnosis y la programación neurolingüística en esta charla con información práctica y útil que lo empoderará y lo apoyará en su camino a la transformación.\\n\\nTécnicas útiles de PNL para el empoderamiento personal | Experiencias Davivienda', 'post_text': 'En Experiencias Davivienda lo invitamos a explorar, junto a la coach de vida y autora María Villegas, las técnicas de la auto-hipnosis y la programación neurolingüística en esta charla con información práctica y útil que lo empoderará y lo apoyará en su camino a la transformación.', 'shared_text': 'Técnicas útiles de PNL para el empoderamiento personal | Experiencias Davivienda', 'time': datetime.datetime(2021, 4, 22, 17, 45, 38), 'image': None, 'image_lowquality': None, 'images': [], 'images_description': [], 'images_lowquality': [], 'images_lowquality_description': [], 'video': None, 'video_duration_seconds': None, 'video_height': None, 'video_id': None, 'video_quality': None, 'video_size_MB': None, 'video_thumbnail': None, 'video_watches': None, 'video_width': None, 'likes': 13, 'comments': 2, 'shares': 0, 'post_url': 'https://facebook.com/BancoDavivienda/posts/4035764279815250', 'link': None, 'user_id': '500223733369340', 'username': 'Davivienda', 'user_url': 'https://facebook.com/BancoDavivienda/?__tn__=C-R', 'is_live': False, 'factcheck': None, 'shared_post_id': None, 'shared_time': None, 'shared_user_id': None, 'shared_username': None, 'shared_post_url': None, 'available': True, 'comments_full': None, 'reactors': None, 'w3_fb_url': None}\n",
      "{'post_id': '1681902038676872', 'text': '¿Sabía que el registro de marca es uno de los pasos más importantes para usted como pyme y emprendedor? Acompáñenos hoy y conozca todos los detalles de este proceso.', 'post_text': '¿Sabía que el registro de marca es uno de los pasos más importantes para usted como pyme y emprendedor? Acompáñenos hoy y conozca todos los detalles de este proceso.', 'shared_text': '', 'time': datetime.datetime(2021, 4, 22, 16, 30, 2), 'image': None, 'image_lowquality': None, 'images': [], 'images_description': [], 'images_lowquality': [], 'images_lowquality_description': [None], 'video': 'https://scontent.fbog2-5.fna.fbcdn.net/v/t66.36281-6/10000000_799028647708511_8833456943873269770_n.mp4?_nc_cat=109&ccb=1-3&_nc_sid=985c63&efg=eyJ2ZW5jb2RlX3RhZyI6Im9lcF9zZCJ9&_nc_ohc=sGm9HZVowlcAX9wH5Xa&_nc_ht=scontent.fbog2-5.fna&oh=7705036d326aaf0ec468391bfad523a8&oe=60CB56E3', 'video_duration_seconds': None, 'video_height': None, 'video_id': '1681902038676872', 'video_quality': None, 'video_size_MB': None, 'video_thumbnail': 'https://scontent.fbog2-5.fna.fbcdn.net/v/t15.13418-10/cp0/e15/q65/p173x172/163058154_290128685894250_3494928891464612539_n.jpg?_nc_cat=103&ccb=1-3&_nc_sid=ccf8b3&_nc_ohc=oUVLQTPp8BMAX9OyitT&_nc_ht=scontent.fbog2-5.fna&tp=3&oh=33aed6328f39ad91dcb1151d4b7a1b36&oe=60CB16E9', 'video_watches': None, 'video_width': None, 'likes': 80, 'comments': 51, 'shares': 38, 'post_url': 'https://facebook.com/BancoDavivienda/posts/1681902038676872', 'link': 'http://www.pymas.com.co/', 'user_id': '500223733369340', 'username': 'Davivienda', 'user_url': 'https://facebook.com/BancoDavivienda/?__tn__=C-R', 'is_live': False, 'factcheck': None, 'shared_post_id': None, 'shared_time': None, 'shared_user_id': None, 'shared_username': None, 'shared_post_url': None, 'available': True, 'comments_full': None, 'reactors': None, 'w3_fb_url': None}\n"
     ]
    },
    {
     "name": "stdout",
     "output_type": "stream",
     "text": [
      "{'post_id': '4035415866516758', 'text': '¿Sabía que el registro de marca es uno de los pasos más importantes para usted como pyme y emprendedor? Acompáñenos hoy y conozca todos los detalles de este proceso.\\n\\nRegistro de Marca: Cómo valorizar su activo más importante.', 'post_text': '¿Sabía que el registro de marca es uno de los pasos más importantes para usted como pyme y emprendedor? Acompáñenos hoy y conozca todos los detalles de este proceso.', 'shared_text': 'Registro de Marca: Cómo valorizar su activo más importante.', 'time': datetime.datetime(2021, 4, 22, 14, 51, 43), 'image': None, 'image_lowquality': None, 'images': [], 'images_description': [], 'images_lowquality': [], 'images_lowquality_description': [], 'video': None, 'video_duration_seconds': None, 'video_height': None, 'video_id': None, 'video_quality': None, 'video_size_MB': None, 'video_thumbnail': None, 'video_watches': None, 'video_width': None, 'likes': 24, 'comments': 1, 'shares': 0, 'post_url': 'https://facebook.com/BancoDavivienda/posts/4035415866516758', 'link': 'https://emprenderte.co/jovenes-en-accion-pagos', 'user_id': '500223733369340', 'username': 'Davivienda', 'user_url': 'https://facebook.com/BancoDavivienda/?__tn__=C-R', 'is_live': False, 'factcheck': None, 'shared_post_id': None, 'shared_time': None, 'shared_user_id': None, 'shared_username': None, 'shared_post_url': None, 'available': True, 'comments_full': None, 'reactors': None, 'w3_fb_url': None}\n",
      "{'post_id': '4032578953467116', 'text': 'No podemos parar de cuidarnos, #INCOMÓDATE. Ponte el tapabocas. Pide el tapabocas. Puedes salvar tu vida y la de los demás.', 'post_text': 'No podemos parar de cuidarnos, #INCOMÓDATE. Ponte el tapabocas. Pide el tapabocas. Puedes salvar tu vida y la de los demás.', 'shared_text': '', 'time': datetime.datetime(2021, 4, 22, 14, 0, 1), 'image': 'https://scontent.fbog2-4.fna.fbcdn.net/v/t1.6435-9/fr/cp0/e15/q65/175923874_4032578496800495_4617218723529423672_n.jpg?_nc_cat=108&ccb=1-3&_nc_sid=8024bb&_nc_ohc=VnDWg9GXZfoAX9redxi&_nc_ht=scontent.fbog2-4.fna&tp=14&oh=df0e70af181f9c925d2918352edd39d1&oe=60CC303E', 'image_lowquality': 'https://scontent.fbog2-4.fna.fbcdn.net/v/t1.6435-0/cp0/e15/q65/p320x320/175923874_4032578496800495_4617218723529423672_n.jpg?_nc_cat=108&ccb=1-3&_nc_sid=8024bb&_nc_ohc=VnDWg9GXZfoAX9redxi&_nc_ht=scontent.fbog2-4.fna&tp=3&oh=43ae1c2cef56a990faf1c65ea2fff1b2&oe=60CBD87A', 'images': ['https://scontent.fbog2-4.fna.fbcdn.net/v/t1.6435-9/fr/cp0/e15/q65/175923874_4032578496800495_4617218723529423672_n.jpg?_nc_cat=108&ccb=1-3&_nc_sid=8024bb&_nc_ohc=VnDWg9GXZfoAX9redxi&_nc_ht=scontent.fbog2-4.fna&tp=14&oh=df0e70af181f9c925d2918352edd39d1&oe=60CC303E'], 'images_description': [\"May be an image of text that says '#INCOMODATE PONTE EL TAPABOCAS. PIDE EL TAPABOCAS. SALVAR TU VIDA LOS DEMAS. PUEDES @ മ ব 0 3'\"], 'images_lowquality': ['https://scontent.fbog2-4.fna.fbcdn.net/v/t1.6435-0/cp0/e15/q65/p320x320/175923874_4032578496800495_4617218723529423672_n.jpg?_nc_cat=108&ccb=1-3&_nc_sid=8024bb&_nc_ohc=VnDWg9GXZfoAX9redxi&_nc_ht=scontent.fbog2-4.fna&tp=3&oh=43ae1c2cef56a990faf1c65ea2fff1b2&oe=60CBD87A'], 'images_lowquality_description': [\"May be an image of text that says '#INCOMODATE PONTE EL TAPABOCAS. PIDE EL TAPABOCAS. SALVAR TU VIDA LOS DEMAS. PUEDES @ മ ব 0 3'\"], 'video': None, 'video_duration_seconds': None, 'video_height': None, 'video_id': None, 'video_quality': None, 'video_size_MB': None, 'video_thumbnail': None, 'video_watches': None, 'video_width': None, 'likes': 67, 'comments': 15, 'shares': 0, 'post_url': 'https://facebook.com/BancoDavivienda/posts/4032578953467116', 'link': None, 'user_id': '500223733369340', 'username': 'Davivienda', 'user_url': 'https://facebook.com/BancoDavivienda/?__tn__=C-R', 'is_live': False, 'factcheck': None, 'shared_post_id': None, 'shared_time': None, 'shared_user_id': None, 'shared_username': None, 'shared_post_url': None, 'available': True, 'comments_full': None, 'reactors': None, 'w3_fb_url': None}\n",
      "{'post_id': '4032581310133547', 'text': 'La curva tiene que bajar, hoy más que nunca, #INCOMÓDATE. Ponte el tapabocas. Pide el tapabocas. Puedes salvar tu vida y la de los demás.', 'post_text': 'La curva tiene que bajar, hoy más que nunca, #INCOMÓDATE. Ponte el tapabocas. Pide el tapabocas. Puedes salvar tu vida y la de los demás.', 'shared_text': '', 'time': datetime.datetime(2021, 4, 22, 14, 0), 'image': 'https://scontent.fbog2-5.fna.fbcdn.net/v/t1.6435-9/fr/cp0/e15/q65/174652327_4032580906800254_4795890884149958507_n.jpg?_nc_cat=105&ccb=1-3&_nc_sid=8024bb&_nc_ohc=Jjpd0eKftLcAX8vHuQ0&_nc_ht=scontent.fbog2-5.fna&tp=14&oh=42c3a384080f9878d579f3694c4e8ba5&oe=60CA3941', 'image_lowquality': 'https://scontent.fbog2-5.fna.fbcdn.net/v/t1.6435-0/cp0/e15/q65/p320x320/174652327_4032580906800254_4795890884149958507_n.jpg?_nc_cat=105&ccb=1-3&_nc_sid=8024bb&_nc_ohc=Jjpd0eKftLcAX8vHuQ0&_nc_ht=scontent.fbog2-5.fna&tp=3&oh=78e674a16c7bb16541f9304fc9c9c6eb&oe=60C97A05', 'images': ['https://scontent.fbog2-5.fna.fbcdn.net/v/t1.6435-9/fr/cp0/e15/q65/174652327_4032580906800254_4795890884149958507_n.jpg?_nc_cat=105&ccb=1-3&_nc_sid=8024bb&_nc_ohc=Jjpd0eKftLcAX8vHuQ0&_nc_ht=scontent.fbog2-5.fna&tp=14&oh=42c3a384080f9878d579f3694c4e8ba5&oe=60CA3941'], 'images_description': [\"May be an image of 1 person and text that says '1ON A #INCOMÓDATE PONTE EL TAPABOCAS. PIDE EL TAPABOCAS. VIDA PUEDES SALVAR MS + LOS DEMÁS.'\"], 'images_lowquality': ['https://scontent.fbog2-5.fna.fbcdn.net/v/t1.6435-0/cp0/e15/q65/p320x320/174652327_4032580906800254_4795890884149958507_n.jpg?_nc_cat=105&ccb=1-3&_nc_sid=8024bb&_nc_ohc=Jjpd0eKftLcAX8vHuQ0&_nc_ht=scontent.fbog2-5.fna&tp=3&oh=78e674a16c7bb16541f9304fc9c9c6eb&oe=60C97A05'], 'images_lowquality_description': [\"May be an image of 1 person and text that says '1ON A #INCOMÓDATE PONTE EL TAPABOCAS. PIDE EL TAPABOCAS. VIDA PUEDES SALVAR MS + LOS DEMÁS.'\"], 'video': None, 'video_duration_seconds': None, 'video_height': None, 'video_id': None, 'video_quality': None, 'video_size_MB': None, 'video_thumbnail': None, 'video_watches': None, 'video_width': None, 'likes': 65, 'comments': 3, 'shares': 0, 'post_url': 'https://facebook.com/BancoDavivienda/posts/4032581310133547', 'link': 'https://www.youtube.com/watch?v=6LuPBkYNSOs', 'user_id': '500223733369340', 'username': 'Davivienda', 'user_url': 'https://facebook.com/BancoDavivienda/?__tn__=C-R', 'is_live': False, 'factcheck': None, 'shared_post_id': None, 'shared_time': None, 'shared_user_id': None, 'shared_username': None, 'shared_post_url': None, 'available': True, 'comments_full': None, 'reactors': None, 'w3_fb_url': None}\n",
      "{'post_id': '4032787136779631', 'text': 'Impulso es apoyarlo y acompañarlo a fortalecer su empresa\\n¿Sabía que el registro de marca es uno de los pasos más importantes para usted como pyme y emprendedor?\\nLos invitamos mañana jueves 22 de abril a las 4:30 p.m. a nuestro webinar: Registro de Marca: Cómo valorizar su activo más importante.\\nRegístrese aquí: http://bit.ly/RegMarcas\\n#WorldIPDay', 'post_text': 'Impulso es apoyarlo y acompañarlo a fortalecer su empresa\\n¿Sabía que el registro de marca es uno de los pasos más importantes para usted como pyme y emprendedor?\\nLos invitamos mañana jueves 22 de abril a las 4:30 p.m. a nuestro webinar: Registro de Marca: Cómo valorizar su activo más importante.\\nRegístrese aquí: http://bit.ly/RegMarcas\\n#WorldIPDay', 'shared_text': '', 'time': datetime.datetime(2021, 4, 21, 16, 13, 10), 'image': 'https://scontent.fbog2-5.fna.fbcdn.net/v/t1.6435-9/fr/cp0/e15/q65/174665507_4032786703446341_918604317393943394_n.jpg?_nc_cat=110&ccb=1-3&_nc_sid=8024bb&_nc_ohc=ZoLMRDlT0YQAX9Jlf-0&_nc_ht=scontent.fbog2-5.fna&tp=14&oh=b556e7979df331daf7c436dafc630803&oe=60CBAC8D', 'image_lowquality': 'https://scontent.fbog2-5.fna.fbcdn.net/v/t1.6435-0/cp0/e15/q65/p320x320/174665507_4032786703446341_918604317393943394_n.jpg?_nc_cat=110&ccb=1-3&_nc_sid=8024bb&_nc_ohc=ZoLMRDlT0YQAX9Jlf-0&_nc_ht=scontent.fbog2-5.fna&tp=3&oh=442141485e169b4216a4b37f109cd2e5&oe=60C956DA', 'images': ['https://scontent.fbog2-5.fna.fbcdn.net/v/t1.6435-9/fr/cp0/e15/q65/174665507_4032786703446341_918604317393943394_n.jpg?_nc_cat=110&ccb=1-3&_nc_sid=8024bb&_nc_ohc=ZoLMRDlT0YQAX9Jlf-0&_nc_ht=scontent.fbog2-5.fna&tp=14&oh=b556e7979df331daf7c436dafc630803&oe=60CBAC8D'], 'images_description': [\"May be an image of 3 people and text that says 'WEBINAR Jueves 22 de abril 4:30 p.m. REGISTRO DE MARCA Cómo valorizar su activo más importante. Álvaro Montero VicepresidenteJu Jurídico Davivienda Dr. Giancarlo Marcenaro Consultor aOMPI, ExProcurador Segundo Delegado para igilancia Administrativa, xSuperintendente Deleg para Propiedad Indusrial Guillermo Navarro Socio Director -Partner MuñozAbogados TRANSMISIÓN Impulso es apoyarlo acompañarlo en el registro de su bien más preciado, SU MARCA. DAVÍVIENDA YouTube LIVE *Evento elCo ganizaciónMu muñoz°abogados py Intelectual ')p celebrar laPropdad OMPI ZACIÓN DELA 2021.'\"], 'images_lowquality': ['https://scontent.fbog2-5.fna.fbcdn.net/v/t1.6435-0/cp0/e15/q65/p320x320/174665507_4032786703446341_918604317393943394_n.jpg?_nc_cat=110&ccb=1-3&_nc_sid=8024bb&_nc_ohc=ZoLMRDlT0YQAX9Jlf-0&_nc_ht=scontent.fbog2-5.fna&tp=3&oh=442141485e169b4216a4b37f109cd2e5&oe=60C956DA'], 'images_lowquality_description': [\"May be an image of 3 people and text that says 'WEBINAR Jueves 22 de abril 4:30 p.m. REGISTRO DE MARCA Cómo valorizar su activo más importante. Álvaro Montero VicepresidenteJu Jurídico Davivienda Dr. Giancarlo Marcenaro Consultor aOMPI, ExProcurador Segundo Delegado para igilancia Administrativa, xSuperintendente Deleg para Propiedad Indusrial Guillermo Navarro Socio Director -Partner MuñozAbogados TRANSMISIÓN Impulso es apoyarlo acompañarlo en el registro de su bien más preciado, SU MARCA. DAVÍVIENDA YouTube LIVE *Evento elCo ganizaciónMu muñoz°abogados py Intelectual ')p celebrar laPropdad OMPI ZACIÓN DELA 2021.'\"], 'video': None, 'video_duration_seconds': None, 'video_height': None, 'video_id': None, 'video_quality': None, 'video_size_MB': None, 'video_thumbnail': None, 'video_watches': None, 'video_width': None, 'likes': 803, 'comments': 12, 'shares': 0, 'post_url': 'https://facebook.com/BancoDavivienda/posts/4032787136779631', 'link': 'https://bit.ly/RegMarcas', 'user_id': '500223733369340', 'username': 'Davivienda', 'user_url': 'https://facebook.com/BancoDavivienda/?__tn__=C-R', 'is_live': False, 'factcheck': None, 'shared_post_id': None, 'shared_time': None, 'shared_user_id': None, 'shared_username': None, 'shared_post_url': None, 'available': True, 'comments_full': None, 'reactors': None, 'w3_fb_url': None}\n"
     ]
    },
    {
     "name": "stdout",
     "output_type": "stream",
     "text": [
      "{'post_id': '4032578050133873', 'text': 'Tú puedes hacer la diferencia, #INCOMÓDATE. Ponte el tapabocas. Pide el tapabocas. Puedes salvar tu vida y la de los demás.', 'post_text': 'Tú puedes hacer la diferencia, #INCOMÓDATE. Ponte el tapabocas. Pide el tapabocas. Puedes salvar tu vida y la de los demás.', 'shared_text': '', 'time': datetime.datetime(2021, 4, 21, 14, 34, 12), 'image': 'https://scontent.fbog2-5.fna.fbcdn.net/v/t1.6435-9/fr/cp0/e15/q65/175440115_4032577826800562_7763658964036302718_n.jpg?_nc_cat=110&ccb=1-3&_nc_sid=8024bb&_nc_ohc=VrAuy8CdKe0AX8I27lh&_nc_ht=scontent.fbog2-5.fna&tp=14&oh=9fe4a756da57ebbb2315cc1ebc5fce54&oe=60C95AF3', 'image_lowquality': 'https://scontent.fbog2-5.fna.fbcdn.net/v/t1.6435-0/cp0/e15/q65/p320x320/175440115_4032577826800562_7763658964036302718_n.jpg?_nc_cat=110&ccb=1-3&_nc_sid=8024bb&_nc_ohc=VrAuy8CdKe0AX8I27lh&_nc_ht=scontent.fbog2-5.fna&tp=3&oh=626fff538bbd5dd4b71d0c6b172edbd7&oe=60CB9437', 'images': ['https://scontent.fbog2-5.fna.fbcdn.net/v/t1.6435-9/fr/cp0/e15/q65/175440115_4032577826800562_7763658964036302718_n.jpg?_nc_cat=110&ccb=1-3&_nc_sid=8024bb&_nc_ohc=VrAuy8CdKe0AX8I27lh&_nc_ht=scontent.fbog2-5.fna&tp=14&oh=9fe4a756da57ebbb2315cc1ebc5fce54&oe=60C95AF3'], 'images_description': [\"May be an image of 1 person and text that says 'PUEDES #INCOMÓDATE PONTE EL TAPABOCAS. PIDE E TAPABOCAS. SALVAR TU VIDA DA DELOS DE DEMÁS.'\"], 'images_lowquality': ['https://scontent.fbog2-5.fna.fbcdn.net/v/t1.6435-0/cp0/e15/q65/p320x320/175440115_4032577826800562_7763658964036302718_n.jpg?_nc_cat=110&ccb=1-3&_nc_sid=8024bb&_nc_ohc=VrAuy8CdKe0AX8I27lh&_nc_ht=scontent.fbog2-5.fna&tp=3&oh=626fff538bbd5dd4b71d0c6b172edbd7&oe=60CB9437'], 'images_lowquality_description': [\"May be an image of 1 person and text that says 'PUEDES #INCOMÓDATE PONTE EL TAPABOCAS. PIDE E TAPABOCAS. SALVAR TU VIDA DA DELOS DE DEMÁS.'\"], 'video': None, 'video_duration_seconds': None, 'video_height': None, 'video_id': None, 'video_quality': None, 'video_size_MB': None, 'video_thumbnail': None, 'video_watches': None, 'video_width': None, 'likes': 132, 'comments': 8, 'shares': 0, 'post_url': 'https://facebook.com/BancoDavivienda/posts/4032578050133873', 'link': None, 'user_id': '500223733369340', 'username': 'Davivienda', 'user_url': 'https://facebook.com/BancoDavivienda/?__tn__=C-R', 'is_live': False, 'factcheck': None, 'shared_post_id': None, 'shared_time': None, 'shared_user_id': None, 'shared_username': None, 'shared_post_url': None, 'available': True, 'comments_full': None, 'reactors': None, 'w3_fb_url': None}\n",
      "{'post_id': '4029022217156123', 'text': 'En esta experiencia Roberto Palacios de @seminariosbraintree nos hace un recorrido por la filosofía de la Antigua Grecia, la Ilustración, el siglo XIX y el pensamiento contemporáneo. Conozca más en www.experienciasdavivienda.com', 'post_text': 'En esta experiencia Roberto Palacios de @seminariosbraintree nos hace un recorrido por la filosofía de la Antigua Grecia, la Ilustración, el siglo XIX y el pensamiento contemporáneo. Conozca más en www.experienciasdavivienda.com', 'shared_text': '', 'time': datetime.datetime(2021, 4, 21, 9, 0, 1), 'image': 'https://scontent.fbog2-5.fna.fbcdn.net/v/t1.6435-9/fr/cp0/e15/q65/176421773_4029021750489503_4359861828549324090_n.jpg?_nc_cat=105&ccb=1-3&_nc_sid=8024bb&_nc_ohc=ZNOmSCyF8e8AX9-I_A8&_nc_ht=scontent.fbog2-5.fna&tp=14&oh=8d86b58adbaef0f47c9cd536663a034d&oe=60C9B378', 'image_lowquality': 'https://scontent.fbog2-5.fna.fbcdn.net/v/t1.6435-0/cp0/e15/q65/p320x320/176421773_4029021750489503_4359861828549324090_n.jpg?_nc_cat=105&ccb=1-3&_nc_sid=8024bb&_nc_ohc=ZNOmSCyF8e8AX9-I_A8&_nc_ht=scontent.fbog2-5.fna&tp=3&oh=2ebe8207ff731fd9fbe370acc22af8db&oe=60CCC8B4', 'images': ['https://scontent.fbog2-5.fna.fbcdn.net/v/t1.6435-9/fr/cp0/e15/q65/176421773_4029021750489503_4359861828549324090_n.jpg?_nc_cat=105&ccb=1-3&_nc_sid=8024bb&_nc_ohc=ZNOmSCyF8e8AX9-I_A8&_nc_ht=scontent.fbog2-5.fna&tp=14&oh=8d86b58adbaef0f47c9cd536663a034d&oe=60C9B378'], 'images_description': [\"May be an image of 1 person and text that says 'EXPERIENCIAS DAVIVIENDA DAV VIENDA PRESENTA Filosofía en acción un recorrido por cuatro momentos del pensamiento filosófico copopo TRANSMISIÓN DAVÍVIENDA YouTube fLIVE Roberto Palacio ilósofoy ensayista colombiano magister en Filosof Viernes 23 de abril 6:00 8:00 p.m.'\"], 'images_lowquality': ['https://scontent.fbog2-5.fna.fbcdn.net/v/t1.6435-0/cp0/e15/q65/p320x320/176421773_4029021750489503_4359861828549324090_n.jpg?_nc_cat=105&ccb=1-3&_nc_sid=8024bb&_nc_ohc=ZNOmSCyF8e8AX9-I_A8&_nc_ht=scontent.fbog2-5.fna&tp=3&oh=2ebe8207ff731fd9fbe370acc22af8db&oe=60CCC8B4'], 'images_lowquality_description': [\"May be an image of 1 person and text that says 'EXPERIENCIAS DAVIVIENDA DAV VIENDA PRESENTA Filosofía en acción un recorrido por cuatro momentos del pensamiento filosófico copopo TRANSMISIÓN DAVÍVIENDA YouTube fLIVE Roberto Palacio ilósofoy ensayista colombiano magister en Filosof Viernes 23 de abril 6:00 8:00 p.m.'\"], 'video': None, 'video_duration_seconds': None, 'video_height': None, 'video_id': None, 'video_quality': None, 'video_size_MB': None, 'video_thumbnail': None, 'video_watches': None, 'video_width': None, 'likes': 23, 'comments': 0, 'shares': 0, 'post_url': 'https://facebook.com/BancoDavivienda/posts/4029022217156123', 'link': 'http://www.experienciasdavivienda.com/', 'user_id': '500223733369340', 'username': 'Davivienda', 'user_url': 'https://facebook.com/BancoDavivienda/?__tn__=C-R', 'is_live': False, 'factcheck': None, 'shared_post_id': None, 'shared_time': None, 'shared_user_id': None, 'shared_username': None, 'shared_post_url': None, 'available': True, 'comments_full': None, 'reactors': None, 'w3_fb_url': None}\n",
      "{'post_id': '228992935644082', 'text': \"SUSCRÍBETE A NUESTRO CANAL: http://bit.ly/BancoDaviviendaYT\\n\\nAcerca de Davivienda\\nDurante 4 décadas hemos participado activamente en la construcción de Colombia y nos hemos convertido en un referente importante en el sector financiero del país. Hacemos parte del Grupo Empresarial Bolívar, que por más de 75 años ha acompañado a las personas, a las familias y a las empresas en el cumplimiento de sus objetivos.\\nSomos reconocidos por el manejo único de nuestra imagen a través de la comunicación convirtiéndonos en una de las 5 marcas más valiosas y el primer banco en recordación publicitaria de Colombia.\\nNuestro portafolio integral de productos y servicios atiende las necesidades de personas, empresas, sector rural, minería y energía, con innovación constante y ofertas exclusivas para cada segmento.\\nSomos el banco exclusivo en Colombia para el manejo de las tarjetas Diners.\\nContamos con un equipo de más de 17.000 personas para servir a más de 10 millones de clientes a través de 725 oficinas, y contamos con alrededor de 2.600 ATM'S a nivel regional.\\nAdemás de Colombia, tenemos operaciones en Panamá, Costa Rica, Honduras, El Salvador y Miami, en los Estados Unidos.\\n\\nConéctese con Davivienda:\\nVisite nuestra página web: https://www.davivienda.com\\nSíganos en Twitter: http://bit.ly/2HUZqkR\\nVisite nuestra página de Facebook: http://bit.ly/2Iqoyjr\\nSíganos en Instagram: http://bit.ly/2P1SrYQ\\nVisítenos en LinkedIn\\nLinkeInd: https://bit.ly/3hMCjsH\\n\\n#BancoDavivienda #Davivienda\", 'post_text': \"SUSCRÍBETE A NUESTRO CANAL: http://bit.ly/BancoDaviviendaYT\\n\\nAcerca de Davivienda\\nDurante 4 décadas hemos participado activamente en la construcción de Colombia y nos hemos convertido en un referente importante en el sector financiero del país. Hacemos parte del Grupo Empresarial Bolívar, que por más de 75 años ha acompañado a las personas, a las familias y a las empresas en el cumplimiento de sus objetivos.\\nSomos reconocidos por el manejo único de nuestra imagen a través de la comunicación convirtiéndonos en una de las 5 marcas más valiosas y el primer banco en recordación publicitaria de Colombia.\\nNuestro portafolio integral de productos y servicios atiende las necesidades de personas, empresas, sector rural, minería y energía, con innovación constante y ofertas exclusivas para cada segmento.\\nSomos el banco exclusivo en Colombia para el manejo de las tarjetas Diners.\\nContamos con un equipo de más de 17.000 personas para servir a más de 10 millones de clientes a través de 725 oficinas, y contamos con alrededor de 2.600 ATM'S a nivel regional.\\nAdemás de Colombia, tenemos operaciones en Panamá, Costa Rica, Honduras, El Salvador y Miami, en los Estados Unidos.\\n\\nConéctese con Davivienda:\\nVisite nuestra página web: https://www.davivienda.com\\nSíganos en Twitter: http://bit.ly/2HUZqkR\\nVisite nuestra página de Facebook: http://bit.ly/2Iqoyjr\\nSíganos en Instagram: http://bit.ly/2P1SrYQ\\nVisítenos en LinkedIn\\nLinkeInd: https://bit.ly/3hMCjsH\\n\\n#BancoDavivienda #Davivienda\", 'shared_text': '', 'time': datetime.datetime(2021, 4, 21, 8, 0, 11), 'image': None, 'image_lowquality': None, 'images': [], 'images_description': [], 'images_lowquality': [], 'images_lowquality_description': [None], 'video': 'https://scontent.fbog2-4.fna.fbcdn.net/v/t66.36281-6/10000000_927930344446876_8479758420031662072_n.mp4?_nc_cat=108&ccb=1-3&_nc_sid=985c63&efg=eyJ2ZW5jb2RlX3RhZyI6Im9lcF9zZCJ9&_nc_ohc=kGlTLLhq5rIAX-8V4BY&_nc_ht=scontent.fbog2-4.fna&oh=0f40b08928cf3a226465664852009db7&oe=60CABFE7', 'video_duration_seconds': None, 'video_height': None, 'video_id': '228992935644082', 'video_quality': None, 'video_size_MB': None, 'video_thumbnail': 'https://scontent.fbog2-5.fna.fbcdn.net/v/t15.13418-10/cp0/e15/q65/p173x172/174699317_340125954143705_6370216999026275061_n.jpg?_nc_cat=106&ccb=1-3&_nc_sid=ccf8b3&_nc_ohc=NLl-SNwxKPYAX_kSlrz&_nc_ht=scontent.fbog2-5.fna&tp=3&oh=e11b71f482a497964c107617d35b30e5&oe=60CA0963', 'video_watches': None, 'video_width': None, 'likes': 50, 'comments': 26, 'shares': 4, 'post_url': 'https://facebook.com/BancoDavivienda/posts/228992935644082', 'link': 'https://bit.ly/BancoDaviviendaYT\\u200b\\u200b', 'user_id': '500223733369340', 'username': 'Davivienda', 'user_url': 'https://facebook.com/BancoDavivienda/?__tn__=C-R', 'is_live': False, 'factcheck': None, 'shared_post_id': None, 'shared_time': None, 'shared_user_id': None, 'shared_username': None, 'shared_post_url': None, 'available': True, 'comments_full': None, 'reactors': None, 'w3_fb_url': None}\n"
     ]
    },
    {
     "name": "stdout",
     "output_type": "stream",
     "text": [
      "{'post_id': '4031646173560394', 'text': \"SUSCRÍBETE A NUESTRO CANAL: http://bit.ly/BancoDaviviendaYT\\n\\nAcerca de Davivienda\\nDurante 4 décadas hemos participado activamente en la construcción de Colombia y nos hemos convertido en un referente importante en el sector financiero del país. Hacemos parte del Grupo Empresarial Bolívar, que por más de 75 años ha acompañado a las personas, a las familias y a las empresas en el cumplimiento de sus objetivos.\\nSomos reconocidos por el manejo único de nuestra imagen a través de la comunicación convirtiéndonos en una de las 5 marcas más valiosas y el primer banco en recordación publicitaria de Colombia.\\nNuestro portafolio integral de productos y servicios atiende las necesidades de personas, empresas, sector rural, minería y energía, con innovación constante y ofertas exclusivas para cada segmento.\\nSomos el banco exclusivo en Colombia para el manejo de las tarjetas Diners.\\nContamos con un equipo de más de 17.000 personas para servir a más de 10 millones de clientes a través de 725 oficinas, y contamos con alrededor de 2.600 ATM'S a nivel regional.\\nAdemás de Colombia, tenemos operaciones en Panamá, Costa Rica, Honduras, El Salvador y Miami, en los Estados Unidos.\\n\\nConéctese con Davivienda:\\nVisite nuestra página web: https://www.davivienda.com\\nSíganos en Twitter: http://bit.ly/2HUZqkR\\nVisite nuestra página de Facebook: http://bit.ly/2Iqoyjr\\nSíganos en Instagram: http://bit.ly/2P1SrYQ\\nVisítenos en LinkedIn\\nLinkeInd: https://bit.ly/3hMCjsH\\n\\n#BancoDavivienda #Davivienda\\n\\nCoyuntura de mercados financieros y efectos en la valorización del FIC Superior\", 'post_text': \"SUSCRÍBETE A NUESTRO CANAL: http://bit.ly/BancoDaviviendaYT\\n\\nAcerca de Davivienda\\nDurante 4 décadas hemos participado activamente en la construcción de Colombia y nos hemos convertido en un referente importante en el sector financiero del país. Hacemos parte del Grupo Empresarial Bolívar, que por más de 75 años ha acompañado a las personas, a las familias y a las empresas en el cumplimiento de sus objetivos.\\nSomos reconocidos por el manejo único de nuestra imagen a través de la comunicación convirtiéndonos en una de las 5 marcas más valiosas y el primer banco en recordación publicitaria de Colombia.\\nNuestro portafolio integral de productos y servicios atiende las necesidades de personas, empresas, sector rural, minería y energía, con innovación constante y ofertas exclusivas para cada segmento.\\nSomos el banco exclusivo en Colombia para el manejo de las tarjetas Diners.\\nContamos con un equipo de más de 17.000 personas para servir a más de 10 millones de clientes a través de 725 oficinas, y contamos con alrededor de 2.600 ATM'S a nivel regional.\\nAdemás de Colombia, tenemos operaciones en Panamá, Costa Rica, Honduras, El Salvador y Miami, en los Estados Unidos.\\n\\nConéctese con Davivienda:\\nVisite nuestra página web: https://www.davivienda.com\\nSíganos en Twitter: http://bit.ly/2HUZqkR\\nVisite nuestra página de Facebook: http://bit.ly/2Iqoyjr\\nSíganos en Instagram: http://bit.ly/2P1SrYQ\\nVisítenos en LinkedIn\\nLinkeInd: https://bit.ly/3hMCjsH\\n\\n#BancoDavivienda #Davivienda\", 'shared_text': 'Coyuntura de mercados financieros y efectos en la valorización del FIC Superior', 'time': datetime.datetime(2021, 4, 21, 7, 36, 13), 'image': None, 'image_lowquality': None, 'images': [], 'images_description': [], 'images_lowquality': [], 'images_lowquality_description': [], 'video': None, 'video_duration_seconds': None, 'video_height': None, 'video_id': None, 'video_quality': None, 'video_size_MB': None, 'video_thumbnail': None, 'video_watches': None, 'video_width': None, 'likes': 15, 'comments': 0, 'shares': 0, 'post_url': 'https://facebook.com/BancoDavivienda/posts/4031646173560394', 'link': 'https://bit.ly/BancoDaviviendaYT\\u200b\\u200b', 'user_id': '500223733369340', 'username': 'Davivienda', 'user_url': 'https://facebook.com/BancoDavivienda/?__tn__=C-R', 'is_live': False, 'factcheck': None, 'shared_post_id': None, 'shared_time': None, 'shared_user_id': None, 'shared_username': None, 'shared_post_url': None, 'available': True, 'comments_full': None, 'reactors': None, 'w3_fb_url': None}\n",
      "{'post_id': '4030041857054159', 'text': 'Tú puedes hacer la diferencia, #INCOMÓDATE. Ponte el tapabocas. Pide el tapabocas. Puedes salvar tu vida y la de los demás.', 'post_text': 'Tú puedes hacer la diferencia, #INCOMÓDATE. Ponte el tapabocas. Pide el tapabocas. Puedes salvar tu vida y la de los demás.', 'shared_text': '', 'time': datetime.datetime(2021, 4, 20, 17, 33, 11), 'image': 'https://scontent.fbog2-5.fna.fbcdn.net/v/t1.6435-9/fr/cp0/e15/q65/176421445_4030041777054167_9034409416201141753_n.jpg?_nc_cat=109&ccb=1-3&_nc_sid=8024bb&_nc_ohc=mn1BoRNDpFYAX_shZ8m&_nc_ht=scontent.fbog2-5.fna&tp=14&oh=2e353215842fad886545357f8afa5a52&oe=60C98BC9', 'image_lowquality': 'https://scontent.fbog2-5.fna.fbcdn.net/v/t1.6435-0/cp0/e15/q65/p320x320/176421445_4030041777054167_9034409416201141753_n.jpg?_nc_cat=109&ccb=1-3&_nc_sid=8024bb&_nc_ohc=mn1BoRNDpFYAX_shZ8m&_nc_ht=scontent.fbog2-5.fna&tp=3&oh=fce46aab64156601f575fb102a017008&oe=60CA110D', 'images': ['https://scontent.fbog2-5.fna.fbcdn.net/v/t1.6435-9/fr/cp0/e15/q65/176421445_4030041777054167_9034409416201141753_n.jpg?_nc_cat=109&ccb=1-3&_nc_sid=8024bb&_nc_ohc=mn1BoRNDpFYAX_shZ8m&_nc_ht=scontent.fbog2-5.fna&tp=14&oh=2e353215842fad886545357f8afa5a52&oe=60C98BC9'], 'images_description': [\"May be an image of 1 person and text that says 'PUEDES SALVAR #INCOMÓDATE PONTE EL TAPABOCAS. PIDE EL TAPABOCAS. TU ÛDE'\"], 'images_lowquality': ['https://scontent.fbog2-5.fna.fbcdn.net/v/t1.6435-0/cp0/e15/q65/p320x320/176421445_4030041777054167_9034409416201141753_n.jpg?_nc_cat=109&ccb=1-3&_nc_sid=8024bb&_nc_ohc=mn1BoRNDpFYAX_shZ8m&_nc_ht=scontent.fbog2-5.fna&tp=3&oh=fce46aab64156601f575fb102a017008&oe=60CA110D'], 'images_lowquality_description': [\"May be an image of 1 person and text that says 'PUEDES SALVAR #INCOMÓDATE PONTE EL TAPABOCAS. PIDE EL TAPABOCAS. TU ÛDE'\"], 'video': None, 'video_duration_seconds': None, 'video_height': None, 'video_id': None, 'video_quality': None, 'video_size_MB': None, 'video_thumbnail': None, 'video_watches': None, 'video_width': None, 'likes': 85, 'comments': 5, 'shares': 0, 'post_url': 'https://facebook.com/BancoDavivienda/posts/4030041857054159', 'link': None, 'user_id': '500223733369340', 'username': 'Davivienda', 'user_url': 'https://facebook.com/BancoDavivienda/?__tn__=C-R', 'is_live': False, 'factcheck': None, 'shared_post_id': None, 'shared_time': None, 'shared_user_id': None, 'shared_username': None, 'shared_post_url': None, 'available': True, 'comments_full': None, 'reactors': None, 'w3_fb_url': None}\n",
      "{'post_id': '4029247700466908', 'text': 'En pocos minutos comienza nuestro #EventoEspecial Ley de Solidaridad - Puntos Claves. Con German Cristancho; Gerente de Investigaciones Económicas de Davivienda Corredores, quien abordará los principales puntos de la reforma tributaria. Conéctese aquí: https://youtu.be/dK1t6nAFVCY', 'post_text': 'En pocos minutos comienza nuestro #EventoEspecial Ley de Solidaridad - Puntos Claves. Con German Cristancho; Gerente de Investigaciones Económicas de Davivienda Corredores, quien abordará los principales puntos de la reforma tributaria. Conéctese aquí: https://youtu.be/dK1t6nAFVCY', 'shared_text': '', 'time': datetime.datetime(2021, 4, 20, 10, 56, 22), 'image': 'https://scontent.fbog2-3.fna.fbcdn.net/v/t1.6435-9/fr/cp0/e15/q65/176147863_4029247703800241_7445678977151116953_n.jpg?_nc_cat=104&ccb=1-3&_nc_sid=2d5d41&_nc_ohc=KKCARHZI5Z8AX8Mtl7k&_nc_oc=AQlkRR27myI0lRP7Cm6fHglnNYNQx_il6oVRGrdTZwvMjsqP67QfgxVmubz97mCOCaQ&_nc_ht=scontent.fbog2-3.fna&tp=14&oh=60b560eb550007865776f35779f8da1d&oe=60C9017B', 'image_lowquality': 'https://scontent.fbog2-3.fna.fbcdn.net/v/t1.6435-0/cp0/e15/q65/s320x320/176147863_4029247703800241_7445678977151116953_n.jpg?_nc_cat=104&ccb=1-3&_nc_sid=2d5d41&_nc_ohc=KKCARHZI5Z8AX8Mtl7k&_nc_oc=AQlkRR27myI0lRP7Cm6fHglnNYNQx_il6oVRGrdTZwvMjsqP67QfgxVmubz97mCOCaQ&_nc_ht=scontent.fbog2-3.fna&tp=9&oh=e73d058bc0f01403c7ff2aa327854430&oe=60CB7F80', 'images': ['https://scontent.fbog2-3.fna.fbcdn.net/v/t1.6435-9/fr/cp0/e15/q65/176147863_4029247703800241_7445678977151116953_n.jpg?_nc_cat=104&ccb=1-3&_nc_sid=2d5d41&_nc_ohc=KKCARHZI5Z8AX8Mtl7k&_nc_oc=AQlkRR27myI0lRP7Cm6fHglnNYNQx_il6oVRGrdTZwvMjsqP67QfgxVmubz97mCOCaQ&_nc_ht=scontent.fbog2-3.fna&tp=14&oh=60b560eb550007865776f35779f8da1d&oe=60C9017B'], 'images_description': [\"May be an image of 2 people and text that says 'STREAMING STREA LEY DE SOLIDARIDAD SOSTENIBLE C PUNTOS CLAVES 12.002 @ DAVIVIENDA Corredores'\"], 'images_lowquality': ['https://scontent.fbog2-3.fna.fbcdn.net/v/t1.6435-0/cp0/e15/q65/s320x320/176147863_4029247703800241_7445678977151116953_n.jpg?_nc_cat=104&ccb=1-3&_nc_sid=2d5d41&_nc_ohc=KKCARHZI5Z8AX8Mtl7k&_nc_oc=AQlkRR27myI0lRP7Cm6fHglnNYNQx_il6oVRGrdTZwvMjsqP67QfgxVmubz97mCOCaQ&_nc_ht=scontent.fbog2-3.fna&tp=9&oh=e73d058bc0f01403c7ff2aa327854430&oe=60CB7F80'], 'images_lowquality_description': [\"May be an image of 2 people and text that says 'STREAMING STREA LEY DE SOLIDARIDAD SOSTENIBLE C PUNTOS CLAVES 12.002 @ DAVIVIENDA Corredores'\"], 'video': None, 'video_duration_seconds': None, 'video_height': None, 'video_id': None, 'video_quality': None, 'video_size_MB': None, 'video_thumbnail': None, 'video_watches': None, 'video_width': None, 'likes': 11, 'comments': 2, 'shares': 0, 'post_url': 'https://facebook.com/BancoDavivienda/posts/4029247700466908', 'link': 'https://youtu.be/dK1t6nAFVCY', 'user_id': '500223733369340', 'username': 'Davivienda', 'user_url': 'https://facebook.com/BancoDavivienda/?__tn__=C-R', 'is_live': False, 'factcheck': None, 'shared_post_id': None, 'shared_time': None, 'shared_user_id': None, 'shared_username': None, 'shared_post_url': None, 'available': True, 'comments_full': None, 'reactors': None, 'w3_fb_url': None}\n"
     ]
    },
    {
     "name": "stdout",
     "output_type": "stream",
     "text": [
      "{'post_id': '4029013787156966', 'text': 'En esta experiencia junto a @mariavillegasoficial descubriremos cómo utilizar la programación neurolingüística para el empoderamiento personal. Conozca más en www.experienciasdavivienda.com', 'post_text': 'En esta experiencia junto a @mariavillegasoficial descubriremos cómo utilizar la programación neurolingüística para el empoderamiento personal. Conozca más en www.experienciasdavivienda.com', 'shared_text': '', 'time': datetime.datetime(2021, 4, 20, 9, 24, 3), 'image': 'https://scontent.fbog2-5.fna.fbcdn.net/v/t1.6435-9/fr/cp0/e15/q65/175644700_4029012040490474_3912165186998748217_n.jpg?_nc_cat=109&ccb=1-3&_nc_sid=8024bb&_nc_ohc=JgpVFpX18xYAX-HVi1N&_nc_ht=scontent.fbog2-5.fna&tp=14&oh=fafadbe85006e6f17f167698ffe74067&oe=60CC94AB', 'image_lowquality': 'https://scontent.fbog2-5.fna.fbcdn.net/v/t1.6435-0/cp0/e15/q65/p320x320/175644700_4029012040490474_3912165186998748217_n.jpg?_nc_cat=109&ccb=1-3&_nc_sid=8024bb&_nc_ohc=JgpVFpX18xYAX-HVi1N&_nc_ht=scontent.fbog2-5.fna&tp=3&oh=ebd6af30ead7ccdd246ad352767ab162&oe=60CC2AEF', 'images': ['https://scontent.fbog2-5.fna.fbcdn.net/v/t1.6435-9/fr/cp0/e15/q65/175644700_4029012040490474_3912165186998748217_n.jpg?_nc_cat=109&ccb=1-3&_nc_sid=8024bb&_nc_ohc=JgpVFpX18xYAX-HVi1N&_nc_ht=scontent.fbog2-5.fna&tp=14&oh=fafadbe85006e6f17f167698ffe74067&oe=60CC94AB'], 'images_description': [\"May be an image of sky and text that says 'EXPERIENCIAS DAVIVIENDA PRESENTA SaludableMente: Técnicas útiles de PNL para el empoderamiento personal COpp TRANSMISIÓNEN TRI“ R: DAVI DAVIVIENDA YouTube fLIVE María Villegas Coach de vida, utora Jueves 22 de abril 6:00 a 7:00 p.m.'\"], 'images_lowquality': ['https://scontent.fbog2-5.fna.fbcdn.net/v/t1.6435-0/cp0/e15/q65/p320x320/175644700_4029012040490474_3912165186998748217_n.jpg?_nc_cat=109&ccb=1-3&_nc_sid=8024bb&_nc_ohc=JgpVFpX18xYAX-HVi1N&_nc_ht=scontent.fbog2-5.fna&tp=3&oh=ebd6af30ead7ccdd246ad352767ab162&oe=60CC2AEF'], 'images_lowquality_description': [\"May be an image of sky and text that says 'EXPERIENCIAS DAVIVIENDA PRESENTA SaludableMente: Técnicas útiles de PNL para el empoderamiento personal COpp TRANSMISIÓNEN TRI“ R: DAVI DAVIVIENDA YouTube fLIVE María Villegas Coach de vida, utora Jueves 22 de abril 6:00 a 7:00 p.m.'\"], 'video': None, 'video_duration_seconds': None, 'video_height': None, 'video_id': None, 'video_quality': None, 'video_size_MB': None, 'video_thumbnail': None, 'video_watches': None, 'video_width': None, 'likes': 16, 'comments': 1, 'shares': 0, 'post_url': 'https://facebook.com/BancoDavivienda/posts/4029013787156966', 'link': 'http://www.experienciasdavivienda.com/', 'user_id': '500223733369340', 'username': 'Davivienda', 'user_url': 'https://facebook.com/BancoDavivienda/?__tn__=C-R', 'is_live': False, 'factcheck': None, 'shared_post_id': None, 'shared_time': None, 'shared_user_id': None, 'shared_username': None, 'shared_post_url': None, 'available': True, 'comments_full': None, 'reactors': None, 'w3_fb_url': None}\n",
      "{'post_id': '4026573957400949', 'text': 'En esta experiencia junto a Juliana Gonzalez-Rivera de academiaitinerante hablaremos de Pablo Picasso, uno de los artistas más famosos del mundo y también uno de los más incomprendidos. Conozca más en www.experienciasdavivienda.com', 'post_text': 'En esta experiencia junto a Juliana Gonzalez-Rivera de academiaitinerante hablaremos de Pablo Picasso, uno de los artistas más famosos del mundo y también uno de los más incomprendidos. Conozca más en www.experienciasdavivienda.com', 'shared_text': '', 'time': datetime.datetime(2021, 4, 19, 11, 43, 51), 'image': 'https://scontent.fbog2-3.fna.fbcdn.net/v/t1.6435-9/fr/cp0/e15/q65/175549530_4026572474067764_2745108443428265583_n.jpg?_nc_cat=102&ccb=1-3&_nc_sid=8024bb&_nc_ohc=bWffgloblGIAX9Cthta&_nc_ht=scontent.fbog2-3.fna&tp=14&oh=8969a0df80ed24f2885de302219d6d28&oe=60CAAF40', 'image_lowquality': 'https://scontent.fbog2-3.fna.fbcdn.net/v/t1.6435-0/cp0/e15/q65/p320x320/175549530_4026572474067764_2745108443428265583_n.jpg?_nc_cat=102&ccb=1-3&_nc_sid=8024bb&_nc_ohc=bWffgloblGIAX9Cthta&_nc_ht=scontent.fbog2-3.fna&tp=3&oh=88a11c6be5eab15fa1b23eb40c57c2d0&oe=60C9DDFC', 'images': ['https://scontent.fbog2-3.fna.fbcdn.net/v/t1.6435-9/fr/cp0/e15/q65/175549530_4026572474067764_2745108443428265583_n.jpg?_nc_cat=102&ccb=1-3&_nc_sid=8024bb&_nc_ohc=bWffgloblGIAX9Cthta&_nc_ht=scontent.fbog2-3.fna&tp=14&oh=8969a0df80ed24f2885de302219d6d28&oe=60CAAF40'], 'images_description': [\"May be an image of 1 person and text that says 'EXPERIENCIAS DAVIVIENDA PRESENTA Grandes maestros del arte: Picasso El hombre en la cima del arte Juliana González-Rivera Escr tora Ph. Periodismo Miércoles 21 de abril 5:00 a 7:00 p.m. TRANSMISIÓNER DAVIVIENDA YouTube- fLIVE'\"], 'images_lowquality': ['https://scontent.fbog2-3.fna.fbcdn.net/v/t1.6435-0/cp0/e15/q65/p320x320/175549530_4026572474067764_2745108443428265583_n.jpg?_nc_cat=102&ccb=1-3&_nc_sid=8024bb&_nc_ohc=bWffgloblGIAX9Cthta&_nc_ht=scontent.fbog2-3.fna&tp=3&oh=88a11c6be5eab15fa1b23eb40c57c2d0&oe=60C9DDFC'], 'images_lowquality_description': [\"May be an image of 1 person and text that says 'EXPERIENCIAS DAVIVIENDA PRESENTA Grandes maestros del arte: Picasso El hombre en la cima del arte Juliana González-Rivera Escr tora Ph. Periodismo Miércoles 21 de abril 5:00 a 7:00 p.m. TRANSMISIÓNER DAVIVIENDA YouTube- fLIVE'\"], 'video': None, 'video_duration_seconds': None, 'video_height': None, 'video_id': None, 'video_quality': None, 'video_size_MB': None, 'video_thumbnail': None, 'video_watches': None, 'video_width': None, 'likes': 53, 'comments': 4, 'shares': 0, 'post_url': 'https://facebook.com/BancoDavivienda/posts/4026573957400949', 'link': 'http://www.experienciasdavivienda.com/', 'user_id': '500223733369340', 'username': 'Davivienda', 'user_url': 'https://facebook.com/BancoDavivienda/?__tn__=C-R', 'is_live': False, 'factcheck': None, 'shared_post_id': None, 'shared_time': None, 'shared_user_id': None, 'shared_username': None, 'shared_post_url': None, 'available': True, 'comments_full': None, 'reactors': None, 'w3_fb_url': None}\n",
      "{'post_id': '252401389950222', 'text': 'WED, APR 21\\nEXPERIENCIAS DAVIVIENDA 21-23 ABRIL', 'post_text': '', 'shared_text': 'WED, APR 21\\nEXPERIENCIAS DAVIVIENDA 21-23 ABRIL', 'time': datetime.datetime(2021, 4, 19, 10, 14, 35), 'image': None, 'image_lowquality': 'https://external.fbog2-5.fna.fbcdn.net/safe_image.php?d=AQFH0rrjp5xOKgwP&w=476&h=249&url=https%3A%2F%2Fscontent.fbog2-4.fna.fbcdn.net%2Fv%2Ft1.6435-0%2Fcp0%2Fe15%2Fq65%2Fc0.0.506.280a%2Fp280x280%2F176147972_4026373007421044_7244330526738335444_n.jpg%3Fccb%3D1-3%26_nc_ohc%3D0tJ4yeyVWyoAX8Tsclx%26_nc_ht%3Dscontent.fbog2-4.fna%26tp%3D5%26oh%3D5a316d6291f8e8e0ccfff750fa315144%26oe%3D60CC106D&cfs=1&ccb=3-5&_nc_hash=AQE92xYTsO2A9Awl', 'images': [], 'images_description': [], 'images_lowquality': ['https://external.fbog2-5.fna.fbcdn.net/safe_image.php?d=AQFH0rrjp5xOKgwP&w=476&h=249&url=https%3A%2F%2Fscontent.fbog2-4.fna.fbcdn.net%2Fv%2Ft1.6435-0%2Fcp0%2Fe15%2Fq65%2Fc0.0.506.280a%2Fp280x280%2F176147972_4026373007421044_7244330526738335444_n.jpg%3Fccb%3D1-3%26_nc_ohc%3D0tJ4yeyVWyoAX8Tsclx%26_nc_ht%3Dscontent.fbog2-4.fna%26tp%3D5%26oh%3D5a316d6291f8e8e0ccfff750fa315144%26oe%3D60CC106D&cfs=1&ccb=3-5&_nc_hash=AQE92xYTsO2A9Awl', 'https://static.xx.fbcdn.net/rsrc.php/v3/y6/r/jAFf2Wb_FxZ.png'], 'images_lowquality_description': [None, None], 'video': None, 'video_duration_seconds': None, 'video_height': None, 'video_id': None, 'video_quality': None, 'video_size_MB': None, 'video_thumbnail': None, 'video_watches': None, 'video_width': None, 'likes': 18, 'comments': 1, 'shares': 0, 'post_url': 'https://facebook.com/BancoDavivienda/posts/252401389950222', 'link': None, 'user_id': '500223733369340', 'username': 'Davivienda', 'user_url': 'https://facebook.com/BancoDavivienda/?__tn__=C-R', 'is_live': False, 'factcheck': None, 'shared_post_id': None, 'shared_time': None, 'shared_user_id': None, 'shared_username': None, 'shared_post_url': None, 'available': True, 'comments_full': None, 'reactors': None, 'w3_fb_url': None}\n",
      "{'post_id': '291380909108680', 'text': 'Así como el Quijote se embriagó de las novelas de caballería, Emma se embriagó de los romances que circulaban a escondidas en los conventos. Su suerte fue trágica, quizá cómica. En Experiencias Davivienda, el filósofo Fernando Galindo cuenta cómo \"Madame Bovary\" nos da las claves para entender los caminos de la literatura de este siglo y del curso mismo de una sociedad que vive entre la hipocresía y la añoranza.', 'post_text': 'Así como el Quijote se embriagó de las novelas de caballería, Emma se embriagó de los romances que circulaban a escondidas en los conventos. Su suerte fue trágica, quizá cómica. En Experiencias Davivienda, el filósofo Fernando Galindo cuenta cómo \"Madame Bovary\" nos da las claves para entender los caminos de la literatura de este siglo y del curso mismo de una sociedad que vive entre la hipocresía y la añoranza.', 'shared_text': '', 'time': datetime.datetime(2021, 4, 16, 18, 0, 49), 'image': None, 'image_lowquality': None, 'images': [], 'images_description': [], 'images_lowquality': [], 'images_lowquality_description': [None], 'video': 'https://scontent.fbog2-4.fna.fbcdn.net/v/t66.36281-6/10000000_322720025901877_5069376183302660126_n.mp4?_nc_cat=108&ccb=1-3&_nc_sid=985c63&efg=eyJ2ZW5jb2RlX3RhZyI6Im9lcF9zZCJ9&_nc_ohc=Tk3VDSzUmkYAX9fNhK-&_nc_ht=scontent.fbog2-4.fna&oh=05c426a9f6325c16e77d8b643d158fd7&oe=60CC8D15', 'video_duration_seconds': None, 'video_height': None, 'video_id': '291380909108680', 'video_quality': None, 'video_size_MB': None, 'video_thumbnail': 'https://scontent.fbog2-5.fna.fbcdn.net/v/t15.13418-10/cp0/e15/q65/p173x172/169145132_441961620237115_4509677062994384551_n.jpg?_nc_cat=110&ccb=1-3&_nc_sid=ccf8b3&_nc_ohc=y5NOmZ0xgcMAX8giJFG&_nc_ht=scontent.fbog2-5.fna&tp=3&oh=508ae417f00986fdaa4f921986b94960&oe=60CB398F', 'video_watches': None, 'video_width': None, 'likes': 112, 'comments': 77, 'shares': 39, 'post_url': 'https://facebook.com/BancoDavivienda/posts/291380909108680', 'link': None, 'user_id': '500223733369340', 'username': 'Davivienda', 'user_url': 'https://facebook.com/BancoDavivienda/?__tn__=C-R', 'is_live': False, 'factcheck': None, 'shared_post_id': None, 'shared_time': None, 'shared_user_id': None, 'shared_username': None, 'shared_post_url': None, 'available': True, 'comments_full': None, 'reactors': None, 'w3_fb_url': None}\n"
     ]
    },
    {
     "name": "stdout",
     "output_type": "stream",
     "text": [
      "{'post_id': '4018933541498324', 'text': 'Así como el Quijote se embriagó de las novelas de caballería, Emma se embriagó de los romances que circulaban a escondidas en los conventos. Su suerte fue trágica, quizá cómica. En Experiencias Davivienda, el filósofo Fernando Galindo cuenta cómo \"Madame Bovary\" nos da las claves para entender los caminos de la literatura de este siglo y del curso mismo de una sociedad que vive entre la hipocresía y la añoranza.\\n\\nMadame Bovary de Gustave Flaubert | Experiencias Davivienda', 'post_text': 'Así como el Quijote se embriagó de las novelas de caballería, Emma se embriagó de los romances que circulaban a escondidas en los conventos. Su suerte fue trágica, quizá cómica. En Experiencias Davivienda, el filósofo Fernando Galindo cuenta cómo \"Madame Bovary\" nos da las claves para entender los caminos de la literatura de este siglo y del curso mismo de una sociedad que vive entre la hipocresía y la añoranza.', 'shared_text': 'Madame Bovary de Gustave Flaubert | Experiencias Davivienda', 'time': datetime.datetime(2021, 4, 16, 17, 46, 8), 'image': None, 'image_lowquality': None, 'images': [], 'images_description': [], 'images_lowquality': [], 'images_lowquality_description': [], 'video': None, 'video_duration_seconds': None, 'video_height': None, 'video_id': None, 'video_quality': None, 'video_size_MB': None, 'video_thumbnail': None, 'video_watches': None, 'video_width': None, 'likes': 19, 'comments': 3, 'shares': 0, 'post_url': 'https://facebook.com/BancoDavivienda/posts/4018933541498324', 'link': None, 'user_id': '500223733369340', 'username': 'Davivienda', 'user_url': 'https://facebook.com/BancoDavivienda/?__tn__=C-R', 'is_live': False, 'factcheck': None, 'shared_post_id': None, 'shared_time': None, 'shared_user_id': None, 'shared_username': None, 'shared_post_url': None, 'available': True, 'comments_full': None, 'reactors': None, 'w3_fb_url': None}\n",
      "{'post_id': '4018179908240354', 'text': '¿Por qué en Davivienda nos importan las certificaciones LEED y EDGE otorgadas a construcciones sostenibles?\\nDescúbralo aquí: https://bit.ly/2QtlGsf', 'post_text': '¿Por qué en Davivienda nos importan las certificaciones LEED y EDGE otorgadas a construcciones sostenibles?\\nDescúbralo aquí: https://bit.ly/2QtlGsf', 'shared_text': '', 'time': datetime.datetime(2021, 4, 16, 11, 40, 59), 'image': 'https://scontent.fbog2-5.fna.fbcdn.net/v/t1.6435-9/fr/cp0/e15/q65/170764690_4018179131573765_8192554997626899234_n.jpg?_nc_cat=109&ccb=1-3&_nc_sid=8024bb&_nc_ohc=f4e3UyGPX04AX-cgL1i&_nc_ht=scontent.fbog2-5.fna&tp=14&oh=efcbb1378f86be2b9f5f0e4c53cb8ec2&oe=60C9C4EB', 'image_lowquality': 'https://scontent.fbog2-5.fna.fbcdn.net/v/t1.6435-0/cp0/e15/q65/s320x320/170764690_4018179131573765_8192554997626899234_n.jpg?_nc_cat=109&ccb=1-3&_nc_sid=8024bb&_nc_ohc=f4e3UyGPX04AX-cgL1i&_nc_ht=scontent.fbog2-5.fna&tp=9&oh=f42db17203a4e7b4048a66d94f60e6d7&oe=60CBDC70', 'images': ['https://scontent.fbog2-5.fna.fbcdn.net/v/t1.6435-9/fr/cp0/e15/q65/170764690_4018179131573765_8192554997626899234_n.jpg?_nc_cat=109&ccb=1-3&_nc_sid=8024bb&_nc_ohc=f4e3UyGPX04AX-cgL1i&_nc_ht=scontent.fbog2-5.fna&tp=14&oh=efcbb1378f86be2b9f5f0e4c53cb8ec2&oe=60C9C4EB'], 'images_description': [\"May be an image of text that says 'SBLOG CONSTRUCCIÓN SOSTENIBLE Certificaciones LEED y EDGE'\"], 'images_lowquality': ['https://scontent.fbog2-5.fna.fbcdn.net/v/t1.6435-0/cp0/e15/q65/s320x320/170764690_4018179131573765_8192554997626899234_n.jpg?_nc_cat=109&ccb=1-3&_nc_sid=8024bb&_nc_ohc=f4e3UyGPX04AX-cgL1i&_nc_ht=scontent.fbog2-5.fna&tp=9&oh=f42db17203a4e7b4048a66d94f60e6d7&oe=60CBDC70'], 'images_lowquality_description': [\"May be an image of text that says 'SBLOG CONSTRUCCIÓN SOSTENIBLE Certificaciones LEED y EDGE'\"], 'video': None, 'video_duration_seconds': None, 'video_height': None, 'video_id': None, 'video_quality': None, 'video_size_MB': None, 'video_thumbnail': None, 'video_watches': None, 'video_width': None, 'likes': 20, 'comments': 7, 'shares': 0, 'post_url': 'https://facebook.com/BancoDavivienda/posts/4018179908240354', 'link': 'https://bit.ly/2QtlGsf', 'user_id': '500223733369340', 'username': 'Davivienda', 'user_url': 'https://facebook.com/BancoDavivienda/?__tn__=C-R', 'is_live': False, 'factcheck': None, 'shared_post_id': None, 'shared_time': None, 'shared_user_id': None, 'shared_username': None, 'shared_post_url': None, 'available': True, 'comments_full': None, 'reactors': None, 'w3_fb_url': None}\n",
      "{'post_id': '144610730929848', 'text': 'En Experiencias Davivienda, la coach de vida María Villegas enseña las cuatro leyes bajo las que opera la mente: le ayudará a entender cómo dialogar adecuadamente con ella, cómo reprogramarla y ponerla a trabajar a su favor, volviéndola su mejor aliada para conseguir todo lo que se proponga, ya sea mejorar sus relaciones, emprender o crecer un negocio, fortalecer su cuerpo o mejorar su salud.', 'post_text': 'En Experiencias Davivienda, la coach de vida María Villegas enseña las cuatro leyes bajo las que opera la mente: le ayudará a entender cómo dialogar adecuadamente con ella, cómo reprogramarla y ponerla a trabajar a su favor, volviéndola su mejor aliada para conseguir todo lo que se proponga, ya sea mejorar sus relaciones, emprender o crecer un negocio, fortalecer su cuerpo o mejorar su salud.', 'shared_text': '', 'time': datetime.datetime(2021, 4, 15, 18, 0, 29), 'image': None, 'image_lowquality': None, 'images': [], 'images_description': [], 'images_lowquality': [], 'images_lowquality_description': [None], 'video': 'https://scontent.fbog2-5.fna.fbcdn.net/v/t66.36281-6/10000000_559427005028050_6486192407692207882_n.mp4?_nc_cat=105&ccb=1-3&_nc_sid=985c63&efg=eyJ2ZW5jb2RlX3RhZyI6Im9lcF9zZCJ9&_nc_ohc=1KzuKv4Tu9wAX-iA-yP&_nc_ht=scontent.fbog2-5.fna&oh=098a8dee0b60eec5dec8d721a8351035&oe=60CAD108', 'video_duration_seconds': None, 'video_height': None, 'video_id': '144610730929848', 'video_quality': None, 'video_size_MB': None, 'video_thumbnail': 'https://scontent.fbog2-5.fna.fbcdn.net/v/t15.13418-10/cp0/e15/q65/p173x172/172834862_143562004387184_5749500020349426189_n.jpg?_nc_cat=103&ccb=1-3&_nc_sid=ccf8b3&_nc_ohc=-M69ppMIB0wAX84qMcp&_nc_ht=scontent.fbog2-5.fna&tp=3&oh=19cdff2532e3b04fa5efdacaf5e0089a&oe=60CBC25B', 'video_watches': None, 'video_width': None, 'likes': 246, 'comments': 126, 'shares': 30, 'post_url': 'https://facebook.com/BancoDavivienda/posts/144610730929848', 'link': None, 'user_id': '500223733369340', 'username': 'Davivienda', 'user_url': 'https://facebook.com/BancoDavivienda/?__tn__=C-R', 'is_live': False, 'factcheck': None, 'shared_post_id': None, 'shared_time': None, 'shared_user_id': None, 'shared_username': None, 'shared_post_url': None, 'available': True, 'comments_full': None, 'reactors': None, 'w3_fb_url': None}\n",
      "{'post_id': '4015937475131264', 'text': 'En Experiencias Davivienda, la coach de vida María Villegas enseña las cuatro leyes bajo las que opera la mente: le ayudará a entender cómo dialogar adecuadamente con ella, cómo reprogramarla y ponerla a trabajar a su favor, volviéndola su mejor aliada para conseguir todo lo que se proponga, ya sea mejorar sus relaciones, emprender o crecer un negocio, fortalecer su cuerpo o mejorar su salud.\\n\\nCómo comunicarse efectivamente con su mente | Experiencias Davivienda', 'post_text': 'En Experiencias Davivienda, la coach de vida María Villegas enseña las cuatro leyes bajo las que opera la mente: le ayudará a entender cómo dialogar adecuadamente con ella, cómo reprogramarla y ponerla a trabajar a su favor, volviéndola su mejor aliada para conseguir todo lo que se proponga, ya sea mejorar sus relaciones, emprender o crecer un negocio, fortalecer su cuerpo o mejorar su salud.', 'shared_text': 'Cómo comunicarse efectivamente con su mente | Experiencias Davivienda', 'time': datetime.datetime(2021, 4, 15, 17, 48, 13), 'image': None, 'image_lowquality': None, 'images': [], 'images_description': [], 'images_lowquality': [], 'images_lowquality_description': [], 'video': None, 'video_duration_seconds': None, 'video_height': None, 'video_id': None, 'video_quality': None, 'video_size_MB': None, 'video_thumbnail': None, 'video_watches': None, 'video_width': None, 'likes': 12, 'comments': 2, 'shares': 0, 'post_url': 'https://facebook.com/BancoDavivienda/posts/4015937475131264', 'link': None, 'user_id': '500223733369340', 'username': 'Davivienda', 'user_url': 'https://facebook.com/BancoDavivienda/?__tn__=C-R', 'is_live': False, 'factcheck': None, 'shared_post_id': None, 'shared_time': None, 'shared_user_id': None, 'shared_username': None, 'shared_post_url': None, 'available': True, 'comments_full': None, 'reactors': None, 'w3_fb_url': None}\n"
     ]
    },
    {
     "name": "stdout",
     "output_type": "stream",
     "text": [
      "{'post_id': '733455040671536', 'text': 'WED, APR 14\\nEXPERIENCIAS DAVIVIENDA 14 - 16 ABRIL', 'post_text': '', 'shared_text': 'WED, APR 14\\nEXPERIENCIAS DAVIVIENDA 14 - 16 ABRIL', 'time': datetime.datetime(2021, 4, 12, 17, 14, 28), 'image': None, 'image_lowquality': 'https://external.fbog2-5.fna.fbcdn.net/safe_image.php?d=AQEJHjkK_oryfmuh&w=476&h=249&url=https%3A%2F%2Fscontent.fbog2-4.fna.fbcdn.net%2Fv%2Ft1.6435-0%2Fcp0%2Fe15%2Fq65%2Fc0.0.506.280a%2Fp280x280%2F170535403_4007422882649390_4196198345994072112_n.jpg%3Fccb%3D1-3%26_nc_ohc%3DHRXpJVzJPz0AX-7nFdh%26_nc_ht%3Dscontent.fbog2-4.fna%26tp%3D5%26oh%3Df4612561d63928bca735a96cbe875604%26oe%3D60CCAFDC&cfs=1&ccb=3-5&_nc_hash=AQHTxepOfZD5AdwV', 'images': [], 'images_description': [], 'images_lowquality': ['https://external.fbog2-5.fna.fbcdn.net/safe_image.php?d=AQEJHjkK_oryfmuh&w=476&h=249&url=https%3A%2F%2Fscontent.fbog2-4.fna.fbcdn.net%2Fv%2Ft1.6435-0%2Fcp0%2Fe15%2Fq65%2Fc0.0.506.280a%2Fp280x280%2F170535403_4007422882649390_4196198345994072112_n.jpg%3Fccb%3D1-3%26_nc_ohc%3DHRXpJVzJPz0AX-7nFdh%26_nc_ht%3Dscontent.fbog2-4.fna%26tp%3D5%26oh%3Df4612561d63928bca735a96cbe875604%26oe%3D60CCAFDC&cfs=1&ccb=3-5&_nc_hash=AQHTxepOfZD5AdwV', 'https://static.xx.fbcdn.net/rsrc.php/v3/y6/r/jAFf2Wb_FxZ.png'], 'images_lowquality_description': [None, None], 'video': None, 'video_duration_seconds': None, 'video_height': None, 'video_id': None, 'video_quality': None, 'video_size_MB': None, 'video_thumbnail': None, 'video_watches': None, 'video_width': None, 'likes': 37, 'comments': 2, 'shares': 0, 'post_url': 'https://facebook.com/BancoDavivienda/posts/733455040671536', 'link': None, 'user_id': '500223733369340', 'username': 'Davivienda', 'user_url': 'https://facebook.com/BancoDavivienda/?__tn__=C-R', 'is_live': False, 'factcheck': None, 'shared_post_id': None, 'shared_time': None, 'shared_user_id': None, 'shared_username': None, 'shared_post_url': None, 'available': True, 'comments_full': None, 'reactors': None, 'w3_fb_url': None}\n",
      "{'post_id': '4001247563266922', 'text': 'Después del anuncio hace 2 meses de la alianza entre Davivienda y el @metrodemedellin ¡La App Cívica ya es un hecho!\\nInvitamos a Érika Zapata, periodista muy paisa, para que nos ayudara a contarle cómo se vive el día con Cívica. 2 p.m.', 'post_text': 'Después del anuncio hace 2 meses de la alianza entre Davivienda y el @metrodemedellin ¡La App Cívica ya es un hecho!\\nInvitamos a Érika Zapata, periodista muy paisa, para que nos ayudara a contarle cómo se vive el día con Cívica. 2 p.m.', 'shared_text': '', 'time': datetime.datetime(2021, 4, 10, 14, 4, 45), 'image': None, 'image_lowquality': None, 'images': [], 'images_description': [], 'images_lowquality': [], 'images_lowquality_description': [None], 'video': 'https://video.fbog2-3.fna.fbcdn.net/v/t42.1790-2/169805466_292801845696918_3707639914607354775_n.mp4?_nc_cat=104&ccb=1-3&_nc_sid=985c63&efg=eyJ2ZW5jb2RlX3RhZyI6InN2ZV9zZCJ9&_nc_ohc=uuKA1LGz8YwAX8zQG1a&_nc_rml=0&_nc_ht=video.fbog2-3.fna&oh=e7058ad437039a73ab85b2ec933f3107&oe=60A59085', 'video_duration_seconds': 67, 'video_height': 1080, 'video_id': '1688073891380846', 'video_quality': '1080p', 'video_size_MB': 83.16792699999999, 'video_thumbnail': 'https://scontent.fbog2-4.fna.fbcdn.net/v/t15.5256-10/cp0/e15/q65/s320x320/168097644_1688074481380787_3307941828671145131_n.jpg?_nc_cat=111&ccb=1-3&_nc_sid=ccf8b3&_nc_ohc=qHuyKUQySQcAX9U6dVd&_nc_ht=scontent.fbog2-4.fna&tp=9&oh=6c6cfdbc9081ae9e92235356d5190457&oe=60CC3DAE', 'video_watches': 2842, 'video_width': 1920, 'likes': 34, 'comments': 10, 'shares': 0, 'post_url': 'https://facebook.com/BancoDavivienda/posts/4001247563266922', 'link': None, 'user_id': '500223733369340', 'username': 'Davivienda', 'user_url': 'https://facebook.com/BancoDavivienda/?__tn__=C-R', 'is_live': False, 'factcheck': None, 'shared_post_id': None, 'shared_time': None, 'shared_user_id': None, 'shared_username': None, 'shared_post_url': None, 'available': True, 'comments_full': None, 'reactors': None, 'w3_fb_url': None}\n",
      "{'post_id': '637343267221587', 'text': 'En Experiencias Davivienda acompañe al filósofo Fernando Galindo a conocer la vida y obra de Jane Austin, quien a través de sus novelas nos cuenta del ingenio, de las emociones, de las dificultades que han enfrentado muchas mujeres, de la condición humana en medio de la opresión, de la inteligencia y la sensibilidad, que terminan convirtiéndose en salvadores ante la incertidumbre.', 'post_text': 'En Experiencias Davivienda acompañe al filósofo Fernando Galindo a conocer la vida y obra de Jane Austin, quien a través de sus novelas nos cuenta del ingenio, de las emociones, de las dificultades que han enfrentado muchas mujeres, de la condición humana en medio de la opresión, de la inteligencia y la sensibilidad, que terminan convirtiéndose en salvadores ante la incertidumbre.', 'shared_text': '', 'time': datetime.datetime(2021, 4, 9, 18, 1, 12), 'image': None, 'image_lowquality': None, 'images': [], 'images_description': [], 'images_lowquality': [], 'images_lowquality_description': [None], 'video': 'https://scontent.fbog2-4.fna.fbcdn.net/v/t66.36281-6/10000000_492179211985366_6180482154139377457_n.mp4?_nc_cat=111&ccb=1-3&_nc_sid=985c63&efg=eyJ2ZW5jb2RlX3RhZyI6Im9lcF9zZCJ9&_nc_ohc=dsVhseTOBxEAX_UJ6pX&_nc_ht=scontent.fbog2-4.fna&oh=781ba3b74b66ec66cf7ad9aca868b28e&oe=60CBFFDA', 'video_duration_seconds': None, 'video_height': None, 'video_id': '637343267221587', 'video_quality': None, 'video_size_MB': None, 'video_thumbnail': 'https://scontent.fbog2-5.fna.fbcdn.net/v/t15.13418-10/cp0/e15/q65/p173x172/166718172_492009831829643_6929555732146644764_n.jpg?_nc_cat=109&ccb=1-3&_nc_sid=ccf8b3&_nc_ohc=wlVsAfV6428AX9mBtoy&_nc_oc=AQlNcBLXaWBpYaGfuLjkhqcw-4SRnrqWA8aKxIhfpwbIYa7xNEXNNaVlJvNQqzuu9Hk&_nc_ht=scontent.fbog2-5.fna&tp=3&oh=ec1bc332b7a1a9bc4e750fe9ab6a5dd4&oe=60CC7ABA', 'video_watches': None, 'video_width': None, 'likes': 205, 'comments': 86, 'shares': 32, 'post_url': 'https://facebook.com/BancoDavivienda/posts/637343267221587', 'link': None, 'user_id': '500223733369340', 'username': 'Davivienda', 'user_url': 'https://facebook.com/BancoDavivienda/?__tn__=C-R', 'is_live': False, 'factcheck': None, 'shared_post_id': None, 'shared_time': None, 'shared_user_id': None, 'shared_username': None, 'shared_post_url': None, 'available': True, 'comments_full': None, 'reactors': None, 'w3_fb_url': None}\n",
      "{'post_id': '3998745223517156', 'text': 'Mijo, vea este video. Si tiene sospechas de un fraude, llame usted mismo al banco! Conozca más consejos en:\\n\\nwww.latiasegura.davivienda.com\\n\\nCOMUNICACIONES.DAVIVIENDA.COM\\nDavivienda S.A.', 'post_text': 'Mijo, vea este video. Si tiene sospechas de un fraude, llame usted mismo al banco! Conozca más consejos en:\\n\\nwww.latiasegura.davivienda.com', 'shared_text': 'COMUNICACIONES.DAVIVIENDA.COM\\nDavivienda S.A.', 'time': datetime.datetime(2021, 4, 9, 17, 58, 46), 'image': None, 'image_lowquality': None, 'images': [], 'images_description': [], 'images_lowquality': [], 'images_lowquality_description': [None], 'video': 'https://scontent.fbog2-4.fna.fbcdn.net/v/t42.1790-4/172236622_132237785576682_325751801157268417_n.mp4?_nc_cat=100&ccb=1-3&_nc_sid=985c63&efg=eyJ2ZW5jb2RlX3RhZyI6InN2ZV9zZCJ9&_nc_ohc=paW1y0VJvEMAX_GxSVe&_nc_oc=AQkyfEOe7_21njjUZnA6KhkLWndnAVcGOOTvSUTWcJiCPaRENV75amyJarcP-zWmHJM&_nc_ht=scontent.fbog2-4.fna&oh=574330da3c1d5e637776da2f1fae7560&oe=60A5922A', 'video_duration_seconds': 62, 'video_height': 1080, 'video_id': '4023642944390624', 'video_quality': '1080p', 'video_size_MB': 31.181174, 'video_thumbnail': 'https://scontent.fbog2-5.fna.fbcdn.net/v/t15.5256-10/cp0/e15/q65/p320x320/167900539_4023644547723797_1932077248244272585_n.jpg?_nc_cat=103&ccb=1-3&_nc_sid=ccf8b3&_nc_ohc=XdIoz4gkRw0AX89-aEa&_nc_ht=scontent.fbog2-5.fna&tp=3&oh=a4000baa7f9f72fa11cababdb1173ffd&oe=60CAAC29', 'video_watches': 2049289, 'video_width': 1080, 'likes': 214, 'comments': 430, 'shares': 0, 'post_url': 'https://facebook.com/BancoDavivienda/posts/3998745223517156', 'link': 'http://www.latiasegura.davivienda.com/', 'user_id': '500223733369340', 'username': 'Davivienda', 'user_url': 'https://facebook.com/BancoDavivienda/?__tn__=C-R', 'is_live': False, 'factcheck': None, 'shared_post_id': None, 'shared_time': None, 'shared_user_id': None, 'shared_username': None, 'shared_post_url': None, 'available': True, 'comments_full': None, 'reactors': None, 'w3_fb_url': None}\n"
     ]
    },
    {
     "name": "stdout",
     "output_type": "stream",
     "text": [
      "{'post_id': '3998720113519667', 'text': 'En Experiencias Davivienda acompañe al filósofo Fernando Galindo a conocer la vida y obra de Jane Austin, quien a través de sus novelas nos cuenta del ingenio, de las emociones, de las dificultades que han enfrentado muchas mujeres, de la condición humana en medio de la opresión, de la inteligencia y la sensibilidad, que terminan convirtiéndose en salvadores ante la incertidumbre.\\n\\nOrgullo y prejuicio de Jane Austen | Experiencias Davivienda', 'post_text': 'En Experiencias Davivienda acompañe al filósofo Fernando Galindo a conocer la vida y obra de Jane Austin, quien a través de sus novelas nos cuenta del ingenio, de las emociones, de las dificultades que han enfrentado muchas mujeres, de la condición humana en medio de la opresión, de la inteligencia y la sensibilidad, que terminan convirtiéndose en salvadores ante la incertidumbre.', 'shared_text': 'Orgullo y prejuicio de Jane Austen | Experiencias Davivienda', 'time': datetime.datetime(2021, 4, 9, 17, 45, 17), 'image': None, 'image_lowquality': None, 'images': [], 'images_description': [], 'images_lowquality': [], 'images_lowquality_description': [], 'video': None, 'video_duration_seconds': None, 'video_height': None, 'video_id': None, 'video_quality': None, 'video_size_MB': None, 'video_thumbnail': None, 'video_watches': None, 'video_width': None, 'likes': 12, 'comments': 4, 'shares': 0, 'post_url': 'https://facebook.com/BancoDavivienda/posts/3998720113519667', 'link': 'https://www.pulzo.com/economia/davivienda-responde-clienta-que-denuncia-que-desocuparon-su-cuenta-ahorros-PP1044378', 'user_id': '500223733369340', 'username': 'Davivienda', 'user_url': 'https://facebook.com/BancoDavivienda/?__tn__=C-R', 'is_live': False, 'factcheck': None, 'shared_post_id': None, 'shared_time': None, 'shared_user_id': None, 'shared_username': None, 'shared_post_url': None, 'available': True, 'comments_full': None, 'reactors': None, 'w3_fb_url': None}\n",
      "{'post_id': '948123802663744', 'text': '#JuevesConDaviviendaCorredores. Vacunación, reactivación económica y reformas ¡Llegó el momento! con la participación del ex Ministro de Hacienda, Mauricio Cárdenas y Germán Cristancho, Gerente de Investigaciones Económicas en Davivienda Corredores , los principales temas del día: Regla fiscal y el ajuste para próximos años, la vacunación en Colombia y el mundo, la reactivación económica.\\n\\nSíganos en nuestras redes sociales para conocer más sobre nuestras charlas y productos. Si desea más información sobre cómo comenzar a invertir con Davivienda Corredores comuníquese con nosotros en Bogotá al 3123300 Opción 3 o ingrese a www.daviviendacorredores.com.', 'post_text': '#JuevesConDaviviendaCorredores. Vacunación, reactivación económica y reformas ¡Llegó el momento! con la participación del ex Ministro de Hacienda, Mauricio Cárdenas y Germán Cristancho, Gerente de Investigaciones Económicas en Davivienda Corredores , los principales temas del día: Regla fiscal y el ajuste para próximos años, la vacunación en Colombia y el mundo, la reactivación económica.\\n\\nSíganos en nuestras redes sociales para conocer más sobre nuestras charlas y productos. Si desea más información sobre cómo comenzar a invertir con Davivienda Corredores comuníquese con nosotros en Bogotá al 3123300 Opción 3 o ingrese a www.daviviendacorredores.com.', 'shared_text': '', 'time': datetime.datetime(2021, 4, 8, 16, 0, 10), 'image': None, 'image_lowquality': None, 'images': [], 'images_description': [], 'images_lowquality': [], 'images_lowquality_description': [None], 'video': 'https://scontent.fbog2-3.fna.fbcdn.net/v/t66.36281-6/10000000_808176490121956_2970819794145094656_n.mp4?_nc_cat=104&ccb=1-3&_nc_sid=985c63&efg=eyJ2ZW5jb2RlX3RhZyI6Im9lcF9zZCJ9&_nc_ohc=r1hX6207XLYAX8uHOZZ&_nc_ht=scontent.fbog2-3.fna&oh=06cdb92b7fbf571eb613f111e7235e00&oe=60CA4A68', 'video_duration_seconds': None, 'video_height': None, 'video_id': '948123802663744', 'video_quality': None, 'video_size_MB': None, 'video_thumbnail': 'https://scontent.fbog2-4.fna.fbcdn.net/v/t15.13418-10/cp0/e15/q65/p173x172/169185755_200282118254017_6171449169774387980_n.jpg?_nc_cat=111&ccb=1-3&_nc_sid=ccf8b3&_nc_ohc=Tlk797feo4gAX-CczVo&_nc_ht=scontent.fbog2-4.fna&tp=3&oh=621b3184e33108425254ba1526444922&oe=60CBD7C4', 'video_watches': None, 'video_width': None, 'likes': 52, 'comments': 41, 'shares': 1, 'post_url': 'https://facebook.com/BancoDavivienda/posts/948123802663744', 'link': 'http://www.daviviendacorredores.com/', 'user_id': '500223733369340', 'username': 'Davivienda', 'user_url': 'https://facebook.com/BancoDavivienda/?__tn__=C-R', 'is_live': False, 'factcheck': None, 'shared_post_id': None, 'shared_time': None, 'shared_user_id': None, 'shared_username': None, 'shared_post_url': None, 'available': True, 'comments_full': None, 'reactors': None, 'w3_fb_url': None}\n",
      "{'post_id': '3995381123853566', 'text': '#JuevesConDaviviendaCorredores. Vacunación, reactivación económica y reformas ¡Llegó el momento! con la participación del ex Ministro de Hacienda, Mauricio Cárdenas y Germán Cristancho, Gerente de Investigaciones Económicas en Davivienda Corredores , los principales temas del día: Regla fiscal y el ajuste para próximos años, la vacunación en Colombia y el mundo, la reactivación económica.\\n\\nSíganos en nuestras redes sociales para conocer más sobre nuestras charlas y productos. Si desea más información sobre cómo comenzar a invertir con Davivienda Corredores comuníquese con nosotros en Bogotá al 3123300 Opción 3 o ingrese a www.daviviendacorredores.com.\\n\\nVacunación, Reactivación Económica y Reformas ¡Llegó el momento!', 'post_text': '#JuevesConDaviviendaCorredores. Vacunación, reactivación económica y reformas ¡Llegó el momento! con la participación del ex Ministro de Hacienda, Mauricio Cárdenas y Germán Cristancho, Gerente de Investigaciones Económicas en Davivienda Corredores , los principales temas del día: Regla fiscal y el ajuste para próximos años, la vacunación en Colombia y el mundo, la reactivación económica.\\n\\nSíganos en nuestras redes sociales para conocer más sobre nuestras charlas y productos. Si desea más información sobre cómo comenzar a invertir con Davivienda Corredores comuníquese con nosotros en Bogotá al 3123300 Opción 3 o ingrese a www.daviviendacorredores.com.', 'shared_text': 'Vacunación, Reactivación Económica y Reformas ¡Llegó el momento!', 'time': datetime.datetime(2021, 4, 8, 15, 41, 24), 'image': None, 'image_lowquality': None, 'images': [], 'images_description': [], 'images_lowquality': [], 'images_lowquality_description': [], 'video': None, 'video_duration_seconds': None, 'video_height': None, 'video_id': None, 'video_quality': None, 'video_size_MB': None, 'video_thumbnail': None, 'video_watches': None, 'video_width': None, 'likes': 29, 'comments': 3, 'shares': 0, 'post_url': 'https://facebook.com/BancoDavivienda/posts/3995381123853566', 'link': 'http://www.daviviendacorredores.com/', 'user_id': '500223733369340', 'username': 'Davivienda', 'user_url': 'https://facebook.com/BancoDavivienda/?__tn__=C-R', 'is_live': False, 'factcheck': None, 'shared_post_id': None, 'shared_time': None, 'shared_user_id': None, 'shared_username': None, 'shared_post_url': None, 'available': True, 'comments_full': None, 'reactors': None, 'w3_fb_url': None}\n",
      "{'post_id': '779115113014774', 'text': \"SUSCRÍBETE A NUESTRO CANAL: http://bit.ly/BancoDaviviendaYT\\n\\nAcerca de Davivienda\\nDurante 4 décadas hemos participado activamente en la construcción de Colombia y nos hemos convertido en un referente importante en el sector financiero del país. Hacemos parte del Grupo Empresarial Bolívar, que por más de 75 años ha acompañado a las personas, a las familias y a las empresas en el cumplimiento de sus objetivos.\\nSomos reconocidos por el manejo único de nuestra imagen a través de la comunicación convirtiéndonos en una de las 5 marcas más valiosas y el primer banco en recordación publicitaria de Colombia.\\nNuestro portafolio integral de productos y servicios atiende las necesidades de personas, empresas, sector rural, minería y energía, con innovación constante y ofertas exclusivas para cada segmento.\\nSomos el banco exclusivo en Colombia para el manejo de las tarjetas Diners.\\nContamos con un equipo de más de 17.000 personas para servir a más de 10 millones de clientes a través de 725 oficinas, y contamos con alrededor de 2.600 ATM'S a nivel regional.\\nAdemás de Colombia, tenemos operaciones en Panamá, Costa Rica, Honduras, El Salvador y Miami, en los Estados Unidos.\\n\\nConectese con Davivienda:\\nVisite nuestra página web: https://www.davivienda.com\\nSíganos en Twitter: http://bit.ly/2HUZqkR\\nVisite nuestra página de Facebook: http://bit.ly/2Iqoyjr\\nSíganos en Instagram: http://bit.ly/2P1SrYQ\\nVisítenos en LinkedIn\\nLinkeInd: http://bit.ly/2P20RPX\\n\\nVolver a crecer | Banco Davivienda Colombia\\nhttps://www.youtube.com/watch?v=FWqiXNxIWVA\", 'post_text': \"SUSCRÍBETE A NUESTRO CANAL: http://bit.ly/BancoDaviviendaYT\\n\\nAcerca de Davivienda\\nDurante 4 décadas hemos participado activamente en la construcción de Colombia y nos hemos convertido en un referente importante en el sector financiero del país. Hacemos parte del Grupo Empresarial Bolívar, que por más de 75 años ha acompañado a las personas, a las familias y a las empresas en el cumplimiento de sus objetivos.\\nSomos reconocidos por el manejo único de nuestra imagen a través de la comunicación convirtiéndonos en una de las 5 marcas más valiosas y el primer banco en recordación publicitaria de Colombia.\\nNuestro portafolio integral de productos y servicios atiende las necesidades de personas, empresas, sector rural, minería y energía, con innovación constante y ofertas exclusivas para cada segmento.\\nSomos el banco exclusivo en Colombia para el manejo de las tarjetas Diners.\\nContamos con un equipo de más de 17.000 personas para servir a más de 10 millones de clientes a través de 725 oficinas, y contamos con alrededor de 2.600 ATM'S a nivel regional.\\nAdemás de Colombia, tenemos operaciones en Panamá, Costa Rica, Honduras, El Salvador y Miami, en los Estados Unidos.\\n\\nConectese con Davivienda:\\nVisite nuestra página web: https://www.davivienda.com\\nSíganos en Twitter: http://bit.ly/2HUZqkR\\nVisite nuestra página de Facebook: http://bit.ly/2Iqoyjr\\nSíganos en Instagram: http://bit.ly/2P1SrYQ\\nVisítenos en LinkedIn\\nLinkeInd: http://bit.ly/2P20RPX\\n\\nVolver a crecer | Banco Davivienda Colombia\\nhttps://www.youtube.com/watch?v=FWqiXNxIWVA\", 'shared_text': '', 'time': datetime.datetime(2021, 4, 7, 16, 2, 32), 'image': None, 'image_lowquality': None, 'images': [], 'images_description': [], 'images_lowquality': [], 'images_lowquality_description': [None], 'video': 'https://scontent.fbog2-5.fna.fbcdn.net/v/t66.36281-6/10000000_140503528056240_7764390915250353995_n.mp4?_nc_cat=109&ccb=1-3&_nc_sid=985c63&efg=eyJ2ZW5jb2RlX3RhZyI6Im9lcF9zZCJ9&_nc_ohc=4JmZSdHQjdIAX-0T__s&_nc_ht=scontent.fbog2-5.fna&oh=762d44a16c4eedcc3a93a3475140cd95&oe=60CBA1E2', 'video_duration_seconds': None, 'video_height': None, 'video_id': '779115113014774', 'video_quality': None, 'video_size_MB': None, 'video_thumbnail': 'https://scontent.fbog2-4.fna.fbcdn.net/v/t15.13418-10/cp0/e15/q65/p173x172/169709869_833486167244744_2009161049470736730_n.jpg?_nc_cat=100&ccb=1-3&_nc_sid=ccf8b3&_nc_ohc=aJARHZ1kEgwAX-dWJn_&_nc_ht=scontent.fbog2-4.fna&tp=3&oh=7a029c6d8da1fbac08b3bbb022adf753&oe=60C939D1', 'video_watches': None, 'video_width': None, 'likes': 48, 'comments': 37, 'shares': 1, 'post_url': 'https://facebook.com/BancoDavivienda/posts/779115113014774', 'link': 'https://bit.ly/BancoDaviviendaYT\\u200b', 'user_id': '500223733369340', 'username': 'Davivienda', 'user_url': 'https://facebook.com/BancoDavivienda/?__tn__=C-R', 'is_live': False, 'factcheck': None, 'shared_post_id': None, 'shared_time': None, 'shared_user_id': None, 'shared_username': None, 'shared_post_url': None, 'available': True, 'comments_full': None, 'reactors': None, 'w3_fb_url': None}\n"
     ]
    },
    {
     "name": "stdout",
     "output_type": "stream",
     "text": [
      "{'post_id': '3992373767487635', 'text': \"SUSCRÍBETE A NUESTRO CANAL: http://bit.ly/BancoDaviviendaYT\\n\\nAcerca de Davivienda\\nDurante 4 décadas hemos participado activamente en la construcción de Colombia y nos hemos convertido en un referente importante en el sector financiero del país. Hacemos parte del Grupo Empresarial Bolívar, que por más de 75 años ha acompañado a las personas, a las familias y a las empresas en el cumplimiento de sus objetivos.\\nSomos reconocidos por el manejo único de nuestra imagen a través de la comunicación convirtiéndonos en una de las 5 marcas más valiosas y el primer banco en recordación publicitaria de Colombia.\\nNuestro portafolio integral de productos y servicios atiende las necesidades de personas, empresas, sector rural, minería y energía, con innovación constante y ofertas exclusivas para cada segmento.\\nSomos el banco exclusivo en Colombia para el manejo de las tarjetas Diners.\\nContamos con un equipo de más de 17.000 personas para servir a más de 10 millones de clientes a través de 725 oficinas, y contamos con alrededor de 2.600 ATM'S a nivel regional.\\nAdemás de Colombia, tenemos operaciones en Panamá, Costa Rica, Honduras, El Salvador y Miami, en los Estados Unidos.\\n\\nConectese con Davivienda:\\nVisite nuestra página web: https://www.davivienda.com\\nSíganos en Twitter: http://bit.ly/2HUZqkR\\nVisite nuestra página de Facebook: http://bit.ly/2Iqoyjr\\nSíganos en Instagram: http://bit.ly/2P1SrYQ\\nVisítenos en LinkedIn\\nLinkeInd: http://bit.ly/2P20RPX\\n\\nVolver a crecer | Banco Davivienda Colombia\\nhttps://www.youtube.com/watch?v=FWqiXNxIWVA\\n\\nVolver a crecer\", 'post_text': \"SUSCRÍBETE A NUESTRO CANAL: http://bit.ly/BancoDaviviendaYT\\n\\nAcerca de Davivienda\\nDurante 4 décadas hemos participado activamente en la construcción de Colombia y nos hemos convertido en un referente importante en el sector financiero del país. Hacemos parte del Grupo Empresarial Bolívar, que por más de 75 años ha acompañado a las personas, a las familias y a las empresas en el cumplimiento de sus objetivos.\\nSomos reconocidos por el manejo único de nuestra imagen a través de la comunicación convirtiéndonos en una de las 5 marcas más valiosas y el primer banco en recordación publicitaria de Colombia.\\nNuestro portafolio integral de productos y servicios atiende las necesidades de personas, empresas, sector rural, minería y energía, con innovación constante y ofertas exclusivas para cada segmento.\\nSomos el banco exclusivo en Colombia para el manejo de las tarjetas Diners.\\nContamos con un equipo de más de 17.000 personas para servir a más de 10 millones de clientes a través de 725 oficinas, y contamos con alrededor de 2.600 ATM'S a nivel regional.\\nAdemás de Colombia, tenemos operaciones en Panamá, Costa Rica, Honduras, El Salvador y Miami, en los Estados Unidos.\\n\\nConectese con Davivienda:\\nVisite nuestra página web: https://www.davivienda.com\\nSíganos en Twitter: http://bit.ly/2HUZqkR\\nVisite nuestra página de Facebook: http://bit.ly/2Iqoyjr\\nSíganos en Instagram: http://bit.ly/2P1SrYQ\\nVisítenos en LinkedIn\\nLinkeInd: http://bit.ly/2P20RPX\\n\\nVolver a crecer | Banco Davivienda Colombia\\nhttps://www.youtube.com/watch?v=FWqiXNxIWVA\", 'shared_text': 'Volver a crecer', 'time': datetime.datetime(2021, 4, 7, 15, 43, 30), 'image': None, 'image_lowquality': None, 'images': [], 'images_description': [], 'images_lowquality': [], 'images_lowquality_description': [], 'video': None, 'video_duration_seconds': None, 'video_height': None, 'video_id': None, 'video_quality': None, 'video_size_MB': None, 'video_thumbnail': None, 'video_watches': None, 'video_width': None, 'likes': 17, 'comments': 10, 'shares': 0, 'post_url': 'https://facebook.com/BancoDavivienda/posts/3992373767487635', 'link': 'https://bit.ly/BancoDaviviendaYT\\u200b', 'user_id': '500223733369340', 'username': 'Davivienda', 'user_url': 'https://facebook.com/BancoDavivienda/?__tn__=C-R', 'is_live': False, 'factcheck': None, 'shared_post_id': None, 'shared_time': None, 'shared_user_id': None, 'shared_username': None, 'shared_post_url': None, 'available': True, 'comments_full': None, 'reactors': None, 'w3_fb_url': None}\n",
      "{'post_id': '3980117475379931', 'text': 'Sabemos que ponerse el tapabocas no es lo más cómodo del mundo, pero haciéndolo puedes salvar tu vida y la de los demás. Hoy te invitamos a que antes de cualquier cosa que hagas en Semana Santa, te pongas el tapabocas y pidas el tapabocas a quienes estén contigo. A tu familia, a tus amigos o a quien sea. Además lávate las manos, mantén el distanciamiento de al menos 2 metros, pasa el tiempo en espacios ventilados y dile SÍ a la vacuna. #INCOMÓDATE\\n\\n#GrupoÉxito #SURA #Bancolombia #Falabella #Chevrolet #JuanValdez #Sanofi #AlianzaTeam #Postobon #Terpel #Technoquimicas #CocaCola #Bavaria #Alpina #GrupoFamilia #Homecenter #Nutresa', 'post_text': 'Sabemos que ponerse el tapabocas no es lo más cómodo del mundo, pero haciéndolo puedes salvar tu vida y la de los demás. Hoy te invitamos a que antes de cualquier cosa que hagas en Semana Santa, te pongas el tapabocas y pidas el tapabocas a quienes estén contigo. A tu familia, a tus amigos o a quien sea. Además lávate las manos, mantén el distanciamiento de al menos 2 metros, pasa el tiempo en espacios ventilados y dile SÍ a la vacuna. #INCOMÓDATE\\n\\n#GrupoÉxito #SURA #Bancolombia #Falabella #Chevrolet #JuanValdez #Sanofi #AlianzaTeam #Postobon #Terpel #Technoquimicas #CocaCola #Bavaria #Alpina #GrupoFamilia #Homecenter #Nutresa', 'shared_text': '', 'time': datetime.datetime(2021, 4, 3, 11, 1, 15), 'image': 'https://scontent.fbog2-4.fna.fbcdn.net/v/t1.6435-9/fr/cp0/e15/q65/169087173_3980117485379930_5553078569144283660_n.jpg?_nc_cat=107&ccb=1-3&_nc_sid=2d5d41&_nc_ohc=aJc42OhfIRcAX9o9jkR&_nc_ht=scontent.fbog2-4.fna&tp=14&oh=5d8323ee914820f4ad93a81aaeeb2b3d&oe=60CB4080', 'image_lowquality': 'https://scontent.fbog2-4.fna.fbcdn.net/v/t1.6435-0/cp0/e15/q65/p320x320/169087173_3980117485379930_5553078569144283660_n.jpg?_nc_cat=107&ccb=1-3&_nc_sid=2d5d41&_nc_ohc=aJc42OhfIRcAX9o9jkR&_nc_ht=scontent.fbog2-4.fna&tp=3&oh=6e83604992e4041e929ce53205628199&oe=60CC65BC', 'images': ['https://scontent.fbog2-4.fna.fbcdn.net/v/t1.6435-9/fr/cp0/e15/q65/169087173_3980117485379930_5553078569144283660_n.jpg?_nc_cat=107&ccb=1-3&_nc_sid=2d5d41&_nc_ohc=aJc42OhfIRcAX9o9jkR&_nc_ht=scontent.fbog2-4.fna&tp=14&oh=5d8323ee914820f4ad93a81aaeeb2b3d&oe=60CB4080'], 'images_description': [\"May be an image of 1 person and text that says '#INCOMÓDATE PONTE EL TAPABOCAS. PIDE EL TAPABOCAS. TU VIDA YLADELOSDE DEMÁS. PUEDES SALVAR M 3 POYA'\"], 'images_lowquality': ['https://scontent.fbog2-4.fna.fbcdn.net/v/t1.6435-0/cp0/e15/q65/p320x320/169087173_3980117485379930_5553078569144283660_n.jpg?_nc_cat=107&ccb=1-3&_nc_sid=2d5d41&_nc_ohc=aJc42OhfIRcAX9o9jkR&_nc_ht=scontent.fbog2-4.fna&tp=3&oh=6e83604992e4041e929ce53205628199&oe=60CC65BC'], 'images_lowquality_description': [\"May be an image of 1 person and text that says '#INCOMÓDATE PONTE EL TAPABOCAS. PIDE EL TAPABOCAS. TU VIDA YLADELOSDE DEMÁS. PUEDES SALVAR M 3 POYA'\"], 'video': None, 'video_duration_seconds': None, 'video_height': None, 'video_id': None, 'video_quality': None, 'video_size_MB': None, 'video_thumbnail': None, 'video_watches': None, 'video_width': None, 'likes': 172, 'comments': 36, 'shares': 0, 'post_url': 'https://facebook.com/BancoDavivienda/posts/3980117475379931', 'link': None, 'user_id': '500223733369340', 'username': 'Davivienda', 'user_url': 'https://facebook.com/BancoDavivienda/?__tn__=C-R', 'is_live': False, 'factcheck': None, 'shared_post_id': None, 'shared_time': None, 'shared_user_id': None, 'shared_username': None, 'shared_post_url': None, 'available': True, 'comments_full': None, 'reactors': None, 'w3_fb_url': None}\n"
     ]
    }
   ],
   "source": [
    "for post in get_posts('BancoDavivienda', pages=20):\n",
    "    print(post)"
   ]
  },
  {
   "cell_type": "code",
   "execution_count": 4,
   "metadata": {},
   "outputs": [
    {
     "name": "stdout",
     "output_type": "stream",
     "text": [
      "2021-05-19 11:08:00\n",
      "Conozca más sobre Registro de Marca. Construimos una alianza con la firma Muñoz Abogados, expertos en el cuidado de su activo más valioso, su marca, y acompañarlo en su registro ante la Superintendencia de Industria y Comercio de Colombia. Conozca los beneficios de esta alianza en http://bit.ly/Pymas\n",
      "2\n",
      "2021-05-19 11:00:01\n",
      "Conozca más sobre Registro de Marca. Construimos una alianza con la firma Muñoz Abogados, expertos en el cuidado de su activo más valioso, su marca, y acompañarlo en su registro ante la Superintendencia de Industria y Comercio de Colombia. Conozca los beneficios de esta alianza en http://bit.ly/Pymas\n",
      "4\n",
      "2021-05-19 09:07:00\n",
      "En esta experiencia el filósofo Fernando Galindo G nos contará sobre Oscar Wilde y su historia llena de éxitos e infortunios. Conozca más en www.experienciasdavivienda.com\n",
      "22\n",
      "2021-05-18 16:02:08\n",
      "Creemos firmemente que lo bueno se multiplica, creemos en la adopción de hábitos sostenibles que aportan al medio ambiente, la vida y la salud de las personas; por eso los promovemos en nuestros funcionarios, clientes y proveedores.\n",
      "33\n",
      "2021-05-18 11:04:58\n",
      "Lo invitamos a conocer a Harold y Paula, vendedores por catálogo que nos cuentan cómo DaviPlata les ha hecho la vida más fácil.\n",
      "Conozca su historia del Nuevo Mundo aquí: http://bit.ly/3jz9TTO\n",
      "17\n",
      "2021-05-18 08:44:57\n",
      "En esta experiencia junto a Liliana Garavito de Organiza Todo descubriremos cómo mantener nuestro clóset organizado y tener nuestra ropa siempre a la vista. Conozca más en www.experienciasdavivienda.com\n",
      "18\n",
      "2021-05-14 19:19:56\n",
      "WED, MAY 19 - MAY 21\n",
      "EXPERIENCIAS DAVIVIENDA 19- 21 MAYO\n",
      "23\n",
      "2021-05-14 18:00:39\n",
      "Con Poe se descubre delante nuestro la riqueza de una historia contada en pocas páginas, ya sea el retrato del primer detective de la literatura o el ambiente macabro y terrorífico de algunas de sus narraciones. En Experiencias Davivienda descubra junto al filósofo Fernando Galindo por qué este autor estadounidense es una pieza clave en la literatura contemporánea.\n",
      "207\n",
      "2021-05-14 17:45:38\n",
      "Con Poe se descubre delante nuestro la riqueza de una historia contada en pocas páginas, ya sea el retrato del primer detective de la literatura o el ambiente macabro y terrorífico de algunas de sus narraciones. En Experiencias Davivienda descubra junto al filósofo Fernando Galindo por qué este autor estadounidense es una pieza clave en la literatura contemporánea.\n",
      "\n",
      "Los cuentos de Edgar Allan Poe | Experiencias Davivienda\n",
      "9\n",
      "2021-05-14 15:59:09\n",
      "Estamos orgullosos por los dos grandes reconocimientos que hace Fintech Americas Awards a DaviPlata y a su CEO Margarita Henao, como mejor Innovación Disruptiva en Servicios Financieros.\n",
      "183\n",
      "2021-05-14 14:46:08\n",
      "Conozca más sobre Registro de Marca. Construimos una alianza con la firma Muñoz Abogados, expertos en el cuidado de su activo más valioso, su marca, y acompañarlo en su registro ante la Superintendencia de Industria y Comercio de Colombia. Conozca los beneficios de esta alianza en http://bit.ly/Pymas\n",
      "16\n",
      "2021-05-13 18:01:03\n",
      "El desorden, la mayoría de las veces, es exceso de cosas, de cosas que no usamos. ¿Qué nos lleva a acumular tanto? En Experiencias Davivienda, junto a la organizadora profesional de espacios Liliana Garavito, aprenda las razones por las cuales nos aferramos a las cosas materiales y cómo aprender a decirle adiós a lo que no nos sirve o no usamos y nos está estorbando y generando desorden.\n",
      "231\n",
      "2021-05-13 17:46:09\n",
      "El desorden, la mayoría de las veces, es exceso de cosas, de cosas que no usamos. ¿Qué nos lleva a acumular tanto? En Experiencias Davivienda, junto a la organizadora profesional de espacios Liliana Garavito, aprenda las razones por las cuales nos aferramos a las cosas materiales y cómo aprender a decirle adiós a lo que no nos sirve o no usamos y nos está estorbando y generando desorden.\n",
      "\n",
      "Aprender a soltar organizando sus espacios | Experiencias Davivienda\n",
      "19\n",
      "2021-05-13 15:03:23\n",
      "Conozca más sobre el impacto de la Movilidad Eléctrica y Sostenible en Colombia: http://bit.ly/MovSostenibleBlog\n",
      "Estamos convencidos que cuando impulsamos la sostenibilidad en las ciudades, lo Bueno Se Multiplica.\n",
      "8\n",
      "2021-05-12 18:00:30\n",
      "En Experiencias Davivienda disfrute, junto a la panameña Gabriella Luchsinger, de una clase de vinyasa yoga donde la cadera es la protagonista. En esta sesión puede fortalecer los músculos estabilizadores de las caderas, practicar posturas de equilibrio sobre un pie y estirar y relajar las caderas progresivamente. Traiga su mat, una toalla grande o de playa y uno o dos bloques si los tiene a mano.\n",
      "112\n",
      "2021-05-12 17:45:49\n",
      "En Experiencias Davivienda disfrute, junto a la panameña Gabriella Luchsinger, de una clase de vinyasa yoga donde la cadera es la protagonista. En esta sesión puede fortalecer los músculos estabilizadores de las caderas, practicar posturas de equilibrio sobre un pie y estirar y relajar las caderas progresivamente. Traiga su mat, una toalla grande o de playa y uno o dos bloques si los tiene a mano.\n",
      "\n",
      "Movilidad y estabilidad de caderas | Experiencias Davivienda\n",
      "15\n",
      "2021-05-12 12:31:09\n",
      "⚠️ Mijo, las claves no se le dan a nadie! Conozca más consejos en: www.latiasegura.davivienda.com\n",
      "57\n",
      "2021-05-12 09:00:01\n",
      "En esta experiencia el filósofo Fernando Galindo G nos contará sobre los cuentos de Edgar Allan Poe y su estilo sombrío característico. Conozca más en www.experienciasdavivienda.com\n",
      "35\n",
      "2021-05-11 11:03:30\n",
      "La tiendas y restaurantes también hacen parte de las Historias del Nuevo Mundo gracias a DaviPlata. Conozca a Juan Supelano y su historia aquí http://bit.ly/NuevoMundoJuan\n",
      "27\n",
      "2021-05-11 09:00:02\n",
      "En esta experiencia junto a Liliana Garavito descubriremos cómo aprender a soltar y organizar mejor nuestros espacios. Conozca más en www.experienciasdavivienda.com\n",
      "48\n",
      "2021-05-10 18:12:17\n",
      "En esta experiencia liderada por Gabriella Luchsinger colaboradora en Yoga International aprenderemos ejercicios para mejorar la estabilidad de las caderas y el equilibrio. Conozca más en www.experienciasdavivienda.com\n",
      "13\n",
      "2021-05-10 18:08:15\n",
      "WED, MAY 12\n",
      "EXPERIENCIAS DAVIVIENDA 12 - 14 MAYO\n",
      "23\n",
      "2021-05-06 18:00:44\n",
      "En Experiencias Davivienda, la coach de vida y autora María Villegas le muestra qué hacer para eliminar las creencias de escasez y cómo hacer para vibrar en una frecuencia energética más alta y así atraer la atracción a las distintas áreas de su vida.\n",
      "130\n",
      "2021-05-06 17:45:58\n",
      "En Experiencias Davivienda, la coach de vida y autora María Villegas le muestra qué hacer para eliminar las creencias de escasez y cómo hacer para vibrar en una frecuencia energética más alta y así atraer la atracción a las distintas áreas de su vida.\n",
      "\n",
      "Cómo cultivar una mentalidad de atracción | Experiencias Davivienda\n",
      "11\n",
      "2021-05-06 16:00:40\n",
      "#JuevesConDaviviendaCorredores Blockchain y criptomonedas en Colombia con la participación de Jorge Castaño; Superintendente financiero, Bryan Benson; Managing Director Binance LatAm, Maritza Pérez; Vicepresidenta ejecutiva Banca Personal - Mercadeo en Banco Davivienda y Germán Cristancho; Gerente de Investigaciones Económicas en Davivienda Corredores , los principales temas del día: El papel de la tecnología Blockchain, el Rol de la Superintendencia Financiera y el Sandbox regulatorio en Colombia, las Iniciativas en la región en criptomonedas y el Binance a nivel nacional y regional.\n",
      "\n",
      "Síganos en nuestras redes sociales para conocer más sobre nuestras charlas y productos. Si desea más información sobre cómo comenzar a invertir con Davivienda Corredores comuníquese con nosotros en Bogotá al 3123300 Opción 3 o ingrese a www.daviviendacorredores.com.\n",
      "81\n",
      "2021-05-06 15:12:56\n",
      "#JuevesConDaviviendaCorredores Blockchain y criptomonedas en Colombia con la participación de Jorge Castaño; Superintendente financiero, Bryan Benson; Managing Director Binance LatAm, Maritza Pérez; Vicepresidenta ejecutiva Banca Personal - Mercadeo en Banco Davivienda y Germán Cristancho; Gerente de Investigaciones Económicas en Davivienda Corredores , los principales temas del día: El papel de la tecnología Blockchain, el Rol de la Superintendencia Financiera y el Sandbox regulatorio en Colombia, las Iniciativas en la región en criptomonedas y el Binance a nivel nacional y regional.\n",
      "\n",
      "Síganos en nuestras redes sociales para conocer más sobre nuestras charlas y productos. Si desea más información sobre cómo comenzar a invertir con Davivienda Corredores comuníquese con nosotros en Bogotá al 3123300 Opción 3 o ingrese a www.daviviendacorredores.com.\n",
      "\n",
      "Blockchain y Criptomonedas en Colombia\n",
      "16\n"
     ]
    },
    {
     "name": "stdout",
     "output_type": "stream",
     "text": [
      "2021-05-05 18:01:02\n",
      "En Experiencias Davivienda disfrute junto a Gabriella Luchsinger de una clase de vinyasa yoga, de paso moderado y multinivel. Durante la sesión, usted puede liberar tensión en el cuello, hombros y la espalda alta. Es una clase fluida donde se trabaja la movilidad, se fortalecen y se relajan los músculos y se practican ejercicios de respiración. Necesita: un mat, una toalla grande y un bloque (si lo tiene).\n",
      "159\n",
      "2021-05-05 17:45:57\n",
      "En Experiencias Davivienda disfrute junto a Gabriella Luchsinger de una clase de vinyasa yoga, de paso moderado y multinivel. Durante la sesión, usted puede liberar tensión en el cuello, hombros y la espalda alta. Es una clase fluida donde se trabaja la movilidad, se fortalecen y se relajan los músculos y se practican ejercicios de respiración. Necesita: un mat, una toalla grande y un bloque (si lo tiene).\n",
      "\n",
      "Relajar tensión en espalda alta, cuello y hombros | Experiencias Davivienda\n",
      "15\n",
      "2021-05-04 12:12:47\n",
      "Información de su interés:\n",
      "Les compartimos horarios de atención en oficinas para el día de hoy.\n",
      "Lo invitamos a hacer uso de nuestros canales digitales:\n",
      "📲 App Davivienda Móvil - 💻 http://davivienda.com\n",
      "Conozca aquí http://bit.ly/HorariosOficinasDavivienda todos nuestros horarios actualizados.\n",
      "122\n",
      "2021-05-04 09:00:01\n",
      "En esta experiencia junto a Maria Villegas descubriremos cómo cultivar una mentalidad de atracción. Conozca más en www.experienciasdavivienda.com\n",
      "21\n",
      "2021-05-03 16:15:58\n",
      "En esta experiencia liderada por Gabriella Luchsinger de Yoga International aprenderemos los secretos del yoga para desconectarnos y relajarnos. Conozca más en www.experienciasdavivienda.com\n",
      "33\n",
      "2021-05-03 16:08:47\n",
      "WED, MAY 5\n",
      "EXPERIENCIAS DAVIVIENDA 5 - 6 MAYO\n",
      "19\n",
      "2021-04-30 11:30:29\n",
      "Conéctese con nosotros el próximo miércoles a las 4:00 p.m. a la charla en vivo 'Impacto Económico de la Reforma fiscal y la actualización de las proyecciones macroeconómicas', con la participación de Juan Pablo Zárate; Viceministro de hacienda y crédito público y Andrés Langebaek; Director de Estudios Económicos del Grupo Bolívar. Agéndese aquí: https://dav.ac/juancp\n",
      "39\n",
      "2021-04-29 18:00:33\n",
      "En Experiencias Davivienda, la coach de vida y autora María Villegas le dará las herramientas necesarias para aprender a administrar la ansiedad y el estrés del día a día, y así poder evitar el impacto negativo del mal manejo de estas emociones en su cuerpo y en su vida.\n",
      "270\n",
      "2021-04-29 17:49:43\n",
      "En Experiencias Davivienda, la coach de vida y autora María Villegas le dará las herramientas necesarias para aprender a administrar la ansiedad y el estrés del día a día, y así poder evitar el impacto negativo del mal manejo de estas emociones en su cuerpo y en su vida.\n",
      "\n",
      "Manejo del estrés y la ansiedad | Experiencias Davivienda\n",
      "11\n",
      "2021-04-29 09:15:28\n",
      "En esta experiencia el ilusionista @juanpabloneira nos hará una corta pero efectiva introducción a la magia. Conozca más en www.experienciasdavivienda.com\n",
      "16\n",
      "2021-04-28 16:53:54\n",
      "Desde Davivienda sabemos que el desarrollo debe ir de la mano con cuidar nuestro entorno, el medio ambiente y las comunidades. En el 2020 continuamos nuestro compromiso con el mundo para crear modelos de negocio que resuelvan problemáticas sociales y ambientales. Como banca tenemos un papel de liderazgo fundamental en el financiamiento y fomento de proyectos que impactan el cambio climático y este año no iba a ser la diferencia.\n",
      "19\n",
      "2021-04-28 16:04:25\n",
      "Conozca más sobre Registro de Marca.\n",
      "Construimos una alianza con la firma muñoz abogados, expertos en el cuidado de su activo más valioso, su marca, y acompañarlo en su registro ante la Superintendencia de Industria y Comercio de Colombia. Conozca los beneficios de esta alianza aquí: https://bit.ly/3t0RORF\n",
      "11\n",
      "2021-04-28 15:03:18\n",
      "Ingrese con sus hijos y descubran de forma divertida el mundo de las finanzas en www.monetarium.co\n",
      "15\n",
      "2021-04-28 15:03:10\n",
      "Ingrese con sus hijos y descubran de forma divertida el mundo de las finanzas en www.monetarium.co\n",
      "14\n",
      "2021-04-27 09:19:27\n",
      "En esta experiencia junto a Maríap Villegas aprenderemos tips personales para el manejo del estrés y la ansiedad. Conozca más en www.experienciasdavivienda.com\n",
      "18\n",
      "2021-04-26 18:08:13\n",
      "En esta experiencia junto a Juliana Gonzalez-Rivera de academiaitinerante profundizaremos en la vida y obra de Antoni Gaudí ¿el arquitecto de Dios?. Conozca más en www.experienciasdavivienda.com\n",
      "65\n",
      "2021-04-26 18:02:53\n",
      "WED, APR 28\n",
      "EXPERIENCIAS DAVIVIENDA 28-30 ABRIL\n",
      "20\n",
      "2021-04-23 18:00:50\n",
      "En Experiencias Davivienda acompañe al filósofo Roberto Palacio en un recorrido fascinante por el pensamiento filosófico en cuatro de sus momentos más importantes: la Antigua Grecia, la Ilustración, el siglo XIX y el pensamiento contemporáneo, donde, por ejemplo, pensadores como Byung Chul Han analizan por qué en nuestra vida sin rituales nos hallamos agotados o Slavoj Zizek, que señala que nuestro pensar es una fantasía que nos amenaza y nos alimenta.\n",
      "273\n",
      "2021-04-23 17:46:15\n",
      "En Experiencias Davivienda acompañe al filósofo Roberto Palacio en un recorrido fascinante por el pensamiento filosófico en cuatro de sus momentos más importantes: la Antigua Grecia, la Ilustración, el siglo XIX y el pensamiento contemporáneo, donde, por ejemplo, pensadores como Byung Chul Han analizan por qué en nuestra vida sin rituales nos hallamos agotados o Slavoj Zizek, que señala que nuestro pensar es una fantasía que nos amenaza y nos alimenta.\n",
      "\n",
      "Un recorrido por cuatro momentos del pensamiento filosófico | Experiencias Davivienda\n",
      "13\n",
      "2021-04-23 17:20:34\n",
      "Creemos en el impacto positivo en el medio ambiente que tienen los proyectos de Construcción Sostenible.\n",
      "Acompañamos a este proyecto en su camino a conseguir la certificación en Construcción Sostenible.\n",
      "Lo invitamos a conocer más de este proceso.\n",
      "20\n",
      "2021-04-22 18:38:46\n",
      "Creemos en el impacto positivo en el medio ambiente que tienen los proyectos de Construcción Sostenible, por eso en Davivienda los apoyamos e impulsamos.\n",
      "Conozca más sobre uno de estos proyectos.\n",
      "36\n",
      "2021-04-22 18:00:38\n",
      "En Experiencias Davivienda lo invitamos a explorar, junto a la coach de vida y autora María Villegas, las técnicas de la auto-hipnosis y la programación neurolingüística en esta charla con información práctica y útil que lo empoderará y lo apoyará en su camino a la transformación.\n",
      "269\n",
      "2021-04-22 17:45:38\n",
      "En Experiencias Davivienda lo invitamos a explorar, junto a la coach de vida y autora María Villegas, las técnicas de la auto-hipnosis y la programación neurolingüística en esta charla con información práctica y útil que lo empoderará y lo apoyará en su camino a la transformación.\n",
      "\n",
      "Técnicas útiles de PNL para el empoderamiento personal | Experiencias Davivienda\n",
      "13\n",
      "2021-04-22 16:30:02\n",
      "¿Sabía que el registro de marca es uno de los pasos más importantes para usted como pyme y emprendedor? Acompáñenos hoy y conozca todos los detalles de este proceso.\n",
      "80\n",
      "2021-04-22 14:51:43\n",
      "¿Sabía que el registro de marca es uno de los pasos más importantes para usted como pyme y emprendedor? Acompáñenos hoy y conozca todos los detalles de este proceso.\n",
      "\n",
      "Registro de Marca: Cómo valorizar su activo más importante.\n",
      "24\n",
      "2021-04-22 14:00:01\n",
      "No podemos parar de cuidarnos, #INCOMÓDATE. Ponte el tapabocas. Pide el tapabocas. Puedes salvar tu vida y la de los demás.\n",
      "67\n",
      "2021-04-22 14:00:00\n",
      "La curva tiene que bajar, hoy más que nunca, #INCOMÓDATE. Ponte el tapabocas. Pide el tapabocas. Puedes salvar tu vida y la de los demás.\n",
      "65\n",
      "2021-04-21 16:13:10\n",
      "Impulso es apoyarlo y acompañarlo a fortalecer su empresa\n",
      "¿Sabía que el registro de marca es uno de los pasos más importantes para usted como pyme y emprendedor?\n",
      "Los invitamos mañana jueves 22 de abril a las 4:30 p.m. a nuestro webinar: Registro de Marca: Cómo valorizar su activo más importante.\n",
      "Regístrese aquí: http://bit.ly/RegMarcas\n",
      "#WorldIPDay\n",
      "803\n",
      "2021-04-21 14:34:12\n",
      "Tú puedes hacer la diferencia, #INCOMÓDATE. Ponte el tapabocas. Pide el tapabocas. Puedes salvar tu vida y la de los demás.\n",
      "132\n",
      "2021-04-21 09:00:01\n",
      "En esta experiencia Roberto Palacios de @seminariosbraintree nos hace un recorrido por la filosofía de la Antigua Grecia, la Ilustración, el siglo XIX y el pensamiento contemporáneo. Conozca más en www.experienciasdavivienda.com\n",
      "23\n",
      "2021-04-21 08:00:11\n",
      "SUSCRÍBETE A NUESTRO CANAL: http://bit.ly/BancoDaviviendaYT\n",
      "\n",
      "Acerca de Davivienda\n",
      "Durante 4 décadas hemos participado activamente en la construcción de Colombia y nos hemos convertido en un referente importante en el sector financiero del país. Hacemos parte del Grupo Empresarial Bolívar, que por más de 75 años ha acompañado a las personas, a las familias y a las empresas en el cumplimiento de sus objetivos.\n",
      "Somos reconocidos por el manejo único de nuestra imagen a través de la comunicación convirtiéndonos en una de las 5 marcas más valiosas y el primer banco en recordación publicitaria de Colombia.\n",
      "Nuestro portafolio integral de productos y servicios atiende las necesidades de personas, empresas, sector rural, minería y energía, con innovación constante y ofertas exclusivas para cada segmento.\n",
      "Somos el banco exclusivo en Colombia para el manejo de las tarjetas Diners.\n",
      "Contamos con un equipo de más de 17.000 personas para servir a más de 10 millones de clientes a través de 725 oficinas, y contamos con alrededor de 2.600 ATM'S a nivel regional.\n",
      "Además de Colombia, tenemos operaciones en Panamá, Costa Rica, Honduras, El Salvador y Miami, en los Estados Unidos.\n",
      "\n",
      "Conéctese con Davivienda:\n",
      "Visite nuestra página web: https://www.davivienda.com\n",
      "Síganos en Twitter: http://bit.ly/2HUZqkR\n",
      "Visite nuestra página de Facebook: http://bit.ly/2Iqoyjr\n",
      "Síganos en Instagram: http://bit.ly/2P1SrYQ\n",
      "Visítenos en LinkedIn\n",
      "LinkeInd: https://bit.ly/3hMCjsH\n",
      "\n",
      "#BancoDavivienda #Davivienda\n",
      "50\n"
     ]
    },
    {
     "name": "stdout",
     "output_type": "stream",
     "text": [
      "2021-04-21 07:36:13\n",
      "SUSCRÍBETE A NUESTRO CANAL: http://bit.ly/BancoDaviviendaYT\n",
      "\n",
      "Acerca de Davivienda\n",
      "Durante 4 décadas hemos participado activamente en la construcción de Colombia y nos hemos convertido en un referente importante en el sector financiero del país. Hacemos parte del Grupo Empresarial Bolívar, que por más de 75 años ha acompañado a las personas, a las familias y a las empresas en el cumplimiento de sus objetivos.\n",
      "Somos reconocidos por el manejo único de nuestra imagen a través de la comunicación convirtiéndonos en una de las 5 marcas más valiosas y el primer banco en recordación publicitaria de Colombia.\n",
      "Nuestro portafolio integral de productos y servicios atiende las necesidades de personas, empresas, sector rural, minería y energía, con innovación constante y ofertas exclusivas para cada segmento.\n",
      "Somos el banco exclusivo en Colombia para el manejo de las tarjetas Diners.\n",
      "Contamos con un equipo de más de 17.000 personas para servir a más de 10 millones de clientes a través de 725 oficinas, y contamos con alrededor de 2.600 ATM'S a nivel regional.\n",
      "Además de Colombia, tenemos operaciones en Panamá, Costa Rica, Honduras, El Salvador y Miami, en los Estados Unidos.\n",
      "\n",
      "Conéctese con Davivienda:\n",
      "Visite nuestra página web: https://www.davivienda.com\n",
      "Síganos en Twitter: http://bit.ly/2HUZqkR\n",
      "Visite nuestra página de Facebook: http://bit.ly/2Iqoyjr\n",
      "Síganos en Instagram: http://bit.ly/2P1SrYQ\n",
      "Visítenos en LinkedIn\n",
      "LinkeInd: https://bit.ly/3hMCjsH\n",
      "\n",
      "#BancoDavivienda #Davivienda\n",
      "\n",
      "Coyuntura de mercados financieros y efectos en la valorización del FIC Superior\n",
      "15\n",
      "2021-04-20 17:33:11\n",
      "Tú puedes hacer la diferencia, #INCOMÓDATE. Ponte el tapabocas. Pide el tapabocas. Puedes salvar tu vida y la de los demás.\n",
      "85\n",
      "2021-04-20 10:56:22\n",
      "En pocos minutos comienza nuestro #EventoEspecial Ley de Solidaridad - Puntos Claves. Con German Cristancho; Gerente de Investigaciones Económicas de Davivienda Corredores, quien abordará los principales puntos de la reforma tributaria. Conéctese aquí: https://youtu.be/dK1t6nAFVCY\n",
      "11\n",
      "2021-04-20 09:24:03\n",
      "En esta experiencia junto a @mariavillegasoficial descubriremos cómo utilizar la programación neurolingüística para el empoderamiento personal. Conozca más en www.experienciasdavivienda.com\n",
      "16\n",
      "2021-04-19 11:43:51\n",
      "En esta experiencia junto a Juliana Gonzalez-Rivera de academiaitinerante hablaremos de Pablo Picasso, uno de los artistas más famosos del mundo y también uno de los más incomprendidos. Conozca más en www.experienciasdavivienda.com\n",
      "53\n",
      "2021-04-19 10:14:35\n",
      "WED, APR 21\n",
      "EXPERIENCIAS DAVIVIENDA 21-23 ABRIL\n",
      "18\n",
      "2021-04-16 18:00:49\n",
      "Así como el Quijote se embriagó de las novelas de caballería, Emma se embriagó de los romances que circulaban a escondidas en los conventos. Su suerte fue trágica, quizá cómica. En Experiencias Davivienda, el filósofo Fernando Galindo cuenta cómo \"Madame Bovary\" nos da las claves para entender los caminos de la literatura de este siglo y del curso mismo de una sociedad que vive entre la hipocresía y la añoranza.\n",
      "112\n",
      "2021-04-16 17:46:08\n",
      "Así como el Quijote se embriagó de las novelas de caballería, Emma se embriagó de los romances que circulaban a escondidas en los conventos. Su suerte fue trágica, quizá cómica. En Experiencias Davivienda, el filósofo Fernando Galindo cuenta cómo \"Madame Bovary\" nos da las claves para entender los caminos de la literatura de este siglo y del curso mismo de una sociedad que vive entre la hipocresía y la añoranza.\n",
      "\n",
      "Madame Bovary de Gustave Flaubert | Experiencias Davivienda\n",
      "19\n",
      "2021-04-16 11:40:59\n",
      "¿Por qué en Davivienda nos importan las certificaciones LEED y EDGE otorgadas a construcciones sostenibles?\n",
      "Descúbralo aquí: https://bit.ly/2QtlGsf\n",
      "20\n",
      "2021-04-15 18:00:29\n",
      "En Experiencias Davivienda, la coach de vida María Villegas enseña las cuatro leyes bajo las que opera la mente: le ayudará a entender cómo dialogar adecuadamente con ella, cómo reprogramarla y ponerla a trabajar a su favor, volviéndola su mejor aliada para conseguir todo lo que se proponga, ya sea mejorar sus relaciones, emprender o crecer un negocio, fortalecer su cuerpo o mejorar su salud.\n",
      "246\n",
      "2021-04-15 17:48:13\n",
      "En Experiencias Davivienda, la coach de vida María Villegas enseña las cuatro leyes bajo las que opera la mente: le ayudará a entender cómo dialogar adecuadamente con ella, cómo reprogramarla y ponerla a trabajar a su favor, volviéndola su mejor aliada para conseguir todo lo que se proponga, ya sea mejorar sus relaciones, emprender o crecer un negocio, fortalecer su cuerpo o mejorar su salud.\n",
      "\n",
      "Cómo comunicarse efectivamente con su mente | Experiencias Davivienda\n",
      "12\n",
      "2021-04-12 17:14:28\n",
      "WED, APR 14\n",
      "EXPERIENCIAS DAVIVIENDA 14 - 16 ABRIL\n",
      "37\n",
      "2021-04-10 14:04:45\n",
      "Después del anuncio hace 2 meses de la alianza entre Davivienda y el @metrodemedellin ¡La App Cívica ya es un hecho!\n",
      "Invitamos a Érika Zapata, periodista muy paisa, para que nos ayudara a contarle cómo se vive el día con Cívica. 2 p.m.\n",
      "34\n",
      "2021-04-09 18:01:12\n",
      "En Experiencias Davivienda acompañe al filósofo Fernando Galindo a conocer la vida y obra de Jane Austin, quien a través de sus novelas nos cuenta del ingenio, de las emociones, de las dificultades que han enfrentado muchas mujeres, de la condición humana en medio de la opresión, de la inteligencia y la sensibilidad, que terminan convirtiéndose en salvadores ante la incertidumbre.\n",
      "205\n",
      "2021-04-09 17:58:46\n",
      "Mijo, vea este video. Si tiene sospechas de un fraude, llame usted mismo al banco! Conozca más consejos en:\n",
      "\n",
      "www.latiasegura.davivienda.com\n",
      "\n",
      "COMUNICACIONES.DAVIVIENDA.COM\n",
      "Davivienda S.A.\n",
      "214\n",
      "2021-04-09 17:45:17\n",
      "En Experiencias Davivienda acompañe al filósofo Fernando Galindo a conocer la vida y obra de Jane Austin, quien a través de sus novelas nos cuenta del ingenio, de las emociones, de las dificultades que han enfrentado muchas mujeres, de la condición humana en medio de la opresión, de la inteligencia y la sensibilidad, que terminan convirtiéndose en salvadores ante la incertidumbre.\n",
      "\n",
      "Orgullo y prejuicio de Jane Austen | Experiencias Davivienda\n",
      "12\n",
      "2021-04-08 16:00:10\n",
      "#JuevesConDaviviendaCorredores. Vacunación, reactivación económica y reformas ¡Llegó el momento! con la participación del ex Ministro de Hacienda, Mauricio Cárdenas y Germán Cristancho, Gerente de Investigaciones Económicas en Davivienda Corredores , los principales temas del día: Regla fiscal y el ajuste para próximos años, la vacunación en Colombia y el mundo, la reactivación económica.\n",
      "\n",
      "Síganos en nuestras redes sociales para conocer más sobre nuestras charlas y productos. Si desea más información sobre cómo comenzar a invertir con Davivienda Corredores comuníquese con nosotros en Bogotá al 3123300 Opción 3 o ingrese a www.daviviendacorredores.com.\n",
      "52\n",
      "2021-04-08 15:41:24\n",
      "#JuevesConDaviviendaCorredores. Vacunación, reactivación económica y reformas ¡Llegó el momento! con la participación del ex Ministro de Hacienda, Mauricio Cárdenas y Germán Cristancho, Gerente de Investigaciones Económicas en Davivienda Corredores , los principales temas del día: Regla fiscal y el ajuste para próximos años, la vacunación en Colombia y el mundo, la reactivación económica.\n",
      "\n",
      "Síganos en nuestras redes sociales para conocer más sobre nuestras charlas y productos. Si desea más información sobre cómo comenzar a invertir con Davivienda Corredores comuníquese con nosotros en Bogotá al 3123300 Opción 3 o ingrese a www.daviviendacorredores.com.\n",
      "\n",
      "Vacunación, Reactivación Económica y Reformas ¡Llegó el momento!\n",
      "29\n",
      "2021-04-07 16:02:32\n",
      "SUSCRÍBETE A NUESTRO CANAL: http://bit.ly/BancoDaviviendaYT\n",
      "\n",
      "Acerca de Davivienda\n",
      "Durante 4 décadas hemos participado activamente en la construcción de Colombia y nos hemos convertido en un referente importante en el sector financiero del país. Hacemos parte del Grupo Empresarial Bolívar, que por más de 75 años ha acompañado a las personas, a las familias y a las empresas en el cumplimiento de sus objetivos.\n",
      "Somos reconocidos por el manejo único de nuestra imagen a través de la comunicación convirtiéndonos en una de las 5 marcas más valiosas y el primer banco en recordación publicitaria de Colombia.\n",
      "Nuestro portafolio integral de productos y servicios atiende las necesidades de personas, empresas, sector rural, minería y energía, con innovación constante y ofertas exclusivas para cada segmento.\n",
      "Somos el banco exclusivo en Colombia para el manejo de las tarjetas Diners.\n",
      "Contamos con un equipo de más de 17.000 personas para servir a más de 10 millones de clientes a través de 725 oficinas, y contamos con alrededor de 2.600 ATM'S a nivel regional.\n",
      "Además de Colombia, tenemos operaciones en Panamá, Costa Rica, Honduras, El Salvador y Miami, en los Estados Unidos.\n",
      "\n",
      "Conectese con Davivienda:\n",
      "Visite nuestra página web: https://www.davivienda.com\n",
      "Síganos en Twitter: http://bit.ly/2HUZqkR\n",
      "Visite nuestra página de Facebook: http://bit.ly/2Iqoyjr\n",
      "Síganos en Instagram: http://bit.ly/2P1SrYQ\n",
      "Visítenos en LinkedIn\n",
      "LinkeInd: http://bit.ly/2P20RPX\n",
      "\n",
      "Volver a crecer | Banco Davivienda Colombia\n",
      "https://www.youtube.com/watch?v=FWqiXNxIWVA\n",
      "48\n"
     ]
    },
    {
     "name": "stdout",
     "output_type": "stream",
     "text": [
      "2021-04-07 15:43:30\n",
      "SUSCRÍBETE A NUESTRO CANAL: http://bit.ly/BancoDaviviendaYT\n",
      "\n",
      "Acerca de Davivienda\n",
      "Durante 4 décadas hemos participado activamente en la construcción de Colombia y nos hemos convertido en un referente importante en el sector financiero del país. Hacemos parte del Grupo Empresarial Bolívar, que por más de 75 años ha acompañado a las personas, a las familias y a las empresas en el cumplimiento de sus objetivos.\n",
      "Somos reconocidos por el manejo único de nuestra imagen a través de la comunicación convirtiéndonos en una de las 5 marcas más valiosas y el primer banco en recordación publicitaria de Colombia.\n",
      "Nuestro portafolio integral de productos y servicios atiende las necesidades de personas, empresas, sector rural, minería y energía, con innovación constante y ofertas exclusivas para cada segmento.\n",
      "Somos el banco exclusivo en Colombia para el manejo de las tarjetas Diners.\n",
      "Contamos con un equipo de más de 17.000 personas para servir a más de 10 millones de clientes a través de 725 oficinas, y contamos con alrededor de 2.600 ATM'S a nivel regional.\n",
      "Además de Colombia, tenemos operaciones en Panamá, Costa Rica, Honduras, El Salvador y Miami, en los Estados Unidos.\n",
      "\n",
      "Conectese con Davivienda:\n",
      "Visite nuestra página web: https://www.davivienda.com\n",
      "Síganos en Twitter: http://bit.ly/2HUZqkR\n",
      "Visite nuestra página de Facebook: http://bit.ly/2Iqoyjr\n",
      "Síganos en Instagram: http://bit.ly/2P1SrYQ\n",
      "Visítenos en LinkedIn\n",
      "LinkeInd: http://bit.ly/2P20RPX\n",
      "\n",
      "Volver a crecer | Banco Davivienda Colombia\n",
      "https://www.youtube.com/watch?v=FWqiXNxIWVA\n",
      "\n",
      "Volver a crecer\n",
      "17\n",
      "2021-04-03 11:01:15\n",
      "Sabemos que ponerse el tapabocas no es lo más cómodo del mundo, pero haciéndolo puedes salvar tu vida y la de los demás. Hoy te invitamos a que antes de cualquier cosa que hagas en Semana Santa, te pongas el tapabocas y pidas el tapabocas a quienes estén contigo. A tu familia, a tus amigos o a quien sea. Además lávate las manos, mantén el distanciamiento de al menos 2 metros, pasa el tiempo en espacios ventilados y dile SÍ a la vacuna. #INCOMÓDATE\n",
      "\n",
      "#GrupoÉxito #SURA #Bancolombia #Falabella #Chevrolet #JuanValdez #Sanofi #AlianzaTeam #Postobon #Terpel #Technoquimicas #CocaCola #Bavaria #Alpina #GrupoFamilia #Homecenter #Nutresa\n",
      "172\n"
     ]
    }
   ],
   "source": [
    "for post in get_posts('BancoDavivienda', pages=20):\n",
    "    print(post['time'])\n",
    "    print(post['text'])\n",
    "    print(post['likes'])"
   ]
  },
  {
   "cell_type": "code",
   "execution_count": 5,
   "metadata": {},
   "outputs": [],
   "source": [
    "import pandas as pd\n",
    "import matplotlib\n",
    "import matplotlib.pyplot as plt\n",
    "import os\n",
    "pd.set_option('display.max_columns', None)"
   ]
  },
  {
   "cell_type": "code",
   "execution_count": 6,
   "metadata": {},
   "outputs": [],
   "source": [
    "posts=[]\n",
    "for post in get_posts('BancoDavivienda', pages=20):\n",
    "    posts.append(post)"
   ]
  },
  {
   "cell_type": "code",
   "execution_count": 7,
   "metadata": {},
   "outputs": [],
   "source": [
    "fbRBM_post = pd.DataFrame(posts)"
   ]
  },
  {
   "cell_type": "code",
   "execution_count": 8,
   "metadata": {},
   "outputs": [
    {
     "data": {
      "text/plain": [
       "Index(['post_id', 'text', 'post_text', 'shared_text', 'time', 'image',\n",
       "       'image_lowquality', 'images', 'images_description', 'images_lowquality',\n",
       "       'images_lowquality_description', 'video', 'video_duration_seconds',\n",
       "       'video_height', 'video_id', 'video_quality', 'video_size_MB',\n",
       "       'video_thumbnail', 'video_watches', 'video_width', 'likes', 'comments',\n",
       "       'shares', 'post_url', 'link', 'user_id', 'username', 'user_url',\n",
       "       'is_live', 'factcheck', 'shared_post_id', 'shared_time',\n",
       "       'shared_user_id', 'shared_username', 'shared_post_url', 'available',\n",
       "       'comments_full', 'reactors', 'w3_fb_url'],\n",
       "      dtype='object')"
      ]
     },
     "execution_count": 8,
     "metadata": {},
     "output_type": "execute_result"
    }
   ],
   "source": [
    "fbRBM_post.columns"
   ]
  },
  {
   "cell_type": "code",
   "execution_count": 9,
   "metadata": {},
   "outputs": [
    {
     "data": {
      "text/plain": [
       "3042"
      ]
     },
     "execution_count": 9,
     "metadata": {},
     "output_type": "execute_result"
    }
   ],
   "source": [
    "fbRBM_post.size"
   ]
  },
  {
   "cell_type": "code",
   "execution_count": 10,
   "metadata": {},
   "outputs": [
    {
     "data": {
      "text/html": [
       "<div>\n",
       "<style scoped>\n",
       "    .dataframe tbody tr th:only-of-type {\n",
       "        vertical-align: middle;\n",
       "    }\n",
       "\n",
       "    .dataframe tbody tr th {\n",
       "        vertical-align: top;\n",
       "    }\n",
       "\n",
       "    .dataframe thead th {\n",
       "        text-align: right;\n",
       "    }\n",
       "</style>\n",
       "<table border=\"1\" class=\"dataframe\">\n",
       "  <thead>\n",
       "    <tr style=\"text-align: right;\">\n",
       "      <th></th>\n",
       "      <th>post_id</th>\n",
       "      <th>text</th>\n",
       "      <th>post_text</th>\n",
       "      <th>shared_text</th>\n",
       "      <th>time</th>\n",
       "      <th>image</th>\n",
       "      <th>image_lowquality</th>\n",
       "      <th>images</th>\n",
       "      <th>images_description</th>\n",
       "      <th>images_lowquality</th>\n",
       "      <th>images_lowquality_description</th>\n",
       "      <th>video</th>\n",
       "      <th>video_duration_seconds</th>\n",
       "      <th>video_height</th>\n",
       "      <th>video_id</th>\n",
       "      <th>video_quality</th>\n",
       "      <th>video_size_MB</th>\n",
       "      <th>video_thumbnail</th>\n",
       "      <th>video_watches</th>\n",
       "      <th>video_width</th>\n",
       "      <th>likes</th>\n",
       "      <th>comments</th>\n",
       "      <th>shares</th>\n",
       "      <th>post_url</th>\n",
       "      <th>link</th>\n",
       "      <th>user_id</th>\n",
       "      <th>username</th>\n",
       "      <th>user_url</th>\n",
       "      <th>is_live</th>\n",
       "      <th>factcheck</th>\n",
       "      <th>shared_post_id</th>\n",
       "      <th>shared_time</th>\n",
       "      <th>shared_user_id</th>\n",
       "      <th>shared_username</th>\n",
       "      <th>shared_post_url</th>\n",
       "      <th>available</th>\n",
       "      <th>comments_full</th>\n",
       "      <th>reactors</th>\n",
       "      <th>w3_fb_url</th>\n",
       "    </tr>\n",
       "  </thead>\n",
       "  <tbody>\n",
       "    <tr>\n",
       "      <th>73</th>\n",
       "      <td>948123802663744</td>\n",
       "      <td>#JuevesConDaviviendaCorredores. Vacunación, re...</td>\n",
       "      <td>#JuevesConDaviviendaCorredores. Vacunación, re...</td>\n",
       "      <td></td>\n",
       "      <td>2021-04-08 16:00:10</td>\n",
       "      <td>None</td>\n",
       "      <td>None</td>\n",
       "      <td>[]</td>\n",
       "      <td>[]</td>\n",
       "      <td>[]</td>\n",
       "      <td>[None]</td>\n",
       "      <td>https://scontent.fbog2-3.fna.fbcdn.net/v/t66.3...</td>\n",
       "      <td>NaN</td>\n",
       "      <td>NaN</td>\n",
       "      <td>948123802663744</td>\n",
       "      <td>None</td>\n",
       "      <td>NaN</td>\n",
       "      <td>https://scontent.fbog2-4.fna.fbcdn.net/v/t15.1...</td>\n",
       "      <td>NaN</td>\n",
       "      <td>NaN</td>\n",
       "      <td>52</td>\n",
       "      <td>41</td>\n",
       "      <td>1</td>\n",
       "      <td>https://facebook.com/BancoDavivienda/posts/948...</td>\n",
       "      <td>http://www.daviviendacorredores.com/</td>\n",
       "      <td>500223733369340</td>\n",
       "      <td>Davivienda</td>\n",
       "      <td>https://facebook.com/BancoDavivienda/?__tn__=C-R</td>\n",
       "      <td>False</td>\n",
       "      <td>None</td>\n",
       "      <td>None</td>\n",
       "      <td>None</td>\n",
       "      <td>None</td>\n",
       "      <td>None</td>\n",
       "      <td>None</td>\n",
       "      <td>True</td>\n",
       "      <td>None</td>\n",
       "      <td>None</td>\n",
       "      <td>None</td>\n",
       "    </tr>\n",
       "    <tr>\n",
       "      <th>74</th>\n",
       "      <td>3995381123853566</td>\n",
       "      <td>#JuevesConDaviviendaCorredores. Vacunación, re...</td>\n",
       "      <td>#JuevesConDaviviendaCorredores. Vacunación, re...</td>\n",
       "      <td>Vacunación, Reactivación Económica y Reformas ...</td>\n",
       "      <td>2021-04-08 15:41:24</td>\n",
       "      <td>None</td>\n",
       "      <td>None</td>\n",
       "      <td>[]</td>\n",
       "      <td>[]</td>\n",
       "      <td>[]</td>\n",
       "      <td>[]</td>\n",
       "      <td>None</td>\n",
       "      <td>NaN</td>\n",
       "      <td>NaN</td>\n",
       "      <td>None</td>\n",
       "      <td>None</td>\n",
       "      <td>NaN</td>\n",
       "      <td>None</td>\n",
       "      <td>NaN</td>\n",
       "      <td>NaN</td>\n",
       "      <td>29</td>\n",
       "      <td>3</td>\n",
       "      <td>0</td>\n",
       "      <td>https://facebook.com/BancoDavivienda/posts/399...</td>\n",
       "      <td>http://www.daviviendacorredores.com/</td>\n",
       "      <td>500223733369340</td>\n",
       "      <td>Davivienda</td>\n",
       "      <td>https://facebook.com/BancoDavivienda/?__tn__=C-R</td>\n",
       "      <td>False</td>\n",
       "      <td>None</td>\n",
       "      <td>None</td>\n",
       "      <td>None</td>\n",
       "      <td>None</td>\n",
       "      <td>None</td>\n",
       "      <td>None</td>\n",
       "      <td>True</td>\n",
       "      <td>None</td>\n",
       "      <td>None</td>\n",
       "      <td>None</td>\n",
       "    </tr>\n",
       "    <tr>\n",
       "      <th>75</th>\n",
       "      <td>779115113014774</td>\n",
       "      <td>SUSCRÍBETE A NUESTRO CANAL: http://bit.ly/Banc...</td>\n",
       "      <td>SUSCRÍBETE A NUESTRO CANAL: http://bit.ly/Banc...</td>\n",
       "      <td></td>\n",
       "      <td>2021-04-07 16:02:32</td>\n",
       "      <td>None</td>\n",
       "      <td>None</td>\n",
       "      <td>[]</td>\n",
       "      <td>[]</td>\n",
       "      <td>[]</td>\n",
       "      <td>[None]</td>\n",
       "      <td>https://scontent.fbog2-5.fna.fbcdn.net/v/t66.3...</td>\n",
       "      <td>NaN</td>\n",
       "      <td>NaN</td>\n",
       "      <td>779115113014774</td>\n",
       "      <td>None</td>\n",
       "      <td>NaN</td>\n",
       "      <td>https://scontent.fbog2-4.fna.fbcdn.net/v/t15.1...</td>\n",
       "      <td>NaN</td>\n",
       "      <td>NaN</td>\n",
       "      <td>48</td>\n",
       "      <td>37</td>\n",
       "      <td>1</td>\n",
       "      <td>https://facebook.com/BancoDavivienda/posts/779...</td>\n",
       "      <td>https://bit.ly/BancoDaviviendaYT​</td>\n",
       "      <td>500223733369340</td>\n",
       "      <td>Davivienda</td>\n",
       "      <td>https://facebook.com/BancoDavivienda/?__tn__=C-R</td>\n",
       "      <td>False</td>\n",
       "      <td>None</td>\n",
       "      <td>None</td>\n",
       "      <td>None</td>\n",
       "      <td>None</td>\n",
       "      <td>None</td>\n",
       "      <td>None</td>\n",
       "      <td>True</td>\n",
       "      <td>None</td>\n",
       "      <td>None</td>\n",
       "      <td>None</td>\n",
       "    </tr>\n",
       "    <tr>\n",
       "      <th>76</th>\n",
       "      <td>3992373767487635</td>\n",
       "      <td>SUSCRÍBETE A NUESTRO CANAL: http://bit.ly/Banc...</td>\n",
       "      <td>SUSCRÍBETE A NUESTRO CANAL: http://bit.ly/Banc...</td>\n",
       "      <td>Volver a crecer</td>\n",
       "      <td>2021-04-07 15:43:30</td>\n",
       "      <td>None</td>\n",
       "      <td>None</td>\n",
       "      <td>[]</td>\n",
       "      <td>[]</td>\n",
       "      <td>[]</td>\n",
       "      <td>[]</td>\n",
       "      <td>None</td>\n",
       "      <td>NaN</td>\n",
       "      <td>NaN</td>\n",
       "      <td>None</td>\n",
       "      <td>None</td>\n",
       "      <td>NaN</td>\n",
       "      <td>None</td>\n",
       "      <td>NaN</td>\n",
       "      <td>NaN</td>\n",
       "      <td>17</td>\n",
       "      <td>10</td>\n",
       "      <td>0</td>\n",
       "      <td>https://facebook.com/BancoDavivienda/posts/399...</td>\n",
       "      <td>https://bit.ly/BancoDaviviendaYT​</td>\n",
       "      <td>500223733369340</td>\n",
       "      <td>Davivienda</td>\n",
       "      <td>https://facebook.com/BancoDavivienda/?__tn__=C-R</td>\n",
       "      <td>False</td>\n",
       "      <td>None</td>\n",
       "      <td>None</td>\n",
       "      <td>None</td>\n",
       "      <td>None</td>\n",
       "      <td>None</td>\n",
       "      <td>None</td>\n",
       "      <td>True</td>\n",
       "      <td>None</td>\n",
       "      <td>None</td>\n",
       "      <td>None</td>\n",
       "    </tr>\n",
       "    <tr>\n",
       "      <th>77</th>\n",
       "      <td>3980117475379931</td>\n",
       "      <td>Sabemos que ponerse el tapabocas no es lo más ...</td>\n",
       "      <td>Sabemos que ponerse el tapabocas no es lo más ...</td>\n",
       "      <td></td>\n",
       "      <td>2021-04-03 11:01:15</td>\n",
       "      <td>https://scontent.fbog2-4.fna.fbcdn.net/v/t1.64...</td>\n",
       "      <td>https://scontent.fbog2-4.fna.fbcdn.net/v/t1.64...</td>\n",
       "      <td>[https://scontent.fbog2-4.fna.fbcdn.net/v/t1.6...</td>\n",
       "      <td>[May be an image of 1 person and text that say...</td>\n",
       "      <td>[https://scontent.fbog2-4.fna.fbcdn.net/v/t1.6...</td>\n",
       "      <td>[May be an image of 1 person and text that say...</td>\n",
       "      <td>None</td>\n",
       "      <td>NaN</td>\n",
       "      <td>NaN</td>\n",
       "      <td>None</td>\n",
       "      <td>None</td>\n",
       "      <td>NaN</td>\n",
       "      <td>None</td>\n",
       "      <td>NaN</td>\n",
       "      <td>NaN</td>\n",
       "      <td>172</td>\n",
       "      <td>36</td>\n",
       "      <td>0</td>\n",
       "      <td>https://facebook.com/BancoDavivienda/posts/398...</td>\n",
       "      <td>None</td>\n",
       "      <td>500223733369340</td>\n",
       "      <td>Davivienda</td>\n",
       "      <td>https://facebook.com/BancoDavivienda/?__tn__=C-R</td>\n",
       "      <td>False</td>\n",
       "      <td>None</td>\n",
       "      <td>None</td>\n",
       "      <td>None</td>\n",
       "      <td>None</td>\n",
       "      <td>None</td>\n",
       "      <td>None</td>\n",
       "      <td>True</td>\n",
       "      <td>None</td>\n",
       "      <td>None</td>\n",
       "      <td>None</td>\n",
       "    </tr>\n",
       "  </tbody>\n",
       "</table>\n",
       "</div>"
      ],
      "text/plain": [
       "             post_id                                               text  \\\n",
       "73   948123802663744  #JuevesConDaviviendaCorredores. Vacunación, re...   \n",
       "74  3995381123853566  #JuevesConDaviviendaCorredores. Vacunación, re...   \n",
       "75   779115113014774  SUSCRÍBETE A NUESTRO CANAL: http://bit.ly/Banc...   \n",
       "76  3992373767487635  SUSCRÍBETE A NUESTRO CANAL: http://bit.ly/Banc...   \n",
       "77  3980117475379931  Sabemos que ponerse el tapabocas no es lo más ...   \n",
       "\n",
       "                                            post_text  \\\n",
       "73  #JuevesConDaviviendaCorredores. Vacunación, re...   \n",
       "74  #JuevesConDaviviendaCorredores. Vacunación, re...   \n",
       "75  SUSCRÍBETE A NUESTRO CANAL: http://bit.ly/Banc...   \n",
       "76  SUSCRÍBETE A NUESTRO CANAL: http://bit.ly/Banc...   \n",
       "77  Sabemos que ponerse el tapabocas no es lo más ...   \n",
       "\n",
       "                                          shared_text                time  \\\n",
       "73                                                    2021-04-08 16:00:10   \n",
       "74  Vacunación, Reactivación Económica y Reformas ... 2021-04-08 15:41:24   \n",
       "75                                                    2021-04-07 16:02:32   \n",
       "76                                    Volver a crecer 2021-04-07 15:43:30   \n",
       "77                                                    2021-04-03 11:01:15   \n",
       "\n",
       "                                                image  \\\n",
       "73                                               None   \n",
       "74                                               None   \n",
       "75                                               None   \n",
       "76                                               None   \n",
       "77  https://scontent.fbog2-4.fna.fbcdn.net/v/t1.64...   \n",
       "\n",
       "                                     image_lowquality  \\\n",
       "73                                               None   \n",
       "74                                               None   \n",
       "75                                               None   \n",
       "76                                               None   \n",
       "77  https://scontent.fbog2-4.fna.fbcdn.net/v/t1.64...   \n",
       "\n",
       "                                               images  \\\n",
       "73                                                 []   \n",
       "74                                                 []   \n",
       "75                                                 []   \n",
       "76                                                 []   \n",
       "77  [https://scontent.fbog2-4.fna.fbcdn.net/v/t1.6...   \n",
       "\n",
       "                                   images_description  \\\n",
       "73                                                 []   \n",
       "74                                                 []   \n",
       "75                                                 []   \n",
       "76                                                 []   \n",
       "77  [May be an image of 1 person and text that say...   \n",
       "\n",
       "                                    images_lowquality  \\\n",
       "73                                                 []   \n",
       "74                                                 []   \n",
       "75                                                 []   \n",
       "76                                                 []   \n",
       "77  [https://scontent.fbog2-4.fna.fbcdn.net/v/t1.6...   \n",
       "\n",
       "                        images_lowquality_description  \\\n",
       "73                                             [None]   \n",
       "74                                                 []   \n",
       "75                                             [None]   \n",
       "76                                                 []   \n",
       "77  [May be an image of 1 person and text that say...   \n",
       "\n",
       "                                                video  video_duration_seconds  \\\n",
       "73  https://scontent.fbog2-3.fna.fbcdn.net/v/t66.3...                     NaN   \n",
       "74                                               None                     NaN   \n",
       "75  https://scontent.fbog2-5.fna.fbcdn.net/v/t66.3...                     NaN   \n",
       "76                                               None                     NaN   \n",
       "77                                               None                     NaN   \n",
       "\n",
       "    video_height         video_id video_quality  video_size_MB  \\\n",
       "73           NaN  948123802663744          None            NaN   \n",
       "74           NaN             None          None            NaN   \n",
       "75           NaN  779115113014774          None            NaN   \n",
       "76           NaN             None          None            NaN   \n",
       "77           NaN             None          None            NaN   \n",
       "\n",
       "                                      video_thumbnail  video_watches  \\\n",
       "73  https://scontent.fbog2-4.fna.fbcdn.net/v/t15.1...            NaN   \n",
       "74                                               None            NaN   \n",
       "75  https://scontent.fbog2-4.fna.fbcdn.net/v/t15.1...            NaN   \n",
       "76                                               None            NaN   \n",
       "77                                               None            NaN   \n",
       "\n",
       "    video_width  likes  comments  shares  \\\n",
       "73          NaN     52        41       1   \n",
       "74          NaN     29         3       0   \n",
       "75          NaN     48        37       1   \n",
       "76          NaN     17        10       0   \n",
       "77          NaN    172        36       0   \n",
       "\n",
       "                                             post_url  \\\n",
       "73  https://facebook.com/BancoDavivienda/posts/948...   \n",
       "74  https://facebook.com/BancoDavivienda/posts/399...   \n",
       "75  https://facebook.com/BancoDavivienda/posts/779...   \n",
       "76  https://facebook.com/BancoDavivienda/posts/399...   \n",
       "77  https://facebook.com/BancoDavivienda/posts/398...   \n",
       "\n",
       "                                    link          user_id    username  \\\n",
       "73  http://www.daviviendacorredores.com/  500223733369340  Davivienda   \n",
       "74  http://www.daviviendacorredores.com/  500223733369340  Davivienda   \n",
       "75     https://bit.ly/BancoDaviviendaYT​  500223733369340  Davivienda   \n",
       "76     https://bit.ly/BancoDaviviendaYT​  500223733369340  Davivienda   \n",
       "77                                  None  500223733369340  Davivienda   \n",
       "\n",
       "                                            user_url  is_live factcheck  \\\n",
       "73  https://facebook.com/BancoDavivienda/?__tn__=C-R    False      None   \n",
       "74  https://facebook.com/BancoDavivienda/?__tn__=C-R    False      None   \n",
       "75  https://facebook.com/BancoDavivienda/?__tn__=C-R    False      None   \n",
       "76  https://facebook.com/BancoDavivienda/?__tn__=C-R    False      None   \n",
       "77  https://facebook.com/BancoDavivienda/?__tn__=C-R    False      None   \n",
       "\n",
       "   shared_post_id shared_time shared_user_id shared_username shared_post_url  \\\n",
       "73           None        None           None            None            None   \n",
       "74           None        None           None            None            None   \n",
       "75           None        None           None            None            None   \n",
       "76           None        None           None            None            None   \n",
       "77           None        None           None            None            None   \n",
       "\n",
       "    available comments_full reactors w3_fb_url  \n",
       "73       True          None     None      None  \n",
       "74       True          None     None      None  \n",
       "75       True          None     None      None  \n",
       "76       True          None     None      None  \n",
       "77       True          None     None      None  "
      ]
     },
     "execution_count": 10,
     "metadata": {},
     "output_type": "execute_result"
    }
   ],
   "source": [
    "fbRBM_post.tail()"
   ]
  },
  {
   "cell_type": "code",
   "execution_count": 11,
   "metadata": {},
   "outputs": [
    {
     "data": {
      "text/html": [
       "        <script type=\"text/javascript\">\n",
       "        window.PlotlyConfig = {MathJaxConfig: 'local'};\n",
       "        if (window.MathJax) {MathJax.Hub.Config({SVG: {font: \"STIX-Web\"}});}\n",
       "        if (typeof require !== 'undefined') {\n",
       "        require.undef(\"plotly\");\n",
       "        requirejs.config({\n",
       "            paths: {\n",
       "                'plotly': ['https://cdn.plot.ly/plotly-latest.min']\n",
       "            }\n",
       "        });\n",
       "        require(['plotly'], function(Plotly) {\n",
       "            window._Plotly = Plotly;\n",
       "        });\n",
       "        }\n",
       "        </script>\n",
       "        "
      ]
     },
     "metadata": {},
     "output_type": "display_data"
    }
   ],
   "source": [
    "import plotly.io as pio\n",
    "import plotly.express as px\n",
    "import plotly.graph_objs as go\n",
    "from plotly.offline import download_plotlyjs, init_notebook_mode, plot, iplot\n",
    " \n",
    "import matplotlib.pyplot as plt\n",
    "%matplotlib inline\n",
    "init_notebook_mode(connected=True)"
   ]
  },
  {
   "cell_type": "code",
   "execution_count": 12,
   "metadata": {},
   "outputs": [],
   "source": [
    "matplotlib.rcParams['figure.figsize'] = (24,16)"
   ]
  },
  {
   "cell_type": "code",
   "execution_count": 13,
   "metadata": {},
   "outputs": [
    {
     "data": {
      "application/vnd.plotly.v1+json": {
       "config": {
        "linkText": "Export to plot.ly",
        "plotlyServerURL": "https://plot.ly",
        "showLink": false
       },
       "data": [
        {
         "hoverinfo": "text",
         "line": {
          "color": "#1DA1F2"
         },
         "mode": "lines+markers",
         "name": "Días",
         "text": [
          "Fecha: 2021-05-19 11:08:00<br>Likes: 2",
          "Fecha: 2021-05-19 11:00:01<br>Likes: 4",
          "Fecha: 2021-05-19 09:07:00<br>Likes: 22",
          "Fecha: 2021-05-18 16:02:08<br>Likes: 33",
          "Fecha: 2021-05-18 11:04:58<br>Likes: 17",
          "Fecha: 2021-05-18 08:44:57<br>Likes: 18",
          "Fecha: 2021-05-14 19:19:56<br>Likes: 23",
          "Fecha: 2021-05-14 18:00:39<br>Likes: 207",
          "Fecha: 2021-05-14 17:45:38<br>Likes: 9",
          "Fecha: 2021-05-14 15:59:09<br>Likes: 183",
          "Fecha: 2021-05-14 14:46:08<br>Likes: 16",
          "Fecha: 2021-05-13 18:01:03<br>Likes: 231",
          "Fecha: 2021-05-13 17:46:09<br>Likes: 19",
          "Fecha: 2021-05-13 15:03:23<br>Likes: 8",
          "Fecha: 2021-05-12 18:00:30<br>Likes: 112",
          "Fecha: 2021-05-12 17:45:49<br>Likes: 15",
          "Fecha: 2021-05-12 12:31:09<br>Likes: 57",
          "Fecha: 2021-05-12 09:00:01<br>Likes: 35",
          "Fecha: 2021-05-11 11:03:30<br>Likes: 27",
          "Fecha: 2021-05-11 09:00:02<br>Likes: 48",
          "Fecha: 2021-05-10 18:12:17<br>Likes: 13",
          "Fecha: 2021-05-10 18:08:15<br>Likes: 23",
          "Fecha: 2021-05-06 18:00:44<br>Likes: 130",
          "Fecha: 2021-05-06 17:45:58<br>Likes: 11",
          "Fecha: 2021-05-06 16:00:40<br>Likes: 81",
          "Fecha: 2021-05-06 15:12:56<br>Likes: 16",
          "Fecha: 2021-05-05 18:01:02<br>Likes: 159",
          "Fecha: 2021-05-05 17:45:57<br>Likes: 15",
          "Fecha: 2021-05-04 12:12:47<br>Likes: 122",
          "Fecha: 2021-05-04 09:00:01<br>Likes: 21",
          "Fecha: 2021-05-03 16:15:58<br>Likes: 33",
          "Fecha: 2021-05-03 16:08:47<br>Likes: 19",
          "Fecha: 2021-04-30 11:30:29<br>Likes: 39",
          "Fecha: 2021-04-29 18:00:33<br>Likes: 270",
          "Fecha: 2021-04-29 17:49:43<br>Likes: 11",
          "Fecha: 2021-04-29 09:15:28<br>Likes: 16",
          "Fecha: 2021-04-28 16:53:54<br>Likes: 19",
          "Fecha: 2021-04-28 16:04:25<br>Likes: 11",
          "Fecha: 2021-04-28 15:03:18<br>Likes: 15",
          "Fecha: 2021-04-28 15:03:10<br>Likes: 14",
          "Fecha: 2021-04-27 09:19:27<br>Likes: 18",
          "Fecha: 2021-04-26 18:08:13<br>Likes: 65",
          "Fecha: 2021-04-26 18:02:53<br>Likes: 20",
          "Fecha: 2021-04-23 18:00:50<br>Likes: 273",
          "Fecha: 2021-04-23 17:46:15<br>Likes: 13",
          "Fecha: 2021-04-23 17:20:34<br>Likes: 20",
          "Fecha: 2021-04-22 18:38:46<br>Likes: 36",
          "Fecha: 2021-04-22 18:00:38<br>Likes: 269",
          "Fecha: 2021-04-22 17:45:38<br>Likes: 13",
          "Fecha: 2021-04-22 16:30:02<br>Likes: 80",
          "Fecha: 2021-04-22 14:51:43<br>Likes: 24",
          "Fecha: 2021-04-22 14:00:01<br>Likes: 67",
          "Fecha: 2021-04-22 14:00:00<br>Likes: 65",
          "Fecha: 2021-04-21 16:13:10<br>Likes: 803",
          "Fecha: 2021-04-21 14:34:12<br>Likes: 132",
          "Fecha: 2021-04-21 09:00:01<br>Likes: 23",
          "Fecha: 2021-04-21 08:00:11<br>Likes: 50",
          "Fecha: 2021-04-21 07:36:13<br>Likes: 15",
          "Fecha: 2021-04-20 17:33:11<br>Likes: 85",
          "Fecha: 2021-04-20 10:56:22<br>Likes: 11",
          "Fecha: 2021-04-20 09:24:03<br>Likes: 16",
          "Fecha: 2021-04-19 11:43:51<br>Likes: 53",
          "Fecha: 2021-04-19 10:14:35<br>Likes: 18",
          "Fecha: 2021-04-16 18:00:49<br>Likes: 112",
          "Fecha: 2021-04-16 17:46:08<br>Likes: 19",
          "Fecha: 2021-04-16 11:40:59<br>Likes: 20",
          "Fecha: 2021-04-15 18:00:29<br>Likes: 246",
          "Fecha: 2021-04-15 17:48:13<br>Likes: 12",
          "Fecha: 2021-04-12 17:14:28<br>Likes: 37",
          "Fecha: 2021-04-10 14:04:45<br>Likes: 34",
          "Fecha: 2021-04-09 18:01:12<br>Likes: 205",
          "Fecha: 2021-04-09 17:58:46<br>Likes: 214",
          "Fecha: 2021-04-09 17:45:17<br>Likes: 12",
          "Fecha: 2021-04-08 16:00:10<br>Likes: 52",
          "Fecha: 2021-04-08 15:41:24<br>Likes: 29",
          "Fecha: 2021-04-07 16:02:32<br>Likes: 48",
          "Fecha: 2021-04-07 15:43:30<br>Likes: 17",
          "Fecha: 2021-04-03 11:01:15<br>Likes: 172"
         ],
         "type": "scatter",
         "x": [
          "2021-05-19T11:08:00",
          "2021-05-19T11:00:01",
          "2021-05-19T09:07:00",
          "2021-05-18T16:02:08",
          "2021-05-18T11:04:58",
          "2021-05-18T08:44:57",
          "2021-05-14T19:19:56",
          "2021-05-14T18:00:39",
          "2021-05-14T17:45:38",
          "2021-05-14T15:59:09",
          "2021-05-14T14:46:08",
          "2021-05-13T18:01:03",
          "2021-05-13T17:46:09",
          "2021-05-13T15:03:23",
          "2021-05-12T18:00:30",
          "2021-05-12T17:45:49",
          "2021-05-12T12:31:09",
          "2021-05-12T09:00:01",
          "2021-05-11T11:03:30",
          "2021-05-11T09:00:02",
          "2021-05-10T18:12:17",
          "2021-05-10T18:08:15",
          "2021-05-06T18:00:44",
          "2021-05-06T17:45:58",
          "2021-05-06T16:00:40",
          "2021-05-06T15:12:56",
          "2021-05-05T18:01:02",
          "2021-05-05T17:45:57",
          "2021-05-04T12:12:47",
          "2021-05-04T09:00:01",
          "2021-05-03T16:15:58",
          "2021-05-03T16:08:47",
          "2021-04-30T11:30:29",
          "2021-04-29T18:00:33",
          "2021-04-29T17:49:43",
          "2021-04-29T09:15:28",
          "2021-04-28T16:53:54",
          "2021-04-28T16:04:25",
          "2021-04-28T15:03:18",
          "2021-04-28T15:03:10",
          "2021-04-27T09:19:27",
          "2021-04-26T18:08:13",
          "2021-04-26T18:02:53",
          "2021-04-23T18:00:50",
          "2021-04-23T17:46:15",
          "2021-04-23T17:20:34",
          "2021-04-22T18:38:46",
          "2021-04-22T18:00:38",
          "2021-04-22T17:45:38",
          "2021-04-22T16:30:02",
          "2021-04-22T14:51:43",
          "2021-04-22T14:00:01",
          "2021-04-22T14:00:00",
          "2021-04-21T16:13:10",
          "2021-04-21T14:34:12",
          "2021-04-21T09:00:01",
          "2021-04-21T08:00:11",
          "2021-04-21T07:36:13",
          "2021-04-20T17:33:11",
          "2021-04-20T10:56:22",
          "2021-04-20T09:24:03",
          "2021-04-19T11:43:51",
          "2021-04-19T10:14:35",
          "2021-04-16T18:00:49",
          "2021-04-16T17:46:08",
          "2021-04-16T11:40:59",
          "2021-04-15T18:00:29",
          "2021-04-15T17:48:13",
          "2021-04-12T17:14:28",
          "2021-04-10T14:04:45",
          "2021-04-09T18:01:12",
          "2021-04-09T17:58:46",
          "2021-04-09T17:45:17",
          "2021-04-08T16:00:10",
          "2021-04-08T15:41:24",
          "2021-04-07T16:02:32",
          "2021-04-07T15:43:30",
          "2021-04-03T11:01:15"
         ],
         "y": [
          2,
          4,
          22,
          33,
          17,
          18,
          23,
          207,
          9,
          183,
          16,
          231,
          19,
          8,
          112,
          15,
          57,
          35,
          27,
          48,
          13,
          23,
          130,
          11,
          81,
          16,
          159,
          15,
          122,
          21,
          33,
          19,
          39,
          270,
          11,
          16,
          19,
          11,
          15,
          14,
          18,
          65,
          20,
          273,
          13,
          20,
          36,
          269,
          13,
          80,
          24,
          67,
          65,
          803,
          132,
          23,
          50,
          15,
          85,
          11,
          16,
          53,
          18,
          112,
          19,
          20,
          246,
          12,
          37,
          34,
          205,
          214,
          12,
          52,
          29,
          48,
          17,
          172
         ]
        }
       ],
       "layout": {
        "template": {
         "data": {
          "bar": [
           {
            "error_x": {
             "color": "#2a3f5f"
            },
            "error_y": {
             "color": "#2a3f5f"
            },
            "marker": {
             "line": {
              "color": "#E5ECF6",
              "width": 0.5
             }
            },
            "type": "bar"
           }
          ],
          "barpolar": [
           {
            "marker": {
             "line": {
              "color": "#E5ECF6",
              "width": 0.5
             }
            },
            "type": "barpolar"
           }
          ],
          "carpet": [
           {
            "aaxis": {
             "endlinecolor": "#2a3f5f",
             "gridcolor": "white",
             "linecolor": "white",
             "minorgridcolor": "white",
             "startlinecolor": "#2a3f5f"
            },
            "baxis": {
             "endlinecolor": "#2a3f5f",
             "gridcolor": "white",
             "linecolor": "white",
             "minorgridcolor": "white",
             "startlinecolor": "#2a3f5f"
            },
            "type": "carpet"
           }
          ],
          "choropleth": [
           {
            "colorbar": {
             "outlinewidth": 0,
             "ticks": ""
            },
            "type": "choropleth"
           }
          ],
          "contour": [
           {
            "colorbar": {
             "outlinewidth": 0,
             "ticks": ""
            },
            "colorscale": [
             [
              0,
              "#0d0887"
             ],
             [
              0.1111111111111111,
              "#46039f"
             ],
             [
              0.2222222222222222,
              "#7201a8"
             ],
             [
              0.3333333333333333,
              "#9c179e"
             ],
             [
              0.4444444444444444,
              "#bd3786"
             ],
             [
              0.5555555555555556,
              "#d8576b"
             ],
             [
              0.6666666666666666,
              "#ed7953"
             ],
             [
              0.7777777777777778,
              "#fb9f3a"
             ],
             [
              0.8888888888888888,
              "#fdca26"
             ],
             [
              1,
              "#f0f921"
             ]
            ],
            "type": "contour"
           }
          ],
          "contourcarpet": [
           {
            "colorbar": {
             "outlinewidth": 0,
             "ticks": ""
            },
            "type": "contourcarpet"
           }
          ],
          "heatmap": [
           {
            "colorbar": {
             "outlinewidth": 0,
             "ticks": ""
            },
            "colorscale": [
             [
              0,
              "#0d0887"
             ],
             [
              0.1111111111111111,
              "#46039f"
             ],
             [
              0.2222222222222222,
              "#7201a8"
             ],
             [
              0.3333333333333333,
              "#9c179e"
             ],
             [
              0.4444444444444444,
              "#bd3786"
             ],
             [
              0.5555555555555556,
              "#d8576b"
             ],
             [
              0.6666666666666666,
              "#ed7953"
             ],
             [
              0.7777777777777778,
              "#fb9f3a"
             ],
             [
              0.8888888888888888,
              "#fdca26"
             ],
             [
              1,
              "#f0f921"
             ]
            ],
            "type": "heatmap"
           }
          ],
          "heatmapgl": [
           {
            "colorbar": {
             "outlinewidth": 0,
             "ticks": ""
            },
            "colorscale": [
             [
              0,
              "#0d0887"
             ],
             [
              0.1111111111111111,
              "#46039f"
             ],
             [
              0.2222222222222222,
              "#7201a8"
             ],
             [
              0.3333333333333333,
              "#9c179e"
             ],
             [
              0.4444444444444444,
              "#bd3786"
             ],
             [
              0.5555555555555556,
              "#d8576b"
             ],
             [
              0.6666666666666666,
              "#ed7953"
             ],
             [
              0.7777777777777778,
              "#fb9f3a"
             ],
             [
              0.8888888888888888,
              "#fdca26"
             ],
             [
              1,
              "#f0f921"
             ]
            ],
            "type": "heatmapgl"
           }
          ],
          "histogram": [
           {
            "marker": {
             "colorbar": {
              "outlinewidth": 0,
              "ticks": ""
             }
            },
            "type": "histogram"
           }
          ],
          "histogram2d": [
           {
            "colorbar": {
             "outlinewidth": 0,
             "ticks": ""
            },
            "colorscale": [
             [
              0,
              "#0d0887"
             ],
             [
              0.1111111111111111,
              "#46039f"
             ],
             [
              0.2222222222222222,
              "#7201a8"
             ],
             [
              0.3333333333333333,
              "#9c179e"
             ],
             [
              0.4444444444444444,
              "#bd3786"
             ],
             [
              0.5555555555555556,
              "#d8576b"
             ],
             [
              0.6666666666666666,
              "#ed7953"
             ],
             [
              0.7777777777777778,
              "#fb9f3a"
             ],
             [
              0.8888888888888888,
              "#fdca26"
             ],
             [
              1,
              "#f0f921"
             ]
            ],
            "type": "histogram2d"
           }
          ],
          "histogram2dcontour": [
           {
            "colorbar": {
             "outlinewidth": 0,
             "ticks": ""
            },
            "colorscale": [
             [
              0,
              "#0d0887"
             ],
             [
              0.1111111111111111,
              "#46039f"
             ],
             [
              0.2222222222222222,
              "#7201a8"
             ],
             [
              0.3333333333333333,
              "#9c179e"
             ],
             [
              0.4444444444444444,
              "#bd3786"
             ],
             [
              0.5555555555555556,
              "#d8576b"
             ],
             [
              0.6666666666666666,
              "#ed7953"
             ],
             [
              0.7777777777777778,
              "#fb9f3a"
             ],
             [
              0.8888888888888888,
              "#fdca26"
             ],
             [
              1,
              "#f0f921"
             ]
            ],
            "type": "histogram2dcontour"
           }
          ],
          "mesh3d": [
           {
            "colorbar": {
             "outlinewidth": 0,
             "ticks": ""
            },
            "type": "mesh3d"
           }
          ],
          "parcoords": [
           {
            "line": {
             "colorbar": {
              "outlinewidth": 0,
              "ticks": ""
             }
            },
            "type": "parcoords"
           }
          ],
          "pie": [
           {
            "automargin": true,
            "type": "pie"
           }
          ],
          "scatter": [
           {
            "marker": {
             "colorbar": {
              "outlinewidth": 0,
              "ticks": ""
             }
            },
            "type": "scatter"
           }
          ],
          "scatter3d": [
           {
            "line": {
             "colorbar": {
              "outlinewidth": 0,
              "ticks": ""
             }
            },
            "marker": {
             "colorbar": {
              "outlinewidth": 0,
              "ticks": ""
             }
            },
            "type": "scatter3d"
           }
          ],
          "scattercarpet": [
           {
            "marker": {
             "colorbar": {
              "outlinewidth": 0,
              "ticks": ""
             }
            },
            "type": "scattercarpet"
           }
          ],
          "scattergeo": [
           {
            "marker": {
             "colorbar": {
              "outlinewidth": 0,
              "ticks": ""
             }
            },
            "type": "scattergeo"
           }
          ],
          "scattergl": [
           {
            "marker": {
             "colorbar": {
              "outlinewidth": 0,
              "ticks": ""
             }
            },
            "type": "scattergl"
           }
          ],
          "scattermapbox": [
           {
            "marker": {
             "colorbar": {
              "outlinewidth": 0,
              "ticks": ""
             }
            },
            "type": "scattermapbox"
           }
          ],
          "scatterpolar": [
           {
            "marker": {
             "colorbar": {
              "outlinewidth": 0,
              "ticks": ""
             }
            },
            "type": "scatterpolar"
           }
          ],
          "scatterpolargl": [
           {
            "marker": {
             "colorbar": {
              "outlinewidth": 0,
              "ticks": ""
             }
            },
            "type": "scatterpolargl"
           }
          ],
          "scatterternary": [
           {
            "marker": {
             "colorbar": {
              "outlinewidth": 0,
              "ticks": ""
             }
            },
            "type": "scatterternary"
           }
          ],
          "surface": [
           {
            "colorbar": {
             "outlinewidth": 0,
             "ticks": ""
            },
            "colorscale": [
             [
              0,
              "#0d0887"
             ],
             [
              0.1111111111111111,
              "#46039f"
             ],
             [
              0.2222222222222222,
              "#7201a8"
             ],
             [
              0.3333333333333333,
              "#9c179e"
             ],
             [
              0.4444444444444444,
              "#bd3786"
             ],
             [
              0.5555555555555556,
              "#d8576b"
             ],
             [
              0.6666666666666666,
              "#ed7953"
             ],
             [
              0.7777777777777778,
              "#fb9f3a"
             ],
             [
              0.8888888888888888,
              "#fdca26"
             ],
             [
              1,
              "#f0f921"
             ]
            ],
            "type": "surface"
           }
          ],
          "table": [
           {
            "cells": {
             "fill": {
              "color": "#EBF0F8"
             },
             "line": {
              "color": "white"
             }
            },
            "header": {
             "fill": {
              "color": "#C8D4E3"
             },
             "line": {
              "color": "white"
             }
            },
            "type": "table"
           }
          ]
         },
         "layout": {
          "annotationdefaults": {
           "arrowcolor": "#2a3f5f",
           "arrowhead": 0,
           "arrowwidth": 1
          },
          "coloraxis": {
           "colorbar": {
            "outlinewidth": 0,
            "ticks": ""
           }
          },
          "colorscale": {
           "diverging": [
            [
             0,
             "#8e0152"
            ],
            [
             0.1,
             "#c51b7d"
            ],
            [
             0.2,
             "#de77ae"
            ],
            [
             0.3,
             "#f1b6da"
            ],
            [
             0.4,
             "#fde0ef"
            ],
            [
             0.5,
             "#f7f7f7"
            ],
            [
             0.6,
             "#e6f5d0"
            ],
            [
             0.7,
             "#b8e186"
            ],
            [
             0.8,
             "#7fbc41"
            ],
            [
             0.9,
             "#4d9221"
            ],
            [
             1,
             "#276419"
            ]
           ],
           "sequential": [
            [
             0,
             "#0d0887"
            ],
            [
             0.1111111111111111,
             "#46039f"
            ],
            [
             0.2222222222222222,
             "#7201a8"
            ],
            [
             0.3333333333333333,
             "#9c179e"
            ],
            [
             0.4444444444444444,
             "#bd3786"
            ],
            [
             0.5555555555555556,
             "#d8576b"
            ],
            [
             0.6666666666666666,
             "#ed7953"
            ],
            [
             0.7777777777777778,
             "#fb9f3a"
            ],
            [
             0.8888888888888888,
             "#fdca26"
            ],
            [
             1,
             "#f0f921"
            ]
           ],
           "sequentialminus": [
            [
             0,
             "#0d0887"
            ],
            [
             0.1111111111111111,
             "#46039f"
            ],
            [
             0.2222222222222222,
             "#7201a8"
            ],
            [
             0.3333333333333333,
             "#9c179e"
            ],
            [
             0.4444444444444444,
             "#bd3786"
            ],
            [
             0.5555555555555556,
             "#d8576b"
            ],
            [
             0.6666666666666666,
             "#ed7953"
            ],
            [
             0.7777777777777778,
             "#fb9f3a"
            ],
            [
             0.8888888888888888,
             "#fdca26"
            ],
            [
             1,
             "#f0f921"
            ]
           ]
          },
          "colorway": [
           "#636efa",
           "#EF553B",
           "#00cc96",
           "#ab63fa",
           "#FFA15A",
           "#19d3f3",
           "#FF6692",
           "#B6E880",
           "#FF97FF",
           "#FECB52"
          ],
          "font": {
           "color": "#2a3f5f"
          },
          "geo": {
           "bgcolor": "white",
           "lakecolor": "white",
           "landcolor": "#E5ECF6",
           "showlakes": true,
           "showland": true,
           "subunitcolor": "white"
          },
          "hoverlabel": {
           "align": "left"
          },
          "hovermode": "closest",
          "mapbox": {
           "style": "light"
          },
          "paper_bgcolor": "white",
          "plot_bgcolor": "#E5ECF6",
          "polar": {
           "angularaxis": {
            "gridcolor": "white",
            "linecolor": "white",
            "ticks": ""
           },
           "bgcolor": "#E5ECF6",
           "radialaxis": {
            "gridcolor": "white",
            "linecolor": "white",
            "ticks": ""
           }
          },
          "scene": {
           "xaxis": {
            "backgroundcolor": "#E5ECF6",
            "gridcolor": "white",
            "gridwidth": 2,
            "linecolor": "white",
            "showbackground": true,
            "ticks": "",
            "zerolinecolor": "white"
           },
           "yaxis": {
            "backgroundcolor": "#E5ECF6",
            "gridcolor": "white",
            "gridwidth": 2,
            "linecolor": "white",
            "showbackground": true,
            "ticks": "",
            "zerolinecolor": "white"
           },
           "zaxis": {
            "backgroundcolor": "#E5ECF6",
            "gridcolor": "white",
            "gridwidth": 2,
            "linecolor": "white",
            "showbackground": true,
            "ticks": "",
            "zerolinecolor": "white"
           }
          },
          "shapedefaults": {
           "line": {
            "color": "#2a3f5f"
           }
          },
          "ternary": {
           "aaxis": {
            "gridcolor": "white",
            "linecolor": "white",
            "ticks": ""
           },
           "baxis": {
            "gridcolor": "white",
            "linecolor": "white",
            "ticks": ""
           },
           "bgcolor": "#E5ECF6",
           "caxis": {
            "gridcolor": "white",
            "linecolor": "white",
            "ticks": ""
           }
          },
          "title": {
           "x": 0.05
          },
          "xaxis": {
           "automargin": true,
           "gridcolor": "white",
           "linecolor": "white",
           "ticks": "",
           "title": {
            "standoff": 15
           },
           "zerolinecolor": "white",
           "zerolinewidth": 2
          },
          "yaxis": {
           "automargin": true,
           "gridcolor": "white",
           "linecolor": "white",
           "ticks": "",
           "title": {
            "standoff": 15
           },
           "zerolinecolor": "white",
           "zerolinewidth": 2
          }
         }
        },
        "title": {
         "text": "Número de likes por día"
        }
       }
      },
      "text/html": [
       "<div>                            <div id=\"10bf637c-f4bc-4c28-ab08-0b422b08b059\" class=\"plotly-graph-div\" style=\"height:525px; width:100%;\"></div>            <script type=\"text/javascript\">                require([\"plotly\"], function(Plotly) {                    window.PLOTLYENV=window.PLOTLYENV || {};                                    if (document.getElementById(\"10bf637c-f4bc-4c28-ab08-0b422b08b059\")) {                    Plotly.newPlot(                        \"10bf637c-f4bc-4c28-ab08-0b422b08b059\",                        [{\"hoverinfo\": \"text\", \"line\": {\"color\": \"#1DA1F2\"}, \"mode\": \"lines+markers\", \"name\": \"D\\u00edas\", \"text\": [\"Fecha: 2021-05-19 11:08:00<br>Likes: 2\", \"Fecha: 2021-05-19 11:00:01<br>Likes: 4\", \"Fecha: 2021-05-19 09:07:00<br>Likes: 22\", \"Fecha: 2021-05-18 16:02:08<br>Likes: 33\", \"Fecha: 2021-05-18 11:04:58<br>Likes: 17\", \"Fecha: 2021-05-18 08:44:57<br>Likes: 18\", \"Fecha: 2021-05-14 19:19:56<br>Likes: 23\", \"Fecha: 2021-05-14 18:00:39<br>Likes: 207\", \"Fecha: 2021-05-14 17:45:38<br>Likes: 9\", \"Fecha: 2021-05-14 15:59:09<br>Likes: 183\", \"Fecha: 2021-05-14 14:46:08<br>Likes: 16\", \"Fecha: 2021-05-13 18:01:03<br>Likes: 231\", \"Fecha: 2021-05-13 17:46:09<br>Likes: 19\", \"Fecha: 2021-05-13 15:03:23<br>Likes: 8\", \"Fecha: 2021-05-12 18:00:30<br>Likes: 112\", \"Fecha: 2021-05-12 17:45:49<br>Likes: 15\", \"Fecha: 2021-05-12 12:31:09<br>Likes: 57\", \"Fecha: 2021-05-12 09:00:01<br>Likes: 35\", \"Fecha: 2021-05-11 11:03:30<br>Likes: 27\", \"Fecha: 2021-05-11 09:00:02<br>Likes: 48\", \"Fecha: 2021-05-10 18:12:17<br>Likes: 13\", \"Fecha: 2021-05-10 18:08:15<br>Likes: 23\", \"Fecha: 2021-05-06 18:00:44<br>Likes: 130\", \"Fecha: 2021-05-06 17:45:58<br>Likes: 11\", \"Fecha: 2021-05-06 16:00:40<br>Likes: 81\", \"Fecha: 2021-05-06 15:12:56<br>Likes: 16\", \"Fecha: 2021-05-05 18:01:02<br>Likes: 159\", \"Fecha: 2021-05-05 17:45:57<br>Likes: 15\", \"Fecha: 2021-05-04 12:12:47<br>Likes: 122\", \"Fecha: 2021-05-04 09:00:01<br>Likes: 21\", \"Fecha: 2021-05-03 16:15:58<br>Likes: 33\", \"Fecha: 2021-05-03 16:08:47<br>Likes: 19\", \"Fecha: 2021-04-30 11:30:29<br>Likes: 39\", \"Fecha: 2021-04-29 18:00:33<br>Likes: 270\", \"Fecha: 2021-04-29 17:49:43<br>Likes: 11\", \"Fecha: 2021-04-29 09:15:28<br>Likes: 16\", \"Fecha: 2021-04-28 16:53:54<br>Likes: 19\", \"Fecha: 2021-04-28 16:04:25<br>Likes: 11\", \"Fecha: 2021-04-28 15:03:18<br>Likes: 15\", \"Fecha: 2021-04-28 15:03:10<br>Likes: 14\", \"Fecha: 2021-04-27 09:19:27<br>Likes: 18\", \"Fecha: 2021-04-26 18:08:13<br>Likes: 65\", \"Fecha: 2021-04-26 18:02:53<br>Likes: 20\", \"Fecha: 2021-04-23 18:00:50<br>Likes: 273\", \"Fecha: 2021-04-23 17:46:15<br>Likes: 13\", \"Fecha: 2021-04-23 17:20:34<br>Likes: 20\", \"Fecha: 2021-04-22 18:38:46<br>Likes: 36\", \"Fecha: 2021-04-22 18:00:38<br>Likes: 269\", \"Fecha: 2021-04-22 17:45:38<br>Likes: 13\", \"Fecha: 2021-04-22 16:30:02<br>Likes: 80\", \"Fecha: 2021-04-22 14:51:43<br>Likes: 24\", \"Fecha: 2021-04-22 14:00:01<br>Likes: 67\", \"Fecha: 2021-04-22 14:00:00<br>Likes: 65\", \"Fecha: 2021-04-21 16:13:10<br>Likes: 803\", \"Fecha: 2021-04-21 14:34:12<br>Likes: 132\", \"Fecha: 2021-04-21 09:00:01<br>Likes: 23\", \"Fecha: 2021-04-21 08:00:11<br>Likes: 50\", \"Fecha: 2021-04-21 07:36:13<br>Likes: 15\", \"Fecha: 2021-04-20 17:33:11<br>Likes: 85\", \"Fecha: 2021-04-20 10:56:22<br>Likes: 11\", \"Fecha: 2021-04-20 09:24:03<br>Likes: 16\", \"Fecha: 2021-04-19 11:43:51<br>Likes: 53\", \"Fecha: 2021-04-19 10:14:35<br>Likes: 18\", \"Fecha: 2021-04-16 18:00:49<br>Likes: 112\", \"Fecha: 2021-04-16 17:46:08<br>Likes: 19\", \"Fecha: 2021-04-16 11:40:59<br>Likes: 20\", \"Fecha: 2021-04-15 18:00:29<br>Likes: 246\", \"Fecha: 2021-04-15 17:48:13<br>Likes: 12\", \"Fecha: 2021-04-12 17:14:28<br>Likes: 37\", \"Fecha: 2021-04-10 14:04:45<br>Likes: 34\", \"Fecha: 2021-04-09 18:01:12<br>Likes: 205\", \"Fecha: 2021-04-09 17:58:46<br>Likes: 214\", \"Fecha: 2021-04-09 17:45:17<br>Likes: 12\", \"Fecha: 2021-04-08 16:00:10<br>Likes: 52\", \"Fecha: 2021-04-08 15:41:24<br>Likes: 29\", \"Fecha: 2021-04-07 16:02:32<br>Likes: 48\", \"Fecha: 2021-04-07 15:43:30<br>Likes: 17\", \"Fecha: 2021-04-03 11:01:15<br>Likes: 172\"], \"type\": \"scatter\", \"x\": [\"2021-05-19T11:08:00\", \"2021-05-19T11:00:01\", \"2021-05-19T09:07:00\", \"2021-05-18T16:02:08\", \"2021-05-18T11:04:58\", \"2021-05-18T08:44:57\", \"2021-05-14T19:19:56\", \"2021-05-14T18:00:39\", \"2021-05-14T17:45:38\", \"2021-05-14T15:59:09\", \"2021-05-14T14:46:08\", \"2021-05-13T18:01:03\", \"2021-05-13T17:46:09\", \"2021-05-13T15:03:23\", \"2021-05-12T18:00:30\", \"2021-05-12T17:45:49\", \"2021-05-12T12:31:09\", \"2021-05-12T09:00:01\", \"2021-05-11T11:03:30\", \"2021-05-11T09:00:02\", \"2021-05-10T18:12:17\", \"2021-05-10T18:08:15\", \"2021-05-06T18:00:44\", \"2021-05-06T17:45:58\", \"2021-05-06T16:00:40\", \"2021-05-06T15:12:56\", \"2021-05-05T18:01:02\", \"2021-05-05T17:45:57\", \"2021-05-04T12:12:47\", \"2021-05-04T09:00:01\", \"2021-05-03T16:15:58\", \"2021-05-03T16:08:47\", \"2021-04-30T11:30:29\", \"2021-04-29T18:00:33\", \"2021-04-29T17:49:43\", \"2021-04-29T09:15:28\", \"2021-04-28T16:53:54\", \"2021-04-28T16:04:25\", \"2021-04-28T15:03:18\", \"2021-04-28T15:03:10\", \"2021-04-27T09:19:27\", \"2021-04-26T18:08:13\", \"2021-04-26T18:02:53\", \"2021-04-23T18:00:50\", \"2021-04-23T17:46:15\", \"2021-04-23T17:20:34\", \"2021-04-22T18:38:46\", \"2021-04-22T18:00:38\", \"2021-04-22T17:45:38\", \"2021-04-22T16:30:02\", \"2021-04-22T14:51:43\", \"2021-04-22T14:00:01\", \"2021-04-22T14:00:00\", \"2021-04-21T16:13:10\", \"2021-04-21T14:34:12\", \"2021-04-21T09:00:01\", \"2021-04-21T08:00:11\", \"2021-04-21T07:36:13\", \"2021-04-20T17:33:11\", \"2021-04-20T10:56:22\", \"2021-04-20T09:24:03\", \"2021-04-19T11:43:51\", \"2021-04-19T10:14:35\", \"2021-04-16T18:00:49\", \"2021-04-16T17:46:08\", \"2021-04-16T11:40:59\", \"2021-04-15T18:00:29\", \"2021-04-15T17:48:13\", \"2021-04-12T17:14:28\", \"2021-04-10T14:04:45\", \"2021-04-09T18:01:12\", \"2021-04-09T17:58:46\", \"2021-04-09T17:45:17\", \"2021-04-08T16:00:10\", \"2021-04-08T15:41:24\", \"2021-04-07T16:02:32\", \"2021-04-07T15:43:30\", \"2021-04-03T11:01:15\"], \"y\": [2, 4, 22, 33, 17, 18, 23, 207, 9, 183, 16, 231, 19, 8, 112, 15, 57, 35, 27, 48, 13, 23, 130, 11, 81, 16, 159, 15, 122, 21, 33, 19, 39, 270, 11, 16, 19, 11, 15, 14, 18, 65, 20, 273, 13, 20, 36, 269, 13, 80, 24, 67, 65, 803, 132, 23, 50, 15, 85, 11, 16, 53, 18, 112, 19, 20, 246, 12, 37, 34, 205, 214, 12, 52, 29, 48, 17, 172]}],                        {\"template\": {\"data\": {\"bar\": [{\"error_x\": {\"color\": \"#2a3f5f\"}, \"error_y\": {\"color\": \"#2a3f5f\"}, \"marker\": {\"line\": {\"color\": \"#E5ECF6\", \"width\": 0.5}}, \"type\": \"bar\"}], \"barpolar\": [{\"marker\": {\"line\": {\"color\": \"#E5ECF6\", \"width\": 0.5}}, \"type\": \"barpolar\"}], \"carpet\": [{\"aaxis\": {\"endlinecolor\": \"#2a3f5f\", \"gridcolor\": \"white\", \"linecolor\": \"white\", \"minorgridcolor\": \"white\", \"startlinecolor\": \"#2a3f5f\"}, \"baxis\": {\"endlinecolor\": \"#2a3f5f\", \"gridcolor\": \"white\", \"linecolor\": \"white\", \"minorgridcolor\": \"white\", \"startlinecolor\": \"#2a3f5f\"}, \"type\": \"carpet\"}], \"choropleth\": [{\"colorbar\": {\"outlinewidth\": 0, \"ticks\": \"\"}, \"type\": \"choropleth\"}], \"contour\": [{\"colorbar\": {\"outlinewidth\": 0, \"ticks\": \"\"}, \"colorscale\": [[0.0, \"#0d0887\"], [0.1111111111111111, \"#46039f\"], [0.2222222222222222, \"#7201a8\"], [0.3333333333333333, \"#9c179e\"], [0.4444444444444444, \"#bd3786\"], [0.5555555555555556, \"#d8576b\"], [0.6666666666666666, \"#ed7953\"], [0.7777777777777778, \"#fb9f3a\"], [0.8888888888888888, \"#fdca26\"], [1.0, \"#f0f921\"]], \"type\": \"contour\"}], \"contourcarpet\": [{\"colorbar\": {\"outlinewidth\": 0, \"ticks\": \"\"}, \"type\": \"contourcarpet\"}], \"heatmap\": [{\"colorbar\": {\"outlinewidth\": 0, \"ticks\": \"\"}, \"colorscale\": [[0.0, \"#0d0887\"], [0.1111111111111111, \"#46039f\"], [0.2222222222222222, \"#7201a8\"], [0.3333333333333333, \"#9c179e\"], [0.4444444444444444, \"#bd3786\"], [0.5555555555555556, \"#d8576b\"], [0.6666666666666666, \"#ed7953\"], [0.7777777777777778, \"#fb9f3a\"], [0.8888888888888888, \"#fdca26\"], [1.0, \"#f0f921\"]], \"type\": \"heatmap\"}], \"heatmapgl\": [{\"colorbar\": {\"outlinewidth\": 0, \"ticks\": \"\"}, \"colorscale\": [[0.0, \"#0d0887\"], [0.1111111111111111, \"#46039f\"], [0.2222222222222222, \"#7201a8\"], [0.3333333333333333, \"#9c179e\"], [0.4444444444444444, \"#bd3786\"], [0.5555555555555556, \"#d8576b\"], [0.6666666666666666, \"#ed7953\"], [0.7777777777777778, \"#fb9f3a\"], [0.8888888888888888, \"#fdca26\"], [1.0, \"#f0f921\"]], \"type\": \"heatmapgl\"}], \"histogram\": [{\"marker\": {\"colorbar\": {\"outlinewidth\": 0, \"ticks\": \"\"}}, \"type\": \"histogram\"}], \"histogram2d\": [{\"colorbar\": {\"outlinewidth\": 0, \"ticks\": \"\"}, \"colorscale\": [[0.0, \"#0d0887\"], [0.1111111111111111, \"#46039f\"], [0.2222222222222222, \"#7201a8\"], [0.3333333333333333, \"#9c179e\"], [0.4444444444444444, \"#bd3786\"], [0.5555555555555556, \"#d8576b\"], [0.6666666666666666, \"#ed7953\"], [0.7777777777777778, \"#fb9f3a\"], [0.8888888888888888, \"#fdca26\"], [1.0, \"#f0f921\"]], \"type\": \"histogram2d\"}], \"histogram2dcontour\": [{\"colorbar\": {\"outlinewidth\": 0, \"ticks\": \"\"}, \"colorscale\": [[0.0, \"#0d0887\"], [0.1111111111111111, \"#46039f\"], [0.2222222222222222, \"#7201a8\"], [0.3333333333333333, \"#9c179e\"], [0.4444444444444444, \"#bd3786\"], [0.5555555555555556, \"#d8576b\"], [0.6666666666666666, \"#ed7953\"], [0.7777777777777778, \"#fb9f3a\"], [0.8888888888888888, \"#fdca26\"], [1.0, \"#f0f921\"]], \"type\": \"histogram2dcontour\"}], \"mesh3d\": [{\"colorbar\": {\"outlinewidth\": 0, \"ticks\": \"\"}, \"type\": \"mesh3d\"}], \"parcoords\": [{\"line\": {\"colorbar\": {\"outlinewidth\": 0, \"ticks\": \"\"}}, \"type\": \"parcoords\"}], \"pie\": [{\"automargin\": true, \"type\": \"pie\"}], \"scatter\": [{\"marker\": {\"colorbar\": {\"outlinewidth\": 0, \"ticks\": \"\"}}, \"type\": \"scatter\"}], \"scatter3d\": [{\"line\": {\"colorbar\": {\"outlinewidth\": 0, \"ticks\": \"\"}}, \"marker\": {\"colorbar\": {\"outlinewidth\": 0, \"ticks\": \"\"}}, \"type\": \"scatter3d\"}], \"scattercarpet\": [{\"marker\": {\"colorbar\": {\"outlinewidth\": 0, \"ticks\": \"\"}}, \"type\": \"scattercarpet\"}], \"scattergeo\": [{\"marker\": {\"colorbar\": {\"outlinewidth\": 0, \"ticks\": \"\"}}, \"type\": \"scattergeo\"}], \"scattergl\": [{\"marker\": {\"colorbar\": {\"outlinewidth\": 0, \"ticks\": \"\"}}, \"type\": \"scattergl\"}], \"scattermapbox\": [{\"marker\": {\"colorbar\": {\"outlinewidth\": 0, \"ticks\": \"\"}}, \"type\": \"scattermapbox\"}], \"scatterpolar\": [{\"marker\": {\"colorbar\": {\"outlinewidth\": 0, \"ticks\": \"\"}}, \"type\": \"scatterpolar\"}], \"scatterpolargl\": [{\"marker\": {\"colorbar\": {\"outlinewidth\": 0, \"ticks\": \"\"}}, \"type\": \"scatterpolargl\"}], \"scatterternary\": [{\"marker\": {\"colorbar\": {\"outlinewidth\": 0, \"ticks\": \"\"}}, \"type\": \"scatterternary\"}], \"surface\": [{\"colorbar\": {\"outlinewidth\": 0, \"ticks\": \"\"}, \"colorscale\": [[0.0, \"#0d0887\"], [0.1111111111111111, \"#46039f\"], [0.2222222222222222, \"#7201a8\"], [0.3333333333333333, \"#9c179e\"], [0.4444444444444444, \"#bd3786\"], [0.5555555555555556, \"#d8576b\"], [0.6666666666666666, \"#ed7953\"], [0.7777777777777778, \"#fb9f3a\"], [0.8888888888888888, \"#fdca26\"], [1.0, \"#f0f921\"]], \"type\": \"surface\"}], \"table\": [{\"cells\": {\"fill\": {\"color\": \"#EBF0F8\"}, \"line\": {\"color\": \"white\"}}, \"header\": {\"fill\": {\"color\": \"#C8D4E3\"}, \"line\": {\"color\": \"white\"}}, \"type\": \"table\"}]}, \"layout\": {\"annotationdefaults\": {\"arrowcolor\": \"#2a3f5f\", \"arrowhead\": 0, \"arrowwidth\": 1}, \"coloraxis\": {\"colorbar\": {\"outlinewidth\": 0, \"ticks\": \"\"}}, \"colorscale\": {\"diverging\": [[0, \"#8e0152\"], [0.1, \"#c51b7d\"], [0.2, \"#de77ae\"], [0.3, \"#f1b6da\"], [0.4, \"#fde0ef\"], [0.5, \"#f7f7f7\"], [0.6, \"#e6f5d0\"], [0.7, \"#b8e186\"], [0.8, \"#7fbc41\"], [0.9, \"#4d9221\"], [1, \"#276419\"]], \"sequential\": [[0.0, \"#0d0887\"], [0.1111111111111111, \"#46039f\"], [0.2222222222222222, \"#7201a8\"], [0.3333333333333333, \"#9c179e\"], [0.4444444444444444, \"#bd3786\"], [0.5555555555555556, \"#d8576b\"], [0.6666666666666666, \"#ed7953\"], [0.7777777777777778, \"#fb9f3a\"], [0.8888888888888888, \"#fdca26\"], [1.0, \"#f0f921\"]], \"sequentialminus\": [[0.0, \"#0d0887\"], [0.1111111111111111, \"#46039f\"], [0.2222222222222222, \"#7201a8\"], [0.3333333333333333, \"#9c179e\"], [0.4444444444444444, \"#bd3786\"], [0.5555555555555556, \"#d8576b\"], [0.6666666666666666, \"#ed7953\"], [0.7777777777777778, \"#fb9f3a\"], [0.8888888888888888, \"#fdca26\"], [1.0, \"#f0f921\"]]}, \"colorway\": [\"#636efa\", \"#EF553B\", \"#00cc96\", \"#ab63fa\", \"#FFA15A\", \"#19d3f3\", \"#FF6692\", \"#B6E880\", \"#FF97FF\", \"#FECB52\"], \"font\": {\"color\": \"#2a3f5f\"}, \"geo\": {\"bgcolor\": \"white\", \"lakecolor\": \"white\", \"landcolor\": \"#E5ECF6\", \"showlakes\": true, \"showland\": true, \"subunitcolor\": \"white\"}, \"hoverlabel\": {\"align\": \"left\"}, \"hovermode\": \"closest\", \"mapbox\": {\"style\": \"light\"}, \"paper_bgcolor\": \"white\", \"plot_bgcolor\": \"#E5ECF6\", \"polar\": {\"angularaxis\": {\"gridcolor\": \"white\", \"linecolor\": \"white\", \"ticks\": \"\"}, \"bgcolor\": \"#E5ECF6\", \"radialaxis\": {\"gridcolor\": \"white\", \"linecolor\": \"white\", \"ticks\": \"\"}}, \"scene\": {\"xaxis\": {\"backgroundcolor\": \"#E5ECF6\", \"gridcolor\": \"white\", \"gridwidth\": 2, \"linecolor\": \"white\", \"showbackground\": true, \"ticks\": \"\", \"zerolinecolor\": \"white\"}, \"yaxis\": {\"backgroundcolor\": \"#E5ECF6\", \"gridcolor\": \"white\", \"gridwidth\": 2, \"linecolor\": \"white\", \"showbackground\": true, \"ticks\": \"\", \"zerolinecolor\": \"white\"}, \"zaxis\": {\"backgroundcolor\": \"#E5ECF6\", \"gridcolor\": \"white\", \"gridwidth\": 2, \"linecolor\": \"white\", \"showbackground\": true, \"ticks\": \"\", \"zerolinecolor\": \"white\"}}, \"shapedefaults\": {\"line\": {\"color\": \"#2a3f5f\"}}, \"ternary\": {\"aaxis\": {\"gridcolor\": \"white\", \"linecolor\": \"white\", \"ticks\": \"\"}, \"baxis\": {\"gridcolor\": \"white\", \"linecolor\": \"white\", \"ticks\": \"\"}, \"bgcolor\": \"#E5ECF6\", \"caxis\": {\"gridcolor\": \"white\", \"linecolor\": \"white\", \"ticks\": \"\"}}, \"title\": {\"x\": 0.05}, \"xaxis\": {\"automargin\": true, \"gridcolor\": \"white\", \"linecolor\": \"white\", \"ticks\": \"\", \"title\": {\"standoff\": 15}, \"zerolinecolor\": \"white\", \"zerolinewidth\": 2}, \"yaxis\": {\"automargin\": true, \"gridcolor\": \"white\", \"linecolor\": \"white\", \"ticks\": \"\", \"title\": {\"standoff\": 15}, \"zerolinecolor\": \"white\", \"zerolinewidth\": 2}}}, \"title\": {\"text\": \"N\\u00famero de likes por d\\u00eda\"}},                        {\"responsive\": true}                    ).then(function(){\n",
       "                            \n",
       "var gd = document.getElementById('10bf637c-f4bc-4c28-ab08-0b422b08b059');\n",
       "var x = new MutationObserver(function (mutations, observer) {{\n",
       "        var display = window.getComputedStyle(gd).display;\n",
       "        if (!display || display === 'none') {{\n",
       "            console.log([gd, 'removed!']);\n",
       "            Plotly.purge(gd);\n",
       "            observer.disconnect();\n",
       "        }}\n",
       "}});\n",
       "\n",
       "// Listen for the removal of the full notebook cells\n",
       "var notebookContainer = gd.closest('#notebook-container');\n",
       "if (notebookContainer) {{\n",
       "    x.observe(notebookContainer, {childList: true});\n",
       "}}\n",
       "\n",
       "// Listen for the clearing of the current output cell\n",
       "var outputEl = gd.closest('.output');\n",
       "if (outputEl) {{\n",
       "    x.observe(outputEl, {childList: true});\n",
       "}}\n",
       "\n",
       "                        })                };                });            </script>        </div>"
      ]
     },
     "metadata": {},
     "output_type": "display_data"
    }
   ],
   "source": [
    "trace = go.Scatter(x=fbRBM_post['time'],\n",
    "                   y=fbRBM_post['likes'],\n",
    "                   text=[f\"Fecha: {f}<br>Likes: {c}\" for f,c in zip(fbRBM_post['time'],fbRBM_post['likes'])],\n",
    "                   hoverinfo='text',\n",
    "                   mode='lines+markers',\n",
    "                   name='Días',\n",
    "                   line={'color':'#1DA1F2'})\n",
    " \n",
    "layout = go.Layout(title='Número de likes por día')\n",
    " \n",
    "fig = go.Figure(data=[trace], layout=layout)\n",
    "iplot(fig)"
   ]
  },
  {
   "cell_type": "code",
   "execution_count": 14,
   "metadata": {},
   "outputs": [
    {
     "data": {
      "text/html": [
       "<div>\n",
       "<style scoped>\n",
       "    .dataframe tbody tr th:only-of-type {\n",
       "        vertical-align: middle;\n",
       "    }\n",
       "\n",
       "    .dataframe tbody tr th {\n",
       "        vertical-align: top;\n",
       "    }\n",
       "\n",
       "    .dataframe thead th {\n",
       "        text-align: right;\n",
       "    }\n",
       "</style>\n",
       "<table border=\"1\" class=\"dataframe\">\n",
       "  <thead>\n",
       "    <tr style=\"text-align: right;\">\n",
       "      <th></th>\n",
       "      <th>post_id</th>\n",
       "      <th>text</th>\n",
       "      <th>post_text</th>\n",
       "      <th>shared_text</th>\n",
       "      <th>time</th>\n",
       "      <th>image</th>\n",
       "      <th>image_lowquality</th>\n",
       "      <th>images</th>\n",
       "      <th>images_description</th>\n",
       "      <th>images_lowquality</th>\n",
       "      <th>images_lowquality_description</th>\n",
       "      <th>video</th>\n",
       "      <th>video_duration_seconds</th>\n",
       "      <th>video_height</th>\n",
       "      <th>video_id</th>\n",
       "      <th>video_quality</th>\n",
       "      <th>video_size_MB</th>\n",
       "      <th>video_thumbnail</th>\n",
       "      <th>video_watches</th>\n",
       "      <th>video_width</th>\n",
       "      <th>likes</th>\n",
       "      <th>comments</th>\n",
       "      <th>shares</th>\n",
       "      <th>post_url</th>\n",
       "      <th>link</th>\n",
       "      <th>user_id</th>\n",
       "      <th>username</th>\n",
       "      <th>user_url</th>\n",
       "      <th>is_live</th>\n",
       "      <th>factcheck</th>\n",
       "      <th>shared_post_id</th>\n",
       "      <th>shared_time</th>\n",
       "      <th>shared_user_id</th>\n",
       "      <th>shared_username</th>\n",
       "      <th>shared_post_url</th>\n",
       "      <th>available</th>\n",
       "      <th>comments_full</th>\n",
       "      <th>reactors</th>\n",
       "      <th>w3_fb_url</th>\n",
       "    </tr>\n",
       "  </thead>\n",
       "  <tbody>\n",
       "    <tr>\n",
       "      <th>0</th>\n",
       "      <td>4100398173351860</td>\n",
       "      <td>Conozca más sobre Registro de Marca. Construim...</td>\n",
       "      <td>Conozca más sobre Registro de Marca. Construim...</td>\n",
       "      <td></td>\n",
       "      <td>2021-05-19 11:08:00</td>\n",
       "      <td>None</td>\n",
       "      <td>None</td>\n",
       "      <td>[]</td>\n",
       "      <td>[]</td>\n",
       "      <td>[]</td>\n",
       "      <td>[None]</td>\n",
       "      <td>https://video.fbog2-5.fna.fbcdn.net/v/t42.1790...</td>\n",
       "      <td>23.0</td>\n",
       "      <td>1080.0</td>\n",
       "      <td>3210820762468402</td>\n",
       "      <td>1080p</td>\n",
       "      <td>11.985346</td>\n",
       "      <td>https://scontent.fbog2-5.fna.fbcdn.net/v/t15.1...</td>\n",
       "      <td>238.0</td>\n",
       "      <td>1920.0</td>\n",
       "      <td>2</td>\n",
       "      <td>0</td>\n",
       "      <td>0</td>\n",
       "      <td>https://facebook.com/BancoDavivienda/posts/410...</td>\n",
       "      <td>https://bit.ly/Pymas</td>\n",
       "      <td>500223733369340</td>\n",
       "      <td>Davivienda</td>\n",
       "      <td>https://facebook.com/BancoDavivienda/?__tn__=C-R</td>\n",
       "      <td>False</td>\n",
       "      <td>None</td>\n",
       "      <td>None</td>\n",
       "      <td>None</td>\n",
       "      <td>None</td>\n",
       "      <td>None</td>\n",
       "      <td>None</td>\n",
       "      <td>True</td>\n",
       "      <td>None</td>\n",
       "      <td>None</td>\n",
       "      <td>None</td>\n",
       "    </tr>\n",
       "    <tr>\n",
       "      <th>1</th>\n",
       "      <td>4112583602133317</td>\n",
       "      <td>Conozca más sobre Registro de Marca. Construim...</td>\n",
       "      <td>Conozca más sobre Registro de Marca. Construim...</td>\n",
       "      <td></td>\n",
       "      <td>2021-05-19 11:00:01</td>\n",
       "      <td>None</td>\n",
       "      <td>None</td>\n",
       "      <td>[]</td>\n",
       "      <td>[]</td>\n",
       "      <td>[]</td>\n",
       "      <td>[None]</td>\n",
       "      <td>https://video.fbog2-5.fna.fbcdn.net/v/t42.1790...</td>\n",
       "      <td>NaN</td>\n",
       "      <td>NaN</td>\n",
       "      <td>775640286451388</td>\n",
       "      <td>None</td>\n",
       "      <td>NaN</td>\n",
       "      <td>https://scontent.fbog2-4.fna.fbcdn.net/v/t15.5...</td>\n",
       "      <td>NaN</td>\n",
       "      <td>NaN</td>\n",
       "      <td>4</td>\n",
       "      <td>2</td>\n",
       "      <td>0</td>\n",
       "      <td>https://facebook.com/BancoDavivienda/posts/411...</td>\n",
       "      <td>https://bit.ly/Pymas</td>\n",
       "      <td>500223733369340</td>\n",
       "      <td>Davivienda</td>\n",
       "      <td>https://facebook.com/BancoDavivienda/?__tn__=C-R</td>\n",
       "      <td>False</td>\n",
       "      <td>None</td>\n",
       "      <td>None</td>\n",
       "      <td>None</td>\n",
       "      <td>None</td>\n",
       "      <td>None</td>\n",
       "      <td>None</td>\n",
       "      <td>True</td>\n",
       "      <td>None</td>\n",
       "      <td>None</td>\n",
       "      <td>None</td>\n",
       "    </tr>\n",
       "    <tr>\n",
       "      <th>2</th>\n",
       "      <td>4112293615495649</td>\n",
       "      <td>En esta experiencia el filósofo Fernando Galin...</td>\n",
       "      <td>En esta experiencia el filósofo Fernando Galin...</td>\n",
       "      <td></td>\n",
       "      <td>2021-05-19 09:07:00</td>\n",
       "      <td>https://scontent.fbog2-4.fna.fbcdn.net/v/t1.64...</td>\n",
       "      <td>https://scontent.fbog2-4.fna.fbcdn.net/v/t1.64...</td>\n",
       "      <td>[https://scontent.fbog2-4.fna.fbcdn.net/v/t1.6...</td>\n",
       "      <td>[May be an image of 1 person and text that say...</td>\n",
       "      <td>[https://scontent.fbog2-4.fna.fbcdn.net/v/t1.6...</td>\n",
       "      <td>[May be an image of 1 person and text that say...</td>\n",
       "      <td>None</td>\n",
       "      <td>NaN</td>\n",
       "      <td>NaN</td>\n",
       "      <td>None</td>\n",
       "      <td>None</td>\n",
       "      <td>NaN</td>\n",
       "      <td>None</td>\n",
       "      <td>NaN</td>\n",
       "      <td>NaN</td>\n",
       "      <td>22</td>\n",
       "      <td>0</td>\n",
       "      <td>0</td>\n",
       "      <td>https://facebook.com/BancoDavivienda/posts/411...</td>\n",
       "      <td>http://www.experienciasdavivienda.com/</td>\n",
       "      <td>500223733369340</td>\n",
       "      <td>Davivienda</td>\n",
       "      <td>https://facebook.com/BancoDavivienda/?__tn__=C-R</td>\n",
       "      <td>False</td>\n",
       "      <td>None</td>\n",
       "      <td>None</td>\n",
       "      <td>None</td>\n",
       "      <td>None</td>\n",
       "      <td>None</td>\n",
       "      <td>None</td>\n",
       "      <td>True</td>\n",
       "      <td>None</td>\n",
       "      <td>None</td>\n",
       "      <td>None</td>\n",
       "    </tr>\n",
       "    <tr>\n",
       "      <th>3</th>\n",
       "      <td>4113302915394719</td>\n",
       "      <td>Creemos firmemente que lo bueno se multiplica,...</td>\n",
       "      <td>Creemos firmemente que lo bueno se multiplica,...</td>\n",
       "      <td></td>\n",
       "      <td>2021-05-18 16:02:08</td>\n",
       "      <td>https://scontent.fbog2-5.fna.fbcdn.net/v/t1.64...</td>\n",
       "      <td>https://scontent.fbog2-5.fna.fbcdn.net/v/t1.64...</td>\n",
       "      <td>[https://scontent.fbog2-5.fna.fbcdn.net/v/t1.6...</td>\n",
       "      <td>[May be an image of standing, outdoors and tex...</td>\n",
       "      <td>[https://scontent.fbog2-5.fna.fbcdn.net/v/t1.6...</td>\n",
       "      <td>[May be an image of standing, outdoors and tex...</td>\n",
       "      <td>None</td>\n",
       "      <td>NaN</td>\n",
       "      <td>NaN</td>\n",
       "      <td>None</td>\n",
       "      <td>None</td>\n",
       "      <td>NaN</td>\n",
       "      <td>None</td>\n",
       "      <td>NaN</td>\n",
       "      <td>NaN</td>\n",
       "      <td>33</td>\n",
       "      <td>0</td>\n",
       "      <td>0</td>\n",
       "      <td>https://facebook.com/BancoDavivienda/posts/411...</td>\n",
       "      <td>None</td>\n",
       "      <td>500223733369340</td>\n",
       "      <td>Davivienda</td>\n",
       "      <td>https://facebook.com/BancoDavivienda/?__tn__=C-R</td>\n",
       "      <td>False</td>\n",
       "      <td>None</td>\n",
       "      <td>None</td>\n",
       "      <td>None</td>\n",
       "      <td>None</td>\n",
       "      <td>None</td>\n",
       "      <td>None</td>\n",
       "      <td>True</td>\n",
       "      <td>None</td>\n",
       "      <td>None</td>\n",
       "      <td>None</td>\n",
       "    </tr>\n",
       "    <tr>\n",
       "      <th>4</th>\n",
       "      <td>4112643082127369</td>\n",
       "      <td>Lo invitamos a conocer a Harold y Paula, vende...</td>\n",
       "      <td>Lo invitamos a conocer a Harold y Paula, vende...</td>\n",
       "      <td></td>\n",
       "      <td>2021-05-18 11:04:58</td>\n",
       "      <td>None</td>\n",
       "      <td>None</td>\n",
       "      <td>[]</td>\n",
       "      <td>[]</td>\n",
       "      <td>[]</td>\n",
       "      <td>[None]</td>\n",
       "      <td>https://video.fbog2-4.fna.fbcdn.net/v/t42.1790...</td>\n",
       "      <td>40.0</td>\n",
       "      <td>1080.0</td>\n",
       "      <td>2901642133423526</td>\n",
       "      <td>1080p</td>\n",
       "      <td>128.160852</td>\n",
       "      <td>https://scontent.fbog2-4.fna.fbcdn.net/v/t15.5...</td>\n",
       "      <td>1334.0</td>\n",
       "      <td>1080.0</td>\n",
       "      <td>17</td>\n",
       "      <td>0</td>\n",
       "      <td>0</td>\n",
       "      <td>https://facebook.com/BancoDavivienda/posts/411...</td>\n",
       "      <td>https://bit.ly/3jz9TTO</td>\n",
       "      <td>500223733369340</td>\n",
       "      <td>Davivienda</td>\n",
       "      <td>https://facebook.com/BancoDavivienda/?__tn__=C-R</td>\n",
       "      <td>False</td>\n",
       "      <td>None</td>\n",
       "      <td>None</td>\n",
       "      <td>None</td>\n",
       "      <td>None</td>\n",
       "      <td>None</td>\n",
       "      <td>None</td>\n",
       "      <td>True</td>\n",
       "      <td>None</td>\n",
       "      <td>None</td>\n",
       "      <td>None</td>\n",
       "    </tr>\n",
       "  </tbody>\n",
       "</table>\n",
       "</div>"
      ],
      "text/plain": [
       "            post_id                                               text  \\\n",
       "0  4100398173351860  Conozca más sobre Registro de Marca. Construim...   \n",
       "1  4112583602133317  Conozca más sobre Registro de Marca. Construim...   \n",
       "2  4112293615495649  En esta experiencia el filósofo Fernando Galin...   \n",
       "3  4113302915394719  Creemos firmemente que lo bueno se multiplica,...   \n",
       "4  4112643082127369  Lo invitamos a conocer a Harold y Paula, vende...   \n",
       "\n",
       "                                           post_text shared_text  \\\n",
       "0  Conozca más sobre Registro de Marca. Construim...               \n",
       "1  Conozca más sobre Registro de Marca. Construim...               \n",
       "2  En esta experiencia el filósofo Fernando Galin...               \n",
       "3  Creemos firmemente que lo bueno se multiplica,...               \n",
       "4  Lo invitamos a conocer a Harold y Paula, vende...               \n",
       "\n",
       "                 time                                              image  \\\n",
       "0 2021-05-19 11:08:00                                               None   \n",
       "1 2021-05-19 11:00:01                                               None   \n",
       "2 2021-05-19 09:07:00  https://scontent.fbog2-4.fna.fbcdn.net/v/t1.64...   \n",
       "3 2021-05-18 16:02:08  https://scontent.fbog2-5.fna.fbcdn.net/v/t1.64...   \n",
       "4 2021-05-18 11:04:58                                               None   \n",
       "\n",
       "                                    image_lowquality  \\\n",
       "0                                               None   \n",
       "1                                               None   \n",
       "2  https://scontent.fbog2-4.fna.fbcdn.net/v/t1.64...   \n",
       "3  https://scontent.fbog2-5.fna.fbcdn.net/v/t1.64...   \n",
       "4                                               None   \n",
       "\n",
       "                                              images  \\\n",
       "0                                                 []   \n",
       "1                                                 []   \n",
       "2  [https://scontent.fbog2-4.fna.fbcdn.net/v/t1.6...   \n",
       "3  [https://scontent.fbog2-5.fna.fbcdn.net/v/t1.6...   \n",
       "4                                                 []   \n",
       "\n",
       "                                  images_description  \\\n",
       "0                                                 []   \n",
       "1                                                 []   \n",
       "2  [May be an image of 1 person and text that say...   \n",
       "3  [May be an image of standing, outdoors and tex...   \n",
       "4                                                 []   \n",
       "\n",
       "                                   images_lowquality  \\\n",
       "0                                                 []   \n",
       "1                                                 []   \n",
       "2  [https://scontent.fbog2-4.fna.fbcdn.net/v/t1.6...   \n",
       "3  [https://scontent.fbog2-5.fna.fbcdn.net/v/t1.6...   \n",
       "4                                                 []   \n",
       "\n",
       "                       images_lowquality_description  \\\n",
       "0                                             [None]   \n",
       "1                                             [None]   \n",
       "2  [May be an image of 1 person and text that say...   \n",
       "3  [May be an image of standing, outdoors and tex...   \n",
       "4                                             [None]   \n",
       "\n",
       "                                               video  video_duration_seconds  \\\n",
       "0  https://video.fbog2-5.fna.fbcdn.net/v/t42.1790...                    23.0   \n",
       "1  https://video.fbog2-5.fna.fbcdn.net/v/t42.1790...                     NaN   \n",
       "2                                               None                     NaN   \n",
       "3                                               None                     NaN   \n",
       "4  https://video.fbog2-4.fna.fbcdn.net/v/t42.1790...                    40.0   \n",
       "\n",
       "   video_height          video_id video_quality  video_size_MB  \\\n",
       "0        1080.0  3210820762468402         1080p      11.985346   \n",
       "1           NaN   775640286451388          None            NaN   \n",
       "2           NaN              None          None            NaN   \n",
       "3           NaN              None          None            NaN   \n",
       "4        1080.0  2901642133423526         1080p     128.160852   \n",
       "\n",
       "                                     video_thumbnail  video_watches  \\\n",
       "0  https://scontent.fbog2-5.fna.fbcdn.net/v/t15.1...          238.0   \n",
       "1  https://scontent.fbog2-4.fna.fbcdn.net/v/t15.5...            NaN   \n",
       "2                                               None            NaN   \n",
       "3                                               None            NaN   \n",
       "4  https://scontent.fbog2-4.fna.fbcdn.net/v/t15.5...         1334.0   \n",
       "\n",
       "   video_width  likes  comments  shares  \\\n",
       "0       1920.0      2         0       0   \n",
       "1          NaN      4         2       0   \n",
       "2          NaN     22         0       0   \n",
       "3          NaN     33         0       0   \n",
       "4       1080.0     17         0       0   \n",
       "\n",
       "                                            post_url  \\\n",
       "0  https://facebook.com/BancoDavivienda/posts/410...   \n",
       "1  https://facebook.com/BancoDavivienda/posts/411...   \n",
       "2  https://facebook.com/BancoDavivienda/posts/411...   \n",
       "3  https://facebook.com/BancoDavivienda/posts/411...   \n",
       "4  https://facebook.com/BancoDavivienda/posts/411...   \n",
       "\n",
       "                                     link          user_id    username  \\\n",
       "0                    https://bit.ly/Pymas  500223733369340  Davivienda   \n",
       "1                    https://bit.ly/Pymas  500223733369340  Davivienda   \n",
       "2  http://www.experienciasdavivienda.com/  500223733369340  Davivienda   \n",
       "3                                    None  500223733369340  Davivienda   \n",
       "4                  https://bit.ly/3jz9TTO  500223733369340  Davivienda   \n",
       "\n",
       "                                           user_url  is_live factcheck  \\\n",
       "0  https://facebook.com/BancoDavivienda/?__tn__=C-R    False      None   \n",
       "1  https://facebook.com/BancoDavivienda/?__tn__=C-R    False      None   \n",
       "2  https://facebook.com/BancoDavivienda/?__tn__=C-R    False      None   \n",
       "3  https://facebook.com/BancoDavivienda/?__tn__=C-R    False      None   \n",
       "4  https://facebook.com/BancoDavivienda/?__tn__=C-R    False      None   \n",
       "\n",
       "  shared_post_id shared_time shared_user_id shared_username shared_post_url  \\\n",
       "0           None        None           None            None            None   \n",
       "1           None        None           None            None            None   \n",
       "2           None        None           None            None            None   \n",
       "3           None        None           None            None            None   \n",
       "4           None        None           None            None            None   \n",
       "\n",
       "   available comments_full reactors w3_fb_url  \n",
       "0       True          None     None      None  \n",
       "1       True          None     None      None  \n",
       "2       True          None     None      None  \n",
       "3       True          None     None      None  \n",
       "4       True          None     None      None  "
      ]
     },
     "execution_count": 14,
     "metadata": {},
     "output_type": "execute_result"
    }
   ],
   "source": [
    "fbRBM_post.head()"
   ]
  },
  {
   "cell_type": "code",
   "execution_count": 15,
   "metadata": {},
   "outputs": [
    {
     "data": {
      "application/vnd.plotly.v1+json": {
       "config": {
        "linkText": "Export to plot.ly",
        "plotlyServerURL": "https://plot.ly",
        "showLink": false
       },
       "data": [
        {
         "hoverinfo": "text",
         "line": {
          "color": "#1DA1F2"
         },
         "mode": "lines+markers",
         "name": "Días",
         "text": [
          "Fecha: 2021-05-19 11:08:00<br>Comments: 0",
          "Fecha: 2021-05-19 11:00:01<br>Comments: 2",
          "Fecha: 2021-05-19 09:07:00<br>Comments: 0",
          "Fecha: 2021-05-18 16:02:08<br>Comments: 0",
          "Fecha: 2021-05-18 11:04:58<br>Comments: 0",
          "Fecha: 2021-05-18 08:44:57<br>Comments: 0",
          "Fecha: 2021-05-14 19:19:56<br>Comments: 20",
          "Fecha: 2021-05-14 18:00:39<br>Comments: 120",
          "Fecha: 2021-05-14 17:45:38<br>Comments: 5",
          "Fecha: 2021-05-14 15:59:09<br>Comments: 28",
          "Fecha: 2021-05-14 14:46:08<br>Comments: 3",
          "Fecha: 2021-05-13 18:01:03<br>Comments: 71",
          "Fecha: 2021-05-13 17:46:09<br>Comments: 0",
          "Fecha: 2021-05-13 15:03:23<br>Comments: 1",
          "Fecha: 2021-05-12 18:00:30<br>Comments: 46",
          "Fecha: 2021-05-12 17:45:49<br>Comments: 3",
          "Fecha: 2021-05-12 12:31:09<br>Comments: 16",
          "Fecha: 2021-05-12 09:00:01<br>Comments: 0",
          "Fecha: 2021-05-11 11:03:30<br>Comments: 3",
          "Fecha: 2021-05-11 09:00:02<br>Comments: 6",
          "Fecha: 2021-05-10 18:12:17<br>Comments: 3",
          "Fecha: 2021-05-10 18:08:15<br>Comments: 0",
          "Fecha: 2021-05-06 18:00:44<br>Comments: 482",
          "Fecha: 2021-05-06 17:45:58<br>Comments: 7",
          "Fecha: 2021-05-06 16:00:40<br>Comments: 142",
          "Fecha: 2021-05-06 15:12:56<br>Comments: 3",
          "Fecha: 2021-05-05 18:01:02<br>Comments: 250",
          "Fecha: 2021-05-05 17:45:57<br>Comments: 1",
          "Fecha: 2021-05-04 12:12:47<br>Comments: 83",
          "Fecha: 2021-05-04 09:00:01<br>Comments: 3",
          "Fecha: 2021-05-03 16:15:58<br>Comments: 9",
          "Fecha: 2021-05-03 16:08:47<br>Comments: 6",
          "Fecha: 2021-04-30 11:30:29<br>Comments: 9",
          "Fecha: 2021-04-29 18:00:33<br>Comments: 155",
          "Fecha: 2021-04-29 17:49:43<br>Comments: 2",
          "Fecha: 2021-04-29 09:15:28<br>Comments: 5",
          "Fecha: 2021-04-28 16:53:54<br>Comments: 3",
          "Fecha: 2021-04-28 16:04:25<br>Comments: 0",
          "Fecha: 2021-04-28 15:03:18<br>Comments: 2",
          "Fecha: 2021-04-28 15:03:10<br>Comments: 1",
          "Fecha: 2021-04-27 09:19:27<br>Comments: 3",
          "Fecha: 2021-04-26 18:08:13<br>Comments: 3",
          "Fecha: 2021-04-26 18:02:53<br>Comments: 3",
          "Fecha: 2021-04-23 18:00:50<br>Comments: 122",
          "Fecha: 2021-04-23 17:46:15<br>Comments: 1",
          "Fecha: 2021-04-23 17:20:34<br>Comments: 4",
          "Fecha: 2021-04-22 18:38:46<br>Comments: 1",
          "Fecha: 2021-04-22 18:00:38<br>Comments: 100",
          "Fecha: 2021-04-22 17:45:38<br>Comments: 2",
          "Fecha: 2021-04-22 16:30:02<br>Comments: 51",
          "Fecha: 2021-04-22 14:51:43<br>Comments: 1",
          "Fecha: 2021-04-22 14:00:01<br>Comments: 15",
          "Fecha: 2021-04-22 14:00:00<br>Comments: 3",
          "Fecha: 2021-04-21 16:13:10<br>Comments: 12",
          "Fecha: 2021-04-21 14:34:12<br>Comments: 8",
          "Fecha: 2021-04-21 09:00:01<br>Comments: 0",
          "Fecha: 2021-04-21 08:00:11<br>Comments: 26",
          "Fecha: 2021-04-21 07:36:13<br>Comments: 0",
          "Fecha: 2021-04-20 17:33:11<br>Comments: 5",
          "Fecha: 2021-04-20 10:56:22<br>Comments: 2",
          "Fecha: 2021-04-20 09:24:03<br>Comments: 1",
          "Fecha: 2021-04-19 11:43:51<br>Comments: 4",
          "Fecha: 2021-04-19 10:14:35<br>Comments: 1",
          "Fecha: 2021-04-16 18:00:49<br>Comments: 77",
          "Fecha: 2021-04-16 17:46:08<br>Comments: 3",
          "Fecha: 2021-04-16 11:40:59<br>Comments: 7",
          "Fecha: 2021-04-15 18:00:29<br>Comments: 126",
          "Fecha: 2021-04-15 17:48:13<br>Comments: 2",
          "Fecha: 2021-04-12 17:14:28<br>Comments: 2",
          "Fecha: 2021-04-10 14:04:45<br>Comments: 10",
          "Fecha: 2021-04-09 18:01:12<br>Comments: 86",
          "Fecha: 2021-04-09 17:58:46<br>Comments: 430",
          "Fecha: 2021-04-09 17:45:17<br>Comments: 4",
          "Fecha: 2021-04-08 16:00:10<br>Comments: 41",
          "Fecha: 2021-04-08 15:41:24<br>Comments: 3",
          "Fecha: 2021-04-07 16:02:32<br>Comments: 37",
          "Fecha: 2021-04-07 15:43:30<br>Comments: 10",
          "Fecha: 2021-04-03 11:01:15<br>Comments: 36"
         ],
         "type": "scatter",
         "x": [
          "2021-05-19T11:08:00",
          "2021-05-19T11:00:01",
          "2021-05-19T09:07:00",
          "2021-05-18T16:02:08",
          "2021-05-18T11:04:58",
          "2021-05-18T08:44:57",
          "2021-05-14T19:19:56",
          "2021-05-14T18:00:39",
          "2021-05-14T17:45:38",
          "2021-05-14T15:59:09",
          "2021-05-14T14:46:08",
          "2021-05-13T18:01:03",
          "2021-05-13T17:46:09",
          "2021-05-13T15:03:23",
          "2021-05-12T18:00:30",
          "2021-05-12T17:45:49",
          "2021-05-12T12:31:09",
          "2021-05-12T09:00:01",
          "2021-05-11T11:03:30",
          "2021-05-11T09:00:02",
          "2021-05-10T18:12:17",
          "2021-05-10T18:08:15",
          "2021-05-06T18:00:44",
          "2021-05-06T17:45:58",
          "2021-05-06T16:00:40",
          "2021-05-06T15:12:56",
          "2021-05-05T18:01:02",
          "2021-05-05T17:45:57",
          "2021-05-04T12:12:47",
          "2021-05-04T09:00:01",
          "2021-05-03T16:15:58",
          "2021-05-03T16:08:47",
          "2021-04-30T11:30:29",
          "2021-04-29T18:00:33",
          "2021-04-29T17:49:43",
          "2021-04-29T09:15:28",
          "2021-04-28T16:53:54",
          "2021-04-28T16:04:25",
          "2021-04-28T15:03:18",
          "2021-04-28T15:03:10",
          "2021-04-27T09:19:27",
          "2021-04-26T18:08:13",
          "2021-04-26T18:02:53",
          "2021-04-23T18:00:50",
          "2021-04-23T17:46:15",
          "2021-04-23T17:20:34",
          "2021-04-22T18:38:46",
          "2021-04-22T18:00:38",
          "2021-04-22T17:45:38",
          "2021-04-22T16:30:02",
          "2021-04-22T14:51:43",
          "2021-04-22T14:00:01",
          "2021-04-22T14:00:00",
          "2021-04-21T16:13:10",
          "2021-04-21T14:34:12",
          "2021-04-21T09:00:01",
          "2021-04-21T08:00:11",
          "2021-04-21T07:36:13",
          "2021-04-20T17:33:11",
          "2021-04-20T10:56:22",
          "2021-04-20T09:24:03",
          "2021-04-19T11:43:51",
          "2021-04-19T10:14:35",
          "2021-04-16T18:00:49",
          "2021-04-16T17:46:08",
          "2021-04-16T11:40:59",
          "2021-04-15T18:00:29",
          "2021-04-15T17:48:13",
          "2021-04-12T17:14:28",
          "2021-04-10T14:04:45",
          "2021-04-09T18:01:12",
          "2021-04-09T17:58:46",
          "2021-04-09T17:45:17",
          "2021-04-08T16:00:10",
          "2021-04-08T15:41:24",
          "2021-04-07T16:02:32",
          "2021-04-07T15:43:30",
          "2021-04-03T11:01:15"
         ],
         "y": [
          0,
          2,
          0,
          0,
          0,
          0,
          20,
          120,
          5,
          28,
          3,
          71,
          0,
          1,
          46,
          3,
          16,
          0,
          3,
          6,
          3,
          0,
          482,
          7,
          142,
          3,
          250,
          1,
          83,
          3,
          9,
          6,
          9,
          155,
          2,
          5,
          3,
          0,
          2,
          1,
          3,
          3,
          3,
          122,
          1,
          4,
          1,
          100,
          2,
          51,
          1,
          15,
          3,
          12,
          8,
          0,
          26,
          0,
          5,
          2,
          1,
          4,
          1,
          77,
          3,
          7,
          126,
          2,
          2,
          10,
          86,
          430,
          4,
          41,
          3,
          37,
          10,
          36
         ]
        }
       ],
       "layout": {
        "template": {
         "data": {
          "bar": [
           {
            "error_x": {
             "color": "#2a3f5f"
            },
            "error_y": {
             "color": "#2a3f5f"
            },
            "marker": {
             "line": {
              "color": "#E5ECF6",
              "width": 0.5
             }
            },
            "type": "bar"
           }
          ],
          "barpolar": [
           {
            "marker": {
             "line": {
              "color": "#E5ECF6",
              "width": 0.5
             }
            },
            "type": "barpolar"
           }
          ],
          "carpet": [
           {
            "aaxis": {
             "endlinecolor": "#2a3f5f",
             "gridcolor": "white",
             "linecolor": "white",
             "minorgridcolor": "white",
             "startlinecolor": "#2a3f5f"
            },
            "baxis": {
             "endlinecolor": "#2a3f5f",
             "gridcolor": "white",
             "linecolor": "white",
             "minorgridcolor": "white",
             "startlinecolor": "#2a3f5f"
            },
            "type": "carpet"
           }
          ],
          "choropleth": [
           {
            "colorbar": {
             "outlinewidth": 0,
             "ticks": ""
            },
            "type": "choropleth"
           }
          ],
          "contour": [
           {
            "colorbar": {
             "outlinewidth": 0,
             "ticks": ""
            },
            "colorscale": [
             [
              0,
              "#0d0887"
             ],
             [
              0.1111111111111111,
              "#46039f"
             ],
             [
              0.2222222222222222,
              "#7201a8"
             ],
             [
              0.3333333333333333,
              "#9c179e"
             ],
             [
              0.4444444444444444,
              "#bd3786"
             ],
             [
              0.5555555555555556,
              "#d8576b"
             ],
             [
              0.6666666666666666,
              "#ed7953"
             ],
             [
              0.7777777777777778,
              "#fb9f3a"
             ],
             [
              0.8888888888888888,
              "#fdca26"
             ],
             [
              1,
              "#f0f921"
             ]
            ],
            "type": "contour"
           }
          ],
          "contourcarpet": [
           {
            "colorbar": {
             "outlinewidth": 0,
             "ticks": ""
            },
            "type": "contourcarpet"
           }
          ],
          "heatmap": [
           {
            "colorbar": {
             "outlinewidth": 0,
             "ticks": ""
            },
            "colorscale": [
             [
              0,
              "#0d0887"
             ],
             [
              0.1111111111111111,
              "#46039f"
             ],
             [
              0.2222222222222222,
              "#7201a8"
             ],
             [
              0.3333333333333333,
              "#9c179e"
             ],
             [
              0.4444444444444444,
              "#bd3786"
             ],
             [
              0.5555555555555556,
              "#d8576b"
             ],
             [
              0.6666666666666666,
              "#ed7953"
             ],
             [
              0.7777777777777778,
              "#fb9f3a"
             ],
             [
              0.8888888888888888,
              "#fdca26"
             ],
             [
              1,
              "#f0f921"
             ]
            ],
            "type": "heatmap"
           }
          ],
          "heatmapgl": [
           {
            "colorbar": {
             "outlinewidth": 0,
             "ticks": ""
            },
            "colorscale": [
             [
              0,
              "#0d0887"
             ],
             [
              0.1111111111111111,
              "#46039f"
             ],
             [
              0.2222222222222222,
              "#7201a8"
             ],
             [
              0.3333333333333333,
              "#9c179e"
             ],
             [
              0.4444444444444444,
              "#bd3786"
             ],
             [
              0.5555555555555556,
              "#d8576b"
             ],
             [
              0.6666666666666666,
              "#ed7953"
             ],
             [
              0.7777777777777778,
              "#fb9f3a"
             ],
             [
              0.8888888888888888,
              "#fdca26"
             ],
             [
              1,
              "#f0f921"
             ]
            ],
            "type": "heatmapgl"
           }
          ],
          "histogram": [
           {
            "marker": {
             "colorbar": {
              "outlinewidth": 0,
              "ticks": ""
             }
            },
            "type": "histogram"
           }
          ],
          "histogram2d": [
           {
            "colorbar": {
             "outlinewidth": 0,
             "ticks": ""
            },
            "colorscale": [
             [
              0,
              "#0d0887"
             ],
             [
              0.1111111111111111,
              "#46039f"
             ],
             [
              0.2222222222222222,
              "#7201a8"
             ],
             [
              0.3333333333333333,
              "#9c179e"
             ],
             [
              0.4444444444444444,
              "#bd3786"
             ],
             [
              0.5555555555555556,
              "#d8576b"
             ],
             [
              0.6666666666666666,
              "#ed7953"
             ],
             [
              0.7777777777777778,
              "#fb9f3a"
             ],
             [
              0.8888888888888888,
              "#fdca26"
             ],
             [
              1,
              "#f0f921"
             ]
            ],
            "type": "histogram2d"
           }
          ],
          "histogram2dcontour": [
           {
            "colorbar": {
             "outlinewidth": 0,
             "ticks": ""
            },
            "colorscale": [
             [
              0,
              "#0d0887"
             ],
             [
              0.1111111111111111,
              "#46039f"
             ],
             [
              0.2222222222222222,
              "#7201a8"
             ],
             [
              0.3333333333333333,
              "#9c179e"
             ],
             [
              0.4444444444444444,
              "#bd3786"
             ],
             [
              0.5555555555555556,
              "#d8576b"
             ],
             [
              0.6666666666666666,
              "#ed7953"
             ],
             [
              0.7777777777777778,
              "#fb9f3a"
             ],
             [
              0.8888888888888888,
              "#fdca26"
             ],
             [
              1,
              "#f0f921"
             ]
            ],
            "type": "histogram2dcontour"
           }
          ],
          "mesh3d": [
           {
            "colorbar": {
             "outlinewidth": 0,
             "ticks": ""
            },
            "type": "mesh3d"
           }
          ],
          "parcoords": [
           {
            "line": {
             "colorbar": {
              "outlinewidth": 0,
              "ticks": ""
             }
            },
            "type": "parcoords"
           }
          ],
          "pie": [
           {
            "automargin": true,
            "type": "pie"
           }
          ],
          "scatter": [
           {
            "marker": {
             "colorbar": {
              "outlinewidth": 0,
              "ticks": ""
             }
            },
            "type": "scatter"
           }
          ],
          "scatter3d": [
           {
            "line": {
             "colorbar": {
              "outlinewidth": 0,
              "ticks": ""
             }
            },
            "marker": {
             "colorbar": {
              "outlinewidth": 0,
              "ticks": ""
             }
            },
            "type": "scatter3d"
           }
          ],
          "scattercarpet": [
           {
            "marker": {
             "colorbar": {
              "outlinewidth": 0,
              "ticks": ""
             }
            },
            "type": "scattercarpet"
           }
          ],
          "scattergeo": [
           {
            "marker": {
             "colorbar": {
              "outlinewidth": 0,
              "ticks": ""
             }
            },
            "type": "scattergeo"
           }
          ],
          "scattergl": [
           {
            "marker": {
             "colorbar": {
              "outlinewidth": 0,
              "ticks": ""
             }
            },
            "type": "scattergl"
           }
          ],
          "scattermapbox": [
           {
            "marker": {
             "colorbar": {
              "outlinewidth": 0,
              "ticks": ""
             }
            },
            "type": "scattermapbox"
           }
          ],
          "scatterpolar": [
           {
            "marker": {
             "colorbar": {
              "outlinewidth": 0,
              "ticks": ""
             }
            },
            "type": "scatterpolar"
           }
          ],
          "scatterpolargl": [
           {
            "marker": {
             "colorbar": {
              "outlinewidth": 0,
              "ticks": ""
             }
            },
            "type": "scatterpolargl"
           }
          ],
          "scatterternary": [
           {
            "marker": {
             "colorbar": {
              "outlinewidth": 0,
              "ticks": ""
             }
            },
            "type": "scatterternary"
           }
          ],
          "surface": [
           {
            "colorbar": {
             "outlinewidth": 0,
             "ticks": ""
            },
            "colorscale": [
             [
              0,
              "#0d0887"
             ],
             [
              0.1111111111111111,
              "#46039f"
             ],
             [
              0.2222222222222222,
              "#7201a8"
             ],
             [
              0.3333333333333333,
              "#9c179e"
             ],
             [
              0.4444444444444444,
              "#bd3786"
             ],
             [
              0.5555555555555556,
              "#d8576b"
             ],
             [
              0.6666666666666666,
              "#ed7953"
             ],
             [
              0.7777777777777778,
              "#fb9f3a"
             ],
             [
              0.8888888888888888,
              "#fdca26"
             ],
             [
              1,
              "#f0f921"
             ]
            ],
            "type": "surface"
           }
          ],
          "table": [
           {
            "cells": {
             "fill": {
              "color": "#EBF0F8"
             },
             "line": {
              "color": "white"
             }
            },
            "header": {
             "fill": {
              "color": "#C8D4E3"
             },
             "line": {
              "color": "white"
             }
            },
            "type": "table"
           }
          ]
         },
         "layout": {
          "annotationdefaults": {
           "arrowcolor": "#2a3f5f",
           "arrowhead": 0,
           "arrowwidth": 1
          },
          "coloraxis": {
           "colorbar": {
            "outlinewidth": 0,
            "ticks": ""
           }
          },
          "colorscale": {
           "diverging": [
            [
             0,
             "#8e0152"
            ],
            [
             0.1,
             "#c51b7d"
            ],
            [
             0.2,
             "#de77ae"
            ],
            [
             0.3,
             "#f1b6da"
            ],
            [
             0.4,
             "#fde0ef"
            ],
            [
             0.5,
             "#f7f7f7"
            ],
            [
             0.6,
             "#e6f5d0"
            ],
            [
             0.7,
             "#b8e186"
            ],
            [
             0.8,
             "#7fbc41"
            ],
            [
             0.9,
             "#4d9221"
            ],
            [
             1,
             "#276419"
            ]
           ],
           "sequential": [
            [
             0,
             "#0d0887"
            ],
            [
             0.1111111111111111,
             "#46039f"
            ],
            [
             0.2222222222222222,
             "#7201a8"
            ],
            [
             0.3333333333333333,
             "#9c179e"
            ],
            [
             0.4444444444444444,
             "#bd3786"
            ],
            [
             0.5555555555555556,
             "#d8576b"
            ],
            [
             0.6666666666666666,
             "#ed7953"
            ],
            [
             0.7777777777777778,
             "#fb9f3a"
            ],
            [
             0.8888888888888888,
             "#fdca26"
            ],
            [
             1,
             "#f0f921"
            ]
           ],
           "sequentialminus": [
            [
             0,
             "#0d0887"
            ],
            [
             0.1111111111111111,
             "#46039f"
            ],
            [
             0.2222222222222222,
             "#7201a8"
            ],
            [
             0.3333333333333333,
             "#9c179e"
            ],
            [
             0.4444444444444444,
             "#bd3786"
            ],
            [
             0.5555555555555556,
             "#d8576b"
            ],
            [
             0.6666666666666666,
             "#ed7953"
            ],
            [
             0.7777777777777778,
             "#fb9f3a"
            ],
            [
             0.8888888888888888,
             "#fdca26"
            ],
            [
             1,
             "#f0f921"
            ]
           ]
          },
          "colorway": [
           "#636efa",
           "#EF553B",
           "#00cc96",
           "#ab63fa",
           "#FFA15A",
           "#19d3f3",
           "#FF6692",
           "#B6E880",
           "#FF97FF",
           "#FECB52"
          ],
          "font": {
           "color": "#2a3f5f"
          },
          "geo": {
           "bgcolor": "white",
           "lakecolor": "white",
           "landcolor": "#E5ECF6",
           "showlakes": true,
           "showland": true,
           "subunitcolor": "white"
          },
          "hoverlabel": {
           "align": "left"
          },
          "hovermode": "closest",
          "mapbox": {
           "style": "light"
          },
          "paper_bgcolor": "white",
          "plot_bgcolor": "#E5ECF6",
          "polar": {
           "angularaxis": {
            "gridcolor": "white",
            "linecolor": "white",
            "ticks": ""
           },
           "bgcolor": "#E5ECF6",
           "radialaxis": {
            "gridcolor": "white",
            "linecolor": "white",
            "ticks": ""
           }
          },
          "scene": {
           "xaxis": {
            "backgroundcolor": "#E5ECF6",
            "gridcolor": "white",
            "gridwidth": 2,
            "linecolor": "white",
            "showbackground": true,
            "ticks": "",
            "zerolinecolor": "white"
           },
           "yaxis": {
            "backgroundcolor": "#E5ECF6",
            "gridcolor": "white",
            "gridwidth": 2,
            "linecolor": "white",
            "showbackground": true,
            "ticks": "",
            "zerolinecolor": "white"
           },
           "zaxis": {
            "backgroundcolor": "#E5ECF6",
            "gridcolor": "white",
            "gridwidth": 2,
            "linecolor": "white",
            "showbackground": true,
            "ticks": "",
            "zerolinecolor": "white"
           }
          },
          "shapedefaults": {
           "line": {
            "color": "#2a3f5f"
           }
          },
          "ternary": {
           "aaxis": {
            "gridcolor": "white",
            "linecolor": "white",
            "ticks": ""
           },
           "baxis": {
            "gridcolor": "white",
            "linecolor": "white",
            "ticks": ""
           },
           "bgcolor": "#E5ECF6",
           "caxis": {
            "gridcolor": "white",
            "linecolor": "white",
            "ticks": ""
           }
          },
          "title": {
           "x": 0.05
          },
          "xaxis": {
           "automargin": true,
           "gridcolor": "white",
           "linecolor": "white",
           "ticks": "",
           "title": {
            "standoff": 15
           },
           "zerolinecolor": "white",
           "zerolinewidth": 2
          },
          "yaxis": {
           "automargin": true,
           "gridcolor": "white",
           "linecolor": "white",
           "ticks": "",
           "title": {
            "standoff": 15
           },
           "zerolinecolor": "white",
           "zerolinewidth": 2
          }
         }
        },
        "title": {
         "text": "Número de comentarios por día"
        }
       }
      },
      "text/html": [
       "<div>                            <div id=\"af5a0311-5f5e-49e0-a77d-352dcaedffa4\" class=\"plotly-graph-div\" style=\"height:525px; width:100%;\"></div>            <script type=\"text/javascript\">                require([\"plotly\"], function(Plotly) {                    window.PLOTLYENV=window.PLOTLYENV || {};                                    if (document.getElementById(\"af5a0311-5f5e-49e0-a77d-352dcaedffa4\")) {                    Plotly.newPlot(                        \"af5a0311-5f5e-49e0-a77d-352dcaedffa4\",                        [{\"hoverinfo\": \"text\", \"line\": {\"color\": \"#1DA1F2\"}, \"mode\": \"lines+markers\", \"name\": \"D\\u00edas\", \"text\": [\"Fecha: 2021-05-19 11:08:00<br>Comments: 0\", \"Fecha: 2021-05-19 11:00:01<br>Comments: 2\", \"Fecha: 2021-05-19 09:07:00<br>Comments: 0\", \"Fecha: 2021-05-18 16:02:08<br>Comments: 0\", \"Fecha: 2021-05-18 11:04:58<br>Comments: 0\", \"Fecha: 2021-05-18 08:44:57<br>Comments: 0\", \"Fecha: 2021-05-14 19:19:56<br>Comments: 20\", \"Fecha: 2021-05-14 18:00:39<br>Comments: 120\", \"Fecha: 2021-05-14 17:45:38<br>Comments: 5\", \"Fecha: 2021-05-14 15:59:09<br>Comments: 28\", \"Fecha: 2021-05-14 14:46:08<br>Comments: 3\", \"Fecha: 2021-05-13 18:01:03<br>Comments: 71\", \"Fecha: 2021-05-13 17:46:09<br>Comments: 0\", \"Fecha: 2021-05-13 15:03:23<br>Comments: 1\", \"Fecha: 2021-05-12 18:00:30<br>Comments: 46\", \"Fecha: 2021-05-12 17:45:49<br>Comments: 3\", \"Fecha: 2021-05-12 12:31:09<br>Comments: 16\", \"Fecha: 2021-05-12 09:00:01<br>Comments: 0\", \"Fecha: 2021-05-11 11:03:30<br>Comments: 3\", \"Fecha: 2021-05-11 09:00:02<br>Comments: 6\", \"Fecha: 2021-05-10 18:12:17<br>Comments: 3\", \"Fecha: 2021-05-10 18:08:15<br>Comments: 0\", \"Fecha: 2021-05-06 18:00:44<br>Comments: 482\", \"Fecha: 2021-05-06 17:45:58<br>Comments: 7\", \"Fecha: 2021-05-06 16:00:40<br>Comments: 142\", \"Fecha: 2021-05-06 15:12:56<br>Comments: 3\", \"Fecha: 2021-05-05 18:01:02<br>Comments: 250\", \"Fecha: 2021-05-05 17:45:57<br>Comments: 1\", \"Fecha: 2021-05-04 12:12:47<br>Comments: 83\", \"Fecha: 2021-05-04 09:00:01<br>Comments: 3\", \"Fecha: 2021-05-03 16:15:58<br>Comments: 9\", \"Fecha: 2021-05-03 16:08:47<br>Comments: 6\", \"Fecha: 2021-04-30 11:30:29<br>Comments: 9\", \"Fecha: 2021-04-29 18:00:33<br>Comments: 155\", \"Fecha: 2021-04-29 17:49:43<br>Comments: 2\", \"Fecha: 2021-04-29 09:15:28<br>Comments: 5\", \"Fecha: 2021-04-28 16:53:54<br>Comments: 3\", \"Fecha: 2021-04-28 16:04:25<br>Comments: 0\", \"Fecha: 2021-04-28 15:03:18<br>Comments: 2\", \"Fecha: 2021-04-28 15:03:10<br>Comments: 1\", \"Fecha: 2021-04-27 09:19:27<br>Comments: 3\", \"Fecha: 2021-04-26 18:08:13<br>Comments: 3\", \"Fecha: 2021-04-26 18:02:53<br>Comments: 3\", \"Fecha: 2021-04-23 18:00:50<br>Comments: 122\", \"Fecha: 2021-04-23 17:46:15<br>Comments: 1\", \"Fecha: 2021-04-23 17:20:34<br>Comments: 4\", \"Fecha: 2021-04-22 18:38:46<br>Comments: 1\", \"Fecha: 2021-04-22 18:00:38<br>Comments: 100\", \"Fecha: 2021-04-22 17:45:38<br>Comments: 2\", \"Fecha: 2021-04-22 16:30:02<br>Comments: 51\", \"Fecha: 2021-04-22 14:51:43<br>Comments: 1\", \"Fecha: 2021-04-22 14:00:01<br>Comments: 15\", \"Fecha: 2021-04-22 14:00:00<br>Comments: 3\", \"Fecha: 2021-04-21 16:13:10<br>Comments: 12\", \"Fecha: 2021-04-21 14:34:12<br>Comments: 8\", \"Fecha: 2021-04-21 09:00:01<br>Comments: 0\", \"Fecha: 2021-04-21 08:00:11<br>Comments: 26\", \"Fecha: 2021-04-21 07:36:13<br>Comments: 0\", \"Fecha: 2021-04-20 17:33:11<br>Comments: 5\", \"Fecha: 2021-04-20 10:56:22<br>Comments: 2\", \"Fecha: 2021-04-20 09:24:03<br>Comments: 1\", \"Fecha: 2021-04-19 11:43:51<br>Comments: 4\", \"Fecha: 2021-04-19 10:14:35<br>Comments: 1\", \"Fecha: 2021-04-16 18:00:49<br>Comments: 77\", \"Fecha: 2021-04-16 17:46:08<br>Comments: 3\", \"Fecha: 2021-04-16 11:40:59<br>Comments: 7\", \"Fecha: 2021-04-15 18:00:29<br>Comments: 126\", \"Fecha: 2021-04-15 17:48:13<br>Comments: 2\", \"Fecha: 2021-04-12 17:14:28<br>Comments: 2\", \"Fecha: 2021-04-10 14:04:45<br>Comments: 10\", \"Fecha: 2021-04-09 18:01:12<br>Comments: 86\", \"Fecha: 2021-04-09 17:58:46<br>Comments: 430\", \"Fecha: 2021-04-09 17:45:17<br>Comments: 4\", \"Fecha: 2021-04-08 16:00:10<br>Comments: 41\", \"Fecha: 2021-04-08 15:41:24<br>Comments: 3\", \"Fecha: 2021-04-07 16:02:32<br>Comments: 37\", \"Fecha: 2021-04-07 15:43:30<br>Comments: 10\", \"Fecha: 2021-04-03 11:01:15<br>Comments: 36\"], \"type\": \"scatter\", \"x\": [\"2021-05-19T11:08:00\", \"2021-05-19T11:00:01\", \"2021-05-19T09:07:00\", \"2021-05-18T16:02:08\", \"2021-05-18T11:04:58\", \"2021-05-18T08:44:57\", \"2021-05-14T19:19:56\", \"2021-05-14T18:00:39\", \"2021-05-14T17:45:38\", \"2021-05-14T15:59:09\", \"2021-05-14T14:46:08\", \"2021-05-13T18:01:03\", \"2021-05-13T17:46:09\", \"2021-05-13T15:03:23\", \"2021-05-12T18:00:30\", \"2021-05-12T17:45:49\", \"2021-05-12T12:31:09\", \"2021-05-12T09:00:01\", \"2021-05-11T11:03:30\", \"2021-05-11T09:00:02\", \"2021-05-10T18:12:17\", \"2021-05-10T18:08:15\", \"2021-05-06T18:00:44\", \"2021-05-06T17:45:58\", \"2021-05-06T16:00:40\", \"2021-05-06T15:12:56\", \"2021-05-05T18:01:02\", \"2021-05-05T17:45:57\", \"2021-05-04T12:12:47\", \"2021-05-04T09:00:01\", \"2021-05-03T16:15:58\", \"2021-05-03T16:08:47\", \"2021-04-30T11:30:29\", \"2021-04-29T18:00:33\", \"2021-04-29T17:49:43\", \"2021-04-29T09:15:28\", \"2021-04-28T16:53:54\", \"2021-04-28T16:04:25\", \"2021-04-28T15:03:18\", \"2021-04-28T15:03:10\", \"2021-04-27T09:19:27\", \"2021-04-26T18:08:13\", \"2021-04-26T18:02:53\", \"2021-04-23T18:00:50\", \"2021-04-23T17:46:15\", \"2021-04-23T17:20:34\", \"2021-04-22T18:38:46\", \"2021-04-22T18:00:38\", \"2021-04-22T17:45:38\", \"2021-04-22T16:30:02\", \"2021-04-22T14:51:43\", \"2021-04-22T14:00:01\", \"2021-04-22T14:00:00\", \"2021-04-21T16:13:10\", \"2021-04-21T14:34:12\", \"2021-04-21T09:00:01\", \"2021-04-21T08:00:11\", \"2021-04-21T07:36:13\", \"2021-04-20T17:33:11\", \"2021-04-20T10:56:22\", \"2021-04-20T09:24:03\", \"2021-04-19T11:43:51\", \"2021-04-19T10:14:35\", \"2021-04-16T18:00:49\", \"2021-04-16T17:46:08\", \"2021-04-16T11:40:59\", \"2021-04-15T18:00:29\", \"2021-04-15T17:48:13\", \"2021-04-12T17:14:28\", \"2021-04-10T14:04:45\", \"2021-04-09T18:01:12\", \"2021-04-09T17:58:46\", \"2021-04-09T17:45:17\", \"2021-04-08T16:00:10\", \"2021-04-08T15:41:24\", \"2021-04-07T16:02:32\", \"2021-04-07T15:43:30\", \"2021-04-03T11:01:15\"], \"y\": [0, 2, 0, 0, 0, 0, 20, 120, 5, 28, 3, 71, 0, 1, 46, 3, 16, 0, 3, 6, 3, 0, 482, 7, 142, 3, 250, 1, 83, 3, 9, 6, 9, 155, 2, 5, 3, 0, 2, 1, 3, 3, 3, 122, 1, 4, 1, 100, 2, 51, 1, 15, 3, 12, 8, 0, 26, 0, 5, 2, 1, 4, 1, 77, 3, 7, 126, 2, 2, 10, 86, 430, 4, 41, 3, 37, 10, 36]}],                        {\"template\": {\"data\": {\"bar\": [{\"error_x\": {\"color\": \"#2a3f5f\"}, \"error_y\": {\"color\": \"#2a3f5f\"}, \"marker\": {\"line\": {\"color\": \"#E5ECF6\", \"width\": 0.5}}, \"type\": \"bar\"}], \"barpolar\": [{\"marker\": {\"line\": {\"color\": \"#E5ECF6\", \"width\": 0.5}}, \"type\": \"barpolar\"}], \"carpet\": [{\"aaxis\": {\"endlinecolor\": \"#2a3f5f\", \"gridcolor\": \"white\", \"linecolor\": \"white\", \"minorgridcolor\": \"white\", \"startlinecolor\": \"#2a3f5f\"}, \"baxis\": {\"endlinecolor\": \"#2a3f5f\", \"gridcolor\": \"white\", \"linecolor\": \"white\", \"minorgridcolor\": \"white\", \"startlinecolor\": \"#2a3f5f\"}, \"type\": \"carpet\"}], \"choropleth\": [{\"colorbar\": {\"outlinewidth\": 0, \"ticks\": \"\"}, \"type\": \"choropleth\"}], \"contour\": [{\"colorbar\": {\"outlinewidth\": 0, \"ticks\": \"\"}, \"colorscale\": [[0.0, \"#0d0887\"], [0.1111111111111111, \"#46039f\"], [0.2222222222222222, \"#7201a8\"], [0.3333333333333333, \"#9c179e\"], [0.4444444444444444, \"#bd3786\"], [0.5555555555555556, \"#d8576b\"], [0.6666666666666666, \"#ed7953\"], [0.7777777777777778, \"#fb9f3a\"], [0.8888888888888888, \"#fdca26\"], [1.0, \"#f0f921\"]], \"type\": \"contour\"}], \"contourcarpet\": [{\"colorbar\": {\"outlinewidth\": 0, \"ticks\": \"\"}, \"type\": \"contourcarpet\"}], \"heatmap\": [{\"colorbar\": {\"outlinewidth\": 0, \"ticks\": \"\"}, \"colorscale\": [[0.0, \"#0d0887\"], [0.1111111111111111, \"#46039f\"], [0.2222222222222222, \"#7201a8\"], [0.3333333333333333, \"#9c179e\"], [0.4444444444444444, \"#bd3786\"], [0.5555555555555556, \"#d8576b\"], [0.6666666666666666, \"#ed7953\"], [0.7777777777777778, \"#fb9f3a\"], [0.8888888888888888, \"#fdca26\"], [1.0, \"#f0f921\"]], \"type\": \"heatmap\"}], \"heatmapgl\": [{\"colorbar\": {\"outlinewidth\": 0, \"ticks\": \"\"}, \"colorscale\": [[0.0, \"#0d0887\"], [0.1111111111111111, \"#46039f\"], [0.2222222222222222, \"#7201a8\"], [0.3333333333333333, \"#9c179e\"], [0.4444444444444444, \"#bd3786\"], [0.5555555555555556, \"#d8576b\"], [0.6666666666666666, \"#ed7953\"], [0.7777777777777778, \"#fb9f3a\"], [0.8888888888888888, \"#fdca26\"], [1.0, \"#f0f921\"]], \"type\": \"heatmapgl\"}], \"histogram\": [{\"marker\": {\"colorbar\": {\"outlinewidth\": 0, \"ticks\": \"\"}}, \"type\": \"histogram\"}], \"histogram2d\": [{\"colorbar\": {\"outlinewidth\": 0, \"ticks\": \"\"}, \"colorscale\": [[0.0, \"#0d0887\"], [0.1111111111111111, \"#46039f\"], [0.2222222222222222, \"#7201a8\"], [0.3333333333333333, \"#9c179e\"], [0.4444444444444444, \"#bd3786\"], [0.5555555555555556, \"#d8576b\"], [0.6666666666666666, \"#ed7953\"], [0.7777777777777778, \"#fb9f3a\"], [0.8888888888888888, \"#fdca26\"], [1.0, \"#f0f921\"]], \"type\": \"histogram2d\"}], \"histogram2dcontour\": [{\"colorbar\": {\"outlinewidth\": 0, \"ticks\": \"\"}, \"colorscale\": [[0.0, \"#0d0887\"], [0.1111111111111111, \"#46039f\"], [0.2222222222222222, \"#7201a8\"], [0.3333333333333333, \"#9c179e\"], [0.4444444444444444, \"#bd3786\"], [0.5555555555555556, \"#d8576b\"], [0.6666666666666666, \"#ed7953\"], [0.7777777777777778, \"#fb9f3a\"], [0.8888888888888888, \"#fdca26\"], [1.0, \"#f0f921\"]], \"type\": \"histogram2dcontour\"}], \"mesh3d\": [{\"colorbar\": {\"outlinewidth\": 0, \"ticks\": \"\"}, \"type\": \"mesh3d\"}], \"parcoords\": [{\"line\": {\"colorbar\": {\"outlinewidth\": 0, \"ticks\": \"\"}}, \"type\": \"parcoords\"}], \"pie\": [{\"automargin\": true, \"type\": \"pie\"}], \"scatter\": [{\"marker\": {\"colorbar\": {\"outlinewidth\": 0, \"ticks\": \"\"}}, \"type\": \"scatter\"}], \"scatter3d\": [{\"line\": {\"colorbar\": {\"outlinewidth\": 0, \"ticks\": \"\"}}, \"marker\": {\"colorbar\": {\"outlinewidth\": 0, \"ticks\": \"\"}}, \"type\": \"scatter3d\"}], \"scattercarpet\": [{\"marker\": {\"colorbar\": {\"outlinewidth\": 0, \"ticks\": \"\"}}, \"type\": \"scattercarpet\"}], \"scattergeo\": [{\"marker\": {\"colorbar\": {\"outlinewidth\": 0, \"ticks\": \"\"}}, \"type\": \"scattergeo\"}], \"scattergl\": [{\"marker\": {\"colorbar\": {\"outlinewidth\": 0, \"ticks\": \"\"}}, \"type\": \"scattergl\"}], \"scattermapbox\": [{\"marker\": {\"colorbar\": {\"outlinewidth\": 0, \"ticks\": \"\"}}, \"type\": \"scattermapbox\"}], \"scatterpolar\": [{\"marker\": {\"colorbar\": {\"outlinewidth\": 0, \"ticks\": \"\"}}, \"type\": \"scatterpolar\"}], \"scatterpolargl\": [{\"marker\": {\"colorbar\": {\"outlinewidth\": 0, \"ticks\": \"\"}}, \"type\": \"scatterpolargl\"}], \"scatterternary\": [{\"marker\": {\"colorbar\": {\"outlinewidth\": 0, \"ticks\": \"\"}}, \"type\": \"scatterternary\"}], \"surface\": [{\"colorbar\": {\"outlinewidth\": 0, \"ticks\": \"\"}, \"colorscale\": [[0.0, \"#0d0887\"], [0.1111111111111111, \"#46039f\"], [0.2222222222222222, \"#7201a8\"], [0.3333333333333333, \"#9c179e\"], [0.4444444444444444, \"#bd3786\"], [0.5555555555555556, \"#d8576b\"], [0.6666666666666666, \"#ed7953\"], [0.7777777777777778, \"#fb9f3a\"], [0.8888888888888888, \"#fdca26\"], [1.0, \"#f0f921\"]], \"type\": \"surface\"}], \"table\": [{\"cells\": {\"fill\": {\"color\": \"#EBF0F8\"}, \"line\": {\"color\": \"white\"}}, \"header\": {\"fill\": {\"color\": \"#C8D4E3\"}, \"line\": {\"color\": \"white\"}}, \"type\": \"table\"}]}, \"layout\": {\"annotationdefaults\": {\"arrowcolor\": \"#2a3f5f\", \"arrowhead\": 0, \"arrowwidth\": 1}, \"coloraxis\": {\"colorbar\": {\"outlinewidth\": 0, \"ticks\": \"\"}}, \"colorscale\": {\"diverging\": [[0, \"#8e0152\"], [0.1, \"#c51b7d\"], [0.2, \"#de77ae\"], [0.3, \"#f1b6da\"], [0.4, \"#fde0ef\"], [0.5, \"#f7f7f7\"], [0.6, \"#e6f5d0\"], [0.7, \"#b8e186\"], [0.8, \"#7fbc41\"], [0.9, \"#4d9221\"], [1, \"#276419\"]], \"sequential\": [[0.0, \"#0d0887\"], [0.1111111111111111, \"#46039f\"], [0.2222222222222222, \"#7201a8\"], [0.3333333333333333, \"#9c179e\"], [0.4444444444444444, \"#bd3786\"], [0.5555555555555556, \"#d8576b\"], [0.6666666666666666, \"#ed7953\"], [0.7777777777777778, \"#fb9f3a\"], [0.8888888888888888, \"#fdca26\"], [1.0, \"#f0f921\"]], \"sequentialminus\": [[0.0, \"#0d0887\"], [0.1111111111111111, \"#46039f\"], [0.2222222222222222, \"#7201a8\"], [0.3333333333333333, \"#9c179e\"], [0.4444444444444444, \"#bd3786\"], [0.5555555555555556, \"#d8576b\"], [0.6666666666666666, \"#ed7953\"], [0.7777777777777778, \"#fb9f3a\"], [0.8888888888888888, \"#fdca26\"], [1.0, \"#f0f921\"]]}, \"colorway\": [\"#636efa\", \"#EF553B\", \"#00cc96\", \"#ab63fa\", \"#FFA15A\", \"#19d3f3\", \"#FF6692\", \"#B6E880\", \"#FF97FF\", \"#FECB52\"], \"font\": {\"color\": \"#2a3f5f\"}, \"geo\": {\"bgcolor\": \"white\", \"lakecolor\": \"white\", \"landcolor\": \"#E5ECF6\", \"showlakes\": true, \"showland\": true, \"subunitcolor\": \"white\"}, \"hoverlabel\": {\"align\": \"left\"}, \"hovermode\": \"closest\", \"mapbox\": {\"style\": \"light\"}, \"paper_bgcolor\": \"white\", \"plot_bgcolor\": \"#E5ECF6\", \"polar\": {\"angularaxis\": {\"gridcolor\": \"white\", \"linecolor\": \"white\", \"ticks\": \"\"}, \"bgcolor\": \"#E5ECF6\", \"radialaxis\": {\"gridcolor\": \"white\", \"linecolor\": \"white\", \"ticks\": \"\"}}, \"scene\": {\"xaxis\": {\"backgroundcolor\": \"#E5ECF6\", \"gridcolor\": \"white\", \"gridwidth\": 2, \"linecolor\": \"white\", \"showbackground\": true, \"ticks\": \"\", \"zerolinecolor\": \"white\"}, \"yaxis\": {\"backgroundcolor\": \"#E5ECF6\", \"gridcolor\": \"white\", \"gridwidth\": 2, \"linecolor\": \"white\", \"showbackground\": true, \"ticks\": \"\", \"zerolinecolor\": \"white\"}, \"zaxis\": {\"backgroundcolor\": \"#E5ECF6\", \"gridcolor\": \"white\", \"gridwidth\": 2, \"linecolor\": \"white\", \"showbackground\": true, \"ticks\": \"\", \"zerolinecolor\": \"white\"}}, \"shapedefaults\": {\"line\": {\"color\": \"#2a3f5f\"}}, \"ternary\": {\"aaxis\": {\"gridcolor\": \"white\", \"linecolor\": \"white\", \"ticks\": \"\"}, \"baxis\": {\"gridcolor\": \"white\", \"linecolor\": \"white\", \"ticks\": \"\"}, \"bgcolor\": \"#E5ECF6\", \"caxis\": {\"gridcolor\": \"white\", \"linecolor\": \"white\", \"ticks\": \"\"}}, \"title\": {\"x\": 0.05}, \"xaxis\": {\"automargin\": true, \"gridcolor\": \"white\", \"linecolor\": \"white\", \"ticks\": \"\", \"title\": {\"standoff\": 15}, \"zerolinecolor\": \"white\", \"zerolinewidth\": 2}, \"yaxis\": {\"automargin\": true, \"gridcolor\": \"white\", \"linecolor\": \"white\", \"ticks\": \"\", \"title\": {\"standoff\": 15}, \"zerolinecolor\": \"white\", \"zerolinewidth\": 2}}}, \"title\": {\"text\": \"N\\u00famero de comentarios por d\\u00eda\"}},                        {\"responsive\": true}                    ).then(function(){\n",
       "                            \n",
       "var gd = document.getElementById('af5a0311-5f5e-49e0-a77d-352dcaedffa4');\n",
       "var x = new MutationObserver(function (mutations, observer) {{\n",
       "        var display = window.getComputedStyle(gd).display;\n",
       "        if (!display || display === 'none') {{\n",
       "            console.log([gd, 'removed!']);\n",
       "            Plotly.purge(gd);\n",
       "            observer.disconnect();\n",
       "        }}\n",
       "}});\n",
       "\n",
       "// Listen for the removal of the full notebook cells\n",
       "var notebookContainer = gd.closest('#notebook-container');\n",
       "if (notebookContainer) {{\n",
       "    x.observe(notebookContainer, {childList: true});\n",
       "}}\n",
       "\n",
       "// Listen for the clearing of the current output cell\n",
       "var outputEl = gd.closest('.output');\n",
       "if (outputEl) {{\n",
       "    x.observe(outputEl, {childList: true});\n",
       "}}\n",
       "\n",
       "                        })                };                });            </script>        </div>"
      ]
     },
     "metadata": {},
     "output_type": "display_data"
    }
   ],
   "source": [
    "trace = go.Scatter(x=fbRBM_post['time'],\n",
    "                   y=fbRBM_post['comments'],\n",
    "                   text=[f\"Fecha: {f}<br>Comments: {c}\" for f,c in zip(fbRBM_post['time'],fbRBM_post['comments'])],\n",
    "                   hoverinfo='text',\n",
    "                   mode='lines+markers',\n",
    "                   name='Días',\n",
    "                   line={'color':'#1DA1F2'})\n",
    " \n",
    "layout = go.Layout(title='Número de comentarios por día')\n",
    " \n",
    "fig = go.Figure(data=[trace], layout=layout)\n",
    "iplot(fig)"
   ]
  },
  {
   "cell_type": "code",
   "execution_count": 16,
   "metadata": {},
   "outputs": [],
   "source": [
    "import re\n",
    "from nltk.corpus import stopwords\n",
    "stopwords = stopwords.words('spanish')"
   ]
  },
  {
   "cell_type": "code",
   "execution_count": 17,
   "metadata": {},
   "outputs": [
    {
     "data": {
      "text/plain": [
       "0     conozca más sobre registro de marca construimo...\n",
       "1     conozca más sobre registro de marca construimo...\n",
       "2     en esta experiencia el filósofo fernando galin...\n",
       "3     creemos firmemente que lo bueno se multiplica ...\n",
       "4     lo invitamos a conocer a harold y paula vended...\n",
       "5     en esta experiencia junto a liliana garavito d...\n",
       "6              wed may may experiencias davivienda mayo\n",
       "7     con poe se descubre delante nuestro la riqueza...\n",
       "8     con poe se descubre delante nuestro la riqueza...\n",
       "9     estamos orgullosos por los dos grandes reconoc...\n",
       "10    conozca más sobre registro de marca construimo...\n",
       "11    el desorden la mayoría de las veces es exceso ...\n",
       "12    el desorden la mayoría de las veces es exceso ...\n",
       "13    conozca más sobre el impacto de la movilidad e...\n",
       "14    en experiencias davivienda disfrute junto a la...\n",
       "15    en experiencias davivienda disfrute junto a la...\n",
       "16     mijo las claves no se le dan a nadie conozca ...\n",
       "17    en esta experiencia el filósofo fernando galin...\n",
       "18    la tiendas y restaurantes también hacen parte ...\n",
       "19    en esta experiencia junto a liliana garavito d...\n",
       "20    en esta experiencia liderada por gabriella luc...\n",
       "21                 wed may experiencias davivienda mayo\n",
       "22    en experiencias davivienda la coach de vida y ...\n",
       "23    en experiencias davivienda la coach de vida y ...\n",
       "24     juevescondaviviendacorredores blockchain y cr...\n",
       "25     juevescondaviviendacorredores blockchain y cr...\n",
       "26    en experiencias davivienda disfrute junto a ga...\n",
       "27    en experiencias davivienda disfrute junto a ga...\n",
       "28    información de su interés les compartimos hora...\n",
       "29    en esta experiencia junto a maria villegas des...\n",
       "30    en esta experiencia liderada por gabriella luc...\n",
       "31                 wed may experiencias davivienda mayo\n",
       "32    conéctese con nosotros el próximo miércoles a ...\n",
       "33    en experiencias davivienda la coach de vida y ...\n",
       "34    en experiencias davivienda la coach de vida y ...\n",
       "35    en esta experiencia el ilusionista juanpablone...\n",
       "36    desde davivienda sabemos que el desarrollo deb...\n",
       "37    conozca más sobre registro de marca construimo...\n",
       "38    ingrese con sus hijos y descubran de forma div...\n",
       "39    ingrese con sus hijos y descubran de forma div...\n",
       "40    en esta experiencia junto a maríap villegas ap...\n",
       "41    en esta experiencia junto a juliana gonzalez r...\n",
       "42                wed apr experiencias davivienda abril\n",
       "43    en experiencias davivienda acompañe al filósof...\n",
       "44    en experiencias davivienda acompañe al filósof...\n",
       "45    creemos en el impacto positivo en el medio amb...\n",
       "46    creemos en el impacto positivo en el medio amb...\n",
       "47    en experiencias davivienda lo invitamos a expl...\n",
       "48    en experiencias davivienda lo invitamos a expl...\n",
       "49     sabía que el registro de marca es uno de los ...\n",
       "Name: pp, dtype: object"
      ]
     },
     "execution_count": 17,
     "metadata": {},
     "output_type": "execute_result"
    }
   ],
   "source": [
    "\n",
    "def pre_procesado(texto):\n",
    "    texto = texto.lower()\n",
    "    texto = re.sub(r\"[\\W\\d_]+\", \" \", texto)\n",
    "    #texto = \" \".join([palabra for palabra in texto.split() if palabra not in stopwords])\n",
    "    return texto\n",
    "\n",
    "fbRBM_post['pp'] = fbRBM_post['text'].apply(lambda texto: pre_procesado(texto))\n",
    "\n",
    "fbRBM_post['pp'].head(50)"
   ]
  },
  {
   "cell_type": "code",
   "execution_count": 18,
   "metadata": {},
   "outputs": [
    {
     "data": {
      "text/plain": [
       "0     0.5574\n",
       "1     0.5574\n",
       "2     0.0000\n",
       "3     0.0000\n",
       "4     0.7184\n",
       "5     0.0000\n",
       "6     0.0000\n",
       "7     0.0000\n",
       "8     0.0000\n",
       "9     0.4588\n",
       "10    0.5574\n",
       "11   -0.6808\n",
       "12   -0.6808\n",
       "13    0.5574\n",
       "14    0.0000\n",
       "15    0.0000\n",
       "16   -0.2960\n",
       "17    0.0000\n",
       "18    0.5574\n",
       "19    0.0000\n",
       "20    0.0000\n",
       "21    0.0000\n",
       "22    0.0000\n",
       "23    0.0000\n",
       "24    0.0000\n",
       "25    0.0000\n",
       "26    0.0000\n",
       "27    0.0000\n",
       "28    0.5574\n",
       "29    0.0000\n",
       "30    0.0000\n",
       "31    0.0000\n",
       "32    0.0000\n",
       "33    0.0000\n",
       "34    0.0000\n",
       "35    0.0000\n",
       "36   -0.2960\n",
       "37    0.5574\n",
       "38    0.0000\n",
       "39    0.0000\n",
       "40    0.0000\n",
       "41    0.0000\n",
       "42    0.0000\n",
       "43   -0.5574\n",
       "44   -0.5574\n",
       "45    0.0000\n",
       "46    0.0000\n",
       "47    0.0000\n",
       "48    0.0000\n",
       "49    0.0000\n",
       "Name: sentimiento, dtype: float64"
      ]
     },
     "execution_count": 18,
     "metadata": {},
     "output_type": "execute_result"
    }
   ],
   "source": [
    "#Libreria VADER\n",
    "from vaderSentiment.vaderSentiment import SentimentIntensityAnalyzer\n",
    "vader = SentimentIntensityAnalyzer()\n",
    "\n",
    "#Se aplica el modelo\n",
    "fbRBM_post['sentimiento'] = fbRBM_post['pp'].apply(lambda valor: vader.polarity_scores(valor)['compound'])\n",
    "fbRBM_post['sentimiento'].head(50)"
   ]
  },
  {
   "cell_type": "code",
   "execution_count": 19,
   "metadata": {},
   "outputs": [
    {
     "data": {
      "text/html": [
       "<div>\n",
       "<style scoped>\n",
       "    .dataframe tbody tr th:only-of-type {\n",
       "        vertical-align: middle;\n",
       "    }\n",
       "\n",
       "    .dataframe tbody tr th {\n",
       "        vertical-align: top;\n",
       "    }\n",
       "\n",
       "    .dataframe thead th {\n",
       "        text-align: right;\n",
       "    }\n",
       "</style>\n",
       "<table border=\"1\" class=\"dataframe\">\n",
       "  <thead>\n",
       "    <tr style=\"text-align: right;\">\n",
       "      <th></th>\n",
       "      <th>post_id</th>\n",
       "      <th>text</th>\n",
       "      <th>post_text</th>\n",
       "      <th>shared_text</th>\n",
       "      <th>time</th>\n",
       "      <th>image</th>\n",
       "      <th>image_lowquality</th>\n",
       "      <th>images</th>\n",
       "      <th>images_description</th>\n",
       "      <th>images_lowquality</th>\n",
       "      <th>images_lowquality_description</th>\n",
       "      <th>video</th>\n",
       "      <th>video_duration_seconds</th>\n",
       "      <th>video_height</th>\n",
       "      <th>video_id</th>\n",
       "      <th>video_quality</th>\n",
       "      <th>video_size_MB</th>\n",
       "      <th>video_thumbnail</th>\n",
       "      <th>video_watches</th>\n",
       "      <th>video_width</th>\n",
       "      <th>likes</th>\n",
       "      <th>comments</th>\n",
       "      <th>shares</th>\n",
       "      <th>post_url</th>\n",
       "      <th>link</th>\n",
       "      <th>user_id</th>\n",
       "      <th>username</th>\n",
       "      <th>user_url</th>\n",
       "      <th>is_live</th>\n",
       "      <th>factcheck</th>\n",
       "      <th>shared_post_id</th>\n",
       "      <th>shared_time</th>\n",
       "      <th>shared_user_id</th>\n",
       "      <th>shared_username</th>\n",
       "      <th>shared_post_url</th>\n",
       "      <th>available</th>\n",
       "      <th>comments_full</th>\n",
       "      <th>reactors</th>\n",
       "      <th>w3_fb_url</th>\n",
       "      <th>pp</th>\n",
       "      <th>sentimiento</th>\n",
       "    </tr>\n",
       "  </thead>\n",
       "  <tbody>\n",
       "    <tr>\n",
       "      <th>12</th>\n",
       "      <td>4097705626954448</td>\n",
       "      <td>El desorden, la mayoría de las veces, es exces...</td>\n",
       "      <td>El desorden, la mayoría de las veces, es exces...</td>\n",
       "      <td>Aprender a soltar organizando sus espacios | E...</td>\n",
       "      <td>2021-05-13 17:46:09</td>\n",
       "      <td>None</td>\n",
       "      <td>None</td>\n",
       "      <td>[]</td>\n",
       "      <td>[]</td>\n",
       "      <td>[]</td>\n",
       "      <td>[]</td>\n",
       "      <td>None</td>\n",
       "      <td>NaN</td>\n",
       "      <td>NaN</td>\n",
       "      <td>None</td>\n",
       "      <td>None</td>\n",
       "      <td>NaN</td>\n",
       "      <td>None</td>\n",
       "      <td>NaN</td>\n",
       "      <td>NaN</td>\n",
       "      <td>19</td>\n",
       "      <td>0</td>\n",
       "      <td>0</td>\n",
       "      <td>https://facebook.com/BancoDavivienda/posts/409...</td>\n",
       "      <td>None</td>\n",
       "      <td>500223733369340</td>\n",
       "      <td>Davivienda</td>\n",
       "      <td>https://facebook.com/BancoDavivienda/?__tn__=C-R</td>\n",
       "      <td>False</td>\n",
       "      <td>None</td>\n",
       "      <td>None</td>\n",
       "      <td>None</td>\n",
       "      <td>None</td>\n",
       "      <td>None</td>\n",
       "      <td>None</td>\n",
       "      <td>True</td>\n",
       "      <td>None</td>\n",
       "      <td>None</td>\n",
       "      <td>None</td>\n",
       "      <td>el desorden la mayoría de las veces es exceso ...</td>\n",
       "      <td>-0.6808</td>\n",
       "    </tr>\n",
       "    <tr>\n",
       "      <th>11</th>\n",
       "      <td>498014921390276</td>\n",
       "      <td>El desorden, la mayoría de las veces, es exces...</td>\n",
       "      <td>El desorden, la mayoría de las veces, es exces...</td>\n",
       "      <td></td>\n",
       "      <td>2021-05-13 18:01:03</td>\n",
       "      <td>None</td>\n",
       "      <td>None</td>\n",
       "      <td>[]</td>\n",
       "      <td>[]</td>\n",
       "      <td>[]</td>\n",
       "      <td>[None]</td>\n",
       "      <td>https://scontent.fbog2-4.fna.fbcdn.net/v/t66.3...</td>\n",
       "      <td>NaN</td>\n",
       "      <td>NaN</td>\n",
       "      <td>498014921390276</td>\n",
       "      <td>None</td>\n",
       "      <td>NaN</td>\n",
       "      <td>https://scontent.fbog2-5.fna.fbcdn.net/v/t15.1...</td>\n",
       "      <td>NaN</td>\n",
       "      <td>NaN</td>\n",
       "      <td>231</td>\n",
       "      <td>71</td>\n",
       "      <td>46</td>\n",
       "      <td>https://facebook.com/BancoDavivienda/posts/498...</td>\n",
       "      <td>None</td>\n",
       "      <td>500223733369340</td>\n",
       "      <td>Davivienda</td>\n",
       "      <td>https://facebook.com/BancoDavivienda/?__tn__=C-R</td>\n",
       "      <td>False</td>\n",
       "      <td>None</td>\n",
       "      <td>None</td>\n",
       "      <td>None</td>\n",
       "      <td>None</td>\n",
       "      <td>None</td>\n",
       "      <td>None</td>\n",
       "      <td>True</td>\n",
       "      <td>None</td>\n",
       "      <td>None</td>\n",
       "      <td>None</td>\n",
       "      <td>el desorden la mayoría de las veces es exceso ...</td>\n",
       "      <td>-0.6808</td>\n",
       "    </tr>\n",
       "    <tr>\n",
       "      <th>43</th>\n",
       "      <td>902724610578941</td>\n",
       "      <td>En Experiencias Davivienda acompañe al filósof...</td>\n",
       "      <td>En Experiencias Davivienda acompañe al filósof...</td>\n",
       "      <td></td>\n",
       "      <td>2021-04-23 18:00:50</td>\n",
       "      <td>None</td>\n",
       "      <td>None</td>\n",
       "      <td>[]</td>\n",
       "      <td>[]</td>\n",
       "      <td>[]</td>\n",
       "      <td>[None]</td>\n",
       "      <td>https://scontent.fbog2-5.fna.fbcdn.net/v/t66.3...</td>\n",
       "      <td>NaN</td>\n",
       "      <td>NaN</td>\n",
       "      <td>902724610578941</td>\n",
       "      <td>None</td>\n",
       "      <td>NaN</td>\n",
       "      <td>https://scontent.fbog2-4.fna.fbcdn.net/v/t15.1...</td>\n",
       "      <td>NaN</td>\n",
       "      <td>NaN</td>\n",
       "      <td>273</td>\n",
       "      <td>122</td>\n",
       "      <td>67</td>\n",
       "      <td>https://facebook.com/BancoDavivienda/posts/902...</td>\n",
       "      <td>None</td>\n",
       "      <td>500223733369340</td>\n",
       "      <td>Davivienda</td>\n",
       "      <td>https://facebook.com/BancoDavivienda/?__tn__=C-R</td>\n",
       "      <td>False</td>\n",
       "      <td>None</td>\n",
       "      <td>None</td>\n",
       "      <td>None</td>\n",
       "      <td>None</td>\n",
       "      <td>None</td>\n",
       "      <td>None</td>\n",
       "      <td>True</td>\n",
       "      <td>None</td>\n",
       "      <td>None</td>\n",
       "      <td>None</td>\n",
       "      <td>en experiencias davivienda acompañe al filósof...</td>\n",
       "      <td>-0.5574</td>\n",
       "    </tr>\n",
       "    <tr>\n",
       "      <th>44</th>\n",
       "      <td>4038709269520751</td>\n",
       "      <td>En Experiencias Davivienda acompañe al filósof...</td>\n",
       "      <td>En Experiencias Davivienda acompañe al filósof...</td>\n",
       "      <td>Un recorrido por cuatro momentos del pensamien...</td>\n",
       "      <td>2021-04-23 17:46:15</td>\n",
       "      <td>None</td>\n",
       "      <td>None</td>\n",
       "      <td>[]</td>\n",
       "      <td>[]</td>\n",
       "      <td>[]</td>\n",
       "      <td>[]</td>\n",
       "      <td>None</td>\n",
       "      <td>NaN</td>\n",
       "      <td>NaN</td>\n",
       "      <td>None</td>\n",
       "      <td>None</td>\n",
       "      <td>NaN</td>\n",
       "      <td>None</td>\n",
       "      <td>NaN</td>\n",
       "      <td>NaN</td>\n",
       "      <td>13</td>\n",
       "      <td>1</td>\n",
       "      <td>0</td>\n",
       "      <td>https://facebook.com/BancoDavivienda/posts/403...</td>\n",
       "      <td>https://emprenderte.co/jovenes-en-accion-pagos</td>\n",
       "      <td>500223733369340</td>\n",
       "      <td>Davivienda</td>\n",
       "      <td>https://facebook.com/BancoDavivienda/?__tn__=C-R</td>\n",
       "      <td>False</td>\n",
       "      <td>None</td>\n",
       "      <td>None</td>\n",
       "      <td>None</td>\n",
       "      <td>None</td>\n",
       "      <td>None</td>\n",
       "      <td>None</td>\n",
       "      <td>True</td>\n",
       "      <td>None</td>\n",
       "      <td>None</td>\n",
       "      <td>None</td>\n",
       "      <td>en experiencias davivienda acompañe al filósof...</td>\n",
       "      <td>-0.5574</td>\n",
       "    </tr>\n",
       "    <tr>\n",
       "      <th>77</th>\n",
       "      <td>3980117475379931</td>\n",
       "      <td>Sabemos que ponerse el tapabocas no es lo más ...</td>\n",
       "      <td>Sabemos que ponerse el tapabocas no es lo más ...</td>\n",
       "      <td></td>\n",
       "      <td>2021-04-03 11:01:15</td>\n",
       "      <td>https://scontent.fbog2-4.fna.fbcdn.net/v/t1.64...</td>\n",
       "      <td>https://scontent.fbog2-4.fna.fbcdn.net/v/t1.64...</td>\n",
       "      <td>[https://scontent.fbog2-4.fna.fbcdn.net/v/t1.6...</td>\n",
       "      <td>[May be an image of 1 person and text that say...</td>\n",
       "      <td>[https://scontent.fbog2-4.fna.fbcdn.net/v/t1.6...</td>\n",
       "      <td>[May be an image of 1 person and text that say...</td>\n",
       "      <td>None</td>\n",
       "      <td>NaN</td>\n",
       "      <td>NaN</td>\n",
       "      <td>None</td>\n",
       "      <td>None</td>\n",
       "      <td>NaN</td>\n",
       "      <td>None</td>\n",
       "      <td>NaN</td>\n",
       "      <td>NaN</td>\n",
       "      <td>172</td>\n",
       "      <td>36</td>\n",
       "      <td>0</td>\n",
       "      <td>https://facebook.com/BancoDavivienda/posts/398...</td>\n",
       "      <td>None</td>\n",
       "      <td>500223733369340</td>\n",
       "      <td>Davivienda</td>\n",
       "      <td>https://facebook.com/BancoDavivienda/?__tn__=C-R</td>\n",
       "      <td>False</td>\n",
       "      <td>None</td>\n",
       "      <td>None</td>\n",
       "      <td>None</td>\n",
       "      <td>None</td>\n",
       "      <td>None</td>\n",
       "      <td>None</td>\n",
       "      <td>True</td>\n",
       "      <td>None</td>\n",
       "      <td>None</td>\n",
       "      <td>None</td>\n",
       "      <td>sabemos que ponerse el tapabocas no es lo más ...</td>\n",
       "      <td>-0.2960</td>\n",
       "    </tr>\n",
       "    <tr>\n",
       "      <th>...</th>\n",
       "      <td>...</td>\n",
       "      <td>...</td>\n",
       "      <td>...</td>\n",
       "      <td>...</td>\n",
       "      <td>...</td>\n",
       "      <td>...</td>\n",
       "      <td>...</td>\n",
       "      <td>...</td>\n",
       "      <td>...</td>\n",
       "      <td>...</td>\n",
       "      <td>...</td>\n",
       "      <td>...</td>\n",
       "      <td>...</td>\n",
       "      <td>...</td>\n",
       "      <td>...</td>\n",
       "      <td>...</td>\n",
       "      <td>...</td>\n",
       "      <td>...</td>\n",
       "      <td>...</td>\n",
       "      <td>...</td>\n",
       "      <td>...</td>\n",
       "      <td>...</td>\n",
       "      <td>...</td>\n",
       "      <td>...</td>\n",
       "      <td>...</td>\n",
       "      <td>...</td>\n",
       "      <td>...</td>\n",
       "      <td>...</td>\n",
       "      <td>...</td>\n",
       "      <td>...</td>\n",
       "      <td>...</td>\n",
       "      <td>...</td>\n",
       "      <td>...</td>\n",
       "      <td>...</td>\n",
       "      <td>...</td>\n",
       "      <td>...</td>\n",
       "      <td>...</td>\n",
       "      <td>...</td>\n",
       "      <td>...</td>\n",
       "      <td>...</td>\n",
       "      <td>...</td>\n",
       "    </tr>\n",
       "    <tr>\n",
       "      <th>4</th>\n",
       "      <td>4112643082127369</td>\n",
       "      <td>Lo invitamos a conocer a Harold y Paula, vende...</td>\n",
       "      <td>Lo invitamos a conocer a Harold y Paula, vende...</td>\n",
       "      <td></td>\n",
       "      <td>2021-05-18 11:04:58</td>\n",
       "      <td>None</td>\n",
       "      <td>None</td>\n",
       "      <td>[]</td>\n",
       "      <td>[]</td>\n",
       "      <td>[]</td>\n",
       "      <td>[None]</td>\n",
       "      <td>https://video.fbog2-4.fna.fbcdn.net/v/t42.1790...</td>\n",
       "      <td>40.0</td>\n",
       "      <td>1080.0</td>\n",
       "      <td>2901642133423526</td>\n",
       "      <td>1080p</td>\n",
       "      <td>128.160852</td>\n",
       "      <td>https://scontent.fbog2-4.fna.fbcdn.net/v/t15.5...</td>\n",
       "      <td>1334.0</td>\n",
       "      <td>1080.0</td>\n",
       "      <td>17</td>\n",
       "      <td>0</td>\n",
       "      <td>0</td>\n",
       "      <td>https://facebook.com/BancoDavivienda/posts/411...</td>\n",
       "      <td>https://bit.ly/3jz9TTO</td>\n",
       "      <td>500223733369340</td>\n",
       "      <td>Davivienda</td>\n",
       "      <td>https://facebook.com/BancoDavivienda/?__tn__=C-R</td>\n",
       "      <td>False</td>\n",
       "      <td>None</td>\n",
       "      <td>None</td>\n",
       "      <td>None</td>\n",
       "      <td>None</td>\n",
       "      <td>None</td>\n",
       "      <td>None</td>\n",
       "      <td>True</td>\n",
       "      <td>None</td>\n",
       "      <td>None</td>\n",
       "      <td>None</td>\n",
       "      <td>lo invitamos a conocer a harold y paula vended...</td>\n",
       "      <td>0.7184</td>\n",
       "    </tr>\n",
       "    <tr>\n",
       "      <th>76</th>\n",
       "      <td>3992373767487635</td>\n",
       "      <td>SUSCRÍBETE A NUESTRO CANAL: http://bit.ly/Banc...</td>\n",
       "      <td>SUSCRÍBETE A NUESTRO CANAL: http://bit.ly/Banc...</td>\n",
       "      <td>Volver a crecer</td>\n",
       "      <td>2021-04-07 15:43:30</td>\n",
       "      <td>None</td>\n",
       "      <td>None</td>\n",
       "      <td>[]</td>\n",
       "      <td>[]</td>\n",
       "      <td>[]</td>\n",
       "      <td>[]</td>\n",
       "      <td>None</td>\n",
       "      <td>NaN</td>\n",
       "      <td>NaN</td>\n",
       "      <td>None</td>\n",
       "      <td>None</td>\n",
       "      <td>NaN</td>\n",
       "      <td>None</td>\n",
       "      <td>NaN</td>\n",
       "      <td>NaN</td>\n",
       "      <td>17</td>\n",
       "      <td>10</td>\n",
       "      <td>0</td>\n",
       "      <td>https://facebook.com/BancoDavivienda/posts/399...</td>\n",
       "      <td>https://bit.ly/BancoDaviviendaYT​</td>\n",
       "      <td>500223733369340</td>\n",
       "      <td>Davivienda</td>\n",
       "      <td>https://facebook.com/BancoDavivienda/?__tn__=C-R</td>\n",
       "      <td>False</td>\n",
       "      <td>None</td>\n",
       "      <td>None</td>\n",
       "      <td>None</td>\n",
       "      <td>None</td>\n",
       "      <td>None</td>\n",
       "      <td>None</td>\n",
       "      <td>True</td>\n",
       "      <td>None</td>\n",
       "      <td>None</td>\n",
       "      <td>None</td>\n",
       "      <td>suscríbete a nuestro canal http bit ly bancoda...</td>\n",
       "      <td>0.9657</td>\n",
       "    </tr>\n",
       "    <tr>\n",
       "      <th>75</th>\n",
       "      <td>779115113014774</td>\n",
       "      <td>SUSCRÍBETE A NUESTRO CANAL: http://bit.ly/Banc...</td>\n",
       "      <td>SUSCRÍBETE A NUESTRO CANAL: http://bit.ly/Banc...</td>\n",
       "      <td></td>\n",
       "      <td>2021-04-07 16:02:32</td>\n",
       "      <td>None</td>\n",
       "      <td>None</td>\n",
       "      <td>[]</td>\n",
       "      <td>[]</td>\n",
       "      <td>[]</td>\n",
       "      <td>[None]</td>\n",
       "      <td>https://scontent.fbog2-5.fna.fbcdn.net/v/t66.3...</td>\n",
       "      <td>NaN</td>\n",
       "      <td>NaN</td>\n",
       "      <td>779115113014774</td>\n",
       "      <td>None</td>\n",
       "      <td>NaN</td>\n",
       "      <td>https://scontent.fbog2-4.fna.fbcdn.net/v/t15.1...</td>\n",
       "      <td>NaN</td>\n",
       "      <td>NaN</td>\n",
       "      <td>48</td>\n",
       "      <td>37</td>\n",
       "      <td>1</td>\n",
       "      <td>https://facebook.com/BancoDavivienda/posts/779...</td>\n",
       "      <td>https://bit.ly/BancoDaviviendaYT​</td>\n",
       "      <td>500223733369340</td>\n",
       "      <td>Davivienda</td>\n",
       "      <td>https://facebook.com/BancoDavivienda/?__tn__=C-R</td>\n",
       "      <td>False</td>\n",
       "      <td>None</td>\n",
       "      <td>None</td>\n",
       "      <td>None</td>\n",
       "      <td>None</td>\n",
       "      <td>None</td>\n",
       "      <td>None</td>\n",
       "      <td>True</td>\n",
       "      <td>None</td>\n",
       "      <td>None</td>\n",
       "      <td>None</td>\n",
       "      <td>suscríbete a nuestro canal http bit ly bancoda...</td>\n",
       "      <td>0.9657</td>\n",
       "    </tr>\n",
       "    <tr>\n",
       "      <th>56</th>\n",
       "      <td>228992935644082</td>\n",
       "      <td>SUSCRÍBETE A NUESTRO CANAL: http://bit.ly/Banc...</td>\n",
       "      <td>SUSCRÍBETE A NUESTRO CANAL: http://bit.ly/Banc...</td>\n",
       "      <td></td>\n",
       "      <td>2021-04-21 08:00:11</td>\n",
       "      <td>None</td>\n",
       "      <td>None</td>\n",
       "      <td>[]</td>\n",
       "      <td>[]</td>\n",
       "      <td>[]</td>\n",
       "      <td>[None]</td>\n",
       "      <td>https://scontent.fbog2-4.fna.fbcdn.net/v/t66.3...</td>\n",
       "      <td>NaN</td>\n",
       "      <td>NaN</td>\n",
       "      <td>228992935644082</td>\n",
       "      <td>None</td>\n",
       "      <td>NaN</td>\n",
       "      <td>https://scontent.fbog2-5.fna.fbcdn.net/v/t15.1...</td>\n",
       "      <td>NaN</td>\n",
       "      <td>NaN</td>\n",
       "      <td>50</td>\n",
       "      <td>26</td>\n",
       "      <td>4</td>\n",
       "      <td>https://facebook.com/BancoDavivienda/posts/228...</td>\n",
       "      <td>https://bit.ly/BancoDaviviendaYT​​</td>\n",
       "      <td>500223733369340</td>\n",
       "      <td>Davivienda</td>\n",
       "      <td>https://facebook.com/BancoDavivienda/?__tn__=C-R</td>\n",
       "      <td>False</td>\n",
       "      <td>None</td>\n",
       "      <td>None</td>\n",
       "      <td>None</td>\n",
       "      <td>None</td>\n",
       "      <td>None</td>\n",
       "      <td>None</td>\n",
       "      <td>True</td>\n",
       "      <td>None</td>\n",
       "      <td>None</td>\n",
       "      <td>None</td>\n",
       "      <td>suscríbete a nuestro canal http bit ly bancoda...</td>\n",
       "      <td>0.9657</td>\n",
       "    </tr>\n",
       "    <tr>\n",
       "      <th>57</th>\n",
       "      <td>4031646173560394</td>\n",
       "      <td>SUSCRÍBETE A NUESTRO CANAL: http://bit.ly/Banc...</td>\n",
       "      <td>SUSCRÍBETE A NUESTRO CANAL: http://bit.ly/Banc...</td>\n",
       "      <td>Coyuntura de mercados financieros y efectos en...</td>\n",
       "      <td>2021-04-21 07:36:13</td>\n",
       "      <td>None</td>\n",
       "      <td>None</td>\n",
       "      <td>[]</td>\n",
       "      <td>[]</td>\n",
       "      <td>[]</td>\n",
       "      <td>[]</td>\n",
       "      <td>None</td>\n",
       "      <td>NaN</td>\n",
       "      <td>NaN</td>\n",
       "      <td>None</td>\n",
       "      <td>None</td>\n",
       "      <td>NaN</td>\n",
       "      <td>None</td>\n",
       "      <td>NaN</td>\n",
       "      <td>NaN</td>\n",
       "      <td>15</td>\n",
       "      <td>0</td>\n",
       "      <td>0</td>\n",
       "      <td>https://facebook.com/BancoDavivienda/posts/403...</td>\n",
       "      <td>https://bit.ly/BancoDaviviendaYT​​</td>\n",
       "      <td>500223733369340</td>\n",
       "      <td>Davivienda</td>\n",
       "      <td>https://facebook.com/BancoDavivienda/?__tn__=C-R</td>\n",
       "      <td>False</td>\n",
       "      <td>None</td>\n",
       "      <td>None</td>\n",
       "      <td>None</td>\n",
       "      <td>None</td>\n",
       "      <td>None</td>\n",
       "      <td>None</td>\n",
       "      <td>True</td>\n",
       "      <td>None</td>\n",
       "      <td>None</td>\n",
       "      <td>None</td>\n",
       "      <td>suscríbete a nuestro canal http bit ly bancoda...</td>\n",
       "      <td>0.9747</td>\n",
       "    </tr>\n",
       "  </tbody>\n",
       "</table>\n",
       "<p>78 rows × 41 columns</p>\n",
       "</div>"
      ],
      "text/plain": [
       "             post_id                                               text  \\\n",
       "12  4097705626954448  El desorden, la mayoría de las veces, es exces...   \n",
       "11   498014921390276  El desorden, la mayoría de las veces, es exces...   \n",
       "43   902724610578941  En Experiencias Davivienda acompañe al filósof...   \n",
       "44  4038709269520751  En Experiencias Davivienda acompañe al filósof...   \n",
       "77  3980117475379931  Sabemos que ponerse el tapabocas no es lo más ...   \n",
       "..               ...                                                ...   \n",
       "4   4112643082127369  Lo invitamos a conocer a Harold y Paula, vende...   \n",
       "76  3992373767487635  SUSCRÍBETE A NUESTRO CANAL: http://bit.ly/Banc...   \n",
       "75   779115113014774  SUSCRÍBETE A NUESTRO CANAL: http://bit.ly/Banc...   \n",
       "56   228992935644082  SUSCRÍBETE A NUESTRO CANAL: http://bit.ly/Banc...   \n",
       "57  4031646173560394  SUSCRÍBETE A NUESTRO CANAL: http://bit.ly/Banc...   \n",
       "\n",
       "                                            post_text  \\\n",
       "12  El desorden, la mayoría de las veces, es exces...   \n",
       "11  El desorden, la mayoría de las veces, es exces...   \n",
       "43  En Experiencias Davivienda acompañe al filósof...   \n",
       "44  En Experiencias Davivienda acompañe al filósof...   \n",
       "77  Sabemos que ponerse el tapabocas no es lo más ...   \n",
       "..                                                ...   \n",
       "4   Lo invitamos a conocer a Harold y Paula, vende...   \n",
       "76  SUSCRÍBETE A NUESTRO CANAL: http://bit.ly/Banc...   \n",
       "75  SUSCRÍBETE A NUESTRO CANAL: http://bit.ly/Banc...   \n",
       "56  SUSCRÍBETE A NUESTRO CANAL: http://bit.ly/Banc...   \n",
       "57  SUSCRÍBETE A NUESTRO CANAL: http://bit.ly/Banc...   \n",
       "\n",
       "                                          shared_text                time  \\\n",
       "12  Aprender a soltar organizando sus espacios | E... 2021-05-13 17:46:09   \n",
       "11                                                    2021-05-13 18:01:03   \n",
       "43                                                    2021-04-23 18:00:50   \n",
       "44  Un recorrido por cuatro momentos del pensamien... 2021-04-23 17:46:15   \n",
       "77                                                    2021-04-03 11:01:15   \n",
       "..                                                ...                 ...   \n",
       "4                                                     2021-05-18 11:04:58   \n",
       "76                                    Volver a crecer 2021-04-07 15:43:30   \n",
       "75                                                    2021-04-07 16:02:32   \n",
       "56                                                    2021-04-21 08:00:11   \n",
       "57  Coyuntura de mercados financieros y efectos en... 2021-04-21 07:36:13   \n",
       "\n",
       "                                                image  \\\n",
       "12                                               None   \n",
       "11                                               None   \n",
       "43                                               None   \n",
       "44                                               None   \n",
       "77  https://scontent.fbog2-4.fna.fbcdn.net/v/t1.64...   \n",
       "..                                                ...   \n",
       "4                                                None   \n",
       "76                                               None   \n",
       "75                                               None   \n",
       "56                                               None   \n",
       "57                                               None   \n",
       "\n",
       "                                     image_lowquality  \\\n",
       "12                                               None   \n",
       "11                                               None   \n",
       "43                                               None   \n",
       "44                                               None   \n",
       "77  https://scontent.fbog2-4.fna.fbcdn.net/v/t1.64...   \n",
       "..                                                ...   \n",
       "4                                                None   \n",
       "76                                               None   \n",
       "75                                               None   \n",
       "56                                               None   \n",
       "57                                               None   \n",
       "\n",
       "                                               images  \\\n",
       "12                                                 []   \n",
       "11                                                 []   \n",
       "43                                                 []   \n",
       "44                                                 []   \n",
       "77  [https://scontent.fbog2-4.fna.fbcdn.net/v/t1.6...   \n",
       "..                                                ...   \n",
       "4                                                  []   \n",
       "76                                                 []   \n",
       "75                                                 []   \n",
       "56                                                 []   \n",
       "57                                                 []   \n",
       "\n",
       "                                   images_description  \\\n",
       "12                                                 []   \n",
       "11                                                 []   \n",
       "43                                                 []   \n",
       "44                                                 []   \n",
       "77  [May be an image of 1 person and text that say...   \n",
       "..                                                ...   \n",
       "4                                                  []   \n",
       "76                                                 []   \n",
       "75                                                 []   \n",
       "56                                                 []   \n",
       "57                                                 []   \n",
       "\n",
       "                                    images_lowquality  \\\n",
       "12                                                 []   \n",
       "11                                                 []   \n",
       "43                                                 []   \n",
       "44                                                 []   \n",
       "77  [https://scontent.fbog2-4.fna.fbcdn.net/v/t1.6...   \n",
       "..                                                ...   \n",
       "4                                                  []   \n",
       "76                                                 []   \n",
       "75                                                 []   \n",
       "56                                                 []   \n",
       "57                                                 []   \n",
       "\n",
       "                        images_lowquality_description  \\\n",
       "12                                                 []   \n",
       "11                                             [None]   \n",
       "43                                             [None]   \n",
       "44                                                 []   \n",
       "77  [May be an image of 1 person and text that say...   \n",
       "..                                                ...   \n",
       "4                                              [None]   \n",
       "76                                                 []   \n",
       "75                                             [None]   \n",
       "56                                             [None]   \n",
       "57                                                 []   \n",
       "\n",
       "                                                video  video_duration_seconds  \\\n",
       "12                                               None                     NaN   \n",
       "11  https://scontent.fbog2-4.fna.fbcdn.net/v/t66.3...                     NaN   \n",
       "43  https://scontent.fbog2-5.fna.fbcdn.net/v/t66.3...                     NaN   \n",
       "44                                               None                     NaN   \n",
       "77                                               None                     NaN   \n",
       "..                                                ...                     ...   \n",
       "4   https://video.fbog2-4.fna.fbcdn.net/v/t42.1790...                    40.0   \n",
       "76                                               None                     NaN   \n",
       "75  https://scontent.fbog2-5.fna.fbcdn.net/v/t66.3...                     NaN   \n",
       "56  https://scontent.fbog2-4.fna.fbcdn.net/v/t66.3...                     NaN   \n",
       "57                                               None                     NaN   \n",
       "\n",
       "    video_height          video_id video_quality  video_size_MB  \\\n",
       "12           NaN              None          None            NaN   \n",
       "11           NaN   498014921390276          None            NaN   \n",
       "43           NaN   902724610578941          None            NaN   \n",
       "44           NaN              None          None            NaN   \n",
       "77           NaN              None          None            NaN   \n",
       "..           ...               ...           ...            ...   \n",
       "4         1080.0  2901642133423526         1080p     128.160852   \n",
       "76           NaN              None          None            NaN   \n",
       "75           NaN   779115113014774          None            NaN   \n",
       "56           NaN   228992935644082          None            NaN   \n",
       "57           NaN              None          None            NaN   \n",
       "\n",
       "                                      video_thumbnail  video_watches  \\\n",
       "12                                               None            NaN   \n",
       "11  https://scontent.fbog2-5.fna.fbcdn.net/v/t15.1...            NaN   \n",
       "43  https://scontent.fbog2-4.fna.fbcdn.net/v/t15.1...            NaN   \n",
       "44                                               None            NaN   \n",
       "77                                               None            NaN   \n",
       "..                                                ...            ...   \n",
       "4   https://scontent.fbog2-4.fna.fbcdn.net/v/t15.5...         1334.0   \n",
       "76                                               None            NaN   \n",
       "75  https://scontent.fbog2-4.fna.fbcdn.net/v/t15.1...            NaN   \n",
       "56  https://scontent.fbog2-5.fna.fbcdn.net/v/t15.1...            NaN   \n",
       "57                                               None            NaN   \n",
       "\n",
       "    video_width  likes  comments  shares  \\\n",
       "12          NaN     19         0       0   \n",
       "11          NaN    231        71      46   \n",
       "43          NaN    273       122      67   \n",
       "44          NaN     13         1       0   \n",
       "77          NaN    172        36       0   \n",
       "..          ...    ...       ...     ...   \n",
       "4        1080.0     17         0       0   \n",
       "76          NaN     17        10       0   \n",
       "75          NaN     48        37       1   \n",
       "56          NaN     50        26       4   \n",
       "57          NaN     15         0       0   \n",
       "\n",
       "                                             post_url  \\\n",
       "12  https://facebook.com/BancoDavivienda/posts/409...   \n",
       "11  https://facebook.com/BancoDavivienda/posts/498...   \n",
       "43  https://facebook.com/BancoDavivienda/posts/902...   \n",
       "44  https://facebook.com/BancoDavivienda/posts/403...   \n",
       "77  https://facebook.com/BancoDavivienda/posts/398...   \n",
       "..                                                ...   \n",
       "4   https://facebook.com/BancoDavivienda/posts/411...   \n",
       "76  https://facebook.com/BancoDavivienda/posts/399...   \n",
       "75  https://facebook.com/BancoDavivienda/posts/779...   \n",
       "56  https://facebook.com/BancoDavivienda/posts/228...   \n",
       "57  https://facebook.com/BancoDavivienda/posts/403...   \n",
       "\n",
       "                                              link          user_id  \\\n",
       "12                                            None  500223733369340   \n",
       "11                                            None  500223733369340   \n",
       "43                                            None  500223733369340   \n",
       "44  https://emprenderte.co/jovenes-en-accion-pagos  500223733369340   \n",
       "77                                            None  500223733369340   \n",
       "..                                             ...              ...   \n",
       "4                           https://bit.ly/3jz9TTO  500223733369340   \n",
       "76               https://bit.ly/BancoDaviviendaYT​  500223733369340   \n",
       "75               https://bit.ly/BancoDaviviendaYT​  500223733369340   \n",
       "56              https://bit.ly/BancoDaviviendaYT​​  500223733369340   \n",
       "57              https://bit.ly/BancoDaviviendaYT​​  500223733369340   \n",
       "\n",
       "      username                                          user_url  is_live  \\\n",
       "12  Davivienda  https://facebook.com/BancoDavivienda/?__tn__=C-R    False   \n",
       "11  Davivienda  https://facebook.com/BancoDavivienda/?__tn__=C-R    False   \n",
       "43  Davivienda  https://facebook.com/BancoDavivienda/?__tn__=C-R    False   \n",
       "44  Davivienda  https://facebook.com/BancoDavivienda/?__tn__=C-R    False   \n",
       "77  Davivienda  https://facebook.com/BancoDavivienda/?__tn__=C-R    False   \n",
       "..         ...                                               ...      ...   \n",
       "4   Davivienda  https://facebook.com/BancoDavivienda/?__tn__=C-R    False   \n",
       "76  Davivienda  https://facebook.com/BancoDavivienda/?__tn__=C-R    False   \n",
       "75  Davivienda  https://facebook.com/BancoDavivienda/?__tn__=C-R    False   \n",
       "56  Davivienda  https://facebook.com/BancoDavivienda/?__tn__=C-R    False   \n",
       "57  Davivienda  https://facebook.com/BancoDavivienda/?__tn__=C-R    False   \n",
       "\n",
       "   factcheck shared_post_id shared_time shared_user_id shared_username  \\\n",
       "12      None           None        None           None            None   \n",
       "11      None           None        None           None            None   \n",
       "43      None           None        None           None            None   \n",
       "44      None           None        None           None            None   \n",
       "77      None           None        None           None            None   \n",
       "..       ...            ...         ...            ...             ...   \n",
       "4       None           None        None           None            None   \n",
       "76      None           None        None           None            None   \n",
       "75      None           None        None           None            None   \n",
       "56      None           None        None           None            None   \n",
       "57      None           None        None           None            None   \n",
       "\n",
       "   shared_post_url  available comments_full reactors w3_fb_url  \\\n",
       "12            None       True          None     None      None   \n",
       "11            None       True          None     None      None   \n",
       "43            None       True          None     None      None   \n",
       "44            None       True          None     None      None   \n",
       "77            None       True          None     None      None   \n",
       "..             ...        ...           ...      ...       ...   \n",
       "4             None       True          None     None      None   \n",
       "76            None       True          None     None      None   \n",
       "75            None       True          None     None      None   \n",
       "56            None       True          None     None      None   \n",
       "57            None       True          None     None      None   \n",
       "\n",
       "                                                   pp  sentimiento  \n",
       "12  el desorden la mayoría de las veces es exceso ...      -0.6808  \n",
       "11  el desorden la mayoría de las veces es exceso ...      -0.6808  \n",
       "43  en experiencias davivienda acompañe al filósof...      -0.5574  \n",
       "44  en experiencias davivienda acompañe al filósof...      -0.5574  \n",
       "77  sabemos que ponerse el tapabocas no es lo más ...      -0.2960  \n",
       "..                                                ...          ...  \n",
       "4   lo invitamos a conocer a harold y paula vended...       0.7184  \n",
       "76  suscríbete a nuestro canal http bit ly bancoda...       0.9657  \n",
       "75  suscríbete a nuestro canal http bit ly bancoda...       0.9657  \n",
       "56  suscríbete a nuestro canal http bit ly bancoda...       0.9657  \n",
       "57  suscríbete a nuestro canal http bit ly bancoda...       0.9747  \n",
       "\n",
       "[78 rows x 41 columns]"
      ]
     },
     "execution_count": 19,
     "metadata": {},
     "output_type": "execute_result"
    }
   ],
   "source": [
    "fbRBM_post.sort_values('sentimiento')"
   ]
  },
  {
   "cell_type": "code",
   "execution_count": 24,
   "metadata": {},
   "outputs": [
    {
     "data": {
      "text/plain": [
       "'El desorden, la mayoría de las veces, es exceso de cosas, de cosas que no usamos. ¿Qué nos lleva a acumular tanto? En Experiencias Davivienda, junto a la organizadora profesional de espacios Liliana Garavito, aprenda las razones por las cuales nos aferramos a las cosas materiales y cómo aprender a decirle adiós a lo que no nos sirve o no usamos y nos está estorbando y generando desorden.\\n\\nAprender a soltar organizando sus espacios | Experiencias Davivienda'"
      ]
     },
     "execution_count": 24,
     "metadata": {},
     "output_type": "execute_result"
    }
   ],
   "source": [
    "fbRBM_post.loc[12]['text']"
   ]
  },
  {
   "cell_type": "code",
   "execution_count": 21,
   "metadata": {},
   "outputs": [
    {
     "data": {
      "text/html": [
       "<div>\n",
       "<style scoped>\n",
       "    .dataframe tbody tr th:only-of-type {\n",
       "        vertical-align: middle;\n",
       "    }\n",
       "\n",
       "    .dataframe tbody tr th {\n",
       "        vertical-align: top;\n",
       "    }\n",
       "\n",
       "    .dataframe thead th {\n",
       "        text-align: right;\n",
       "    }\n",
       "</style>\n",
       "<table border=\"1\" class=\"dataframe\">\n",
       "  <thead>\n",
       "    <tr style=\"text-align: right;\">\n",
       "      <th></th>\n",
       "      <th>post_id</th>\n",
       "      <th>text</th>\n",
       "      <th>post_text</th>\n",
       "      <th>shared_text</th>\n",
       "      <th>time</th>\n",
       "      <th>image</th>\n",
       "      <th>image_lowquality</th>\n",
       "      <th>images</th>\n",
       "      <th>images_description</th>\n",
       "      <th>images_lowquality</th>\n",
       "      <th>images_lowquality_description</th>\n",
       "      <th>video</th>\n",
       "      <th>video_duration_seconds</th>\n",
       "      <th>video_height</th>\n",
       "      <th>video_id</th>\n",
       "      <th>video_quality</th>\n",
       "      <th>video_size_MB</th>\n",
       "      <th>video_thumbnail</th>\n",
       "      <th>video_watches</th>\n",
       "      <th>video_width</th>\n",
       "      <th>likes</th>\n",
       "      <th>comments</th>\n",
       "      <th>shares</th>\n",
       "      <th>post_url</th>\n",
       "      <th>link</th>\n",
       "      <th>user_id</th>\n",
       "      <th>username</th>\n",
       "      <th>user_url</th>\n",
       "      <th>is_live</th>\n",
       "      <th>factcheck</th>\n",
       "      <th>shared_post_id</th>\n",
       "      <th>shared_time</th>\n",
       "      <th>shared_user_id</th>\n",
       "      <th>shared_username</th>\n",
       "      <th>shared_post_url</th>\n",
       "      <th>available</th>\n",
       "      <th>comments_full</th>\n",
       "      <th>reactors</th>\n",
       "      <th>w3_fb_url</th>\n",
       "      <th>pp</th>\n",
       "      <th>sentimiento</th>\n",
       "    </tr>\n",
       "  </thead>\n",
       "  <tbody>\n",
       "    <tr>\n",
       "      <th>57</th>\n",
       "      <td>4031646173560394</td>\n",
       "      <td>SUSCRÍBETE A NUESTRO CANAL: http://bit.ly/Banc...</td>\n",
       "      <td>SUSCRÍBETE A NUESTRO CANAL: http://bit.ly/Banc...</td>\n",
       "      <td>Coyuntura de mercados financieros y efectos en...</td>\n",
       "      <td>2021-04-21 07:36:13</td>\n",
       "      <td>None</td>\n",
       "      <td>None</td>\n",
       "      <td>[]</td>\n",
       "      <td>[]</td>\n",
       "      <td>[]</td>\n",
       "      <td>[]</td>\n",
       "      <td>None</td>\n",
       "      <td>NaN</td>\n",
       "      <td>NaN</td>\n",
       "      <td>None</td>\n",
       "      <td>None</td>\n",
       "      <td>NaN</td>\n",
       "      <td>None</td>\n",
       "      <td>NaN</td>\n",
       "      <td>NaN</td>\n",
       "      <td>15</td>\n",
       "      <td>0</td>\n",
       "      <td>0</td>\n",
       "      <td>https://facebook.com/BancoDavivienda/posts/403...</td>\n",
       "      <td>https://bit.ly/BancoDaviviendaYT​​</td>\n",
       "      <td>500223733369340</td>\n",
       "      <td>Davivienda</td>\n",
       "      <td>https://facebook.com/BancoDavivienda/?__tn__=C-R</td>\n",
       "      <td>False</td>\n",
       "      <td>None</td>\n",
       "      <td>None</td>\n",
       "      <td>None</td>\n",
       "      <td>None</td>\n",
       "      <td>None</td>\n",
       "      <td>None</td>\n",
       "      <td>True</td>\n",
       "      <td>None</td>\n",
       "      <td>None</td>\n",
       "      <td>None</td>\n",
       "      <td>suscríbete a nuestro canal http bit ly bancoda...</td>\n",
       "      <td>0.9747</td>\n",
       "    </tr>\n",
       "    <tr>\n",
       "      <th>76</th>\n",
       "      <td>3992373767487635</td>\n",
       "      <td>SUSCRÍBETE A NUESTRO CANAL: http://bit.ly/Banc...</td>\n",
       "      <td>SUSCRÍBETE A NUESTRO CANAL: http://bit.ly/Banc...</td>\n",
       "      <td>Volver a crecer</td>\n",
       "      <td>2021-04-07 15:43:30</td>\n",
       "      <td>None</td>\n",
       "      <td>None</td>\n",
       "      <td>[]</td>\n",
       "      <td>[]</td>\n",
       "      <td>[]</td>\n",
       "      <td>[]</td>\n",
       "      <td>None</td>\n",
       "      <td>NaN</td>\n",
       "      <td>NaN</td>\n",
       "      <td>None</td>\n",
       "      <td>None</td>\n",
       "      <td>NaN</td>\n",
       "      <td>None</td>\n",
       "      <td>NaN</td>\n",
       "      <td>NaN</td>\n",
       "      <td>17</td>\n",
       "      <td>10</td>\n",
       "      <td>0</td>\n",
       "      <td>https://facebook.com/BancoDavivienda/posts/399...</td>\n",
       "      <td>https://bit.ly/BancoDaviviendaYT​</td>\n",
       "      <td>500223733369340</td>\n",
       "      <td>Davivienda</td>\n",
       "      <td>https://facebook.com/BancoDavivienda/?__tn__=C-R</td>\n",
       "      <td>False</td>\n",
       "      <td>None</td>\n",
       "      <td>None</td>\n",
       "      <td>None</td>\n",
       "      <td>None</td>\n",
       "      <td>None</td>\n",
       "      <td>None</td>\n",
       "      <td>True</td>\n",
       "      <td>None</td>\n",
       "      <td>None</td>\n",
       "      <td>None</td>\n",
       "      <td>suscríbete a nuestro canal http bit ly bancoda...</td>\n",
       "      <td>0.9657</td>\n",
       "    </tr>\n",
       "    <tr>\n",
       "      <th>75</th>\n",
       "      <td>779115113014774</td>\n",
       "      <td>SUSCRÍBETE A NUESTRO CANAL: http://bit.ly/Banc...</td>\n",
       "      <td>SUSCRÍBETE A NUESTRO CANAL: http://bit.ly/Banc...</td>\n",
       "      <td></td>\n",
       "      <td>2021-04-07 16:02:32</td>\n",
       "      <td>None</td>\n",
       "      <td>None</td>\n",
       "      <td>[]</td>\n",
       "      <td>[]</td>\n",
       "      <td>[]</td>\n",
       "      <td>[None]</td>\n",
       "      <td>https://scontent.fbog2-5.fna.fbcdn.net/v/t66.3...</td>\n",
       "      <td>NaN</td>\n",
       "      <td>NaN</td>\n",
       "      <td>779115113014774</td>\n",
       "      <td>None</td>\n",
       "      <td>NaN</td>\n",
       "      <td>https://scontent.fbog2-4.fna.fbcdn.net/v/t15.1...</td>\n",
       "      <td>NaN</td>\n",
       "      <td>NaN</td>\n",
       "      <td>48</td>\n",
       "      <td>37</td>\n",
       "      <td>1</td>\n",
       "      <td>https://facebook.com/BancoDavivienda/posts/779...</td>\n",
       "      <td>https://bit.ly/BancoDaviviendaYT​</td>\n",
       "      <td>500223733369340</td>\n",
       "      <td>Davivienda</td>\n",
       "      <td>https://facebook.com/BancoDavivienda/?__tn__=C-R</td>\n",
       "      <td>False</td>\n",
       "      <td>None</td>\n",
       "      <td>None</td>\n",
       "      <td>None</td>\n",
       "      <td>None</td>\n",
       "      <td>None</td>\n",
       "      <td>None</td>\n",
       "      <td>True</td>\n",
       "      <td>None</td>\n",
       "      <td>None</td>\n",
       "      <td>None</td>\n",
       "      <td>suscríbete a nuestro canal http bit ly bancoda...</td>\n",
       "      <td>0.9657</td>\n",
       "    </tr>\n",
       "    <tr>\n",
       "      <th>56</th>\n",
       "      <td>228992935644082</td>\n",
       "      <td>SUSCRÍBETE A NUESTRO CANAL: http://bit.ly/Banc...</td>\n",
       "      <td>SUSCRÍBETE A NUESTRO CANAL: http://bit.ly/Banc...</td>\n",
       "      <td></td>\n",
       "      <td>2021-04-21 08:00:11</td>\n",
       "      <td>None</td>\n",
       "      <td>None</td>\n",
       "      <td>[]</td>\n",
       "      <td>[]</td>\n",
       "      <td>[]</td>\n",
       "      <td>[None]</td>\n",
       "      <td>https://scontent.fbog2-4.fna.fbcdn.net/v/t66.3...</td>\n",
       "      <td>NaN</td>\n",
       "      <td>NaN</td>\n",
       "      <td>228992935644082</td>\n",
       "      <td>None</td>\n",
       "      <td>NaN</td>\n",
       "      <td>https://scontent.fbog2-5.fna.fbcdn.net/v/t15.1...</td>\n",
       "      <td>NaN</td>\n",
       "      <td>NaN</td>\n",
       "      <td>50</td>\n",
       "      <td>26</td>\n",
       "      <td>4</td>\n",
       "      <td>https://facebook.com/BancoDavivienda/posts/228...</td>\n",
       "      <td>https://bit.ly/BancoDaviviendaYT​​</td>\n",
       "      <td>500223733369340</td>\n",
       "      <td>Davivienda</td>\n",
       "      <td>https://facebook.com/BancoDavivienda/?__tn__=C-R</td>\n",
       "      <td>False</td>\n",
       "      <td>None</td>\n",
       "      <td>None</td>\n",
       "      <td>None</td>\n",
       "      <td>None</td>\n",
       "      <td>None</td>\n",
       "      <td>None</td>\n",
       "      <td>True</td>\n",
       "      <td>None</td>\n",
       "      <td>None</td>\n",
       "      <td>None</td>\n",
       "      <td>suscríbete a nuestro canal http bit ly bancoda...</td>\n",
       "      <td>0.9657</td>\n",
       "    </tr>\n",
       "    <tr>\n",
       "      <th>4</th>\n",
       "      <td>4112643082127369</td>\n",
       "      <td>Lo invitamos a conocer a Harold y Paula, vende...</td>\n",
       "      <td>Lo invitamos a conocer a Harold y Paula, vende...</td>\n",
       "      <td></td>\n",
       "      <td>2021-05-18 11:04:58</td>\n",
       "      <td>None</td>\n",
       "      <td>None</td>\n",
       "      <td>[]</td>\n",
       "      <td>[]</td>\n",
       "      <td>[]</td>\n",
       "      <td>[None]</td>\n",
       "      <td>https://video.fbog2-4.fna.fbcdn.net/v/t42.1790...</td>\n",
       "      <td>40.0</td>\n",
       "      <td>1080.0</td>\n",
       "      <td>2901642133423526</td>\n",
       "      <td>1080p</td>\n",
       "      <td>128.160852</td>\n",
       "      <td>https://scontent.fbog2-4.fna.fbcdn.net/v/t15.5...</td>\n",
       "      <td>1334.0</td>\n",
       "      <td>1080.0</td>\n",
       "      <td>17</td>\n",
       "      <td>0</td>\n",
       "      <td>0</td>\n",
       "      <td>https://facebook.com/BancoDavivienda/posts/411...</td>\n",
       "      <td>https://bit.ly/3jz9TTO</td>\n",
       "      <td>500223733369340</td>\n",
       "      <td>Davivienda</td>\n",
       "      <td>https://facebook.com/BancoDavivienda/?__tn__=C-R</td>\n",
       "      <td>False</td>\n",
       "      <td>None</td>\n",
       "      <td>None</td>\n",
       "      <td>None</td>\n",
       "      <td>None</td>\n",
       "      <td>None</td>\n",
       "      <td>None</td>\n",
       "      <td>True</td>\n",
       "      <td>None</td>\n",
       "      <td>None</td>\n",
       "      <td>None</td>\n",
       "      <td>lo invitamos a conocer a harold y paula vended...</td>\n",
       "      <td>0.7184</td>\n",
       "    </tr>\n",
       "    <tr>\n",
       "      <th>...</th>\n",
       "      <td>...</td>\n",
       "      <td>...</td>\n",
       "      <td>...</td>\n",
       "      <td>...</td>\n",
       "      <td>...</td>\n",
       "      <td>...</td>\n",
       "      <td>...</td>\n",
       "      <td>...</td>\n",
       "      <td>...</td>\n",
       "      <td>...</td>\n",
       "      <td>...</td>\n",
       "      <td>...</td>\n",
       "      <td>...</td>\n",
       "      <td>...</td>\n",
       "      <td>...</td>\n",
       "      <td>...</td>\n",
       "      <td>...</td>\n",
       "      <td>...</td>\n",
       "      <td>...</td>\n",
       "      <td>...</td>\n",
       "      <td>...</td>\n",
       "      <td>...</td>\n",
       "      <td>...</td>\n",
       "      <td>...</td>\n",
       "      <td>...</td>\n",
       "      <td>...</td>\n",
       "      <td>...</td>\n",
       "      <td>...</td>\n",
       "      <td>...</td>\n",
       "      <td>...</td>\n",
       "      <td>...</td>\n",
       "      <td>...</td>\n",
       "      <td>...</td>\n",
       "      <td>...</td>\n",
       "      <td>...</td>\n",
       "      <td>...</td>\n",
       "      <td>...</td>\n",
       "      <td>...</td>\n",
       "      <td>...</td>\n",
       "      <td>...</td>\n",
       "      <td>...</td>\n",
       "    </tr>\n",
       "    <tr>\n",
       "      <th>77</th>\n",
       "      <td>3980117475379931</td>\n",
       "      <td>Sabemos que ponerse el tapabocas no es lo más ...</td>\n",
       "      <td>Sabemos que ponerse el tapabocas no es lo más ...</td>\n",
       "      <td></td>\n",
       "      <td>2021-04-03 11:01:15</td>\n",
       "      <td>https://scontent.fbog2-4.fna.fbcdn.net/v/t1.64...</td>\n",
       "      <td>https://scontent.fbog2-4.fna.fbcdn.net/v/t1.64...</td>\n",
       "      <td>[https://scontent.fbog2-4.fna.fbcdn.net/v/t1.6...</td>\n",
       "      <td>[May be an image of 1 person and text that say...</td>\n",
       "      <td>[https://scontent.fbog2-4.fna.fbcdn.net/v/t1.6...</td>\n",
       "      <td>[May be an image of 1 person and text that say...</td>\n",
       "      <td>None</td>\n",
       "      <td>NaN</td>\n",
       "      <td>NaN</td>\n",
       "      <td>None</td>\n",
       "      <td>None</td>\n",
       "      <td>NaN</td>\n",
       "      <td>None</td>\n",
       "      <td>NaN</td>\n",
       "      <td>NaN</td>\n",
       "      <td>172</td>\n",
       "      <td>36</td>\n",
       "      <td>0</td>\n",
       "      <td>https://facebook.com/BancoDavivienda/posts/398...</td>\n",
       "      <td>None</td>\n",
       "      <td>500223733369340</td>\n",
       "      <td>Davivienda</td>\n",
       "      <td>https://facebook.com/BancoDavivienda/?__tn__=C-R</td>\n",
       "      <td>False</td>\n",
       "      <td>None</td>\n",
       "      <td>None</td>\n",
       "      <td>None</td>\n",
       "      <td>None</td>\n",
       "      <td>None</td>\n",
       "      <td>None</td>\n",
       "      <td>True</td>\n",
       "      <td>None</td>\n",
       "      <td>None</td>\n",
       "      <td>None</td>\n",
       "      <td>sabemos que ponerse el tapabocas no es lo más ...</td>\n",
       "      <td>-0.2960</td>\n",
       "    </tr>\n",
       "    <tr>\n",
       "      <th>43</th>\n",
       "      <td>902724610578941</td>\n",
       "      <td>En Experiencias Davivienda acompañe al filósof...</td>\n",
       "      <td>En Experiencias Davivienda acompañe al filósof...</td>\n",
       "      <td></td>\n",
       "      <td>2021-04-23 18:00:50</td>\n",
       "      <td>None</td>\n",
       "      <td>None</td>\n",
       "      <td>[]</td>\n",
       "      <td>[]</td>\n",
       "      <td>[]</td>\n",
       "      <td>[None]</td>\n",
       "      <td>https://scontent.fbog2-5.fna.fbcdn.net/v/t66.3...</td>\n",
       "      <td>NaN</td>\n",
       "      <td>NaN</td>\n",
       "      <td>902724610578941</td>\n",
       "      <td>None</td>\n",
       "      <td>NaN</td>\n",
       "      <td>https://scontent.fbog2-4.fna.fbcdn.net/v/t15.1...</td>\n",
       "      <td>NaN</td>\n",
       "      <td>NaN</td>\n",
       "      <td>273</td>\n",
       "      <td>122</td>\n",
       "      <td>67</td>\n",
       "      <td>https://facebook.com/BancoDavivienda/posts/902...</td>\n",
       "      <td>None</td>\n",
       "      <td>500223733369340</td>\n",
       "      <td>Davivienda</td>\n",
       "      <td>https://facebook.com/BancoDavivienda/?__tn__=C-R</td>\n",
       "      <td>False</td>\n",
       "      <td>None</td>\n",
       "      <td>None</td>\n",
       "      <td>None</td>\n",
       "      <td>None</td>\n",
       "      <td>None</td>\n",
       "      <td>None</td>\n",
       "      <td>True</td>\n",
       "      <td>None</td>\n",
       "      <td>None</td>\n",
       "      <td>None</td>\n",
       "      <td>en experiencias davivienda acompañe al filósof...</td>\n",
       "      <td>-0.5574</td>\n",
       "    </tr>\n",
       "    <tr>\n",
       "      <th>44</th>\n",
       "      <td>4038709269520751</td>\n",
       "      <td>En Experiencias Davivienda acompañe al filósof...</td>\n",
       "      <td>En Experiencias Davivienda acompañe al filósof...</td>\n",
       "      <td>Un recorrido por cuatro momentos del pensamien...</td>\n",
       "      <td>2021-04-23 17:46:15</td>\n",
       "      <td>None</td>\n",
       "      <td>None</td>\n",
       "      <td>[]</td>\n",
       "      <td>[]</td>\n",
       "      <td>[]</td>\n",
       "      <td>[]</td>\n",
       "      <td>None</td>\n",
       "      <td>NaN</td>\n",
       "      <td>NaN</td>\n",
       "      <td>None</td>\n",
       "      <td>None</td>\n",
       "      <td>NaN</td>\n",
       "      <td>None</td>\n",
       "      <td>NaN</td>\n",
       "      <td>NaN</td>\n",
       "      <td>13</td>\n",
       "      <td>1</td>\n",
       "      <td>0</td>\n",
       "      <td>https://facebook.com/BancoDavivienda/posts/403...</td>\n",
       "      <td>https://emprenderte.co/jovenes-en-accion-pagos</td>\n",
       "      <td>500223733369340</td>\n",
       "      <td>Davivienda</td>\n",
       "      <td>https://facebook.com/BancoDavivienda/?__tn__=C-R</td>\n",
       "      <td>False</td>\n",
       "      <td>None</td>\n",
       "      <td>None</td>\n",
       "      <td>None</td>\n",
       "      <td>None</td>\n",
       "      <td>None</td>\n",
       "      <td>None</td>\n",
       "      <td>True</td>\n",
       "      <td>None</td>\n",
       "      <td>None</td>\n",
       "      <td>None</td>\n",
       "      <td>en experiencias davivienda acompañe al filósof...</td>\n",
       "      <td>-0.5574</td>\n",
       "    </tr>\n",
       "    <tr>\n",
       "      <th>12</th>\n",
       "      <td>4097705626954448</td>\n",
       "      <td>El desorden, la mayoría de las veces, es exces...</td>\n",
       "      <td>El desorden, la mayoría de las veces, es exces...</td>\n",
       "      <td>Aprender a soltar organizando sus espacios | E...</td>\n",
       "      <td>2021-05-13 17:46:09</td>\n",
       "      <td>None</td>\n",
       "      <td>None</td>\n",
       "      <td>[]</td>\n",
       "      <td>[]</td>\n",
       "      <td>[]</td>\n",
       "      <td>[]</td>\n",
       "      <td>None</td>\n",
       "      <td>NaN</td>\n",
       "      <td>NaN</td>\n",
       "      <td>None</td>\n",
       "      <td>None</td>\n",
       "      <td>NaN</td>\n",
       "      <td>None</td>\n",
       "      <td>NaN</td>\n",
       "      <td>NaN</td>\n",
       "      <td>19</td>\n",
       "      <td>0</td>\n",
       "      <td>0</td>\n",
       "      <td>https://facebook.com/BancoDavivienda/posts/409...</td>\n",
       "      <td>None</td>\n",
       "      <td>500223733369340</td>\n",
       "      <td>Davivienda</td>\n",
       "      <td>https://facebook.com/BancoDavivienda/?__tn__=C-R</td>\n",
       "      <td>False</td>\n",
       "      <td>None</td>\n",
       "      <td>None</td>\n",
       "      <td>None</td>\n",
       "      <td>None</td>\n",
       "      <td>None</td>\n",
       "      <td>None</td>\n",
       "      <td>True</td>\n",
       "      <td>None</td>\n",
       "      <td>None</td>\n",
       "      <td>None</td>\n",
       "      <td>el desorden la mayoría de las veces es exceso ...</td>\n",
       "      <td>-0.6808</td>\n",
       "    </tr>\n",
       "    <tr>\n",
       "      <th>11</th>\n",
       "      <td>498014921390276</td>\n",
       "      <td>El desorden, la mayoría de las veces, es exces...</td>\n",
       "      <td>El desorden, la mayoría de las veces, es exces...</td>\n",
       "      <td></td>\n",
       "      <td>2021-05-13 18:01:03</td>\n",
       "      <td>None</td>\n",
       "      <td>None</td>\n",
       "      <td>[]</td>\n",
       "      <td>[]</td>\n",
       "      <td>[]</td>\n",
       "      <td>[None]</td>\n",
       "      <td>https://scontent.fbog2-4.fna.fbcdn.net/v/t66.3...</td>\n",
       "      <td>NaN</td>\n",
       "      <td>NaN</td>\n",
       "      <td>498014921390276</td>\n",
       "      <td>None</td>\n",
       "      <td>NaN</td>\n",
       "      <td>https://scontent.fbog2-5.fna.fbcdn.net/v/t15.1...</td>\n",
       "      <td>NaN</td>\n",
       "      <td>NaN</td>\n",
       "      <td>231</td>\n",
       "      <td>71</td>\n",
       "      <td>46</td>\n",
       "      <td>https://facebook.com/BancoDavivienda/posts/498...</td>\n",
       "      <td>None</td>\n",
       "      <td>500223733369340</td>\n",
       "      <td>Davivienda</td>\n",
       "      <td>https://facebook.com/BancoDavivienda/?__tn__=C-R</td>\n",
       "      <td>False</td>\n",
       "      <td>None</td>\n",
       "      <td>None</td>\n",
       "      <td>None</td>\n",
       "      <td>None</td>\n",
       "      <td>None</td>\n",
       "      <td>None</td>\n",
       "      <td>True</td>\n",
       "      <td>None</td>\n",
       "      <td>None</td>\n",
       "      <td>None</td>\n",
       "      <td>el desorden la mayoría de las veces es exceso ...</td>\n",
       "      <td>-0.6808</td>\n",
       "    </tr>\n",
       "  </tbody>\n",
       "</table>\n",
       "<p>78 rows × 41 columns</p>\n",
       "</div>"
      ],
      "text/plain": [
       "             post_id                                               text  \\\n",
       "57  4031646173560394  SUSCRÍBETE A NUESTRO CANAL: http://bit.ly/Banc...   \n",
       "76  3992373767487635  SUSCRÍBETE A NUESTRO CANAL: http://bit.ly/Banc...   \n",
       "75   779115113014774  SUSCRÍBETE A NUESTRO CANAL: http://bit.ly/Banc...   \n",
       "56   228992935644082  SUSCRÍBETE A NUESTRO CANAL: http://bit.ly/Banc...   \n",
       "4   4112643082127369  Lo invitamos a conocer a Harold y Paula, vende...   \n",
       "..               ...                                                ...   \n",
       "77  3980117475379931  Sabemos que ponerse el tapabocas no es lo más ...   \n",
       "43   902724610578941  En Experiencias Davivienda acompañe al filósof...   \n",
       "44  4038709269520751  En Experiencias Davivienda acompañe al filósof...   \n",
       "12  4097705626954448  El desorden, la mayoría de las veces, es exces...   \n",
       "11   498014921390276  El desorden, la mayoría de las veces, es exces...   \n",
       "\n",
       "                                            post_text  \\\n",
       "57  SUSCRÍBETE A NUESTRO CANAL: http://bit.ly/Banc...   \n",
       "76  SUSCRÍBETE A NUESTRO CANAL: http://bit.ly/Banc...   \n",
       "75  SUSCRÍBETE A NUESTRO CANAL: http://bit.ly/Banc...   \n",
       "56  SUSCRÍBETE A NUESTRO CANAL: http://bit.ly/Banc...   \n",
       "4   Lo invitamos a conocer a Harold y Paula, vende...   \n",
       "..                                                ...   \n",
       "77  Sabemos que ponerse el tapabocas no es lo más ...   \n",
       "43  En Experiencias Davivienda acompañe al filósof...   \n",
       "44  En Experiencias Davivienda acompañe al filósof...   \n",
       "12  El desorden, la mayoría de las veces, es exces...   \n",
       "11  El desorden, la mayoría de las veces, es exces...   \n",
       "\n",
       "                                          shared_text                time  \\\n",
       "57  Coyuntura de mercados financieros y efectos en... 2021-04-21 07:36:13   \n",
       "76                                    Volver a crecer 2021-04-07 15:43:30   \n",
       "75                                                    2021-04-07 16:02:32   \n",
       "56                                                    2021-04-21 08:00:11   \n",
       "4                                                     2021-05-18 11:04:58   \n",
       "..                                                ...                 ...   \n",
       "77                                                    2021-04-03 11:01:15   \n",
       "43                                                    2021-04-23 18:00:50   \n",
       "44  Un recorrido por cuatro momentos del pensamien... 2021-04-23 17:46:15   \n",
       "12  Aprender a soltar organizando sus espacios | E... 2021-05-13 17:46:09   \n",
       "11                                                    2021-05-13 18:01:03   \n",
       "\n",
       "                                                image  \\\n",
       "57                                               None   \n",
       "76                                               None   \n",
       "75                                               None   \n",
       "56                                               None   \n",
       "4                                                None   \n",
       "..                                                ...   \n",
       "77  https://scontent.fbog2-4.fna.fbcdn.net/v/t1.64...   \n",
       "43                                               None   \n",
       "44                                               None   \n",
       "12                                               None   \n",
       "11                                               None   \n",
       "\n",
       "                                     image_lowquality  \\\n",
       "57                                               None   \n",
       "76                                               None   \n",
       "75                                               None   \n",
       "56                                               None   \n",
       "4                                                None   \n",
       "..                                                ...   \n",
       "77  https://scontent.fbog2-4.fna.fbcdn.net/v/t1.64...   \n",
       "43                                               None   \n",
       "44                                               None   \n",
       "12                                               None   \n",
       "11                                               None   \n",
       "\n",
       "                                               images  \\\n",
       "57                                                 []   \n",
       "76                                                 []   \n",
       "75                                                 []   \n",
       "56                                                 []   \n",
       "4                                                  []   \n",
       "..                                                ...   \n",
       "77  [https://scontent.fbog2-4.fna.fbcdn.net/v/t1.6...   \n",
       "43                                                 []   \n",
       "44                                                 []   \n",
       "12                                                 []   \n",
       "11                                                 []   \n",
       "\n",
       "                                   images_description  \\\n",
       "57                                                 []   \n",
       "76                                                 []   \n",
       "75                                                 []   \n",
       "56                                                 []   \n",
       "4                                                  []   \n",
       "..                                                ...   \n",
       "77  [May be an image of 1 person and text that say...   \n",
       "43                                                 []   \n",
       "44                                                 []   \n",
       "12                                                 []   \n",
       "11                                                 []   \n",
       "\n",
       "                                    images_lowquality  \\\n",
       "57                                                 []   \n",
       "76                                                 []   \n",
       "75                                                 []   \n",
       "56                                                 []   \n",
       "4                                                  []   \n",
       "..                                                ...   \n",
       "77  [https://scontent.fbog2-4.fna.fbcdn.net/v/t1.6...   \n",
       "43                                                 []   \n",
       "44                                                 []   \n",
       "12                                                 []   \n",
       "11                                                 []   \n",
       "\n",
       "                        images_lowquality_description  \\\n",
       "57                                                 []   \n",
       "76                                                 []   \n",
       "75                                             [None]   \n",
       "56                                             [None]   \n",
       "4                                              [None]   \n",
       "..                                                ...   \n",
       "77  [May be an image of 1 person and text that say...   \n",
       "43                                             [None]   \n",
       "44                                                 []   \n",
       "12                                                 []   \n",
       "11                                             [None]   \n",
       "\n",
       "                                                video  video_duration_seconds  \\\n",
       "57                                               None                     NaN   \n",
       "76                                               None                     NaN   \n",
       "75  https://scontent.fbog2-5.fna.fbcdn.net/v/t66.3...                     NaN   \n",
       "56  https://scontent.fbog2-4.fna.fbcdn.net/v/t66.3...                     NaN   \n",
       "4   https://video.fbog2-4.fna.fbcdn.net/v/t42.1790...                    40.0   \n",
       "..                                                ...                     ...   \n",
       "77                                               None                     NaN   \n",
       "43  https://scontent.fbog2-5.fna.fbcdn.net/v/t66.3...                     NaN   \n",
       "44                                               None                     NaN   \n",
       "12                                               None                     NaN   \n",
       "11  https://scontent.fbog2-4.fna.fbcdn.net/v/t66.3...                     NaN   \n",
       "\n",
       "    video_height          video_id video_quality  video_size_MB  \\\n",
       "57           NaN              None          None            NaN   \n",
       "76           NaN              None          None            NaN   \n",
       "75           NaN   779115113014774          None            NaN   \n",
       "56           NaN   228992935644082          None            NaN   \n",
       "4         1080.0  2901642133423526         1080p     128.160852   \n",
       "..           ...               ...           ...            ...   \n",
       "77           NaN              None          None            NaN   \n",
       "43           NaN   902724610578941          None            NaN   \n",
       "44           NaN              None          None            NaN   \n",
       "12           NaN              None          None            NaN   \n",
       "11           NaN   498014921390276          None            NaN   \n",
       "\n",
       "                                      video_thumbnail  video_watches  \\\n",
       "57                                               None            NaN   \n",
       "76                                               None            NaN   \n",
       "75  https://scontent.fbog2-4.fna.fbcdn.net/v/t15.1...            NaN   \n",
       "56  https://scontent.fbog2-5.fna.fbcdn.net/v/t15.1...            NaN   \n",
       "4   https://scontent.fbog2-4.fna.fbcdn.net/v/t15.5...         1334.0   \n",
       "..                                                ...            ...   \n",
       "77                                               None            NaN   \n",
       "43  https://scontent.fbog2-4.fna.fbcdn.net/v/t15.1...            NaN   \n",
       "44                                               None            NaN   \n",
       "12                                               None            NaN   \n",
       "11  https://scontent.fbog2-5.fna.fbcdn.net/v/t15.1...            NaN   \n",
       "\n",
       "    video_width  likes  comments  shares  \\\n",
       "57          NaN     15         0       0   \n",
       "76          NaN     17        10       0   \n",
       "75          NaN     48        37       1   \n",
       "56          NaN     50        26       4   \n",
       "4        1080.0     17         0       0   \n",
       "..          ...    ...       ...     ...   \n",
       "77          NaN    172        36       0   \n",
       "43          NaN    273       122      67   \n",
       "44          NaN     13         1       0   \n",
       "12          NaN     19         0       0   \n",
       "11          NaN    231        71      46   \n",
       "\n",
       "                                             post_url  \\\n",
       "57  https://facebook.com/BancoDavivienda/posts/403...   \n",
       "76  https://facebook.com/BancoDavivienda/posts/399...   \n",
       "75  https://facebook.com/BancoDavivienda/posts/779...   \n",
       "56  https://facebook.com/BancoDavivienda/posts/228...   \n",
       "4   https://facebook.com/BancoDavivienda/posts/411...   \n",
       "..                                                ...   \n",
       "77  https://facebook.com/BancoDavivienda/posts/398...   \n",
       "43  https://facebook.com/BancoDavivienda/posts/902...   \n",
       "44  https://facebook.com/BancoDavivienda/posts/403...   \n",
       "12  https://facebook.com/BancoDavivienda/posts/409...   \n",
       "11  https://facebook.com/BancoDavivienda/posts/498...   \n",
       "\n",
       "                                              link          user_id  \\\n",
       "57              https://bit.ly/BancoDaviviendaYT​​  500223733369340   \n",
       "76               https://bit.ly/BancoDaviviendaYT​  500223733369340   \n",
       "75               https://bit.ly/BancoDaviviendaYT​  500223733369340   \n",
       "56              https://bit.ly/BancoDaviviendaYT​​  500223733369340   \n",
       "4                           https://bit.ly/3jz9TTO  500223733369340   \n",
       "..                                             ...              ...   \n",
       "77                                            None  500223733369340   \n",
       "43                                            None  500223733369340   \n",
       "44  https://emprenderte.co/jovenes-en-accion-pagos  500223733369340   \n",
       "12                                            None  500223733369340   \n",
       "11                                            None  500223733369340   \n",
       "\n",
       "      username                                          user_url  is_live  \\\n",
       "57  Davivienda  https://facebook.com/BancoDavivienda/?__tn__=C-R    False   \n",
       "76  Davivienda  https://facebook.com/BancoDavivienda/?__tn__=C-R    False   \n",
       "75  Davivienda  https://facebook.com/BancoDavivienda/?__tn__=C-R    False   \n",
       "56  Davivienda  https://facebook.com/BancoDavivienda/?__tn__=C-R    False   \n",
       "4   Davivienda  https://facebook.com/BancoDavivienda/?__tn__=C-R    False   \n",
       "..         ...                                               ...      ...   \n",
       "77  Davivienda  https://facebook.com/BancoDavivienda/?__tn__=C-R    False   \n",
       "43  Davivienda  https://facebook.com/BancoDavivienda/?__tn__=C-R    False   \n",
       "44  Davivienda  https://facebook.com/BancoDavivienda/?__tn__=C-R    False   \n",
       "12  Davivienda  https://facebook.com/BancoDavivienda/?__tn__=C-R    False   \n",
       "11  Davivienda  https://facebook.com/BancoDavivienda/?__tn__=C-R    False   \n",
       "\n",
       "   factcheck shared_post_id shared_time shared_user_id shared_username  \\\n",
       "57      None           None        None           None            None   \n",
       "76      None           None        None           None            None   \n",
       "75      None           None        None           None            None   \n",
       "56      None           None        None           None            None   \n",
       "4       None           None        None           None            None   \n",
       "..       ...            ...         ...            ...             ...   \n",
       "77      None           None        None           None            None   \n",
       "43      None           None        None           None            None   \n",
       "44      None           None        None           None            None   \n",
       "12      None           None        None           None            None   \n",
       "11      None           None        None           None            None   \n",
       "\n",
       "   shared_post_url  available comments_full reactors w3_fb_url  \\\n",
       "57            None       True          None     None      None   \n",
       "76            None       True          None     None      None   \n",
       "75            None       True          None     None      None   \n",
       "56            None       True          None     None      None   \n",
       "4             None       True          None     None      None   \n",
       "..             ...        ...           ...      ...       ...   \n",
       "77            None       True          None     None      None   \n",
       "43            None       True          None     None      None   \n",
       "44            None       True          None     None      None   \n",
       "12            None       True          None     None      None   \n",
       "11            None       True          None     None      None   \n",
       "\n",
       "                                                   pp  sentimiento  \n",
       "57  suscríbete a nuestro canal http bit ly bancoda...       0.9747  \n",
       "76  suscríbete a nuestro canal http bit ly bancoda...       0.9657  \n",
       "75  suscríbete a nuestro canal http bit ly bancoda...       0.9657  \n",
       "56  suscríbete a nuestro canal http bit ly bancoda...       0.9657  \n",
       "4   lo invitamos a conocer a harold y paula vended...       0.7184  \n",
       "..                                                ...          ...  \n",
       "77  sabemos que ponerse el tapabocas no es lo más ...      -0.2960  \n",
       "43  en experiencias davivienda acompañe al filósof...      -0.5574  \n",
       "44  en experiencias davivienda acompañe al filósof...      -0.5574  \n",
       "12  el desorden la mayoría de las veces es exceso ...      -0.6808  \n",
       "11  el desorden la mayoría de las veces es exceso ...      -0.6808  \n",
       "\n",
       "[78 rows x 41 columns]"
      ]
     },
     "execution_count": 21,
     "metadata": {},
     "output_type": "execute_result"
    }
   ],
   "source": [
    "fbRBM_post.sort_values('sentimiento',ascending=False)"
   ]
  },
  {
   "cell_type": "code",
   "execution_count": 25,
   "metadata": {},
   "outputs": [
    {
     "data": {
      "text/plain": [
       "\"SUSCRÍBETE A NUESTRO CANAL: http://bit.ly/BancoDaviviendaYT\\n\\nAcerca de Davivienda\\nDurante 4 décadas hemos participado activamente en la construcción de Colombia y nos hemos convertido en un referente importante en el sector financiero del país. Hacemos parte del Grupo Empresarial Bolívar, que por más de 75 años ha acompañado a las personas, a las familias y a las empresas en el cumplimiento de sus objetivos.\\nSomos reconocidos por el manejo único de nuestra imagen a través de la comunicación convirtiéndonos en una de las 5 marcas más valiosas y el primer banco en recordación publicitaria de Colombia.\\nNuestro portafolio integral de productos y servicios atiende las necesidades de personas, empresas, sector rural, minería y energía, con innovación constante y ofertas exclusivas para cada segmento.\\nSomos el banco exclusivo en Colombia para el manejo de las tarjetas Diners.\\nContamos con un equipo de más de 17.000 personas para servir a más de 10 millones de clientes a través de 725 oficinas, y contamos con alrededor de 2.600 ATM'S a nivel regional.\\nAdemás de Colombia, tenemos operaciones en Panamá, Costa Rica, Honduras, El Salvador y Miami, en los Estados Unidos.\\n\\nConéctese con Davivienda:\\nVisite nuestra página web: https://www.davivienda.com\\nSíganos en Twitter: http://bit.ly/2HUZqkR\\nVisite nuestra página de Facebook: http://bit.ly/2Iqoyjr\\nSíganos en Instagram: http://bit.ly/2P1SrYQ\\nVisítenos en LinkedIn\\nLinkeInd: https://bit.ly/3hMCjsH\\n\\n#BancoDavivienda #Davivienda\\n\\nCoyuntura de mercados financieros y efectos en la valorización del FIC Superior\""
      ]
     },
     "execution_count": 25,
     "metadata": {},
     "output_type": "execute_result"
    }
   ],
   "source": [
    "fbRBM_post.loc[57]['text']"
   ]
  },
  {
   "cell_type": "code",
   "execution_count": 26,
   "metadata": {},
   "outputs": [
    {
     "data": {
      "text/plain": [
       "post_id                          78\n",
       "text                             78\n",
       "post_text                        78\n",
       "shared_text                      78\n",
       "time                             78\n",
       "image                            28\n",
       "image_lowquality                 34\n",
       "images                           78\n",
       "images_description               78\n",
       "images_lowquality                78\n",
       "images_lowquality_description    78\n",
       "video                            28\n",
       "video_duration_seconds           11\n",
       "video_height                     11\n",
       "video_id                         28\n",
       "video_quality                    11\n",
       "video_size_MB                    11\n",
       "video_thumbnail                  28\n",
       "video_watches                    11\n",
       "video_width                      11\n",
       "likes                            78\n",
       "comments                         78\n",
       "shares                           78\n",
       "post_url                         78\n",
       "link                             44\n",
       "user_id                          78\n",
       "username                         78\n",
       "user_url                         78\n",
       "is_live                          78\n",
       "factcheck                         0\n",
       "shared_post_id                    0\n",
       "shared_time                       0\n",
       "shared_user_id                    0\n",
       "shared_username                   0\n",
       "shared_post_url                   0\n",
       "available                        78\n",
       "comments_full                     0\n",
       "reactors                          0\n",
       "w3_fb_url                         0\n",
       "pp                               78\n",
       "sentimiento                      78\n",
       "dtype: int64"
      ]
     },
     "execution_count": 26,
     "metadata": {},
     "output_type": "execute_result"
    }
   ],
   "source": [
    "fbRBM_post.count()"
   ]
  },
  {
   "cell_type": "code",
   "execution_count": null,
   "metadata": {},
   "outputs": [],
   "source": []
  }
 ],
 "metadata": {
  "kernelspec": {
   "display_name": "Python 3",
   "language": "python",
   "name": "python3"
  },
  "language_info": {
   "codemirror_mode": {
    "name": "ipython",
    "version": 3
   },
   "file_extension": ".py",
   "mimetype": "text/x-python",
   "name": "python",
   "nbconvert_exporter": "python",
   "pygments_lexer": "ipython3",
   "version": "3.8.3"
  }
 },
 "nbformat": 4,
 "nbformat_minor": 4
}
